{
  "nbformat": 4,
  "nbformat_minor": 0,
  "metadata": {
    "colab": {
      "name": "Introducción a pyspark.ipynb",
      "provenance": [],
      "collapsed_sections": [],
      "toc_visible": true,
      "mount_file_id": "1aWoa5uIU9yB8G1sN1aCvFeI_FN6tnsI2",
      "authorship_tag": "ABX9TyM9DdKC15KW5UISXpls1a5Z",
      "include_colab_link": true
    },
    "kernelspec": {
      "name": "python3",
      "display_name": "Python 3"
    },
    "language_info": {
      "name": "python"
    }
  },
  "cells": [
    {
      "cell_type": "markdown",
      "metadata": {
        "id": "view-in-github",
        "colab_type": "text"
      },
      "source": [
        "<a href=\"https://colab.research.google.com/github/AnIsAsPe/LDATopicModeling_pyspark/blob/main/Introducci%C3%B3n_a_pyspark.ipynb\" target=\"_parent\"><img src=\"https://colab.research.google.com/assets/colab-badge.svg\" alt=\"Open In Colab\"/></a>"
      ]
    },
    {
      "cell_type": "markdown",
      "metadata": {
        "id": "TCbQIBhpmx_y"
      },
      "source": [
        "\n",
        "\n",
        "![image.png](https://spark.apache.org/docs/1.1.1/img/cluster-overview.png)"
      ]
    },
    {
      "cell_type": "markdown",
      "metadata": {
        "id": "4hi6OGDnO2f2"
      },
      "source": [
        "# Instalación de PySpark en Colab"
      ]
    },
    {
      "cell_type": "code",
      "metadata": {
        "id": "7BbA2UaqQOax",
        "colab": {
          "base_uri": "https://localhost:8080/"
        },
        "outputId": "43961bb0-26f9-423a-ca06-ae4b8d1f203b"
      },
      "source": [
        "!pip install pyspark"
      ],
      "execution_count": 1,
      "outputs": [
        {
          "output_type": "stream",
          "text": [
            "Collecting pyspark\n",
            "\u001b[?25l  Downloading https://files.pythonhosted.org/packages/89/db/e18cfd78e408de957821ec5ca56de1250645b05f8523d169803d8df35a64/pyspark-3.1.2.tar.gz (212.4MB)\n",
            "\u001b[K     |████████████████████████████████| 212.4MB 70kB/s \n",
            "\u001b[?25hCollecting py4j==0.10.9\n",
            "\u001b[?25l  Downloading https://files.pythonhosted.org/packages/9e/b6/6a4fb90cd235dc8e265a6a2067f2a2c99f0d91787f06aca4bcf7c23f3f80/py4j-0.10.9-py2.py3-none-any.whl (198kB)\n",
            "\u001b[K     |████████████████████████████████| 204kB 18.1MB/s \n",
            "\u001b[?25hBuilding wheels for collected packages: pyspark\n",
            "  Building wheel for pyspark (setup.py) ... \u001b[?25l\u001b[?25hdone\n",
            "  Created wheel for pyspark: filename=pyspark-3.1.2-py2.py3-none-any.whl size=212880768 sha256=12bf45cb000afb5b7025b301aa4048496fc2abe46c5b4d9f87fbe2c090f503ce\n",
            "  Stored in directory: /root/.cache/pip/wheels/40/1b/2c/30f43be2627857ab80062bef1527c0128f7b4070b6b2d02139\n",
            "Successfully built pyspark\n",
            "Installing collected packages: py4j, pyspark\n",
            "Successfully installed py4j-0.10.9 pyspark-3.1.2\n"
          ],
          "name": "stdout"
        }
      ]
    },
    {
      "cell_type": "markdown",
      "metadata": {
        "id": "pf3kS3f2IcTW"
      },
      "source": [
        "# Spark session"
      ]
    },
    {
      "cell_type": "code",
      "metadata": {
        "id": "9-Mq8KI6xjd-",
        "colab": {
          "base_uri": "https://localhost:8080/",
          "height": 216
        },
        "outputId": "c76e4ad7-1885-4772-ab25-1a24b0489c27"
      },
      "source": [
        "from pyspark.sql import SparkSession\n",
        "spark = SparkSession.builder.master(\"local[*]\").appName(\"Prueba_spark_colab\").getOrCreate()\n",
        "spark"
      ],
      "execution_count": 2,
      "outputs": [
        {
          "output_type": "execute_result",
          "data": {
            "text/html": [
              "\n",
              "            <div>\n",
              "                <p><b>SparkSession - in-memory</b></p>\n",
              "                \n",
              "        <div>\n",
              "            <p><b>SparkContext</b></p>\n",
              "\n",
              "            <p><a href=\"http://2ef10e148ce5:4040\">Spark UI</a></p>\n",
              "\n",
              "            <dl>\n",
              "              <dt>Version</dt>\n",
              "                <dd><code>v3.1.2</code></dd>\n",
              "              <dt>Master</dt>\n",
              "                <dd><code>local[*]</code></dd>\n",
              "              <dt>AppName</dt>\n",
              "                <dd><code>Prueba_spark_colab</code></dd>\n",
              "            </dl>\n",
              "        </div>\n",
              "        \n",
              "            </div>\n",
              "        "
            ],
            "text/plain": [
              "<pyspark.sql.session.SparkSession at 0x7fec41ed6150>"
            ]
          },
          "metadata": {
            "tags": []
          },
          "execution_count": 2
        }
      ]
    },
    {
      "cell_type": "markdown",
      "metadata": {
        "id": "0TxAujHu236V"
      },
      "source": [
        "# Spark Context"
      ]
    },
    {
      "cell_type": "code",
      "metadata": {
        "id": "AhBpsCzr296y"
      },
      "source": [
        "# Crear SparkContext para conectar con el cluster, antes es necesario tener SparkSession\n",
        "from pyspark import SparkConf\n",
        "from pyspark import SparkContext\n",
        "import numpy as np\n",
        "\n",
        "sc = SparkContext.getOrCreate(SparkConf().setMaster(\"local[4]\"))\n",
        "\n",
        "# \"the master\" es la computadora conectada con el resto de las computadoras en el cluster que\n",
        "#  administra la división y transformación de los datos"
      ],
      "execution_count": 3,
      "outputs": []
    },
    {
      "cell_type": "markdown",
      "metadata": {
        "id": "P0b28MH2rE84"
      },
      "source": [
        "# Resilent Distributed Datasets"
      ]
    },
    {
      "cell_type": "markdown",
      "metadata": {
        "id": "ZYFcA7v-rMAc"
      },
      "source": [
        "## Crear un objeto RDD paralelizando una colección"
      ]
    },
    {
      "cell_type": "code",
      "metadata": {
        "colab": {
          "base_uri": "https://localhost:8080/"
        },
        "id": "yZiml9G3beKY",
        "outputId": "45eaa02c-5895-4bb1-bff2-e7486b73ec9e"
      },
      "source": [
        "!cat /proc/cpuinfo | grep processor | wc -l #procesadores ebn máquina colab\n"
      ],
      "execution_count": 34,
      "outputs": [
        {
          "output_type": "stream",
          "text": [
            "2\n"
          ],
          "name": "stdout"
        }
      ]
    },
    {
      "cell_type": "code",
      "metadata": {
        "colab": {
          "base_uri": "https://localhost:8080/"
        },
        "id": "gJRkRa_pb3PF",
        "outputId": "5e8ad85e-770d-435d-dad8-9a3d7281821b"
      },
      "source": [
        "!echo $(($(getconf _PHYS_PAGES) * $(getconf PAGE_SIZE) / (1024 * 1024))) #RAM\n"
      ],
      "execution_count": 35,
      "outputs": [
        {
          "output_type": "stream",
          "text": [
            "12993\n"
          ],
          "name": "stdout"
        }
      ]
    },
    {
      "cell_type": "code",
      "metadata": {
        "id": "9osfnc07J7G1"
      },
      "source": [
        "a_np = np.random.randint(0,100,20)\n",
        "a_rdd = sc.parallelize(a_np, 4)"
      ],
      "execution_count": 12,
      "outputs": []
    },
    {
      "cell_type": "code",
      "metadata": {
        "colab": {
          "base_uri": "https://localhost:8080/"
        },
        "id": "xx-Juh62JfEp",
        "outputId": "2fe7a070-19dd-45a6-c3d8-a2cfa313cbe2"
      },
      "source": [
        "print(type(a_np))\n",
        "print(type(a_rdd))"
      ],
      "execution_count": 5,
      "outputs": [
        {
          "output_type": "stream",
          "text": [
            "<class 'numpy.ndarray'>\n",
            "<class 'pyspark.rdd.RDD'>\n"
          ],
          "name": "stdout"
        }
      ]
    },
    {
      "cell_type": "code",
      "metadata": {
        "colab": {
          "base_uri": "https://localhost:8080/"
        },
        "id": "NOPWDtGiJr7m",
        "outputId": "39bc837c-3ead-42cb-ed80-3734bebfbbac"
      },
      "source": [
        "a_rdd.collect()  # regresa los elementos distribuidos "
      ],
      "execution_count": 6,
      "outputs": [
        {
          "output_type": "execute_result",
          "data": {
            "text/plain": [
              "[89, 50, 74, 69, 68, 33, 8, 71, 51, 93, 55, 93, 88, 33, 13, 71, 62, 73, 68, 97]"
            ]
          },
          "metadata": {
            "tags": []
          },
          "execution_count": 6
        }
      ]
    },
    {
      "cell_type": "code",
      "metadata": {
        "colab": {
          "base_uri": "https://localhost:8080/"
        },
        "id": "s7uz-hhTJzyl",
        "outputId": "e8e8d872-eeef-467f-becd-2ffe8c340f95"
      },
      "source": [
        "a_rdd.glom().collect()  # con glom podemos ver como se hicieron las particiones"
      ],
      "execution_count": 7,
      "outputs": [
        {
          "output_type": "execute_result",
          "data": {
            "text/plain": [
              "[[89, 50, 74, 69, 68, 33, 8, 71, 51, 93],\n",
              " [55, 93, 88, 33, 13, 71, 62, 73, 68, 97]]"
            ]
          },
          "metadata": {
            "tags": []
          },
          "execution_count": 7
        }
      ]
    },
    {
      "cell_type": "code",
      "metadata": {
        "colab": {
          "base_uri": "https://localhost:8080/"
        },
        "id": "x5HK_MCeLIbe",
        "outputId": "5deb6bbf-3c95-4f45-954c-cfa8a0c6db3d"
      },
      "source": [
        "sc.stop()\n",
        "sc=SparkContext(master=\"local[3]\")\n",
        "a_rdd = sc.parallelize(a_np)\n",
        "a_rdd.glom().collect() "
      ],
      "execution_count": 11,
      "outputs": [
        {
          "output_type": "execute_result",
          "data": {
            "text/plain": [
              "[[89, 50, 74, 69, 68, 33],\n",
              " [8, 71, 51, 93, 55, 93],\n",
              " [88, 33, 13, 71, 62, 73, 68, 97]]"
            ]
          },
          "metadata": {
            "tags": []
          },
          "execution_count": 11
        }
      ]
    },
    {
      "cell_type": "code",
      "metadata": {
        "colab": {
          "base_uri": "https://localhost:8080/"
        },
        "id": "Cnv3Fr7hXw4G",
        "outputId": "6f5b8df1-ad9c-445c-be2f-7a921e163b2c"
      },
      "source": [
        "a_rdd.collect() "
      ],
      "execution_count": 13,
      "outputs": [
        {
          "output_type": "execute_result",
          "data": {
            "text/plain": [
              "[53, 0, 23, 38, 31, 32, 95, 1, 35, 34, 84, 8, 77, 84, 86, 7, 98, 73, 26, 56]"
            ]
          },
          "metadata": {
            "tags": []
          },
          "execution_count": 13
        }
      ]
    },
    {
      "cell_type": "markdown",
      "metadata": {
        "id": "qAnmLnZ9rauu"
      },
      "source": [
        "## Crear un objeto RDD a partir de datos externos"
      ]
    },
    {
      "cell_type": "code",
      "metadata": {
        "id": "_A7h6Ff9rsvM"
      },
      "source": [
        "texto = sc.textFile(\"/content/drive/MyDrive/Datos/gabriel_garcia_marquez_cien_annos_soledad.txt\",4)\n"
      ],
      "execution_count": 16,
      "outputs": []
    },
    {
      "cell_type": "code",
      "metadata": {
        "colab": {
          "base_uri": "https://localhost:8080/"
        },
        "id": "4ieCOr2rtLMv",
        "outputId": "917decc8-14ad-47db-9fa8-3a2d75b1c620"
      },
      "source": [
        "type(texto)"
      ],
      "execution_count": 17,
      "outputs": [
        {
          "output_type": "execute_result",
          "data": {
            "text/plain": [
              "pyspark.rdd.RDD"
            ]
          },
          "metadata": {
            "tags": []
          },
          "execution_count": 17
        }
      ]
    },
    {
      "cell_type": "code",
      "metadata": {
        "colab": {
          "base_uri": "https://localhost:8080/"
        },
        "id": "8s3PdaXItv90",
        "outputId": "bcff0d5c-4119-4cf4-84ee-fe13205b31f3"
      },
      "source": [
        "texto.map(lambda s: len(s)).reduce(lambda a, b: a + b) # cantidad de caracteres"
      ],
      "execution_count": 18,
      "outputs": [
        {
          "output_type": "execute_result",
          "data": {
            "text/plain": [
              "814791"
            ]
          },
          "metadata": {
            "tags": []
          },
          "execution_count": 18
        }
      ]
    },
    {
      "cell_type": "markdown",
      "metadata": {
        "id": "aQhe7id2fwnG"
      },
      "source": [
        "# Operaciones en RDD\n",
        "- Transformaciones (Map)\n",
        "- Acciones (Reduce)"
      ]
    },
    {
      "cell_type": "markdown",
      "metadata": {
        "id": "tOgVWsFCgwT3"
      },
      "source": [
        "### Transformaciones (Map"
      ]
    },
    {
      "cell_type": "code",
      "metadata": {
        "id": "v9tqK1n3Is2k",
        "colab": {
          "base_uri": "https://localhost:8080/"
        },
        "outputId": "e35da082-ab6e-4fff-f1a6-804fc353a3dd"
      },
      "source": [
        "#map function\n",
        "sc.parallelize([3,4,5]).map(lambda x: range(1,x)).collect()"
      ],
      "execution_count": 19,
      "outputs": [
        {
          "output_type": "execute_result",
          "data": {
            "text/plain": [
              "[range(1, 3), range(1, 4), range(1, 5)]"
            ]
          },
          "metadata": {
            "tags": []
          },
          "execution_count": 19
        }
      ]
    },
    {
      "cell_type": "code",
      "metadata": {
        "colab": {
          "base_uri": "https://localhost:8080/"
        },
        "id": "lvtoyNXvf8Y3",
        "outputId": "525eae5d-20f0-4b6f-be5d-c7191e743bd9"
      },
      "source": [
        "#flatmap example.So it creates output like map function but it flattens the output in a list\n",
        "sc.parallelize([3,4,5]).flatMap(lambda x: [x, x*x]).collect()"
      ],
      "execution_count": 20,
      "outputs": [
        {
          "output_type": "execute_result",
          "data": {
            "text/plain": [
              "[3, 9, 4, 16, 5, 25]"
            ]
          },
          "metadata": {
            "tags": []
          },
          "execution_count": 20
        }
      ]
    },
    {
      "cell_type": "code",
      "metadata": {
        "colab": {
          "base_uri": "https://localhost:8080/"
        },
        "id": "dVGAulI2louu",
        "outputId": "b46f80d6-e5e1-4258-b368-cf05815253a9"
      },
      "source": [
        "#mapping con funciones regulares\n",
        "def square_if_odd(x):\n",
        "    \"\"\"\n",
        "    Si el numero es non, regresa el cuadrado, los pares en cambio\n",
        "    no sufren transformación\n",
        "    \"\"\"\n",
        "    if x%2==1:\n",
        "        return x*x\n",
        "    else:\n",
        "        return x\n",
        "\n",
        "numeros = sc.parallelize(np.arange(20))\n",
        "numeros.map(square_if_odd).collect()"
      ],
      "execution_count": 21,
      "outputs": [
        {
          "output_type": "execute_result",
          "data": {
            "text/plain": [
              "[0, 1, 2, 9, 4, 25, 6, 49, 8, 81, 10, 121, 12, 169, 14, 225, 16, 289, 18, 361]"
            ]
          },
          "metadata": {
            "tags": []
          },
          "execution_count": 21
        }
      ]
    },
    {
      "cell_type": "markdown",
      "metadata": {
        "id": "m27VEr7FgzKx"
      },
      "source": [
        "###  Acciones (Reduce)"
      ]
    },
    {
      "cell_type": "code",
      "metadata": {
        "id": "DsBpkk4thCgg",
        "colab": {
          "base_uri": "https://localhost:8080/"
        },
        "outputId": "30031266-3766-4bdd-eb35-e1972fe50cc0"
      },
      "source": [
        "numbers = sc.parallelize([1, 4, 6, 2, 9, 10])\n",
        "sum = numbers.reduce(lambda a,b : a+b)\n",
        "sum"
      ],
      "execution_count": 22,
      "outputs": [
        {
          "output_type": "execute_result",
          "data": {
            "text/plain": [
              "32"
            ]
          },
          "metadata": {
            "tags": []
          },
          "execution_count": 22
        }
      ]
    },
    {
      "cell_type": "code",
      "metadata": {
        "colab": {
          "base_uri": "https://localhost:8080/"
        },
        "id": "LTdU9RrnLk13",
        "outputId": "562b6221-694a-4cb2-f0ba-084133bfb68c"
      },
      "source": [
        "numbers.count() #conotar los elementos"
      ],
      "execution_count": 23,
      "outputs": [
        {
          "output_type": "execute_result",
          "data": {
            "text/plain": [
              "6"
            ]
          },
          "metadata": {
            "tags": []
          },
          "execution_count": 23
        }
      ]
    },
    {
      "cell_type": "code",
      "metadata": {
        "colab": {
          "base_uri": "https://localhost:8080/"
        },
        "id": "7NszV1--LoMW",
        "outputId": "118fcc19-9ea7-4f86-b8ab-74a5114fb7ea"
      },
      "source": [
        "numbers.first()"
      ],
      "execution_count": 24,
      "outputs": [
        {
          "output_type": "execute_result",
          "data": {
            "text/plain": [
              "1"
            ]
          },
          "metadata": {
            "tags": []
          },
          "execution_count": 24
        }
      ]
    },
    {
      "cell_type": "code",
      "metadata": {
        "colab": {
          "base_uri": "https://localhost:8080/"
        },
        "id": "ws_K6B6ALrg-",
        "outputId": "36530c50-3079-4805-ed4a-a9e2637b1122"
      },
      "source": [
        "numbers.take(3)"
      ],
      "execution_count": 27,
      "outputs": [
        {
          "output_type": "execute_result",
          "data": {
            "text/plain": [
              "[1, 4, 6]"
            ]
          },
          "metadata": {
            "tags": []
          },
          "execution_count": 27
        }
      ]
    },
    {
      "cell_type": "code",
      "metadata": {
        "colab": {
          "base_uri": "https://localhost:8080/"
        },
        "id": "Yh3raTh6kIv5",
        "outputId": "c3a34d54-d41f-4884-cb3c-f98309dbfa5d"
      },
      "source": [
        "#Encontrar el elemento máximo con reduce\n",
        "numbers.reduce(lambda x,y: x if x > y else y)"
      ],
      "execution_count": 28,
      "outputs": [
        {
          "output_type": "execute_result",
          "data": {
            "text/plain": [
              "10"
            ]
          },
          "metadata": {
            "tags": []
          },
          "execution_count": 28
        }
      ]
    },
    {
      "cell_type": "code",
      "metadata": {
        "colab": {
          "base_uri": "https://localhost:8080/"
        },
        "id": "1I5jLac6kx_-",
        "outputId": "425e2800-bdd6-4125-e3f9-cd71189fc111"
      },
      "source": [
        "#Filtros: ejemplo devuelve numeros positivos divisibles entre 3\n",
        "numbers.filter(lambda x:x%3==0 and x>=0).collect()"
      ],
      "execution_count": 29,
      "outputs": [
        {
          "output_type": "execute_result",
          "data": {
            "text/plain": [
              "[6, 9]"
            ]
          },
          "metadata": {
            "tags": []
          },
          "execution_count": 29
        }
      ]
    },
    {
      "cell_type": "code",
      "metadata": {
        "colab": {
          "base_uri": "https://localhost:8080/",
          "height": 35
        },
        "id": "XB1ReC1EkWkB",
        "outputId": "50ef7acf-8f88-47d7-8999-6e9b236bf5f2"
      },
      "source": [
        "\n",
        "words = 'MapReduce, GFS, Hadoop, HDFS, Spark'.split(',')\n",
        "\n",
        "wordRDD = sc.parallelize(words)\n",
        "\n",
        "wordRDD.reduce(lambda w,v: w if len(w) >len(v) else v)"
      ],
      "execution_count": 30,
      "outputs": [
        {
          "output_type": "execute_result",
          "data": {
            "application/vnd.google.colaboratory.intrinsic+json": {
              "type": "string"
            },
            "text/plain": [
              "'MapReduce'"
            ]
          },
          "metadata": {
            "tags": []
          },
          "execution_count": 30
        }
      ]
    },
    {
      "cell_type": "code",
      "metadata": {
        "colab": {
          "base_uri": "https://localhost:8080/",
          "height": 35
        },
        "id": "KMr0uSvGlM2-",
        "outputId": "c8d9a5f0-3b81-456e-e10c-9a528d0d92b8"
      },
      "source": [
        "#uso de funciones comunes utilizando reduce \n",
        "def largerThan(x,y):\n",
        "    \"\"\"\n",
        "    Regresa la palabra más larga\n",
        "    \"\"\"\n",
        "    if len(x)> len(y):\n",
        "        return x\n",
        "    else:\n",
        "        return y\n",
        "\n",
        "wordRDD.reduce(largerThan)"
      ],
      "execution_count": 31,
      "outputs": [
        {
          "output_type": "execute_result",
          "data": {
            "application/vnd.google.colaboratory.intrinsic+json": {
              "type": "string"
            },
            "text/plain": [
              "'MapReduce'"
            ]
          },
          "metadata": {
            "tags": []
          },
          "execution_count": 31
        }
      ]
    },
    {
      "cell_type": "markdown",
      "metadata": {
        "id": "2QwVM2L5mGOW"
      },
      "source": [
        "# Groupby"
      ]
    },
    {
      "cell_type": "code",
      "metadata": {
        "colab": {
          "base_uri": "https://localhost:8080/"
        },
        "id": "xj_geYn9ZtjY",
        "outputId": "e75ddcdb-fe37-4daf-88be-21e5447ee42f"
      },
      "source": [
        "numeros.collect()"
      ],
      "execution_count": 33,
      "outputs": [
        {
          "output_type": "execute_result",
          "data": {
            "text/plain": [
              "[0, 1, 2, 3, 4, 5, 6, 7, 8, 9, 10, 11, 12, 13, 14, 15, 16, 17, 18, 19]"
            ]
          },
          "metadata": {
            "tags": []
          },
          "execution_count": 33
        }
      ]
    },
    {
      "cell_type": "code",
      "metadata": {
        "colab": {
          "base_uri": "https://localhost:8080/"
        },
        "id": "ojdQX2vKme4W",
        "outputId": "5f1f0bea-f99c-4dae-99f2-434865c765ef"
      },
      "source": [
        "result=numeros.groupBy(lambda x:x%2).collect()\n",
        "result"
      ],
      "execution_count": 40,
      "outputs": [
        {
          "output_type": "execute_result",
          "data": {
            "text/plain": [
              "[(0, <pyspark.resultiterable.ResultIterable at 0x7f36cc541fd0>),\n",
              " (1, <pyspark.resultiterable.ResultIterable at 0x7f36cc565b10>)]"
            ]
          },
          "metadata": {
            "tags": []
          },
          "execution_count": 40
        }
      ]
    },
    {
      "cell_type": "code",
      "metadata": {
        "id": "VVS8q0GTmK2U",
        "colab": {
          "base_uri": "https://localhost:8080/"
        },
        "outputId": "eab97416-1065-4833-f1cb-400391f43189"
      },
      "source": [
        "sorted([(x, sorted(y)) for (x, y) in result])"
      ],
      "execution_count": 42,
      "outputs": [
        {
          "output_type": "execute_result",
          "data": {
            "text/plain": [
              "[(0, [0, 2, 4, 6, 8, 10, 12, 14, 16, 18]),\n",
              " (1, [1, 3, 5, 7, 9, 11, 13, 15, 17, 19])]"
            ]
          },
          "metadata": {
            "tags": []
          },
          "execution_count": 42
        }
      ]
    },
    {
      "cell_type": "markdown",
      "metadata": {
        "id": "XeERnQF7nizZ"
      },
      "source": [
        "## Lazy Evaluation \n",
        "Es una estrategia de spark para acelerar operaciones paralelizadas.\n",
        "Deja lista una secuencia de tareas paso por paso en una tarea pero retrasa la ejecución hasta que es absolutamente necesaria.\n",
        "\n",
        "(ejemplo en https://dzone.com/articles/the-benefits-amp-examples-of-using-apache-spark-wi)"
      ]
    },
    {
      "cell_type": "markdown",
      "metadata": {
        "id": "_9u3wWRacEzu"
      },
      "source": [
        "\n",
        "\n",
        "\n",
        "\n",
        "Documentación oficial de spark: \n",
        "\n",
        "* [RDD Programming Guide](https://spark.apache.org/docs/latest/rdd-programming-guide.html#initializing-spark)\n",
        "\n",
        "* [Cluster Mode Oberview](https://databricks.com/blog/2018/05/03/benchmarking-apache-spark-on-a-single-node-machine.html)\n",
        "\n",
        "\n",
        "\n",
        "\n",
        "\n"
      ]
    }
  ]
}