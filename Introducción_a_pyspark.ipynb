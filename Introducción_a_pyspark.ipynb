{
  "nbformat": 4,
  "nbformat_minor": 0,
  "metadata": {
    "colab": {
      "name": "Introducción a pyspark.ipynb",
      "provenance": [],
      "collapsed_sections": [],
      "toc_visible": true,
      "machine_shape": "hm",
      "mount_file_id": "https://github.com/AnIsAsPe/LDATopicModeling_pyspark/blob/main/Introducci%C3%B3n_a_pyspark.ipynb",
      "authorship_tag": "ABX9TyNi7Iled+YhjZX7wjU7jnFi",
      "include_colab_link": true
    },
    "kernelspec": {
      "name": "python3",
      "display_name": "Python 3"
    },
    "language_info": {
      "name": "python"
    }
  },
  "cells": [
    {
      "cell_type": "markdown",
      "metadata": {
        "id": "view-in-github",
        "colab_type": "text"
      },
      "source": [
        "<a href=\"https://colab.research.google.com/github/AnIsAsPe/LDATopicModeling_pyspark/blob/main/Introducci%C3%B3n_a_pyspark.ipynb\" target=\"_parent\"><img src=\"https://colab.research.google.com/assets/colab-badge.svg\" alt=\"Open In Colab\"/></a>"
      ]
    },
    {
      "cell_type": "markdown",
      "metadata": {
        "id": "TCbQIBhpmx_y"
      },
      "source": [
        "\n",
        "\n",
        "![image.png](https://spark.apache.org/docs/1.1.1/img/cluster-overview.png)"
      ]
    },
    {
      "cell_type": "markdown",
      "metadata": {
        "id": "4hi6OGDnO2f2"
      },
      "source": [
        "# Instalación de PySpark en Colab"
      ]
    },
    {
      "cell_type": "code",
      "metadata": {
        "id": "7BbA2UaqQOax",
        "colab": {
          "base_uri": "https://localhost:8080/"
        },
        "outputId": "b1a65686-441f-4729-d420-765a2208f1f0"
      },
      "source": [
        "!pip install pyspark"
      ],
      "execution_count": null,
      "outputs": [
        {
          "output_type": "stream",
          "name": "stdout",
          "text": [
            "Requirement already satisfied: pyspark in /usr/local/lib/python3.7/dist-packages (3.1.2)\n",
            "Requirement already satisfied: py4j==0.10.9 in /usr/local/lib/python3.7/dist-packages (from pyspark) (0.10.9)\n"
          ]
        }
      ]
    },
    {
      "cell_type": "markdown",
      "metadata": {
        "id": "xmIRUs6x0UXQ"
      },
      "source": [
        "Más información sobre como instalar PySpark en ambientes locales se puede consultar [aquí](https://spark.apache.org/docs/latest/api/python/getting_started/install.html)"
      ]
    },
    {
      "cell_type": "markdown",
      "metadata": {
        "id": "0TxAujHu236V"
      },
      "source": [
        "# Spark Context"
      ]
    },
    {
      "cell_type": "code",
      "metadata": {
        "id": "AhBpsCzr296y"
      },
      "source": [
        "# Crear SparkContext para conectar con el cluster\n",
        "from pyspark import SparkConf\n",
        "from pyspark import SparkContext\n",
        "import numpy as np\n",
        "\n",
        "sc = SparkContext.getOrCreate(SparkConf().setMaster(\"local[*]\"))\n",
        "\n",
        "# \"the master\" es la computadora conectada con el resto de las computadoras en el cluster que\n",
        "#  administra la división y transformación de los datos"
      ],
      "execution_count": null,
      "outputs": []
    },
    {
      "cell_type": "markdown",
      "metadata": {
        "id": "P0b28MH2rE84"
      },
      "source": [
        "# Resilent Distributed Datasets"
      ]
    },
    {
      "cell_type": "markdown",
      "metadata": {
        "id": "ZYFcA7v-rMAc"
      },
      "source": [
        "## Crear un objeto RDD paralelizando una colección"
      ]
    },
    {
      "cell_type": "code",
      "metadata": {
        "colab": {
          "base_uri": "https://localhost:8080/"
        },
        "id": "yZiml9G3beKY",
        "outputId": "b84b0300-23d7-4fb3-b384-d05de0bb724b"
      },
      "source": [
        "!cat /proc/cpuinfo | grep processor | wc -l #procesadores ebn máquina colab\n"
      ],
      "execution_count": null,
      "outputs": [
        {
          "output_type": "stream",
          "name": "stdout",
          "text": [
            "4\n"
          ]
        }
      ]
    },
    {
      "cell_type": "code",
      "metadata": {
        "colab": {
          "base_uri": "https://localhost:8080/"
        },
        "id": "gJRkRa_pb3PF",
        "outputId": "865310b4-8d86-49e6-d05f-eb6ebfecf6ca"
      },
      "source": [
        "!echo $(($(getconf _PHYS_PAGES) * $(getconf PAGE_SIZE) / (1024 * 1024))) #RAM\n"
      ],
      "execution_count": null,
      "outputs": [
        {
          "output_type": "stream",
          "name": "stdout",
          "text": [
            "26070\n"
          ]
        }
      ]
    },
    {
      "cell_type": "code",
      "metadata": {
        "id": "9osfnc07J7G1"
      },
      "source": [
        "a_np = np.random.randint(0,100,20)\n",
        "a_rdd = sc.parallelize(a_np, 4)"
      ],
      "execution_count": null,
      "outputs": []
    },
    {
      "cell_type": "code",
      "metadata": {
        "colab": {
          "base_uri": "https://localhost:8080/"
        },
        "id": "xx-Juh62JfEp",
        "outputId": "2484ebf3-02f3-4db2-d963-a0b57894cd7a"
      },
      "source": [
        "print(type(a_np))\n",
        "print(type(a_rdd))"
      ],
      "execution_count": null,
      "outputs": [
        {
          "output_type": "stream",
          "name": "stdout",
          "text": [
            "<class 'numpy.ndarray'>\n",
            "<class 'pyspark.rdd.RDD'>\n"
          ]
        }
      ]
    },
    {
      "cell_type": "code",
      "metadata": {
        "colab": {
          "base_uri": "https://localhost:8080/"
        },
        "id": "uLWgiR1q9GMQ",
        "outputId": "042a8c0d-3568-4138-d30e-d56864f5e1a2"
      },
      "source": [
        "a_rdd"
      ],
      "execution_count": null,
      "outputs": [
        {
          "output_type": "execute_result",
          "data": {
            "text/plain": [
              "ParallelCollectionRDD[5] at readRDDFromFile at PythonRDD.scala:274"
            ]
          },
          "metadata": {},
          "execution_count": 21
        }
      ]
    },
    {
      "cell_type": "code",
      "metadata": {
        "colab": {
          "base_uri": "https://localhost:8080/"
        },
        "id": "NOPWDtGiJr7m",
        "outputId": "13e70f00-6739-4538-98b5-f6319f969821"
      },
      "source": [
        "a_rdd.collect()  # regresa los elementos distribuidos "
      ],
      "execution_count": null,
      "outputs": [
        {
          "output_type": "execute_result",
          "data": {
            "text/plain": [
              "[71, 1, 44, 88, 59, 12, 96, 53, 64, 13, 73, 83, 14, 76, 44, 62, 81, 87, 2, 53]"
            ]
          },
          "metadata": {},
          "execution_count": 22
        }
      ]
    },
    {
      "cell_type": "code",
      "metadata": {
        "colab": {
          "base_uri": "https://localhost:8080/"
        },
        "id": "s7uz-hhTJzyl",
        "outputId": "e2d7f7a9-9502-4e48-b66b-a8be48ffcd04"
      },
      "source": [
        "a_rdd.glom().collect()  # con glom podemos ver como se hicieron las particiones"
      ],
      "execution_count": null,
      "outputs": [
        {
          "output_type": "execute_result",
          "data": {
            "text/plain": [
              "[[71, 1, 44, 88, 59],\n",
              " [12, 96, 53, 64, 13],\n",
              " [73, 83, 14, 76, 44],\n",
              " [62, 81, 87, 2, 53]]"
            ]
          },
          "metadata": {},
          "execution_count": 23
        }
      ]
    },
    {
      "cell_type": "markdown",
      "metadata": {
        "id": "qAnmLnZ9rauu"
      },
      "source": [
        "## Crear un objeto RDD a partir de datos externos"
      ]
    },
    {
      "cell_type": "markdown",
      "metadata": {
        "id": "SYB4HZvytAqX"
      },
      "source": [
        "El texto esta disponible [aquí](https://github.com/AnIsAsPe/Estadistica_y_Probabilidad_para-CD-/blob/main/Semana1/gabriel_garcia_marquez_cien_annos_soledad.txt)"
      ]
    },
    {
      "cell_type": "code",
      "metadata": {
        "id": "_A7h6Ff9rsvM"
      },
      "source": [
        "file = '/content/drive/MyDrive/Datos/gabriel_garcia_marquez_cien_annos_soledad.txt'\n",
        "texto = sc.textFile(file, 4)\n"
      ],
      "execution_count": null,
      "outputs": []
    },
    {
      "cell_type": "code",
      "metadata": {
        "colab": {
          "base_uri": "https://localhost:8080/"
        },
        "id": "4ieCOr2rtLMv",
        "outputId": "fa2ac5f6-6e9f-4dae-91e5-38f9b777331b"
      },
      "source": [
        "type(texto)"
      ],
      "execution_count": null,
      "outputs": [
        {
          "output_type": "execute_result",
          "data": {
            "text/plain": [
              "pyspark.rdd.RDD"
            ]
          },
          "metadata": {},
          "execution_count": 25
        }
      ]
    },
    {
      "cell_type": "code",
      "metadata": {
        "colab": {
          "base_uri": "https://localhost:8080/"
        },
        "id": "8s3PdaXItv90",
        "outputId": "8c71ccb0-808d-470a-e185-f2e370b521f5"
      },
      "source": [
        "texto.map(lambda s: len(s)).reduce(lambda a, b: a + b) # cantidad de caracteres"
      ],
      "execution_count": null,
      "outputs": [
        {
          "output_type": "execute_result",
          "data": {
            "text/plain": [
              "814791"
            ]
          },
          "metadata": {},
          "execution_count": 26
        }
      ]
    },
    {
      "cell_type": "markdown",
      "metadata": {
        "id": "aQhe7id2fwnG"
      },
      "source": [
        "# Operaciones en RDD\n",
        "- Transformaciones (Map)\n",
        "- Acciones (Reduce)"
      ]
    },
    {
      "cell_type": "markdown",
      "metadata": {
        "id": "tOgVWsFCgwT3"
      },
      "source": [
        "### Transformaciones (Map)"
      ]
    },
    {
      "cell_type": "code",
      "metadata": {
        "id": "v9tqK1n3Is2k",
        "colab": {
          "base_uri": "https://localhost:8080/"
        },
        "outputId": "1860b575-2cb3-4e42-d622-091fce4b454b"
      },
      "source": [
        "#map function\n",
        "sc.parallelize([3,4,5]).map(lambda x: range(1,x)).collect()"
      ],
      "execution_count": null,
      "outputs": [
        {
          "output_type": "execute_result",
          "data": {
            "text/plain": [
              "[range(1, 3), range(1, 4), range(1, 5)]"
            ]
          },
          "metadata": {},
          "execution_count": 27
        }
      ]
    },
    {
      "cell_type": "code",
      "metadata": {
        "colab": {
          "base_uri": "https://localhost:8080/"
        },
        "id": "U6oSGZHD_Jtx",
        "outputId": "179069d5-5649-41ee-fdbf-7b3212c09da8"
      },
      "source": [
        "#flatmap regresa el resultado en una sola lista\n",
        "sc.parallelize([3,4,5]).flatMap(lambda x:  range(1,x)).collect()"
      ],
      "execution_count": null,
      "outputs": [
        {
          "output_type": "execute_result",
          "data": {
            "text/plain": [
              "[1, 2, 1, 2, 3, 1, 2, 3, 4]"
            ]
          },
          "metadata": {},
          "execution_count": 29
        }
      ]
    },
    {
      "cell_type": "code",
      "metadata": {
        "colab": {
          "base_uri": "https://localhost:8080/"
        },
        "id": "lvtoyNXvf8Y3",
        "outputId": "ae84834c-bcc6-40bd-fee0-0a7705d4384e"
      },
      "source": [
        "#flatmap regresa el resultado en una sola lista\n",
        "sc.parallelize([3,4,5]).flatMap(lambda x: [x, x*x]).collect()"
      ],
      "execution_count": null,
      "outputs": [
        {
          "output_type": "execute_result",
          "data": {
            "text/plain": [
              "[3, 9, 4, 16, 5, 25]"
            ]
          },
          "metadata": {},
          "execution_count": 30
        }
      ]
    },
    {
      "cell_type": "code",
      "metadata": {
        "colab": {
          "base_uri": "https://localhost:8080/"
        },
        "id": "dVGAulI2louu",
        "outputId": "9f989443-58fc-4d89-8a51-0717d05c3d45"
      },
      "source": [
        "#mapping con funciones regulares\n",
        "def square_if_odd(x):\n",
        "    \"\"\"\n",
        "    Si el numero es non, regresa el cuadrado, los pares en cambio\n",
        "    no sufren transformación\n",
        "    \"\"\"\n",
        "    if x % 2==1:\n",
        "        return x*x\n",
        "    else:\n",
        "        return x\n",
        "\n",
        "numeros = sc.parallelize(np.arange(20))\n",
        "numeros.map(square_if_odd).collect()"
      ],
      "execution_count": null,
      "outputs": [
        {
          "output_type": "execute_result",
          "data": {
            "text/plain": [
              "[0, 1, 2, 9, 4, 25, 6, 49, 8, 81, 10, 121, 12, 169, 14, 225, 16, 289, 18, 361]"
            ]
          },
          "metadata": {},
          "execution_count": 32
        }
      ]
    },
    {
      "cell_type": "markdown",
      "metadata": {
        "id": "m27VEr7FgzKx"
      },
      "source": [
        "###  Acciones (Reduce)"
      ]
    },
    {
      "cell_type": "code",
      "metadata": {
        "id": "DsBpkk4thCgg",
        "colab": {
          "base_uri": "https://localhost:8080/"
        },
        "outputId": "10052815-8a95-4413-800d-3132bafe9dd6"
      },
      "source": [
        "numeros2 = sc.parallelize([1, 4, 6, 2, 9, 10])\n",
        "sum = numeros2.reduce(lambda a, b : a + b)\n",
        "sum"
      ],
      "execution_count": null,
      "outputs": [
        {
          "output_type": "execute_result",
          "data": {
            "text/plain": [
              "32"
            ]
          },
          "metadata": {},
          "execution_count": 33
        }
      ]
    },
    {
      "cell_type": "code",
      "metadata": {
        "colab": {
          "base_uri": "https://localhost:8080/"
        },
        "id": "LTdU9RrnLk13",
        "outputId": "68cc307c-2adc-4689-b692-42d3bdbfede0"
      },
      "source": [
        "numeros2.count() #contar los elementos"
      ],
      "execution_count": null,
      "outputs": [
        {
          "output_type": "execute_result",
          "data": {
            "text/plain": [
              "6"
            ]
          },
          "metadata": {},
          "execution_count": 34
        }
      ]
    },
    {
      "cell_type": "code",
      "metadata": {
        "colab": {
          "base_uri": "https://localhost:8080/"
        },
        "id": "7NszV1--LoMW",
        "outputId": "75fa6882-3d8e-407c-c8a7-b661266d1c30"
      },
      "source": [
        "numeros2.first()"
      ],
      "execution_count": null,
      "outputs": [
        {
          "output_type": "execute_result",
          "data": {
            "text/plain": [
              "1"
            ]
          },
          "metadata": {},
          "execution_count": 35
        }
      ]
    },
    {
      "cell_type": "code",
      "metadata": {
        "colab": {
          "base_uri": "https://localhost:8080/"
        },
        "id": "ws_K6B6ALrg-",
        "outputId": "456fe8f4-af09-4a69-a4dd-0fe37d3a4007"
      },
      "source": [
        "numeros2.take(3)"
      ],
      "execution_count": null,
      "outputs": [
        {
          "output_type": "execute_result",
          "data": {
            "text/plain": [
              "[1, 4, 6]"
            ]
          },
          "metadata": {},
          "execution_count": 36
        }
      ]
    },
    {
      "cell_type": "code",
      "metadata": {
        "colab": {
          "base_uri": "https://localhost:8080/"
        },
        "id": "Yh3raTh6kIv5",
        "outputId": "63e953d5-bc1d-4f50-fc35-a6c74c654be1"
      },
      "source": [
        "#Encontrar el elemento máximo con reduce\n",
        "numeros2.reduce(lambda x,y: x if x > y else y)"
      ],
      "execution_count": null,
      "outputs": [
        {
          "output_type": "execute_result",
          "data": {
            "text/plain": [
              "10"
            ]
          },
          "metadata": {},
          "execution_count": 37
        }
      ]
    },
    {
      "cell_type": "code",
      "metadata": {
        "colab": {
          "base_uri": "https://localhost:8080/"
        },
        "id": "1I5jLac6kx_-",
        "outputId": "7f4cfa15-63b7-47e2-d648-1a2c36ad35bb"
      },
      "source": [
        "#Filtros: ejemplo devuelve numeros positivos divisibles entre 3\n",
        "numeros2.filter(lambda x: x%3==0 and x>=0)"
      ],
      "execution_count": null,
      "outputs": [
        {
          "output_type": "execute_result",
          "data": {
            "text/plain": [
              "PythonRDD[32] at RDD at PythonRDD.scala:53"
            ]
          },
          "metadata": {},
          "execution_count": 40
        }
      ]
    },
    {
      "cell_type": "code",
      "metadata": {
        "colab": {
          "base_uri": "https://localhost:8080/",
          "height": 35
        },
        "id": "XB1ReC1EkWkB",
        "outputId": "dfe33527-47e4-4bed-e8bf-8ce82a043860"
      },
      "source": [
        "\n",
        "palabras = 'MapReduce, GFS, Hadoop, HDFS, Spark'.split(',')\n",
        "\n",
        "palabrasRDD = sc.parallelize(palabras)\n",
        "\n",
        "palabrasRDD.reduce(lambda w,v: w if len(w) >len(v) else v)"
      ],
      "execution_count": null,
      "outputs": [
        {
          "output_type": "execute_result",
          "data": {
            "application/vnd.google.colaboratory.intrinsic+json": {
              "type": "string"
            },
            "text/plain": [
              "'MapReduce'"
            ]
          },
          "metadata": {},
          "execution_count": 39
        }
      ]
    },
    {
      "cell_type": "code",
      "metadata": {
        "colab": {
          "base_uri": "https://localhost:8080/",
          "height": 35
        },
        "id": "KMr0uSvGlM2-",
        "outputId": "02844eda-8371-4312-8777-bc33edb581dd"
      },
      "source": [
        "#uso de funciones comunes utilizando reduce \n",
        "def largerThan(x,y):\n",
        "    \"\"\"\n",
        "    Regresa la palabra más larga\n",
        "    \"\"\"\n",
        "    if len(x)> len(y):\n",
        "        return x\n",
        "    else:\n",
        "        return y\n",
        "\n",
        "palabrasRDD.reduce(largerThan)"
      ],
      "execution_count": null,
      "outputs": [
        {
          "output_type": "execute_result",
          "data": {
            "application/vnd.google.colaboratory.intrinsic+json": {
              "type": "string"
            },
            "text/plain": [
              "'MapReduce'"
            ]
          },
          "metadata": {},
          "execution_count": 43
        }
      ]
    },
    {
      "cell_type": "markdown",
      "metadata": {
        "id": "2QwVM2L5mGOW"
      },
      "source": [
        "# Groupby"
      ]
    },
    {
      "cell_type": "code",
      "metadata": {
        "colab": {
          "base_uri": "https://localhost:8080/"
        },
        "id": "xj_geYn9ZtjY",
        "outputId": "2a7ca220-28b4-4b5f-e1c9-c530f788eea5"
      },
      "source": [
        "numeros.collect()"
      ],
      "execution_count": null,
      "outputs": [
        {
          "output_type": "execute_result",
          "data": {
            "text/plain": [
              "[0, 1, 2, 3, 4, 5, 6, 7, 8, 9, 10, 11, 12, 13, 14, 15, 16, 17, 18, 19]"
            ]
          },
          "metadata": {},
          "execution_count": 44
        }
      ]
    },
    {
      "cell_type": "code",
      "metadata": {
        "colab": {
          "base_uri": "https://localhost:8080/"
        },
        "id": "ojdQX2vKme4W",
        "outputId": "9eecd61c-bb6f-4cb6-b623-994e4a0e4b1a"
      },
      "source": [
        "result=numeros.groupBy(lambda x:x%2)\n",
        "result"
      ],
      "execution_count": null,
      "outputs": [
        {
          "output_type": "execute_result",
          "data": {
            "text/plain": [
              "PythonRDD[38] at RDD at PythonRDD.scala:53"
            ]
          },
          "metadata": {},
          "execution_count": 45
        }
      ]
    },
    {
      "cell_type": "code",
      "metadata": {
        "colab": {
          "base_uri": "https://localhost:8080/"
        },
        "id": "91mrqYEtBtBf",
        "outputId": "7204b10d-4cb6-47b2-d873-cc0159a5f788"
      },
      "source": [
        "result.collect()"
      ],
      "execution_count": null,
      "outputs": [
        {
          "output_type": "execute_result",
          "data": {
            "text/plain": [
              "[(0, <pyspark.resultiterable.ResultIterable at 0x7f47ff6145d0>),\n",
              " (1, <pyspark.resultiterable.ResultIterable at 0x7f47ff6143d0>)]"
            ]
          },
          "metadata": {},
          "execution_count": 48
        }
      ]
    },
    {
      "cell_type": "code",
      "metadata": {
        "id": "VVS8q0GTmK2U",
        "colab": {
          "base_uri": "https://localhost:8080/"
        },
        "outputId": "934db094-4126-4965-ec19-8767a9ac84a5"
      },
      "source": [
        "sorted([(x, sorted(y)) for (x, y) in result.collect()])"
      ],
      "execution_count": null,
      "outputs": [
        {
          "output_type": "execute_result",
          "data": {
            "text/plain": [
              "[(0, [0, 2, 4, 6, 8, 10, 12, 14, 16, 18]),\n",
              " (1, [1, 3, 5, 7, 9, 11, 13, 15, 17, 19])]"
            ]
          },
          "metadata": {},
          "execution_count": 51
        }
      ]
    },
    {
      "cell_type": "markdown",
      "metadata": {
        "id": "XeERnQF7nizZ"
      },
      "source": [
        "## Lazy Evaluation \n",
        "Es una estrategia de spark para acelerar operaciones paralelizadas.\n",
        "Deja lista una secuencia de tareas paso por paso en una tarea pero retrasa la ejecución hasta que es absolutamente necesaria.\n",
        "\n",
        "(ejemplo en https://dzone.com/articles/the-benefits-amp-examples-of-using-apache-spark-wi)"
      ]
    },
    {
      "cell_type": "markdown",
      "metadata": {
        "id": "_9u3wWRacEzu"
      },
      "source": [
        "Recursos\n",
        "\n",
        "[1]«Benchmarking Apache Spark on a Single Node Machine - The Databricks Blog», Databricks, may 03, 2018. https://databricks.com/blog/2018/05/03/benchmarking-apache-spark-on-a-single-node-machine.html \n",
        "\n",
        "[2]«RDD Programming Guide - Spark 3.1.2 Documentation». https://spark.apache.org/docs/latest/rdd-programming-guide.html#initializing-spark \n",
        "\n",
        "[3]J. Thomspon, «Transformations and Actions. Spark, a visual Guide of the API», p. 122, [En línea]. Disponible en: https://training.databricks.com/visualapi.pdf\n",
        "\n",
        "\n",
        "\n",
        "\n",
        "\n",
        "\n",
        "\n",
        "\n"
      ]
    }
  ]
}