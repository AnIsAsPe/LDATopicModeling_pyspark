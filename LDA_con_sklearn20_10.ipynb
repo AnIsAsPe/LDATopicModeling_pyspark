{
  "nbformat": 4,
  "nbformat_minor": 0,
  "metadata": {
    "colab": {
      "name": "LDA con sklearn20_10.ipynb",
      "provenance": [],
      "mount_file_id": "1WcLnJH3VpaW1U9rxMgN8dwxPbxjhaQ0n",
      "authorship_tag": "ABX9TyPQMStfUX1AQG0ojWsI/JaG",
      "include_colab_link": true
    },
    "kernelspec": {
      "name": "python3",
      "display_name": "Python 3"
    },
    "language_info": {
      "name": "python"
    }
  },
  "cells": [
    {
      "cell_type": "markdown",
      "metadata": {
        "id": "view-in-github",
        "colab_type": "text"
      },
      "source": [
        "<a href=\"https://colab.research.google.com/github/AnIsAsPe/LDATopicModeling_pyspark/blob/main/LDA_con_sklearn20_10.ipynb\" target=\"_parent\"><img src=\"https://colab.research.google.com/assets/colab-badge.svg\" alt=\"Open In Colab\"/></a>"
      ]
    },
    {
      "cell_type": "code",
      "metadata": {
        "colab": {
          "base_uri": "https://localhost:8080/"
        },
        "id": "ASPXxCfTa2bL",
        "outputId": "74be62fc-c678-4a39-bd98-e6be3591c6ad"
      },
      "source": [
        "!pip install pyLDAvis  #biblioteca que extrae información de un modelo LDA para obtener una visualización interactiva"
      ],
      "execution_count": null,
      "outputs": [
        {
          "output_type": "stream",
          "text": [
            "Requirement already satisfied: pyLDAvis in /usr/local/lib/python3.7/dist-packages (3.3.1)\n",
            "Requirement already satisfied: future in /usr/local/lib/python3.7/dist-packages (from pyLDAvis) (0.16.0)\n",
            "Requirement already satisfied: scipy in /usr/local/lib/python3.7/dist-packages (from pyLDAvis) (1.4.1)\n",
            "Requirement already satisfied: gensim in /usr/local/lib/python3.7/dist-packages (from pyLDAvis) (3.6.0)\n",
            "Requirement already satisfied: joblib in /usr/local/lib/python3.7/dist-packages (from pyLDAvis) (1.0.1)\n",
            "Requirement already satisfied: setuptools in /usr/local/lib/python3.7/dist-packages (from pyLDAvis) (57.0.0)\n",
            "Requirement already satisfied: scikit-learn in /usr/local/lib/python3.7/dist-packages (from pyLDAvis) (0.22.2.post1)\n",
            "Requirement already satisfied: sklearn in /usr/local/lib/python3.7/dist-packages (from pyLDAvis) (0.0)\n",
            "Requirement already satisfied: jinja2 in /usr/local/lib/python3.7/dist-packages (from pyLDAvis) (2.11.3)\n",
            "Requirement already satisfied: numpy>=1.20.0 in /usr/local/lib/python3.7/dist-packages (from pyLDAvis) (1.20.3)\n",
            "Requirement already satisfied: pandas>=1.2.0 in /usr/local/lib/python3.7/dist-packages (from pyLDAvis) (1.2.4)\n",
            "Requirement already satisfied: funcy in /usr/local/lib/python3.7/dist-packages (from pyLDAvis) (1.16)\n",
            "Requirement already satisfied: numexpr in /usr/local/lib/python3.7/dist-packages (from pyLDAvis) (2.7.3)\n",
            "Requirement already satisfied: six>=1.5.0 in /usr/local/lib/python3.7/dist-packages (from gensim->pyLDAvis) (1.15.0)\n",
            "Requirement already satisfied: smart-open>=1.2.1 in /usr/local/lib/python3.7/dist-packages (from gensim->pyLDAvis) (5.1.0)\n",
            "Requirement already satisfied: MarkupSafe>=0.23 in /usr/local/lib/python3.7/dist-packages (from jinja2->pyLDAvis) (2.0.1)\n",
            "Requirement already satisfied: python-dateutil>=2.7.3 in /usr/local/lib/python3.7/dist-packages (from pandas>=1.2.0->pyLDAvis) (2.8.1)\n",
            "Requirement already satisfied: pytz>=2017.3 in /usr/local/lib/python3.7/dist-packages (from pandas>=1.2.0->pyLDAvis) (2018.9)\n"
          ],
          "name": "stdout"
        }
      ]
    },
    {
      "cell_type": "code",
      "metadata": {
        "colab": {
          "base_uri": "https://localhost:8080/"
        },
        "id": "ROy7X72IDE2X",
        "outputId": "815a6a25-ffd7-4e33-80df-71c46faef58f"
      },
      "source": [
        "import pandas as pd\n",
        "import numpy as np\n",
        "\n",
        "import re\n",
        "import nltk\n",
        "from nltk.corpus import stopwords\n",
        "from nltk.stem import PorterStemmer, WordNetLemmatizer\n",
        "\n",
        "from sklearn.feature_extraction.text import TfidfVectorizer\n",
        "\n",
        "import pyLDAvis\n",
        "import matplotlib.pyplot as plt \n",
        "import seaborn as sns  \n",
        "\n",
        "nltk.download('stopwords')\n",
        "nltk.download('wordnet')  #WordNetLemmatizer\n",
        "nltk.download('punkt')\n"
      ],
      "execution_count": null,
      "outputs": [
        {
          "output_type": "stream",
          "text": [
            "[nltk_data] Downloading package stopwords to /root/nltk_data...\n",
            "[nltk_data]   Package stopwords is already up-to-date!\n",
            "[nltk_data] Downloading package wordnet to /root/nltk_data...\n",
            "[nltk_data]   Package wordnet is already up-to-date!\n",
            "[nltk_data] Downloading package punkt to /root/nltk_data...\n",
            "[nltk_data]   Package punkt is already up-to-date!\n"
          ],
          "name": "stdout"
        },
        {
          "output_type": "execute_result",
          "data": {
            "text/plain": [
              "True"
            ]
          },
          "metadata": {
            "tags": []
          },
          "execution_count": 25
        }
      ]
    },
    {
      "cell_type": "markdown",
      "metadata": {
        "id": "53qgW2CaSPnG"
      },
      "source": [
        "En colab, al instalar la librería pyLDAvis causa un conflicto con Pandas. Si esto se refleja al correr la siguiente linea es necesario reiniciar el entorno de ejecución."
      ]
    },
    {
      "cell_type": "code",
      "metadata": {
        "colab": {
          "base_uri": "https://localhost:8080/",
          "height": 221
        },
        "id": "J_rnNHkAQ8aw",
        "outputId": "f4611c5e-cb95-4396-f27c-569038d58cb4"
      },
      "source": [
        "df = pd.read_csv('/content/drive/MyDrive/Datos/abcnews-date-text.csv', parse_dates=['publish_date'] )\n",
        "print(df.shape)\n",
        "df.head()"
      ],
      "execution_count": null,
      "outputs": [
        {
          "output_type": "stream",
          "text": [
            "(1226258, 2)\n"
          ],
          "name": "stdout"
        },
        {
          "output_type": "execute_result",
          "data": {
            "text/html": [
              "<div>\n",
              "<style scoped>\n",
              "    .dataframe tbody tr th:only-of-type {\n",
              "        vertical-align: middle;\n",
              "    }\n",
              "\n",
              "    .dataframe tbody tr th {\n",
              "        vertical-align: top;\n",
              "    }\n",
              "\n",
              "    .dataframe thead th {\n",
              "        text-align: right;\n",
              "    }\n",
              "</style>\n",
              "<table border=\"1\" class=\"dataframe\">\n",
              "  <thead>\n",
              "    <tr style=\"text-align: right;\">\n",
              "      <th></th>\n",
              "      <th>publish_date</th>\n",
              "      <th>headline_text</th>\n",
              "    </tr>\n",
              "  </thead>\n",
              "  <tbody>\n",
              "    <tr>\n",
              "      <th>0</th>\n",
              "      <td>2003-02-19</td>\n",
              "      <td>aba decides against community broadcasting lic...</td>\n",
              "    </tr>\n",
              "    <tr>\n",
              "      <th>1</th>\n",
              "      <td>2003-02-19</td>\n",
              "      <td>act fire witnesses must be aware of defamation</td>\n",
              "    </tr>\n",
              "    <tr>\n",
              "      <th>2</th>\n",
              "      <td>2003-02-19</td>\n",
              "      <td>a g calls for infrastructure protection summit</td>\n",
              "    </tr>\n",
              "    <tr>\n",
              "      <th>3</th>\n",
              "      <td>2003-02-19</td>\n",
              "      <td>air nz staff in aust strike for pay rise</td>\n",
              "    </tr>\n",
              "    <tr>\n",
              "      <th>4</th>\n",
              "      <td>2003-02-19</td>\n",
              "      <td>air nz strike to affect australian travellers</td>\n",
              "    </tr>\n",
              "  </tbody>\n",
              "</table>\n",
              "</div>"
            ],
            "text/plain": [
              "  publish_date                                      headline_text\n",
              "0   2003-02-19  aba decides against community broadcasting lic...\n",
              "1   2003-02-19     act fire witnesses must be aware of defamation\n",
              "2   2003-02-19     a g calls for infrastructure protection summit\n",
              "3   2003-02-19           air nz staff in aust strike for pay rise\n",
              "4   2003-02-19      air nz strike to affect australian travellers"
            ]
          },
          "metadata": {
            "tags": []
          },
          "execution_count": 15
        }
      ]
    },
    {
      "cell_type": "code",
      "metadata": {
        "colab": {
          "base_uri": "https://localhost:8080/"
        },
        "id": "cxLRzl0CVkeg",
        "outputId": "f149e14d-e45f-46e7-bf1d-722743070cc3"
      },
      "source": [
        "df.publish_date.min(), df.publish_date.max()"
      ],
      "execution_count": null,
      "outputs": [
        {
          "output_type": "execute_result",
          "data": {
            "text/plain": [
              "(Timestamp('2003-02-19 00:00:00'), Timestamp('2020-12-31 00:00:00'))"
            ]
          },
          "metadata": {
            "tags": []
          },
          "execution_count": 16
        }
      ]
    },
    {
      "cell_type": "code",
      "metadata": {
        "colab": {
          "base_uri": "https://localhost:8080/"
        },
        "id": "NXSLK4Y4V_yM",
        "outputId": "ec12e392-7628-4ee5-98c1-95eac2ec2903"
      },
      "source": [
        "# promedio de noticias por día\n",
        "len(df)/(df.publish_date.max()-df.publish_date.min()).days\n"
      ],
      "execution_count": null,
      "outputs": [
        {
          "output_type": "execute_result",
          "data": {
            "text/plain": [
              "187.93226053639847"
            ]
          },
          "metadata": {
            "tags": []
          },
          "execution_count": 22
        }
      ]
    },
    {
      "cell_type": "code",
      "metadata": {
        "colab": {
          "base_uri": "https://localhost:8080/",
          "height": 824
        },
        "id": "SXavCnKbSpnX",
        "outputId": "542fd9d5-b3cd-4b28-eba7-10bfe3a79215"
      },
      "source": [
        "df.sample(25)"
      ],
      "execution_count": null,
      "outputs": [
        {
          "output_type": "execute_result",
          "data": {
            "text/html": [
              "<div>\n",
              "<style scoped>\n",
              "    .dataframe tbody tr th:only-of-type {\n",
              "        vertical-align: middle;\n",
              "    }\n",
              "\n",
              "    .dataframe tbody tr th {\n",
              "        vertical-align: top;\n",
              "    }\n",
              "\n",
              "    .dataframe thead th {\n",
              "        text-align: right;\n",
              "    }\n",
              "</style>\n",
              "<table border=\"1\" class=\"dataframe\">\n",
              "  <thead>\n",
              "    <tr style=\"text-align: right;\">\n",
              "      <th></th>\n",
              "      <th>headline_text</th>\n",
              "    </tr>\n",
              "  </thead>\n",
              "  <tbody>\n",
              "    <tr>\n",
              "      <th>924273</th>\n",
              "      <td>shark drum lines set off warnbro day 3</td>\n",
              "    </tr>\n",
              "    <tr>\n",
              "      <th>808096</th>\n",
              "      <td>nrl wrap sunday august 4</td>\n",
              "    </tr>\n",
              "    <tr>\n",
              "      <th>56451</th>\n",
              "      <td>police seek three missing in melbourne</td>\n",
              "    </tr>\n",
              "    <tr>\n",
              "      <th>714173</th>\n",
              "      <td>perfect weather for fraser is burn offs</td>\n",
              "    </tr>\n",
              "    <tr>\n",
              "      <th>795246</th>\n",
              "      <td>miners still optimisitc for oakajee</td>\n",
              "    </tr>\n",
              "    <tr>\n",
              "      <th>697070</th>\n",
              "      <td>researchers develop new dengue virus identific...</td>\n",
              "    </tr>\n",
              "    <tr>\n",
              "      <th>97100</th>\n",
              "      <td>commitment shown to lake eyre basin sustainabi...</td>\n",
              "    </tr>\n",
              "    <tr>\n",
              "      <th>830996</th>\n",
              "      <td>ocean of cricket details rise of sport across ...</td>\n",
              "    </tr>\n",
              "    <tr>\n",
              "      <th>252602</th>\n",
              "      <td>oxfam shop auctions break in weapon</td>\n",
              "    </tr>\n",
              "    <tr>\n",
              "      <th>954866</th>\n",
              "      <td>suspected rohingya boats evade malaysian rescu...</td>\n",
              "    </tr>\n",
              "    <tr>\n",
              "      <th>1086104</th>\n",
              "      <td>tfga on private poles</td>\n",
              "    </tr>\n",
              "    <tr>\n",
              "      <th>837174</th>\n",
              "      <td>adm sweetens the deal</td>\n",
              "    </tr>\n",
              "    <tr>\n",
              "      <th>625606</th>\n",
              "      <td>brodies law sees rise in bullying complaints</td>\n",
              "    </tr>\n",
              "    <tr>\n",
              "      <th>267413</th>\n",
              "      <td>us democrats push for iraq troop withdrawal</td>\n",
              "    </tr>\n",
              "    <tr>\n",
              "      <th>422867</th>\n",
              "      <td>1 million evacuated as hurricane batters cuba</td>\n",
              "    </tr>\n",
              "    <tr>\n",
              "      <th>390174</th>\n",
              "      <td>lawyers march to islamabad protesting judge</td>\n",
              "    </tr>\n",
              "    <tr>\n",
              "      <th>765307</th>\n",
              "      <td>heart beat down neills sydney fc debut</td>\n",
              "    </tr>\n",
              "    <tr>\n",
              "      <th>227638</th>\n",
              "      <td>new palestinian government sworn in</td>\n",
              "    </tr>\n",
              "    <tr>\n",
              "      <th>126147</th>\n",
              "      <td>department says standards tests limited but fine</td>\n",
              "    </tr>\n",
              "    <tr>\n",
              "      <th>767352</th>\n",
              "      <td>burmese refugees revitalise melbourne kitchen</td>\n",
              "    </tr>\n",
              "    <tr>\n",
              "      <th>126766</th>\n",
              "      <td>us resumes assault on fallujah</td>\n",
              "    </tr>\n",
              "    <tr>\n",
              "      <th>326613</th>\n",
              "      <td>classes as usual after berkeley school fire</td>\n",
              "    </tr>\n",
              "    <tr>\n",
              "      <th>222396</th>\n",
              "      <td>ballarat hoping games turn into tourism gold</td>\n",
              "    </tr>\n",
              "    <tr>\n",
              "      <th>219455</th>\n",
              "      <td>elliott to coach panthers</td>\n",
              "    </tr>\n",
              "    <tr>\n",
              "      <th>1012250</th>\n",
              "      <td>knight were not sleeping enough and its litera...</td>\n",
              "    </tr>\n",
              "  </tbody>\n",
              "</table>\n",
              "</div>"
            ],
            "text/plain": [
              "                                             headline_text\n",
              "924273              shark drum lines set off warnbro day 3\n",
              "808096                            nrl wrap sunday august 4\n",
              "56451               police seek three missing in melbourne\n",
              "714173             perfect weather for fraser is burn offs\n",
              "795246                 miners still optimisitc for oakajee\n",
              "697070   researchers develop new dengue virus identific...\n",
              "97100    commitment shown to lake eyre basin sustainabi...\n",
              "830996   ocean of cricket details rise of sport across ...\n",
              "252602                 oxfam shop auctions break in weapon\n",
              "954866   suspected rohingya boats evade malaysian rescu...\n",
              "1086104                              tfga on private poles\n",
              "837174                               adm sweetens the deal\n",
              "625606        brodies law sees rise in bullying complaints\n",
              "267413         us democrats push for iraq troop withdrawal\n",
              "422867       1 million evacuated as hurricane batters cuba\n",
              "390174         lawyers march to islamabad protesting judge\n",
              "765307              heart beat down neills sydney fc debut\n",
              "227638                 new palestinian government sworn in\n",
              "126147    department says standards tests limited but fine\n",
              "767352       burmese refugees revitalise melbourne kitchen\n",
              "126766                      us resumes assault on fallujah\n",
              "326613         classes as usual after berkeley school fire\n",
              "222396        ballarat hoping games turn into tourism gold\n",
              "219455                           elliott to coach panthers\n",
              "1012250  knight were not sleeping enough and its litera..."
            ]
          },
          "metadata": {
            "tags": []
          },
          "execution_count": 10
        }
      ]
    },
    {
      "cell_type": "code",
      "metadata": {
        "id": "7k_x2WD3-iZ6"
      },
      "source": [
        "def preprocesar(texto):\n",
        "  #convierte a minúsculas\n",
        "  texto = texto.lower()\n",
        "\n",
        "  #elimina stopwords\n",
        "  stop = re.compile(r'\\b(' + r'|'.join(stopwords.words('english')) + r')\\b\\s*')\n",
        "  texto = stop.sub('', texto) \n",
        "\n",
        "  #lematizar y quedarnos con palabras que tengan más de tres caracteres\n",
        "  lemmatizer = WordNetLemmatizer()\n",
        "  texto = texto.split()\n",
        "  texto = ' '.join([lemmatizer.lemmatize(i) for i in texto if len(i)>3])\n",
        "  \n",
        "  return(texto)"
      ],
      "execution_count": null,
      "outputs": []
    },
    {
      "cell_type": "code",
      "metadata": {
        "colab": {
          "base_uri": "https://localhost:8080/"
        },
        "id": "KkCgpoY7S4g2",
        "outputId": "8149742b-b43a-4875-e064-84f22cc3bf5a"
      },
      "source": [
        "%%time\n",
        "df['headline_pp']=df['headline_text'].apply(preprocesar)\n",
        "df.head()"
      ],
      "execution_count": null,
      "outputs": [
        {
          "output_type": "stream",
          "text": [
            "CPU times: user 3min 11s, sys: 15.2 s, total: 3min 26s\n",
            "Wall time: 3min 26s\n"
          ],
          "name": "stdout"
        }
      ]
    },
    {
      "cell_type": "code",
      "metadata": {
        "colab": {
          "base_uri": "https://localhost:8080/"
        },
        "id": "8xsWZiBKYUA2",
        "outputId": "bcd6a7e1-a446-4d4c-9c8b-986f0b3ced21"
      },
      "source": [
        "#vectorizer = TfidfVectorizer()           # 92403 tamaño de vocabulario\n",
        "vectorizer = TfidfVectorizer(min_df=3)    #42695\n",
        "vectorizer = TfidfVectorizer(min_df=20, ngram_range=(1,2))\n",
        "BOW = vectorizer.fit_transform(df['headline_pp'])\n",
        "BOW.shape"
      ],
      "execution_count": null,
      "outputs": [
        {
          "output_type": "execute_result",
          "data": {
            "text/plain": [
              "(1226258, 36660)"
            ]
          },
          "metadata": {
            "tags": []
          },
          "execution_count": 37
        }
      ]
    },
    {
      "cell_type": "code",
      "metadata": {
        "id": "t8nGEao-afRB"
      },
      "source": [
        "from sklearn.decomposition import LatentDirichletAllocation\n",
        "lda_model=LatentDirichletAllocation(n_components=20,learning_method='online',random_state=42,max_iter=10) "
      ],
      "execution_count": null,
      "outputs": []
    },
    {
      "cell_type": "code",
      "metadata": {
        "colab": {
          "base_uri": "https://localhost:8080/"
        },
        "id": "vUKtulg8alik",
        "outputId": "24c22cd0-4b4c-4df0-c5f1-465c63b095f0"
      },
      "source": [
        "%%time\n",
        "lda_top=lda_model.fit_transform(BOW)"
      ],
      "execution_count": null,
      "outputs": [
        {
          "output_type": "stream",
          "text": [
            "CPU times: user 1h 12min 34s, sys: 23.2 s, total: 1h 12min 57s\n",
            "Wall time: 1h 12min 48s\n"
          ],
          "name": "stdout"
        }
      ]
    },
    {
      "cell_type": "code",
      "metadata": {
        "id": "_e5KMi56aues"
      },
      "source": [
        "import pickle\n",
        "with open('/content/drive/MyDrive/Modelos/modelosLDA/LDA_sklearn/LDA20_10iter.pikle', 'wb') as f:\n",
        "  pickle.dump(lda_top, f)"
      ],
      "execution_count": null,
      "outputs": []
    },
    {
      "cell_type": "code",
      "metadata": {
        "id": "788JuhkXQcIQ"
      },
      "source": [
        "import pickle\n",
        "with open('/content/drive/MyDrive/Modelos/modelosLDA/LDA_sklearn/vectorizer.pikle', 'wb') as f:\n",
        "  pickle.dump(lda_top, f)"
      ],
      "execution_count": null,
      "outputs": []
    },
    {
      "cell_type": "code",
      "metadata": {
        "id": "qajrPA-3Pv4a"
      },
      "source": [
        "import pickle\n",
        "with open('/content/drive/MyDrive/Modelos/modelosLDA/LDA_sklearn/BOW.pikle', 'wb') as f:\n",
        "  pickle.dump(BOW, f)"
      ],
      "execution_count": null,
      "outputs": []
    },
    {
      "cell_type": "code",
      "metadata": {
        "colab": {
          "base_uri": "https://localhost:8080/"
        },
        "id": "bO7oD5X2JNHC",
        "outputId": "a538c147-575b-4031-ab80-714c1db72028"
      },
      "source": [
        "%%time\n",
        "lda_model.perplexity(BOW, sub_sampling = False)"
      ],
      "execution_count": null,
      "outputs": [
        {
          "output_type": "stream",
          "text": [
            "CPU times: user 1min 48s, sys: 887 ms, total: 1min 49s\n",
            "Wall time: 1min 48s\n"
          ],
          "name": "stdout"
        },
        {
          "output_type": "execute_result",
          "data": {
            "text/plain": [
              "83968.11437980646"
            ]
          },
          "metadata": {
            "tags": []
          },
          "execution_count": 43
        }
      ]
    },
    {
      "cell_type": "code",
      "metadata": {
        "colab": {
          "base_uri": "https://localhost:8080/",
          "height": 861
        },
        "id": "x2Qz50MBOKij",
        "outputId": "b2bbebed-333e-49d2-c7b6-1ee34fd8c42c"
      },
      "source": [
        "import pyLDAvis.sklearn\n",
        "pyLDAvis.enable_notebook()\n",
        "\n",
        "pyLDAvis.sklearn.prepare(lda_model, BOW, vectorizer)"
      ],
      "execution_count": null,
      "outputs": [
        {
          "output_type": "execute_result",
          "data": {
            "text/html": [
              "\n",
              "<link rel=\"stylesheet\" type=\"text/css\" href=\"https://cdn.jsdelivr.net/gh/bmabey/pyLDAvis@3.3.1/pyLDAvis/js/ldavis.v1.0.0.css\">\n",
              "\n",
              "\n",
              "<div id=\"ldavis_el3581399606322265129281664484\"></div>\n",
              "<script type=\"text/javascript\">\n",
              "\n",
              "var ldavis_el3581399606322265129281664484_data = {\"mdsDat\": {\"x\": [-0.18156741939639703, 0.09653028060551594, 0.11355039364532996, -0.06650754098014117, 0.11855111123956959, 0.11103119507595142, -0.1070388861743427, 0.1589117533891145, 0.11401072921429393, -0.17460278612049862, 0.032126182559819305, -0.11964103720210623, -0.13320097432471148, -0.016130683623221714, 0.06586547992320273, -0.1258713906520418, 0.02146440840559003, 0.15782811879912986, -0.07302363271317738, 0.007714698329121143], \"y\": [-0.05276408836017588, 0.07639833631884595, -0.0554574466358037, -0.09401979716556635, 0.1680878410025627, 0.13099023097406381, -0.16807795630883104, -0.15494037135493663, 0.08286988750470468, 0.10424981021834269, 0.07953059460774328, 0.14869786455630438, 0.007058312343350023, -0.005134413702981932, -0.1501692187153478, 0.010796333352602402, -0.045856361827410756, 0.012735804515789546, 0.1108134256339007, -0.20580878695715657], \"topics\": [1, 2, 3, 4, 5, 6, 7, 8, 9, 10, 11, 12, 13, 14, 15, 16, 17, 18, 19, 20], \"cluster\": [1, 1, 1, 1, 1, 1, 1, 1, 1, 1, 1, 1, 1, 1, 1, 1, 1, 1, 1, 1], \"Freq\": [5.621198903086079, 5.404072661496646, 5.17300483096222, 5.132125000855494, 5.050068477559614, 5.0499102681499775, 5.038129204808715, 5.028128745479244, 5.017373902376941, 4.961354770232601, 4.947165403782802, 4.946355277633939, 4.933430590936665, 4.924098111102314, 4.9108543886417975, 4.904815325323601, 4.803747495718555, 4.741923560370171, 4.725842381054926, 4.686400700427701]}, \"tinfo\": {\"Term\": [\"australia\", \"coronavirus\", \"australian\", \"woman\", \"interview\", \"government\", \"trump\", \"queensland\", \"year\", \"election\", \"court\", \"world\", \"say\", \"market\", \"report\", \"rural\", \"charged\", \"sydney\", \"home\", \"school\", \"news\", \"attack\", \"open\", \"south\", \"national\", \"case\", \"coast\", \"canberra\", \"crash\", \"family\", \"news\", \"face\", \"charge\", \"minister\", \"accused\", \"guilty\", \"assault\", \"league\", \"abuse\", \"premier\", \"teen\", \"alleged\", \"pacific\", \"mental\", \"pleads\", \"mental health\", \"drop\", \"bail\", \"nation\", \"france\", \"loses\", \"pleads guilty\", \"russian\", \"front\", \"alan\", \"miner\", \"veteran\", \"survey\", \"allegedly\", \"cash\", \"court\", \"child\", \"murder\", \"health\", \"trial\", \"action\", \"drug\", \"cancer\", \"former\", \"police\", \"interview\", \"south\", \"life\", \"talk\", \"centre\", \"resident\", \"jailed\", \"medium\", \"campaign\", \"hobart\", \"michael\", \"christmas\", \"start\", \"hit\", \"korea\", \"dollar\", \"continues\", \"launch\", \"race\", \"japan\", \"2015\", \"visit\", \"lawyer\", \"tell\", \"behind\", \"university\", \"extended interview\", \"north korea\", \"better\", \"blast\", \"north\", \"search\", \"high\", \"food\", \"back\", \"say\", \"australian\", \"world\", \"country\", \"state\", \"bill\", \"company\", \"rule\", \"chief\", \"mayor\", \"mark\", \"warns\", \"turnbull\", \"abbott\", \"stop\", \"announces\", \"rugby\", \"flight\", \"reject\", \"protester\", \"point\", \"wild\", \"wont\", \"round\", \"2014\", \"united\", \"authority\", \"data\", \"grant\", \"financial\", \"evidence\", \"change\", \"community\", \"beat\", \"claim\", \"say\", \"perth\", \"labor\", \"time\", \"work\", \"speaks\", \"jail\", \"station\", \"india\", \"head\", \"trade\", \"officer\", \"train\", \"girl\", \"safety\", \"wall\", \"turn\", \"truck\", \"offer\", \"sentenced\", \"finance\", \"defence\", \"month\", \"closure\", \"suicide\", \"wallaby\", \"shire\", \"swan\", \"fish\", \"bridge\", \"police officer\", \"driver\", \"brisbane\", \"ahead\", \"say\", \"police\", \"year\", \"canberra\", \"hospital\", \"win\", \"west\", \"hour\", \"concern\", \"group\", \"city\", \"country hour\", \"parliament\", \"andrew\", \"meet\", \"tour\", \"debate\", \"security\", \"wednesday\", \"newcastle\", \"festival\", \"extended\", \"zealand\", \"money\", \"building\", \"legal\", \"national rural\", \"another\", \"bushfires\", \"interest\", \"reform\", \"training\", \"rape\", \"rural\", \"budget\", \"decision\", \"indigenous\", \"protest\", \"victorian\", \"season\", \"sport\", \"program\", \"study\", \"story\", \"shark\", \"look\", \"housing\", \"research\", \"policy\", \"outback\", \"award\", \"tree\", \"property\", \"control\", \"plant\", \"development\", \"education\", \"animal\", \"wine\", \"early\", \"october\", \"slam\", \"carbon\", \"church\", \"alice\", \"response\", \"price\", \"public\", \"government\", \"attack\", \"case\", \"coast\", \"business\", \"gold\", \"deal\", \"tasmanian\", \"drum\", \"close\", \"four\", \"risk\", \"project\", \"gold coast\", \"east\", \"urge\", \"arrest\", \"grandstand\", \"youth\", \"expert\", \"stabbing\", \"syria\", \"fined\", \"tourist\", \"cause\", \"raid\", \"highway\", \"soldier\", \"safe\", \"footage\", \"road\", \"melbourne\", \"police\", \"school\", \"victoria\", \"take\", \"flood\", \"fall\", \"drought\", \"shooting\", \"port\", \"climate\", \"john\", \"regional\", \"hill\", \"need\", \"refugee\", \"spark\", \"target\", \"post\", \"discus\", \"boat\", \"good\", \"social\", \"meeting\", \"climate change\", \"online\", \"lake\", \"senate\", \"foreign\", \"broken\", \"waste\", \"focus\", \"farmer\", \"rain\", \"aussie\", \"million\", \"adelaide\", \"tasmania\", \"donald\", \"make\", \"federal\", \"darwin\", \"local\", \"street\", \"violence\", \"land\", \"friday\", \"emergency\", \"crime\", \"dairy\", \"thousand\", \"denies\", \"domestic\", \"rally\", \"clash\", \"injury\", \"best\", \"spring\", \"step\", \"full\", \"paul\", \"domestic violence\", \"hearing\", \"origin\", \"order\", \"pilot\", \"victim\", \"sale\", \"team\", \"council\", \"law\", \"anti\", \"market\", \"charged\", \"donald trump\", \"share\", \"week\", \"star\", \"hunter\", \"strike\", \"aboriginal\", \"defends\", \"seek\", \"investigation\", \"thursday\", \"march\", \"international\", \"asylum\", \"blue\", \"staff\", \"political\", \"patient\", \"seeker\", \"august\", \"territory\", \"asylum seeker\", \"dog\", \"comment\", \"toll\", \"collapse\", \"valley\", \"share market\", \"rise\", \"sydney\", \"death\", \"former\", \"fire\", \"election\", \"fight\", \"live\", \"game\", \"party\", \"cattle\", \"break\", \"challenge\", \"export\", \"airport\", \"2016\", \"despite\", \"rescue\", \"result\", \"hotel\", \"released\", \"damage\", \"promise\", \"marriage\", \"profit\", \"george\", \"accident\", \"third\", \"scott morrison\", \"wrap\", \"miss\", \"coalition\", \"2020\", \"teenager\", \"making\", \"first\", \"near\", \"record\", \"sydney\", \"coronavirus\", \"killed\", \"push\", \"president\", \"body\", \"doctor\", \"baby\", \"care\", \"border\", \"force\", \"threat\", \"question\", \"five\", \"mother\", \"issue\", \"aged\", \"leaf\", \"father\", \"july\", \"june\", \"facing\", \"killer\", \"major\", \"harvest\", \"expected\", \"across\", \"day\", \"latest\", \"indian\", \"kimberley\", \"found\", \"chinese\", \"house\", \"fire\", \"family\", \"show\", \"green\", \"find\", \"support\", \"vote\", \"young\", \"river\", \"town\", \"video\", \"murray\", \"cricket\", \"inquest\", \"release\", \"tiger\", \"white\", \"rail\", \"pakistan\", \"james\", \"system\", \"scheme\", \"mount\", \"name\", \"horse\", \"pressure\", \"bush\", \"testing\", \"judge\", \"space\", \"alcohol\", \"light\", \"call\", \"national\", \"covid\", \"dy\", \"could\", \"funding\", \"mine\", \"three\", \"review\", \"mining\", \"scott\", \"beach\", \"begin\", \"monday\", \"player\", \"england\", \"coach\", \"kid\", \"victory\", \"stand\", \"sexual\", \"leave\", \"bos\", \"king\", \"match\", \"september\", \"double\", \"investigate\", \"global\", \"named\", \"billion\", \"lead\", \"park\", \"queensland\", \"home\", \"return\", \"student\", \"rate\", \"northern\", \"cyclone\", \"restriction\", \"coal\", \"morrison\", \"number\", \"join\", \"delay\", \"fiji\", \"history\", \"central\", \"teacher\", \"long\", \"economy\", \"title\", \"candidate\", \"daniel\", \"remote\", \"nurse\", \"fine\", \"pandemic\", \"townsville\", \"recovery\", \"sell\", \"away\", \"worker\", \"bank\", \"water\", \"storm\", \"report\", \"missing\", \"service\", \"power\", \"fear\", \"still\", \"cut\", \"get\", \"cost\", \"free\", \"sign\", \"black\", \"hold\", \"prison\", \"right\", \"peter\", \"western\", \"demand\", \"russia\", \"great\", \"problem\", \"crop\", \"hunt\", \"reveals\", \"go\", \"human\", \"stolen\", \"southern\", \"like\", \"lockdown\", \"test\", \"dead\", \"people\", \"future\", \"arrested\", \"hope\", \"smith\", \"rural news\", \"increase\", \"parent\", \"come\", \"ready\", \"film\", \"ship\", \"economic\", \"lose\", \"capital\", \"kangaroo\", \"lost\", \"indonesian\", \"islamic\", \"chris\", \"drone\", \"2018\", \"winner\", \"philippine\", \"board\", \"football\", \"seat\", \"small\", \"year\", \"shot\", \"loss\", \"owner\", \"australia\", \"farm\", \"bushfire\", \"want\", \"leader\", \"royal\", \"warning\", \"liberal\", \"commission\", \"battle\", \"crisis\", \"told\", \"tourism\", \"indonesia\", \"update\", \"site\", \"royal commission\", \"track\", \"stay\", \"travel\", \"wind\", \"politics\", \"french\", \"april\", \"firefighter\", \"kohler\", \"investment\", \"role\", \"transport\", \"december\", \"move\", \"inquiry\", \"blaze\", \"say\", \"woman\", \"trump\", \"final\", \"appeal\", \"club\", \"opposition\", \"give\", \"keep\", \"tuesday\", \"play\", \"save\", \"grower\", \"grand\", \"impact\", \"last\", \"killing\", \"next\", \"line\", \"tony\", \"grain\", \"ash\", \"hand\", \"growth\", \"driving\", \"female\", \"photo\", \"illegal\", \"fishing\", \"grand final\", \"mackay\", \"help\", \"china\", \"sentence\", \"open\", \"weather\", \"island\", \"industry\", \"job\", \"second\", \"fatal\", \"david\", \"kill\", \"amid\", \"plane\", \"energy\", \"super\", \"military\", \"november\", \"iran\", \"link\", \"reach\", \"escape\", \"couple\", \"rescued\", \"contract\", \"caught\", \"region\", \"supply\", \"quarter\", \"sugar\", \"cairn\", \"surgery\", \"scandal\", \"union\", \"crash\", \"probe\", \"boost\", \"plan\", \"injured\", \"police\"], \"Freq\": [7515.0, 6641.0, 5839.0, 4868.0, 4743.0, 4261.0, 3997.0, 3875.0, 4506.0, 3617.0, 4172.0, 3566.0, 5964.0, 3460.0, 3232.0, 3664.0, 3147.0, 4317.0, 3092.0, 3079.0, 3149.0, 3009.0, 2930.0, 3054.0, 2863.0, 2881.0, 2880.0, 2802.0, 3614.0, 2745.0, 3148.2705556333035, 2586.0584279813334, 2282.9722149198215, 2244.518504747209, 2177.1584465205447, 1715.0992882005107, 1615.9919077543589, 1510.3736670487417, 1468.8423660089154, 1435.1514109426896, 1424.639899434549, 1419.6715030433463, 1261.6930568650537, 1081.5362647263355, 918.9762142027425, 918.5867289512652, 880.3752440831215, 822.5014490295671, 783.2917151113112, 769.7261139358225, 769.5056997999465, 750.7296136605524, 745.8279944566068, 744.3497122990915, 709.7547678607989, 661.0640769716395, 634.5144997252352, 630.5886115858498, 591.3092136296655, 588.887846512469, 3770.7527042685224, 2830.751620350048, 2302.52248495746, 2173.9652072623767, 1712.9187735870892, 1126.5205871580047, 1547.8961631701557, 846.9685737840103, 802.6983667620334, 830.260675894355, 4742.112240017751, 3053.2685805056108, 2219.5676512848536, 1936.6230288299894, 1752.8585269030632, 1663.7757047440887, 1533.129450829918, 1453.5947703251861, 1389.4362574640033, 1293.289581251813, 1268.2744621535762, 1263.1797985752075, 1250.6629848930813, 1220.4448520895714, 1158.193155537931, 1136.028641761246, 1123.0308088895056, 1121.5001838855446, 1076.368657905316, 1070.4910842724375, 1044.6883941939996, 915.9577451998116, 877.7331989029427, 847.8635628925075, 839.832677264685, 818.8400812430094, 808.3066715278702, 756.4854277622161, 755.3988446521641, 724.507640583248, 2177.034311103395, 1432.6112926653666, 1496.6321099220593, 1116.8707115878578, 1196.64962899644, 911.8811803818568, 5838.926527469845, 3565.7941474753034, 2707.2246472377556, 2511.355018744125, 1529.956112464091, 1293.8599169279128, 1273.5928265091927, 1232.4238337392906, 1213.8343893701, 1210.788176305949, 1156.6669762395602, 1154.3989586499106, 1112.1853630276883, 1064.0579157346733, 1045.9582710245913, 996.9771903575562, 973.1676296670029, 959.8292494018084, 940.9807576324121, 935.0428189354913, 896.048348303013, 838.41475311869, 802.9562649515004, 793.1837493758487, 792.2392077875131, 771.335122312702, 749.5450851054181, 703.4412934276024, 685.4074521617767, 662.2579246371994, 2624.3160109533037, 1697.9130040911098, 1272.0114765293445, 1559.0150457766854, 1080.3682397735427, 2388.593576379406, 2170.2807009520798, 2153.121261984443, 1911.0735419760974, 1681.1009882589778, 1526.7456799571555, 1469.0970529581598, 1415.5150256378736, 1407.1910926600426, 1331.544245144736, 1322.3299403875642, 1315.1489733360943, 1225.647353190515, 1203.7170497102968, 1152.4314069505017, 1069.5241098218416, 1051.3821311633776, 1041.97997309646, 1038.4555290837566, 971.6659836131201, 971.1052796486641, 889.5807519433065, 858.345070258035, 811.8398320078225, 764.6919825028906, 744.5649140149628, 719.454597368447, 717.0420889388519, 710.8901248819676, 697.4311222577627, 1684.5493189652404, 1880.9715298535511, 1201.6558530399127, 3077.8947990790875, 1906.0320383717824, 1014.2393843596437, 2801.7016120388816, 2586.9076464753666, 2126.4612903942216, 2043.8418086582026, 1924.9901306503934, 1842.3044039733165, 1676.5894531025192, 1528.7826384341315, 1463.1650511071455, 1310.1395883698485, 1251.2378951592082, 1245.575092134251, 1218.0824380408749, 1151.4677661724593, 1122.1061615407793, 1098.9709680409144, 1091.3584954045702, 1091.2964423615442, 1065.2893794270674, 1002.1636670682029, 977.8536201478944, 961.4913387684171, 948.8854532812447, 909.2615054154719, 842.230377672434, 820.3953395977948, 797.5566853568422, 789.4458694090685, 772.0073702031038, 762.6466845189916, 3202.0481025743456, 1674.2093212917994, 999.2990220358743, 2115.031843476843, 1834.6124614043247, 1668.415896658736, 1648.9104863565917, 1605.7363877106532, 1342.2289721295895, 1269.065237029571, 1268.366883366518, 1257.7084384426882, 1213.2455128412996, 1213.2163492495815, 1119.4630912679556, 1084.37455726101, 1081.0414383838802, 1040.581209125193, 952.8669762411213, 926.4747022981624, 865.0880383881772, 861.2656918071934, 849.5822193020496, 844.6873629288974, 833.6482693916324, 794.9440762578874, 782.3924382402137, 767.1286290529147, 764.9774541989432, 756.4182399535563, 728.9202195266815, 711.8844499528485, 696.6416267210182, 1850.881964843779, 1418.7822768366102, 4260.69075019219, 3008.210782128043, 2880.1282860697183, 2879.634149002616, 2662.7053362657634, 2129.2980172448642, 1990.3107909688654, 1902.0734385308472, 1790.6249516246621, 1531.6885593426186, 1458.4808585747815, 1394.8359831282926, 1310.7561289340167, 1288.9399040689746, 1222.938713192364, 1162.4456060786886, 1148.9970277469856, 1144.0855138661293, 1058.3665755780032, 1012.9007070618089, 986.4570126068509, 883.7166145716728, 847.0237824641738, 838.2123295020946, 833.6359104643429, 797.6826770297804, 781.195705564823, 766.21269838744, 721.221944408583, 700.4945281346456, 1844.6198160878018, 2442.0748154819357, 1134.1691255848618, 3078.930400792467, 2748.0321024998434, 2705.360853928095, 1827.2855321402378, 1662.3906838238104, 1658.8103806424854, 1607.6708508868116, 1571.7739884313842, 1529.5041541900991, 1494.9210335210507, 1494.0466378358035, 1395.5439301622189, 1372.337764188796, 1074.316947018002, 1024.0447729857503, 1021.383040116373, 998.6308833124925, 996.20081317301, 975.9351408830872, 973.9675779049453, 938.90262502516, 918.074080047229, 902.7694062227005, 897.1603605327629, 893.4440120569583, 875.344253806237, 857.4089288067139, 756.6001150000696, 742.6452313278611, 677.2970637773474, 2561.7610778379635, 1189.7562227480375, 1091.715929929555, 1155.3262248488877, 2710.03689918151, 2466.2951139268253, 2179.3132930325464, 2025.7773982666843, 1834.746554840898, 1660.9392377928768, 1475.6603799784377, 1463.1724411808875, 1421.116235668599, 1376.2833143270916, 1228.1159915524527, 1161.8798806585553, 1119.4789785953149, 1102.1746070113288, 974.585306349342, 948.8532466495332, 926.0926303463514, 915.0660976365241, 896.4267270630546, 867.9620493733365, 863.4454120351169, 818.219857226211, 796.7528449748194, 747.9857931301615, 742.8802003919976, 738.7568090851734, 677.0571225859259, 669.3698286305226, 668.089136867553, 656.757810529259, 1461.8592642761537, 1198.0407129187233, 960.7899301853591, 1712.0894991850896, 977.3444541792344, 810.3445834729897, 3459.6595591405107, 3146.866532891205, 2148.3396943208622, 1726.6376084333965, 1478.7975811127276, 1386.7761500201348, 1336.151740318346, 1322.5000622688601, 1226.8401388580164, 1208.9674723239577, 1202.1480758170303, 1189.7138177084116, 1104.4391201630474, 1076.1786778570563, 1062.1603294488343, 1053.8349503876223, 1050.456942075276, 952.0871240980628, 947.7699888651792, 912.4964395256756, 857.2445880018195, 851.9475566696924, 840.9912988688727, 817.0398421392629, 763.6550142928307, 738.6476323077075, 725.9141269253947, 721.323132926652, 706.7603340207144, 656.6958169485267, 1898.9728853778633, 2996.8515886904797, 1996.2402608347838, 1277.425744988842, 1753.6730356275887, 3616.2891296219545, 1900.830256002261, 1888.8749018038905, 1626.6464443944778, 1445.3374301174522, 1319.4205294606886, 1206.3821452886484, 1131.8007538941129, 1022.8544547633369, 1001.6409754280714, 992.1925924511158, 983.6499147197102, 947.017868985832, 931.1460627041955, 900.1902535473156, 885.1596042480676, 853.2075368929894, 801.2175422922165, 785.8598107765043, 777.5483876188732, 772.980257848014, 772.3721515693583, 763.5304298887608, 763.1305042807187, 754.7538959725738, 713.2027073947282, 712.7492744933292, 709.9163756858761, 688.7113348747736, 673.0113919871526, 2223.3558837525934, 1055.1727643758545, 1413.9317229891742, 790.1842137871129, 6640.636231767475, 1940.7260521776009, 1558.701245581859, 1394.2587959174657, 1381.996393284313, 1352.707531445385, 1319.7973739866084, 1269.3836454439743, 1248.240722941307, 1246.3456305055522, 1237.153048053193, 1208.0591483247615, 1105.9112941273124, 1075.9201600050724, 998.4051281214015, 934.7560228915817, 834.5994825079372, 808.8273927992421, 798.8735468858497, 786.0476096595016, 749.0834660609823, 739.2238657031252, 729.7921479300688, 715.3244062316182, 713.2948445545555, 702.8576974477785, 690.4830135702066, 658.368108255966, 657.9133202948386, 630.4540871794733, 2084.9405784449573, 1174.437028076945, 1480.814015964707, 694.0912949077681, 2744.5972616751437, 2458.1131955906594, 1945.6044673000442, 1814.156047623951, 1769.3214577082338, 1507.81408521199, 1475.805707807951, 1400.6333978788466, 1330.62071193075, 1166.3565945776986, 1125.624653990033, 1125.3605042760953, 1074.7903979287796, 1072.7853789054877, 1053.189277561594, 1047.940978083799, 1045.4813558863543, 959.7588258879164, 939.5345533586565, 937.6310699671834, 915.0855526527715, 892.7027441102407, 869.8451731992328, 829.304842459661, 828.0204731572985, 781.4636065372914, 705.8918375925168, 639.5709728062257, 635.5714964746342, 631.9673027942233, 958.1174828118649, 1888.356591474841, 2863.0441246856835, 2590.729789637779, 2498.327749015205, 2340.35515557955, 1927.8581471087332, 1805.962658357344, 1647.72394465083, 1632.062165067387, 1407.6989564209634, 1348.832617664336, 1238.4788113829734, 1165.2078653628357, 1125.3505080557247, 1084.912092336886, 1024.992264313638, 951.0345224505538, 933.9437688372828, 924.1204842388626, 894.9319764116829, 870.3312174038964, 855.4709327948414, 840.4907062836483, 810.9669628132516, 797.5412850664064, 795.1293955438524, 776.271083917841, 774.7685515843244, 769.9221173754995, 753.594208794125, 738.7288554458114, 1358.0647344068827, 934.4865789056199, 3874.280492279513, 3091.4595601590113, 1950.3648185805512, 1923.4847824343628, 1791.1314368146154, 1243.7210702765558, 1164.354714856039, 1158.8484396196022, 1148.751148249607, 1098.4198417344587, 1096.0295665944814, 1072.4510481363461, 1058.5646271348194, 1035.2427908607679, 1027.2253418015728, 1012.9485404990877, 967.4597621579783, 964.0661299008564, 843.5274487864424, 842.8938394340299, 829.963040843075, 739.7962866145891, 701.608783512537, 691.3771100210203, 689.628111894929, 671.766714653656, 670.7970654669873, 647.5166821307189, 646.9208127128527, 628.1663623405394, 1647.7356245760775, 1184.5158474847985, 1724.4165367559142, 1122.6132559073856, 3231.1029983991452, 2187.9647774813866, 2146.3601108687867, 2103.839844120218, 2007.9084962275656, 1649.0016008611672, 1484.9210001305444, 1426.792561026474, 1352.4223777651143, 1328.99409193607, 1296.4606230654401, 1283.260338083574, 1278.6227403167654, 1252.2550021815916, 1247.186457558267, 1241.5930123391513, 1227.297571045523, 1154.470589760107, 1038.2064428133622, 986.309513320135, 928.1585894395998, 895.7649516189053, 887.0125966073842, 858.1802872839014, 808.6492913060324, 806.2607587929451, 786.0096929349127, 781.4915090296219, 779.6005324284959, 779.524709608936, 2276.509372077647, 2051.801409914757, 2011.7663872669375, 1647.1207843915138, 1563.9743532482285, 1545.728898145882, 978.3792564768235, 975.8989096342628, 917.8446084332846, 911.0582793003955, 841.8404966941732, 838.0352975577146, 761.435692024362, 761.3474663062267, 747.422308347711, 734.6948855290644, 711.9587528943409, 704.2349683318271, 694.970039932322, 691.4121356044976, 658.447327379433, 645.3408442371083, 642.92466509524, 642.049303697276, 637.6814339357577, 633.7218530375019, 630.6060723534097, 627.3198489994405, 609.9978395302319, 597.6249219514976, 3491.002972645079, 894.9001454559831, 901.4245556590664, 632.2038077661517, 7514.655158787707, 1825.416792726771, 1795.2691278615764, 1719.5900571593745, 1672.2846968067668, 1666.9734346517305, 1641.6942597072182, 1459.8793575163631, 1429.7956586497253, 1185.0821622405374, 1176.4126581584221, 1139.9667437581068, 1132.1364312537241, 1131.7318791344403, 1084.7635718595984, 1020.6758318794676, 985.4961102139075, 937.9754877759049, 911.6985313915474, 849.4431302949673, 831.9826139772654, 811.27490833875, 791.1406683693812, 779.4923432468139, 741.6033156342867, 703.8206067645591, 678.0266815869536, 626.5106820262804, 620.7624245015871, 608.4737453350283, 1211.6392469173538, 1266.0566052587133, 662.8518967283509, 893.23659762613, 4867.535476522314, 3996.639646821451, 2394.2627281053037, 1416.8481873930075, 1214.7211544425236, 1202.8246247639179, 1175.8933001173782, 1169.5823551927986, 1137.9635355446674, 1132.1341270285454, 946.8592655818167, 908.1803182276208, 892.9581724556446, 886.7158991497644, 881.4280154774299, 858.6966551073476, 855.6620635151007, 854.8583222645552, 794.5871541532427, 784.4443094802939, 768.9846614056314, 741.0397417361429, 700.8345204048288, 676.0084638440273, 644.2968971592763, 634.8817360094057, 619.9904576904668, 609.6424794771915, 605.6605536084795, 571.9952296237971, 1574.627643313959, 1846.7696658928476, 690.6115201677383, 2929.7852972134183, 2190.1394831612906, 2170.1716374115294, 2000.930904967072, 1687.3625005240501, 1640.4501207842477, 1410.4103858096319, 1406.239656466688, 1364.037054253001, 1293.7390868933255, 1186.8001621902347, 1163.5970309792856, 1141.432660881516, 843.6916483366861, 826.4056780329852, 795.3780159743977, 791.8138395942079, 791.4005123088839, 784.4814451542293, 759.6631850091954, 723.3124503905626, 704.0055452885262, 689.1466364702578, 675.8609441080278, 665.3160704824152, 654.3390044200543, 625.981593110063, 606.7750177117131, 584.4277384200057, 580.88135627175, 1370.106585057611, 2625.4462754263864, 1153.255196975652, 1260.2867363389905, 1859.1897687402898, 827.4363988026728, 871.3345026478664], \"Total\": [7515.0, 6641.0, 5839.0, 4868.0, 4743.0, 4261.0, 3997.0, 3875.0, 4506.0, 3617.0, 4172.0, 3566.0, 5964.0, 3460.0, 3232.0, 3664.0, 3147.0, 4317.0, 3092.0, 3079.0, 3149.0, 3009.0, 2930.0, 3054.0, 2863.0, 2881.0, 2880.0, 2802.0, 3614.0, 2745.0, 3149.181105133218, 2586.9689774691556, 2283.8827643981763, 2245.4290542384706, 2178.0689960002283, 1716.0098376733517, 1616.9024572351764, 1511.284216537038, 1469.752915488375, 1436.0619604290719, 1425.5504489156688, 1420.582052524133, 1262.603606351402, 1082.4468142002615, 919.8867636758362, 919.4972784229111, 881.2857935673494, 823.4119985033095, 784.2022645963021, 770.6366634228915, 770.4162492812576, 751.6401631313443, 746.7385439400518, 745.2602617749209, 710.6653173387027, 661.9746264491974, 635.4250492049364, 631.4991610638396, 592.2197631114475, 589.7983959929858, 4172.22144911757, 3204.176955310042, 3084.7093951647844, 2965.5367000369674, 2275.5258982710425, 1332.5474334461917, 2192.2269681319176, 1064.9904734706931, 2080.986005542442, 7387.554814992644, 4743.023277696426, 3054.1796181989885, 2220.478688973629, 1937.5340665079527, 1753.7695645835618, 1664.686742428711, 1534.0404885101848, 1454.5058080070155, 1390.3472951415326, 1294.2006189316305, 1269.1854998306426, 1264.090836253291, 1251.5740225717993, 1221.355889766737, 1159.1041932042485, 1136.9396794349677, 1123.9418465661518, 1122.4112215631915, 1077.2796955823326, 1071.4021219463057, 1045.5994318846813, 916.8687828742708, 878.6442365829021, 848.7746005703746, 840.743714942994, 819.7511189195111, 809.2177091954101, 757.3964654277736, 756.309882326594, 725.4186782555732, 2592.322505499043, 1658.0678196023764, 1951.529094668733, 1418.5744028231918, 3305.599606508079, 5964.146703754143, 5839.836210733868, 3566.7038307206117, 2708.1343304782968, 2512.2647019928577, 1530.8657957037396, 1294.7696001641118, 1274.502509746002, 1233.3335169769005, 1214.7440726046561, 1211.6978595432076, 1157.5766594749325, 1155.3086418822554, 1113.0950462579233, 1064.9675989697755, 1046.8679542579773, 997.8868735907982, 974.0773129034628, 960.738932631786, 941.8904408676556, 935.9525021701347, 896.9580315366836, 839.324436351627, 803.8659481840608, 794.0934326106861, 793.1488910189504, 772.244805546312, 750.4547683418, 704.3509766612824, 686.3171353962168, 663.1676078765023, 3038.2413456447703, 2083.33179965698, 1505.765586121795, 2226.3011643430573, 5964.146703754143, 2389.502952282541, 2171.190076851876, 2154.030637881236, 1911.9829178708826, 1682.0103641521684, 1527.6550558467256, 1470.0064288499898, 1416.4244015291051, 1408.1004685518988, 1332.453621040703, 1323.2393162754502, 1316.0583492251965, 1226.5567290837603, 1204.6264256002928, 1153.3407828416643, 1070.4334857128854, 1052.2915070500856, 1042.889348985393, 1039.3649049721528, 972.5753595129385, 972.0146555398419, 890.4901278339868, 859.254446150282, 812.7492078985616, 765.6013583913259, 745.4742899037574, 720.3639732564737, 717.951464827707, 711.7995007694536, 698.3404981397262, 1933.2879421579128, 2291.304325073619, 1393.75022939984, 5964.146703754143, 7387.554814992644, 4506.103946795674, 2802.6117819623573, 2587.8178163971234, 2127.3714603138537, 2044.751978580904, 1925.9003005573509, 1843.214573887786, 1677.4996230189772, 1529.6928083485584, 1464.0752210108512, 1311.0497582830437, 1252.1480650797228, 1246.4852620487939, 1218.992607950956, 1152.3779360842868, 1123.0163314538615, 1099.8811379506703, 1092.2686653179578, 1092.2066122776182, 1066.199549339336, 1003.0738369859783, 978.7637900587068, 962.4015086807564, 949.7956231983028, 910.1716753176906, 843.1405475840404, 821.3055095114357, 798.4668552655603, 790.3560393195456, 772.9175401131986, 763.5568544352216, 3664.0903314657767, 2123.2436740943936, 1152.0407527743364, 2115.9420837430193, 1835.5227016729132, 1669.3261369304357, 1649.8207266184527, 1606.6466279669366, 1343.1392123940882, 1269.975477289925, 1269.277123624182, 1258.618678702037, 1214.1557531016251, 1214.126589507474, 1120.3733315253933, 1085.2847975220095, 1081.9516786437327, 1041.4914493832355, 953.7772165008815, 927.3849425569331, 865.9982786461969, 862.1759320652322, 850.4924595587788, 845.597603185805, 834.5585096503469, 795.8543165122453, 783.3026784985859, 768.0388693168435, 765.8876944584591, 757.3284802069301, 729.8304597859772, 712.7946902150953, 697.5518669806737, 2198.354237071114, 1660.8286038184908, 4261.5998465562225, 3009.1198784828684, 2881.0373824348767, 2880.5432453488247, 2663.6144326167687, 2130.207113586799, 1991.2198873205436, 1902.9825348850459, 1791.5340479756692, 1532.5976556916514, 1459.389954924722, 1395.745079476677, 1311.6652252794622, 1289.8490004048833, 1223.8478095359794, 1163.354702423659, 1149.9061240894346, 1144.9946102118524, 1059.2756719265403, 1013.8098034072478, 987.3661089504765, 884.6257109160529, 847.9328788083576, 839.1214258453106, 834.545006809679, 798.5917733702861, 782.1048019052794, 767.1217947292096, 722.1310407511093, 701.403624477948, 2119.553363013278, 3418.208239573004, 7387.554814992644, 3079.839949695098, 2748.9416514113573, 2706.2704028287, 1828.1950810315834, 1663.3002327192196, 1659.719929530227, 1608.5803997841083, 1572.683537328448, 1530.4137030772758, 1495.8305824180547, 1494.9561867291877, 1396.4534790561097, 1373.2473130827098, 1075.2264959130785, 1024.9543218768088, 1022.2925890068128, 999.5404322069296, 997.1103620633015, 976.8446897780103, 974.8771267941488, 939.8121739136164, 918.9836289361689, 903.678955105634, 898.0699094233615, 894.3535609476897, 876.2538026978154, 858.3184776992524, 757.5096638843198, 743.5547802160569, 678.2066126642285, 2801.430083915725, 1484.2817933218653, 1340.1255248654518, 1593.5507978201576, 2710.9468514835403, 2467.2050662248344, 2180.2232453447486, 2026.687350561704, 1835.6565071328753, 1661.8491900861984, 1476.5703322682862, 1464.082393478489, 1422.0261879536192, 1377.1932666153189, 1229.025943847325, 1162.7898329491472, 1120.388930884051, 1103.084559297101, 975.4952586381789, 949.7631989361294, 927.0025826260741, 915.9760499233362, 897.3366793482431, 868.8720016598, 864.3553643228917, 819.129809508775, 797.6627972591159, 748.8957454164811, 743.790152680408, 739.6667613628817, 677.9670748741406, 670.2797809125891, 668.999089153177, 657.667762816947, 1792.3400002732217, 1499.040526843519, 1196.5526855012354, 3308.5401751387662, 1342.9955555614356, 1048.2878756764492, 3460.5684158196627, 3147.775389566603, 2149.248551019748, 1727.5464651026932, 1479.7064377853787, 1387.685006694406, 1337.0605969902267, 1323.408918940203, 1227.7489955333062, 1209.876328995072, 1203.0569324888118, 1190.6226743804523, 1105.3479768293485, 1077.0875345297402, 1063.0691861202745, 1054.743807051817, 1051.365798746803, 952.995980770694, 948.6788455364207, 913.405296200621, 858.1534446643864, 852.8564133388955, 841.9001555448386, 817.9486988015142, 764.5638709624142, 739.5564889799499, 726.8229835912188, 722.2319895976248, 707.6691906897055, 657.6046736108362, 2200.081808063847, 4317.613202887042, 4021.557618510494, 2080.986005542442, 4498.226314897755, 3617.200464336867, 1901.7415907130332, 1889.7862365171377, 1627.5577791042017, 1446.2487648257522, 1320.3318641626784, 1207.2934799929794, 1132.7120885981901, 1023.7657894635137, 1002.5523101329684, 993.1039271600888, 984.5612494285748, 947.9292036901713, 932.0573974059153, 901.1015882588463, 886.0709389536055, 854.1188715976926, 802.1288769941666, 786.7711454792992, 778.4597223203281, 773.8915925615389, 773.2834862717256, 764.4417645950147, 764.0418390024754, 755.6652306742997, 714.1140420961998, 713.6606091951758, 710.8277103977772, 689.6226695812613, 673.9227266928169, 2725.882388296426, 1283.185343034132, 2257.6867402678236, 4317.613202887042, 6641.547806122691, 1941.6376265000652, 1559.6128199046211, 1395.1703702411714, 1382.9079676039298, 1353.619105766547, 1320.7089483088334, 1270.295219760699, 1249.1522972608627, 1247.2572048250233, 1238.064622374136, 1208.9707226455996, 1106.822868449396, 1076.8317343266556, 999.3167024437754, 935.6675972040939, 835.5110568290088, 809.73896711829, 799.7851212109749, 786.9591839836322, 749.995040381979, 740.1354400236861, 730.7037222496965, 716.2359805477741, 714.2064188732105, 703.7692717681209, 691.3945878894059, 659.2796825746417, 658.8248946130806, 631.3656614973364, 2627.8693504343855, 1409.7435025404523, 2286.0298184883723, 4498.226314897755, 2745.505532151107, 2459.0214660657116, 1946.5127377694744, 1815.0643180962002, 1770.2297281804938, 1508.7223556824324, 1476.713978274181, 1401.5416683508906, 1331.5289824023205, 1167.2648650469462, 1126.5329244540956, 1126.2687747457064, 1075.6986683972161, 1073.6936493735288, 1054.097548026681, 1048.8492485516736, 1046.3896263512215, 960.6670963527803, 940.4428238264151, 938.5393404367862, 915.9938231225223, 893.6110145803235, 870.7534436639945, 830.2131129255022, 828.928743622007, 782.3718770024799, 706.8001080606285, 640.4792432723625, 636.4797669392951, 632.8755732593881, 1130.9151048404858, 4339.222919199464, 2863.9550746514956, 2591.6407396275313, 2499.2386989810398, 2341.2661055513377, 1928.769097071533, 1806.8736083203103, 1648.6348946166936, 1632.9731150275052, 1408.6099063796366, 1349.7435676288826, 1239.389761347011, 1166.1188153213552, 1126.2614580119175, 1085.8230422959064, 1025.9032142702997, 951.9454724076251, 934.8547187961644, 925.0314341933782, 895.8429263662571, 871.2421673642543, 856.381882754736, 841.4016562415416, 811.8779127687789, 798.4522350214592, 796.0403455009221, 777.1820338753824, 775.6795015351448, 770.8330673319756, 754.5051587489864, 739.6398054057361, 1611.060257199646, 1608.5662302863404, 3875.191482795807, 3092.3705506667916, 1951.2758090801694, 1924.395772933803, 1792.0424273153817, 1244.6320607735936, 1165.2657053520577, 1159.7594301178956, 1149.6621387453933, 1099.3308322447936, 1096.9405570913498, 1073.3620386344542, 1059.4756176330109, 1036.1537813574323, 1028.1363322986208, 1013.8595309972342, 968.3707526536521, 964.9771203981378, 844.4384392814696, 843.8048299303158, 830.8740313407114, 740.7072771171548, 702.5197740089068, 692.2881005175103, 690.5391023912275, 672.6777051540568, 671.7080559633634, 648.4276726253032, 647.8318032076933, 629.0773528388609, 2173.7429825037098, 1439.658397658824, 2815.4472899972347, 1598.7751210911113, 3232.0110387969244, 2188.8728178793376, 2147.2681512646545, 2104.7478845161286, 2008.8165366212704, 1649.9096412538133, 1485.8290405209452, 1427.700601419842, 1353.3304181550882, 1329.902132326795, 1297.3686634549204, 1284.168378476963, 1279.5307807075499, 1253.1630425732344, 1248.0944979469, 1242.5010527324218, 1228.2056114366517, 1155.378630148652, 1039.1144832044688, 987.2175537154676, 929.0666298279318, 896.6729920063308, 887.9206369933588, 859.088327673472, 809.5573316953514, 807.1687991790673, 786.9177333231538, 782.399549418315, 780.5085728185353, 780.4327499998428, 2277.4190983435396, 2052.711136174894, 2012.6761135326678, 1648.0305106488531, 1564.8840795072358, 1546.6386244053629, 979.288982729343, 976.8086358889271, 918.7543346902611, 911.9680055571688, 842.7502229471785, 838.9450238099142, 762.3454182765448, 762.2571925604122, 748.3320346011859, 735.6046117835662, 712.8684791444703, 705.144694586761, 695.8797661866746, 692.3218618576417, 659.3570536292599, 646.2505704916488, 643.8343913511354, 642.95902995831, 638.5911601902441, 634.6315792902334, 631.5157986063782, 628.2295752530212, 610.9075657833582, 598.5346482026096, 4506.103946795674, 1126.6939357903113, 1147.1881753713471, 876.5713476540132, 7515.563485997995, 1826.3251199078957, 1796.1774550441596, 1720.4983843408745, 1673.1930239886185, 1667.8817618317203, 1642.6025868908246, 1460.7876846994677, 1430.703985827836, 1185.9904894201509, 1177.3209853394742, 1140.8750709365727, 1133.044758433584, 1132.640206315771, 1085.6718990401812, 1021.584159061484, 986.4044373862055, 938.8838149550879, 912.6068585691875, 850.3514574758595, 832.890941154161, 812.183235516914, 792.04899554928, 780.4006704293236, 742.5116428106608, 704.7289339499539, 678.9350087640363, 627.4190092054241, 621.670751678062, 609.382072517957, 1457.884952312238, 1602.2188388859638, 883.5267951526833, 5964.146703754143, 4868.445212853648, 3997.5493831565664, 2395.1724644149613, 1417.7579237013633, 1215.630890753869, 1203.7343610717837, 1176.8030364256883, 1170.4920915016658, 1138.873271848011, 1133.0438633360466, 947.7690018904809, 909.0900545346695, 893.8679087620064, 887.6256354601546, 882.3377517860342, 859.6063914180555, 856.5717998270793, 855.7680585706212, 795.4968904662944, 785.354045784249, 769.8943977108387, 741.9494780438719, 701.7442567116557, 676.9182001547837, 645.206633468149, 635.7914723179211, 620.9001939971263, 610.5522157821639, 606.5702899081808, 572.9049659310805, 2327.434658362192, 3411.969076349644, 813.0531569377276, 2930.6905715618327, 2191.044757498973, 2171.0769117587856, 2001.8361793100096, 1688.2677748620738, 1641.3553951292474, 1411.3156601447704, 1407.1449308062272, 1364.9423285937855, 1294.6443612420849, 1187.7054365255108, 1164.502305315584, 1142.3379352230384, 844.596922674892, 827.310952374411, 796.283290312695, 792.7191139338406, 792.3057866473074, 785.3867194911898, 760.5684593470404, 724.2177247255073, 704.910819623484, 690.0519108080929, 676.7662184442578, 666.2213448165803, 655.2442787512997, 626.8868674439365, 607.6802920493702, 585.3330127566174, 581.7866306085004, 1586.9614578827109, 3614.906130803829, 1346.8880651671466, 1593.45767111012, 3523.767420867378, 1256.478959797725, 7387.554814992644], \"Category\": [\"Default\", \"Default\", \"Default\", \"Default\", \"Default\", \"Default\", \"Default\", \"Default\", \"Default\", \"Default\", \"Default\", \"Default\", \"Default\", \"Default\", \"Default\", \"Default\", \"Default\", \"Default\", \"Default\", \"Default\", \"Default\", \"Default\", \"Default\", \"Default\", \"Default\", \"Default\", \"Default\", \"Default\", \"Default\", \"Default\", \"Topic1\", \"Topic1\", \"Topic1\", \"Topic1\", \"Topic1\", \"Topic1\", \"Topic1\", \"Topic1\", \"Topic1\", \"Topic1\", \"Topic1\", \"Topic1\", \"Topic1\", \"Topic1\", \"Topic1\", \"Topic1\", \"Topic1\", \"Topic1\", \"Topic1\", \"Topic1\", \"Topic1\", \"Topic1\", \"Topic1\", \"Topic1\", \"Topic1\", \"Topic1\", \"Topic1\", \"Topic1\", \"Topic1\", \"Topic1\", \"Topic1\", \"Topic1\", \"Topic1\", \"Topic1\", \"Topic1\", \"Topic1\", \"Topic1\", \"Topic1\", \"Topic1\", \"Topic1\", \"Topic2\", \"Topic2\", \"Topic2\", \"Topic2\", \"Topic2\", \"Topic2\", \"Topic2\", \"Topic2\", \"Topic2\", \"Topic2\", \"Topic2\", \"Topic2\", \"Topic2\", \"Topic2\", \"Topic2\", \"Topic2\", \"Topic2\", \"Topic2\", \"Topic2\", \"Topic2\", \"Topic2\", \"Topic2\", \"Topic2\", \"Topic2\", \"Topic2\", \"Topic2\", \"Topic2\", \"Topic2\", \"Topic2\", \"Topic2\", \"Topic2\", \"Topic2\", \"Topic2\", \"Topic2\", \"Topic2\", \"Topic2\", \"Topic3\", \"Topic3\", \"Topic3\", \"Topic3\", \"Topic3\", \"Topic3\", \"Topic3\", \"Topic3\", \"Topic3\", \"Topic3\", \"Topic3\", \"Topic3\", \"Topic3\", \"Topic3\", \"Topic3\", \"Topic3\", \"Topic3\", \"Topic3\", \"Topic3\", \"Topic3\", \"Topic3\", \"Topic3\", \"Topic3\", \"Topic3\", \"Topic3\", \"Topic3\", \"Topic3\", \"Topic3\", \"Topic3\", \"Topic3\", \"Topic3\", \"Topic3\", \"Topic3\", \"Topic3\", \"Topic3\", \"Topic4\", \"Topic4\", \"Topic4\", \"Topic4\", \"Topic4\", \"Topic4\", \"Topic4\", \"Topic4\", \"Topic4\", \"Topic4\", \"Topic4\", \"Topic4\", \"Topic4\", \"Topic4\", \"Topic4\", \"Topic4\", \"Topic4\", \"Topic4\", \"Topic4\", \"Topic4\", \"Topic4\", \"Topic4\", \"Topic4\", \"Topic4\", \"Topic4\", \"Topic4\", \"Topic4\", \"Topic4\", \"Topic4\", \"Topic4\", \"Topic4\", \"Topic4\", \"Topic4\", \"Topic4\", \"Topic4\", \"Topic4\", \"Topic5\", \"Topic5\", \"Topic5\", \"Topic5\", \"Topic5\", \"Topic5\", \"Topic5\", \"Topic5\", \"Topic5\", \"Topic5\", \"Topic5\", \"Topic5\", \"Topic5\", \"Topic5\", \"Topic5\", \"Topic5\", \"Topic5\", \"Topic5\", \"Topic5\", \"Topic5\", \"Topic5\", \"Topic5\", \"Topic5\", \"Topic5\", \"Topic5\", \"Topic5\", \"Topic5\", \"Topic5\", \"Topic5\", \"Topic5\", \"Topic5\", \"Topic5\", \"Topic5\", \"Topic6\", \"Topic6\", \"Topic6\", \"Topic6\", \"Topic6\", \"Topic6\", \"Topic6\", \"Topic6\", \"Topic6\", \"Topic6\", \"Topic6\", \"Topic6\", \"Topic6\", \"Topic6\", \"Topic6\", \"Topic6\", \"Topic6\", \"Topic6\", \"Topic6\", \"Topic6\", \"Topic6\", \"Topic6\", \"Topic6\", \"Topic6\", \"Topic6\", \"Topic6\", \"Topic6\", \"Topic6\", \"Topic6\", \"Topic6\", \"Topic6\", \"Topic6\", \"Topic7\", \"Topic7\", \"Topic7\", \"Topic7\", \"Topic7\", \"Topic7\", \"Topic7\", \"Topic7\", \"Topic7\", \"Topic7\", \"Topic7\", \"Topic7\", \"Topic7\", \"Topic7\", \"Topic7\", \"Topic7\", \"Topic7\", \"Topic7\", \"Topic7\", \"Topic7\", \"Topic7\", \"Topic7\", \"Topic7\", \"Topic7\", \"Topic7\", \"Topic7\", \"Topic7\", \"Topic7\", \"Topic7\", \"Topic7\", \"Topic7\", \"Topic7\", \"Topic7\", \"Topic8\", \"Topic8\", \"Topic8\", \"Topic8\", \"Topic8\", \"Topic8\", \"Topic8\", \"Topic8\", \"Topic8\", \"Topic8\", \"Topic8\", \"Topic8\", \"Topic8\", \"Topic8\", \"Topic8\", \"Topic8\", \"Topic8\", \"Topic8\", \"Topic8\", \"Topic8\", \"Topic8\", \"Topic8\", \"Topic8\", \"Topic8\", \"Topic8\", \"Topic8\", \"Topic8\", \"Topic8\", \"Topic8\", \"Topic8\", \"Topic8\", \"Topic8\", \"Topic8\", \"Topic8\", \"Topic9\", \"Topic9\", \"Topic9\", \"Topic9\", \"Topic9\", \"Topic9\", \"Topic9\", \"Topic9\", \"Topic9\", \"Topic9\", \"Topic9\", \"Topic9\", \"Topic9\", \"Topic9\", \"Topic9\", \"Topic9\", \"Topic9\", \"Topic9\", \"Topic9\", \"Topic9\", \"Topic9\", \"Topic9\", \"Topic9\", \"Topic9\", \"Topic9\", \"Topic9\", \"Topic9\", \"Topic9\", \"Topic9\", \"Topic9\", \"Topic9\", \"Topic9\", \"Topic9\", \"Topic9\", \"Topic9\", \"Topic9\", \"Topic10\", \"Topic10\", \"Topic10\", \"Topic10\", \"Topic10\", \"Topic10\", \"Topic10\", \"Topic10\", \"Topic10\", \"Topic10\", \"Topic10\", \"Topic10\", \"Topic10\", \"Topic10\", \"Topic10\", \"Topic10\", \"Topic10\", \"Topic10\", \"Topic10\", \"Topic10\", \"Topic10\", \"Topic10\", \"Topic10\", \"Topic10\", \"Topic10\", \"Topic10\", \"Topic10\", \"Topic10\", \"Topic10\", \"Topic10\", \"Topic10\", \"Topic10\", \"Topic10\", \"Topic10\", \"Topic10\", \"Topic11\", \"Topic11\", \"Topic11\", \"Topic11\", \"Topic11\", \"Topic11\", \"Topic11\", \"Topic11\", \"Topic11\", \"Topic11\", \"Topic11\", \"Topic11\", \"Topic11\", \"Topic11\", \"Topic11\", \"Topic11\", \"Topic11\", \"Topic11\", \"Topic11\", \"Topic11\", \"Topic11\", \"Topic11\", \"Topic11\", \"Topic11\", \"Topic11\", \"Topic11\", \"Topic11\", \"Topic11\", \"Topic11\", \"Topic11\", \"Topic11\", \"Topic11\", \"Topic11\", \"Topic11\", \"Topic12\", \"Topic12\", \"Topic12\", \"Topic12\", \"Topic12\", \"Topic12\", \"Topic12\", \"Topic12\", \"Topic12\", \"Topic12\", \"Topic12\", \"Topic12\", \"Topic12\", \"Topic12\", \"Topic12\", \"Topic12\", \"Topic12\", \"Topic12\", \"Topic12\", \"Topic12\", \"Topic12\", \"Topic12\", \"Topic12\", \"Topic12\", \"Topic12\", \"Topic12\", \"Topic12\", \"Topic12\", \"Topic12\", \"Topic12\", \"Topic12\", \"Topic12\", \"Topic12\", \"Topic12\", \"Topic13\", \"Topic13\", \"Topic13\", \"Topic13\", \"Topic13\", \"Topic13\", \"Topic13\", \"Topic13\", \"Topic13\", \"Topic13\", \"Topic13\", \"Topic13\", \"Topic13\", \"Topic13\", \"Topic13\", \"Topic13\", \"Topic13\", \"Topic13\", \"Topic13\", \"Topic13\", \"Topic13\", \"Topic13\", \"Topic13\", \"Topic13\", \"Topic13\", \"Topic13\", \"Topic13\", \"Topic13\", \"Topic13\", \"Topic13\", \"Topic13\", \"Topic13\", \"Topic14\", \"Topic14\", \"Topic14\", \"Topic14\", \"Topic14\", \"Topic14\", \"Topic14\", \"Topic14\", \"Topic14\", \"Topic14\", \"Topic14\", \"Topic14\", \"Topic14\", \"Topic14\", \"Topic14\", \"Topic14\", \"Topic14\", \"Topic14\", \"Topic14\", \"Topic14\", \"Topic14\", \"Topic14\", \"Topic14\", \"Topic14\", \"Topic14\", \"Topic14\", \"Topic14\", \"Topic14\", \"Topic14\", \"Topic14\", \"Topic14\", \"Topic14\", \"Topic15\", \"Topic15\", \"Topic15\", \"Topic15\", \"Topic15\", \"Topic15\", \"Topic15\", \"Topic15\", \"Topic15\", \"Topic15\", \"Topic15\", \"Topic15\", \"Topic15\", \"Topic15\", \"Topic15\", \"Topic15\", \"Topic15\", \"Topic15\", \"Topic15\", \"Topic15\", \"Topic15\", \"Topic15\", \"Topic15\", \"Topic15\", \"Topic15\", \"Topic15\", \"Topic15\", \"Topic15\", \"Topic15\", \"Topic15\", \"Topic15\", \"Topic15\", \"Topic15\", \"Topic15\", \"Topic16\", \"Topic16\", \"Topic16\", \"Topic16\", \"Topic16\", \"Topic16\", \"Topic16\", \"Topic16\", \"Topic16\", \"Topic16\", \"Topic16\", \"Topic16\", \"Topic16\", \"Topic16\", \"Topic16\", \"Topic16\", \"Topic16\", \"Topic16\", \"Topic16\", \"Topic16\", \"Topic16\", \"Topic16\", \"Topic16\", \"Topic16\", \"Topic16\", \"Topic16\", \"Topic16\", \"Topic16\", \"Topic16\", \"Topic16\", \"Topic17\", \"Topic17\", \"Topic17\", \"Topic17\", \"Topic17\", \"Topic17\", \"Topic17\", \"Topic17\", \"Topic17\", \"Topic17\", \"Topic17\", \"Topic17\", \"Topic17\", \"Topic17\", \"Topic17\", \"Topic17\", \"Topic17\", \"Topic17\", \"Topic17\", \"Topic17\", \"Topic17\", \"Topic17\", \"Topic17\", \"Topic17\", \"Topic17\", \"Topic17\", \"Topic17\", \"Topic17\", \"Topic17\", \"Topic17\", \"Topic17\", \"Topic17\", \"Topic17\", \"Topic17\", \"Topic18\", \"Topic18\", \"Topic18\", \"Topic18\", \"Topic18\", \"Topic18\", \"Topic18\", \"Topic18\", \"Topic18\", \"Topic18\", \"Topic18\", \"Topic18\", \"Topic18\", \"Topic18\", \"Topic18\", \"Topic18\", \"Topic18\", \"Topic18\", \"Topic18\", \"Topic18\", \"Topic18\", \"Topic18\", \"Topic18\", \"Topic18\", \"Topic18\", \"Topic18\", \"Topic18\", \"Topic18\", \"Topic18\", \"Topic18\", \"Topic18\", \"Topic18\", \"Topic18\", \"Topic18\", \"Topic19\", \"Topic19\", \"Topic19\", \"Topic19\", \"Topic19\", \"Topic19\", \"Topic19\", \"Topic19\", \"Topic19\", \"Topic19\", \"Topic19\", \"Topic19\", \"Topic19\", \"Topic19\", \"Topic19\", \"Topic19\", \"Topic19\", \"Topic19\", \"Topic19\", \"Topic19\", \"Topic19\", \"Topic19\", \"Topic19\", \"Topic19\", \"Topic19\", \"Topic19\", \"Topic19\", \"Topic19\", \"Topic19\", \"Topic19\", \"Topic19\", \"Topic19\", \"Topic19\", \"Topic20\", \"Topic20\", \"Topic20\", \"Topic20\", \"Topic20\", \"Topic20\", \"Topic20\", \"Topic20\", \"Topic20\", \"Topic20\", \"Topic20\", \"Topic20\", \"Topic20\", \"Topic20\", \"Topic20\", \"Topic20\", \"Topic20\", \"Topic20\", \"Topic20\", \"Topic20\", \"Topic20\", \"Topic20\", \"Topic20\", \"Topic20\", \"Topic20\", \"Topic20\", \"Topic20\", \"Topic20\", \"Topic20\", \"Topic20\", \"Topic20\", \"Topic20\", \"Topic20\", \"Topic20\", \"Topic20\", \"Topic20\", \"Topic20\"], \"logprob\": [30.0, 29.0, 28.0, 27.0, 26.0, 25.0, 24.0, 23.0, 22.0, 21.0, 20.0, 19.0, 18.0, 17.0, 16.0, 15.0, 14.0, 13.0, 12.0, 11.0, 10.0, 9.0, 8.0, 7.0, 6.0, 5.0, 4.0, 3.0, 2.0, 1.0, -3.906, -4.1027, -4.2274, -4.2444, -4.2749, -4.5134, -4.5729, -4.6405, -4.6684, -4.6916, -4.699, -4.7025, -4.8204, -4.9745, -5.1374, -5.1378, -5.1803, -5.2483, -5.2971, -5.3146, -5.3149, -5.3396, -5.3461, -5.3481, -5.3957, -5.4668, -5.5078, -5.514, -5.5783, -5.5824, -3.7256, -4.0123, -4.2189, -4.2763, -4.5147, -4.9337, -4.616, -5.219, -5.2727, -5.2389, -3.457, -3.8973, -4.2162, -4.3525, -4.4522, -4.5044, -4.5862, -4.6395, -4.6846, -4.7563, -4.7758, -4.7799, -4.7898, -4.8143, -4.8666, -4.886, -4.8975, -4.8988, -4.9399, -4.9454, -4.9698, -5.1013, -5.1439, -5.1785, -5.188, -5.2134, -5.2263, -5.2926, -5.294, -5.3358, -4.2355, -4.654, -4.6103, -4.903, -4.834, -5.1057, -3.2052, -3.6984, -3.9739, -4.049, -4.5446, -4.7122, -4.7279, -4.7608, -4.776, -4.7785, -4.8242, -4.8262, -4.8635, -4.9077, -4.9249, -4.9728, -4.997, -5.0108, -5.0306, -5.037, -5.0796, -5.146, -5.1892, -5.2015, -5.2027, -5.2294, -5.2581, -5.3216, -5.3475, -5.3819, -4.005, -4.4404, -4.7292, -4.5257, -4.8925, -4.0912, -4.187, -4.1949, -4.3142, -4.4424, -4.5387, -4.5772, -4.6144, -4.6203, -4.6755, -4.6825, -4.6879, -4.7584, -4.7764, -4.82, -4.8946, -4.9118, -4.9207, -4.9241, -4.9906, -4.9912, -5.0789, -5.1146, -5.1703, -5.2301, -5.2568, -5.2911, -5.2945, -5.3031, -5.3222, -4.4404, -4.3301, -4.7782, -3.8376, -4.3168, -4.9477, -3.9155, -3.9953, -4.1913, -4.2309, -4.2908, -4.3347, -4.429, -4.5213, -4.5651, -4.6756, -4.7216, -4.7261, -4.7485, -4.8047, -4.8305, -4.8514, -4.8583, -4.8584, -4.8825, -4.9436, -4.9681, -4.985, -4.9982, -5.0409, -5.1174, -5.1437, -5.1719, -5.1822, -5.2045, -5.2167, -3.7819, -4.4304, -4.9464, -4.1966, -4.3389, -4.4338, -4.4456, -4.4721, -4.6514, -4.7074, -4.708, -4.7164, -4.7524, -4.7524, -4.8329, -4.8647, -4.8678, -4.9059, -4.994, -5.0221, -5.0906, -5.0951, -5.1087, -5.1145, -5.1277, -5.1752, -5.1911, -5.2108, -5.2136, -5.2249, -5.2619, -5.2855, -5.3072, -4.33, -4.5959, -3.4939, -3.842, -3.8855, -3.8857, -3.964, -4.1876, -4.2551, -4.3004, -4.3608, -4.517, -4.566, -4.6106, -4.6728, -4.6896, -4.7421, -4.7928, -4.8045, -4.8088, -4.8866, -4.9306, -4.957, -5.067, -5.1094, -5.1199, -5.1253, -5.1694, -5.1903, -5.2097, -5.2702, -5.2993, -4.3311, -4.0505, -4.8175, -3.8168, -3.9305, -3.9462, -4.3386, -4.4331, -4.4353, -4.4666, -4.4892, -4.5164, -4.5393, -4.5399, -4.6081, -4.6249, -4.8697, -4.9176, -4.9202, -4.9428, -4.9452, -4.9657, -4.9678, -5.0044, -5.0269, -5.0437, -5.0499, -5.0541, -5.0745, -5.0952, -5.2203, -5.2389, -5.331, -4.0007, -4.7676, -4.8536, -4.797, -3.9423, -4.0365, -4.1602, -4.2333, -4.3323, -4.4319, -4.5501, -4.5586, -4.5878, -4.6199, -4.7338, -4.7892, -4.8264, -4.842, -4.965, -4.9917, -5.016, -5.028, -5.0486, -5.0809, -5.0861, -5.1399, -5.1665, -5.2296, -5.2365, -5.242, -5.3292, -5.3407, -5.3426, -5.3597, -4.5595, -4.7586, -4.9792, -4.4015, -4.9622, -5.1495, -3.6868, -3.7816, -4.1633, -4.3818, -4.5368, -4.601, -4.6382, -4.6485, -4.7236, -4.7383, -4.7439, -4.7543, -4.8287, -4.8546, -4.8677, -4.8756, -4.8788, -4.9771, -4.9817, -5.0196, -5.082, -5.0882, -5.1012, -5.1301, -5.1977, -5.231, -5.2483, -5.2547, -5.2751, -5.3486, -4.2867, -3.8305, -4.2368, -4.6832, -4.3663, -3.6397, -4.2829, -4.2892, -4.4386, -4.5568, -4.648, -4.7375, -4.8013, -4.9026, -4.9235, -4.933, -4.9416, -4.9796, -4.9965, -5.0303, -5.0471, -5.0839, -5.1468, -5.1661, -5.1768, -5.1827, -5.1834, -5.195, -5.1955, -5.2065, -5.2631, -5.2638, -5.2678, -5.2981, -5.3211, -4.1261, -4.8714, -4.5788, -5.1606, -3.0318, -4.2619, -4.4811, -4.5926, -4.6015, -4.6229, -4.6475, -4.6865, -4.7033, -4.7048, -4.7122, -4.736, -4.8243, -4.8518, -4.9266, -4.9925, -5.1058, -5.1372, -5.1495, -5.1657, -5.2139, -5.2271, -5.24, -5.26, -5.2628, -5.2776, -5.2954, -5.343, -5.3437, -5.3863, -4.1902, -4.7642, -4.5324, -5.2901, -3.9127, -4.023, -4.2568, -4.3268, -4.3518, -4.5117, -4.5332, -4.5854, -4.6367, -4.7685, -4.804, -4.8043, -4.8502, -4.8521, -4.8705, -4.8755, -4.8779, -4.9634, -4.9847, -4.9868, -5.0111, -5.0359, -5.0618, -5.1095, -5.1111, -5.169, -5.2707, -5.3693, -5.3756, -5.3813, -4.9652, -4.2867, -3.8686, -3.9685, -4.0049, -4.0702, -4.2641, -4.3294, -4.4211, -4.4306, -4.5785, -4.6212, -4.7066, -4.7676, -4.8024, -4.839, -4.8958, -4.9707, -4.9888, -4.9994, -5.0315, -5.0594, -5.0766, -5.0942, -5.13, -5.1467, -5.1497, -5.1737, -5.1757, -5.1819, -5.2034, -5.2233, -4.6144, -4.9882, -3.5634, -3.7891, -4.2498, -4.2636, -4.3349, -4.6997, -4.7656, -4.7704, -4.7791, -4.8239, -4.8261, -4.8478, -4.8609, -4.8832, -4.8909, -4.9049, -4.9509, -4.9544, -5.0879, -5.0887, -5.1042, -5.2192, -5.2722, -5.2869, -5.2894, -5.3156, -5.3171, -5.3524, -5.3533, -5.3827, -4.4184, -4.7485, -4.3729, -4.8021, -3.7437, -4.1336, -4.1528, -4.1728, -4.2195, -4.4164, -4.5212, -4.5611, -4.6147, -4.6321, -4.6569, -4.6672, -4.6708, -4.6916, -4.6957, -4.7002, -4.7117, -4.7729, -4.8791, -4.9303, -4.9911, -5.0266, -5.0365, -5.0695, -5.1289, -5.1319, -5.1573, -5.1631, -5.1655, -5.1656, -4.0731, -4.177, -4.1967, -4.3967, -4.4485, -4.4602, -4.9176, -4.9201, -4.9815, -4.9889, -5.0679, -5.0724, -5.1683, -5.1684, -5.1869, -5.204, -5.2355, -5.2464, -5.2596, -5.2648, -5.3136, -5.3337, -5.3375, -5.3388, -5.3457, -5.3519, -5.3568, -5.362, -5.39, -5.4105, -3.6455, -5.0068, -4.9995, -5.3543, -2.8659, -4.281, -4.2976, -4.3407, -4.3686, -4.3718, -4.3871, -4.5044, -4.5252, -4.713, -4.7203, -4.7518, -4.7587, -4.759, -4.8014, -4.8623, -4.8974, -4.9468, -4.9752, -5.046, -5.0667, -5.0919, -5.1171, -5.1319, -5.1817, -5.234, -5.2713, -5.3504, -5.3596, -5.3796, -4.6908, -4.6469, -5.294, -4.9957, -3.2968, -3.4939, -4.0063, -4.5309, -4.6849, -4.6947, -4.7174, -4.7227, -4.7501, -4.7553, -4.934, -4.9757, -4.9926, -4.9996, -5.0056, -5.0317, -5.0353, -5.0362, -5.1093, -5.1222, -5.1421, -5.1791, -5.2349, -5.2709, -5.319, -5.3337, -5.3574, -5.3743, -5.3808, -5.438, -4.4254, -4.2659, -5.2496, -3.7961, -4.087, -4.0962, -4.1774, -4.3478, -4.376, -4.5271, -4.5301, -4.5606, -4.6135, -4.6997, -4.7195, -4.7387, -5.041, -5.0617, -5.0999, -5.1044, -5.105, -5.1137, -5.1459, -5.1949, -5.222, -5.2433, -5.2628, -5.2785, -5.2951, -5.3394, -5.3706, -5.4081, -5.4142, -4.5561, -3.9058, -4.7284, -4.6397, -4.2509, -5.0604, -5.0087], \"loglift\": [30.0, 29.0, 28.0, 27.0, 26.0, 25.0, 24.0, 23.0, 22.0, 21.0, 20.0, 19.0, 18.0, 17.0, 16.0, 15.0, 14.0, 13.0, 12.0, 11.0, 10.0, 9.0, 8.0, 7.0, 6.0, 5.0, 4.0, 3.0, 2.0, 1.0, 2.8783, 2.8783, 2.8782, 2.8782, 2.8782, 2.8781, 2.8781, 2.878, 2.878, 2.878, 2.878, 2.878, 2.8779, 2.8778, 2.8776, 2.8776, 2.8776, 2.8775, 2.8775, 2.8774, 2.8774, 2.8774, 2.8774, 2.8774, 2.8773, 2.8772, 2.8772, 2.8772, 2.8771, 2.8771, 2.7775, 2.7547, 2.5862, 2.5681, 2.5946, 2.7107, 2.5306, 2.6496, 1.926, 0.6928, 2.9178, 2.9177, 2.9176, 2.9175, 2.9175, 2.9175, 2.9174, 2.9174, 2.9174, 2.9173, 2.9173, 2.9173, 2.9173, 2.9173, 2.9172, 2.9172, 2.9172, 2.9172, 2.9172, 2.9172, 2.9171, 2.917, 2.917, 2.9169, 2.9169, 2.9169, 2.9169, 2.9168, 2.9168, 2.9168, 2.7434, 2.7719, 2.6526, 2.6789, 1.9019, 1.04, 2.9616, 2.9615, 2.9614, 2.9614, 2.9611, 2.961, 2.961, 2.961, 2.961, 2.961, 2.9609, 2.9609, 2.9609, 2.9609, 2.9608, 2.9608, 2.9608, 2.9608, 2.9608, 2.9607, 2.9607, 2.9606, 2.9606, 2.9606, 2.9606, 2.9605, 2.9605, 2.9604, 2.9604, 2.9603, 2.8153, 2.7571, 2.793, 2.6054, 1.2533, 2.9693, 2.9692, 2.9692, 2.9692, 2.9691, 2.9691, 2.969, 2.969, 2.969, 2.969, 2.969, 2.969, 2.9689, 2.9689, 2.9689, 2.9688, 2.9688, 2.9688, 2.9688, 2.9687, 2.9687, 2.9686, 2.9686, 2.9685, 2.9685, 2.9684, 2.9684, 2.9684, 2.9684, 2.9683, 2.8319, 2.7723, 2.8214, 2.3081, 1.6149, 1.4784, 2.9854, 2.9854, 2.9853, 2.9853, 2.9853, 2.9853, 2.9852, 2.9852, 2.9851, 2.9851, 2.985, 2.985, 2.985, 2.985, 2.985, 2.9849, 2.9849, 2.9849, 2.9849, 2.9849, 2.9848, 2.9848, 2.9848, 2.9848, 2.9847, 2.9847, 2.9846, 2.9846, 2.9846, 2.9846, 2.851, 2.7482, 2.8435, 2.9854, 2.9853, 2.9853, 2.9852, 2.9852, 2.9851, 2.9851, 2.9851, 2.9851, 2.985, 2.985, 2.985, 2.985, 2.985, 2.9849, 2.9848, 2.9848, 2.9847, 2.9847, 2.9847, 2.9847, 2.9847, 2.9847, 2.9846, 2.9846, 2.9846, 2.9846, 2.9846, 2.9845, 2.9845, 2.8138, 2.8283, 2.9879, 2.9878, 2.9878, 2.9878, 2.9878, 2.9877, 2.9877, 2.9877, 2.9876, 2.9875, 2.9875, 2.9875, 2.9874, 2.9874, 2.9874, 2.9874, 2.9873, 2.9873, 2.9873, 2.9872, 2.9872, 2.9871, 2.9871, 2.9871, 2.987, 2.987, 2.987, 2.9869, 2.9869, 2.9868, 2.8492, 2.6519, 1.1142, 2.9898, 2.9898, 2.9898, 2.9896, 2.9896, 2.9896, 2.9896, 2.9895, 2.9895, 2.9895, 2.9895, 2.9895, 2.9895, 2.9893, 2.9892, 2.9892, 2.9892, 2.9892, 2.9892, 2.9892, 2.9892, 2.9891, 2.9891, 2.9891, 2.9891, 2.9891, 2.9891, 2.9889, 2.9889, 2.9888, 2.9007, 2.7689, 2.7851, 2.6685, 2.9919, 2.9919, 2.9918, 2.9918, 2.9918, 2.9917, 2.9916, 2.9916, 2.9916, 2.9916, 2.9915, 2.9915, 2.9915, 2.9914, 2.9913, 2.9913, 2.9913, 2.9913, 2.9912, 2.9912, 2.9912, 2.9912, 2.9911, 2.991, 2.991, 2.991, 2.9909, 2.9909, 2.9909, 2.9909, 2.7885, 2.7681, 2.7728, 2.3335, 2.6744, 2.7348, 3.0032, 3.0032, 3.0031, 3.003, 3.0029, 3.0028, 3.0028, 3.0028, 3.0028, 3.0027, 3.0027, 3.0027, 3.0027, 3.0026, 3.0026, 3.0026, 3.0026, 3.0025, 3.0025, 3.0025, 3.0024, 3.0024, 3.0024, 3.0024, 3.0023, 3.0023, 3.0022, 3.0022, 3.0022, 3.0021, 2.8563, 2.6384, 2.3031, 2.5155, 2.0615, 3.0061, 3.0059, 3.0059, 3.0058, 3.0057, 3.0057, 3.0056, 3.0056, 3.0055, 3.0054, 3.0054, 3.0054, 3.0054, 3.0054, 3.0053, 3.0053, 3.0053, 3.0052, 3.0052, 3.0052, 3.0052, 3.0052, 3.0052, 3.0052, 3.0051, 3.0051, 3.0051, 3.0051, 3.005, 3.005, 2.8026, 2.8107, 2.5384, 1.3082, 3.0064, 3.006, 3.0059, 3.0059, 3.0059, 3.0058, 3.0058, 3.0058, 3.0058, 3.0058, 3.0058, 3.0058, 3.0057, 3.0057, 3.0056, 3.0055, 3.0054, 3.0054, 3.0054, 3.0054, 3.0053, 3.0053, 3.0053, 3.0052, 3.0052, 3.0052, 3.0052, 3.0051, 3.0051, 3.0051, 2.7751, 2.8239, 2.5723, 1.1377, 3.0088, 3.0088, 3.0087, 3.0086, 3.0086, 3.0085, 3.0085, 3.0085, 3.0085, 3.0084, 3.0083, 3.0083, 3.0083, 3.0083, 3.0083, 3.0083, 3.0083, 3.0082, 3.0082, 3.0082, 3.0081, 3.0081, 3.0081, 3.008, 3.008, 3.008, 3.0078, 3.0077, 3.0077, 3.0077, 2.8433, 2.1771, 3.0107, 3.0107, 3.0107, 3.0106, 3.0106, 3.0105, 3.0105, 3.0105, 3.0104, 3.0104, 3.0103, 3.0102, 3.0102, 3.0102, 3.0101, 3.0101, 3.0101, 3.01, 3.01, 3.01, 3.01, 3.0099, 3.0099, 3.0099, 3.0099, 3.0099, 3.0099, 3.0098, 3.0098, 3.0098, 2.8402, 2.4679, 3.0135, 3.0134, 3.0133, 3.0132, 3.0132, 3.013, 3.0129, 3.0129, 3.0129, 3.0129, 3.0129, 3.0129, 3.0129, 3.0128, 3.0128, 3.0128, 3.0128, 3.0128, 3.0126, 3.0126, 3.0126, 3.0125, 3.0124, 3.0124, 3.0124, 3.0124, 3.0124, 3.0123, 3.0123, 3.0123, 2.7367, 2.8187, 2.5235, 2.6601, 3.0147, 3.0145, 3.0145, 3.0145, 3.0145, 3.0144, 3.0143, 3.0143, 3.0143, 3.0143, 3.0143, 3.0142, 3.0142, 3.0142, 3.0142, 3.0142, 3.0142, 3.0142, 3.0141, 3.014, 3.014, 3.0139, 3.0139, 3.0139, 3.0138, 3.0138, 3.0138, 3.0138, 3.0138, 3.0138, 3.0354, 3.0353, 3.0353, 3.0352, 3.0352, 3.0352, 3.0348, 3.0348, 3.0348, 3.0348, 3.0347, 3.0347, 3.0346, 3.0346, 3.0346, 3.0345, 3.0345, 3.0345, 3.0345, 3.0345, 3.0344, 3.0344, 3.0344, 3.0344, 3.0343, 3.0343, 3.0343, 3.0343, 3.0343, 3.0343, 2.7805, 2.8054, 2.7947, 2.709, 3.0486, 3.0482, 3.0482, 3.0482, 3.0482, 3.0482, 3.0482, 3.0481, 3.0481, 3.048, 3.048, 3.0479, 3.0479, 3.0479, 3.0479, 3.0478, 3.0478, 3.0478, 3.0477, 3.0477, 3.0476, 3.0476, 3.0476, 3.0476, 3.0475, 3.0474, 3.0474, 3.0473, 3.0473, 3.0472, 2.8637, 2.8132, 2.7614, 1.1501, 3.0519, 3.0519, 3.0517, 3.0515, 3.0514, 3.0514, 3.0514, 3.0513, 3.0513, 3.0513, 3.0512, 3.0511, 3.0511, 3.0511, 3.0511, 3.0511, 3.0511, 3.0511, 3.051, 3.051, 3.0509, 3.0509, 3.0508, 3.0508, 3.0507, 3.0507, 3.0507, 3.0506, 3.0506, 3.0505, 2.6614, 2.4383, 2.8889, 3.0602, 3.0601, 3.0601, 3.0601, 3.06, 3.06, 3.0599, 3.0599, 3.0598, 3.0598, 3.0597, 3.0597, 3.0597, 3.0594, 3.0594, 3.0594, 3.0594, 3.0594, 3.0594, 3.0593, 3.0593, 3.0592, 3.0592, 3.0592, 3.0591, 3.0591, 3.0591, 3.059, 3.059, 3.0589, 2.9136, 2.7407, 2.9053, 2.8259, 2.4211, 2.6428, 0.923]}, \"token.table\": {\"Topic\": [3, 2, 11, 17, 11, 3, 10, 1, 11, 1, 12, 1, 3, 9, 12, 4, 8, 11, 1, 13, 6, 1, 1, 20, 5, 6, 3, 5, 3, 9, 19, 18, 7, 17, 19, 1, 10, 10, 7, 10, 2, 8, 18, 3, 3, 6, 15, 12, 1, 2, 5, 6, 10, 11, 17, 1, 1, 15, 18, 14, 3, 4, 14, 2, 9, 2, 3, 14, 16, 2, 10, 18, 10, 17, 8, 12, 15, 20, 12, 14, 11, 4, 4, 12, 8, 4, 5, 5, 13, 18, 5, 7, 20, 1, 4, 9, 13, 14, 19, 2, 5, 1, 8, 15, 17, 6, 12, 7, 1, 11, 20, 7, 15, 2, 11, 3, 14, 1, 10, 3, 1, 13, 10, 12, 16, 19, 10, 12, 17, 2, 6, 5, 2, 3, 6, 9, 8, 8, 7, 4, 19, 14, 15, 11, 7, 10, 17, 10, 18, 3, 16, 3, 5, 2, 20, 6, 12, 16, 14, 3, 5, 9, 18, 3, 5, 20, 1, 19, 14, 4, 7, 20, 13, 9, 18, 16, 16, 15, 9, 11, 15, 9, 3, 20, 12, 17, 7, 2, 4, 10, 12, 13, 5, 18, 5, 10, 4, 10, 15, 16, 9, 11, 6, 8, 12, 10, 2, 9, 9, 9, 10, 14, 4, 12, 19, 17, 1, 8, 1, 7, 16, 7, 14, 6, 7, 17, 15, 6, 11, 9, 20, 14, 20, 3, 12, 7, 11, 5, 2, 1, 12, 8, 13, 18, 8, 20, 20, 12, 16, 9, 19, 5, 11, 15, 17, 19, 4, 3, 13, 15, 7, 2, 5, 10, 11, 12, 16, 20, 18, 11, 14, 4, 19, 12, 3, 8, 8, 2, 3, 7, 17, 12, 8, 1, 10, 1, 12, 7, 1, 16, 18, 9, 1, 9, 14, 17, 11, 11, 16, 4, 19, 14, 16, 7, 7, 8, 7, 19, 19, 19, 7, 3, 16, 13, 5, 19, 19, 1, 19, 12, 4, 1, 4, 10, 9, 12, 16, 19, 2, 6, 7, 8, 15, 2, 2, 16, 15, 17, 13, 5, 11, 5, 12, 13, 14, 6, 16, 16, 10, 19, 19, 17, 4, 12, 6, 18, 17, 20, 4, 7, 20, 9, 13, 12, 18, 5, 10, 2, 14, 10, 18, 20, 17, 20, 12, 4, 2, 13, 2, 20, 8, 15, 13, 12, 12, 17, 19, 14, 20, 12, 12, 19, 12, 14, 18, 2, 4, 8, 9, 19, 12, 2, 5, 9, 14, 2, 14, 19, 18, 12, 1, 14, 5, 18, 2, 13, 20, 16, 19, 20, 11, 9, 16, 15, 6, 17, 1, 8, 17, 17, 19, 12, 9, 11, 10, 3, 10, 11, 14, 3, 2, 5, 8, 1, 7, 16, 1, 1, 2, 20, 2, 8, 14, 1, 14, 1, 11, 16, 14, 5, 4, 15, 12, 13, 8, 18, 1, 7, 10, 13, 13, 14, 1, 14, 5, 11, 18, 8, 5, 1, 19, 2, 5, 2, 15, 20, 15, 15, 6, 4, 4, 8, 20, 19, 9, 9, 6, 1, 17, 1, 13, 15, 17, 6, 9, 14, 18, 5, 11, 10, 9, 17, 4, 16, 17, 19, 9, 3, 8, 18, 20, 20, 6, 19, 14, 1, 1, 3, 1, 3, 4, 7, 10, 13, 14, 16, 17, 20, 4, 6, 10, 18, 8, 8, 16, 1, 12, 13, 5, 6, 16, 4, 20, 16, 11, 6, 7, 11, 6, 6, 3, 6, 19, 12, 20, 15, 12, 2, 7, 13, 8, 15, 9, 5, 15, 20, 17, 8, 11, 15, 15, 5, 8, 20, 8, 3, 13, 11, 15, 16, 11, 20, 6, 2, 6, 15, 11, 15, 16, 14, 16, 10, 12, 7, 13, 2, 7, 18, 3, 18, 18, 3, 3, 5, 6, 17, 16, 1, 7, 4, 9, 10, 19, 2, 3, 4, 18, 20, 13, 8, 14, 11, 2, 7, 6, 17, 20, 5, 10, 10, 15, 8, 15, 19, 4, 14, 16, 14, 10, 10, 6, 17, 4, 8, 3, 17, 13, 16, 18, 6, 17, 17, 8, 7, 2, 16, 13, 8, 4, 6, 9, 7, 10, 14, 10, 2, 3, 4, 18, 9, 16, 16, 3, 7, 14, 15, 6, 9, 10, 15, 6, 20, 4, 20, 20, 13, 20, 1, 4, 10, 11, 13, 7, 13, 8, 2, 8, 9, 7, 15, 9, 19, 1, 11, 2, 10, 17, 13, 11, 9, 12, 14, 10, 13, 4, 15, 18, 10, 19, 5, 18, 7, 13, 15, 18, 4, 4, 5, 18, 18, 6, 1, 6, 14, 4, 19, 19, 4, 3, 6, 20, 3, 2, 18, 7, 10, 1, 9, 18, 8, 6, 14, 13, 9, 2, 13, 4, 4, 18, 18, 3, 8, 8, 15, 20, 20, 5, 10, 5, 16, 13, 3, 5, 18, 6, 17, 19, 3, 4, 1, 15, 3, 11, 4, 17, 13, 7, 5], \"Freq\": [0.9986230428740717, 0.9994267098217519, 0.9988884072150982, 0.9985084120237456, 0.9988355681894928, 0.9990162149570203, 0.9993899440878948, 0.9994877264876015, 0.9983402124906176, 0.9995092001207532, 0.9989069261773987, 0.8457485052411144, 0.15384067752833047, 0.9996507303405737, 0.999286501738343, 0.8624213827161777, 0.13704033618867717, 0.9994490959450334, 0.9990638105976605, 0.9986165159529244, 0.998885106432463, 0.9995902718022527, 0.9979403539236195, 0.9995022870671088, 0.999083123544459, 0.9993307723258602, 0.9991709037854802, 0.9986472627994127, 0.22608293532639245, 0.772688513140835, 0.9994654068309599, 0.9982051906380949, 0.9992120016839182, 0.9994350511205187, 0.9988382852070388, 0.999441860434352, 0.9992947983701407, 0.9988401487735059, 0.9996278385281768, 0.9989958293969524, 0.18505729157341372, 0.8148490419280958, 0.9999250241184118, 0.9998568092145579, 0.9983880687349765, 0.9995281292193743, 0.9982874080047565, 0.9994632062501422, 0.08379720261783707, 0.3621128214207617, 0.1449056319636966, 0.11344386635988774, 0.08440223657175648, 0.07441917633208636, 0.136435156608825, 0.9994996447658543, 0.17643074246852963, 0.8231119284456992, 0.9991648420210898, 0.9988786728837419, 0.8447530025414682, 0.15473856100012742, 0.9990405649007156, 0.9991154082632132, 0.998431936239612, 0.9982680613367573, 0.9994344404936282, 0.9991349770509105, 0.9990901672268642, 0.9994228460499803, 0.24900206898873004, 0.7504016897251273, 0.998700929069187, 0.9991832372087659, 0.9991352875366479, 0.9993434359876435, 0.2083519418301864, 0.7907332732109484, 0.9990775366115169, 0.9983341413329246, 0.9989286117962081, 0.9988767893647167, 0.8209297994231142, 0.1785009505391035, 0.9993271849738439, 0.21099792052416266, 0.78841633695859, 0.9985437380676205, 0.998246515445141, 0.9993444661935529, 0.9984104459347748, 0.9997693237394855, 0.9988805099354531, 0.15394461460929926, 0.09748289218522993, 0.1122320768184562, 0.4351009466801752, 0.1175325650460219, 0.08342507558168613, 0.9990309650356852, 0.9997817100583481, 0.7953122784654731, 0.20375769117710468, 0.9989480579392991, 0.998781711956864, 0.9982458335561776, 0.9989803789382574, 0.9996399274645996, 0.9986463238991323, 0.9989912656061489, 0.9984756062672719, 0.9993469413809539, 0.9991522188518672, 0.9995611940136819, 0.9993713419276108, 0.8636575246931673, 0.1359339015618438, 0.9996134808616549, 0.9997536706179314, 0.9989187701797246, 0.8835342240722367, 0.11641054948037595, 0.1104933812598736, 0.1503530625631702, 0.19753989116486687, 0.5413296424057998, 0.1659876421337047, 0.8327756062605526, 0.9980648829591015, 0.9991370586495792, 0.9988621195856628, 0.9995470931517901, 0.1756276312757431, 0.7002646474651751, 0.12352327007884745, 0.9985103926107044, 0.999729678925088, 0.9992486766436265, 0.9996100374488817, 0.9985400760439446, 0.9994810178330713, 0.9990067998272697, 0.9994240579705305, 0.9990743370354702, 0.9998114087161504, 0.9982941913188986, 0.9991097920513686, 0.9992475368842785, 0.9995079444561492, 0.8150406000040777, 0.1848001360433274, 0.9994056084078478, 0.999341056703331, 0.9991620148595506, 0.9987078938241145, 0.998847251004058, 0.9999175183046659, 0.9990169302801145, 0.999459221850803, 0.138731880437495, 0.16804994667374118, 0.5174487566644693, 0.17530390120642067, 0.9995811395079148, 0.9992655971527823, 0.9992525862201432, 0.9038350542964518, 0.09611186867485473, 0.9997527668022291, 0.12144160432248395, 0.1521477958482145, 0.7261599347301148, 0.9988734707254999, 0.9987603136323785, 0.9988779735043173, 0.9992494565885999, 0.9994420350536057, 0.9989138053696729, 0.9990167940544903, 0.9986900282444295, 0.9990451327548616, 0.9994890089357902, 0.9993940096578974, 0.999186344788542, 0.9979829349060092, 0.9996535624704511, 0.9993873668456651, 0.07161404294554644, 0.1708293316096889, 0.49632510319205103, 0.1377575687216414, 0.12333529618399665, 0.9988042672103139, 0.9977320098829847, 0.8671568237444859, 0.131939776986148, 0.9989561314389047, 0.9992756871309318, 0.9995510820399308, 0.9988067719856696, 0.9991964323981133, 0.9994299497071406, 0.9994209712817039, 0.9988864200939565, 0.9995426292640895, 0.9992624933196171, 0.9991735010643356, 0.9989184683571929, 0.9990985651948816, 0.9994389357386403, 0.9994190755558935, 0.9984790771995998, 0.8715721870789839, 0.12827887382527478, 0.9986435581809239, 0.9987040279886503, 0.9985410027294952, 0.9995662343282032, 0.7061312640082662, 0.17744513029665088, 0.1163200725595012, 0.9997019046463155, 0.9995043694779755, 0.9983369410901507, 0.9993072590158895, 0.9982199952165675, 0.9994807918954487, 0.9992932771053825, 0.9996681233598462, 0.9993207431585946, 0.9995686523647991, 0.9991195911488179, 0.9982343481793426, 0.998239347243993, 0.9983108260562628, 0.999201227484163, 0.9992519876407328, 0.9988749298008245, 0.9984952019937616, 0.999625439084274, 0.9986732707172673, 0.9992182814060611, 0.9998158691923265, 0.9992744337284467, 0.9145329075708863, 0.08531356944162445, 0.9990677775483371, 0.9990874008189085, 0.9995935235466332, 0.9996423583985761, 0.9981298495620495, 0.9988952527259453, 0.9996100465401532, 0.9988864767197773, 0.9982351592279699, 0.9995104885212316, 0.9994084165228835, 0.9980808647660292, 0.9994136196246112, 0.9992193021519553, 0.9988998199837839, 0.08847931876656734, 0.08581160061280149, 0.3899314701421083, 0.08514467107436002, 0.15428303322612497, 0.08470005138206571, 0.11159954276587136, 0.9993109295785262, 0.8155157425516408, 0.1841605500498982, 0.9986747504889688, 0.9990955470017311, 0.9992565491074928, 0.9988940170464995, 0.9993463055206838, 0.998220877470527, 0.7874102322564046, 0.21218485220159158, 0.9979988348663115, 0.998042793110264, 0.9989920244034993, 0.9984638828901987, 0.38587477179630786, 0.6136514116860338, 0.20625074070383584, 0.7934184397924313, 0.9990475781198633, 0.9991738474781829, 0.9993216551016302, 0.998675592602005, 0.99916523825029, 0.9983089642108122, 0.9988039117300861, 0.9996012497956854, 0.9993747017168709, 0.9996572907509872, 0.9988479102627439, 0.9995092798734235, 0.999546104089147, 0.9993176118680596, 0.9989192636288178, 0.9993115599432788, 0.9994333351066664, 0.9993417831043658, 0.9991002693877605, 0.9998592438103481, 0.9982758785142606, 0.9990290413678589, 0.9990598123289764, 0.9991313407041554, 0.9980819552949494, 0.9987666814564984, 0.9997365864812876, 0.9997021620678054, 0.9988009388847319, 0.9989394188772656, 0.9994115198810742, 0.9987202928609437, 0.9982743389311036, 0.9992184729879179, 0.7330882129945988, 0.14162697767144963, 0.12510383027644717, 0.9985735666082012, 0.15166913439727023, 0.1714333842054131, 0.6767107271266306, 0.767090792594159, 0.2326380894039734, 0.9985873991534281, 0.9996752637571455, 0.9988947649616853, 0.9988898487508044, 0.9990723084859736, 0.9995851755068711, 0.9995567961069556, 0.9995870888032371, 0.9985387933452082, 0.9996839745085835, 0.9987775093583235, 0.9995325300291555, 0.6478480674321673, 0.23140555548387337, 0.12073333329593393, 0.9990720988097864, 0.9985519767609253, 0.9989631539633134, 0.9992067696912061, 0.9985501792303668, 0.9992951584145828, 0.9991789593128664, 0.9997003712103187, 0.9987479304139455, 0.9995547686535197, 0.9994347663872419, 0.9980906830616401, 0.9995822938367026, 0.13609459885227884, 0.20453983570196294, 0.6581884985428924, 0.9989963980216484, 0.9993504980365392, 0.20908504623059376, 0.7901542344117364, 0.9994153104008243, 0.9989942459679633, 0.9997842562356298, 0.9991239918886602, 0.9994770178715299, 0.9986228302385843, 0.9983883997965208, 0.9979418531707663, 0.9995039734645268, 0.9986823972414797, 0.9995712017289383, 0.9993217333453857, 0.9995291326434782, 0.9986913205438136, 0.9992490676651236, 0.9994447349667687, 0.9987310538425721, 0.9992517426951826, 0.9990183348124979, 0.9987811515474325, 0.9983766529117377, 0.9995795857953773, 0.9990857201884106, 0.9993096202132171, 0.9996716037578987, 0.9984659023709906, 0.9992945708360135, 0.9978369721690318, 0.9989186640565392, 0.9989656534380272, 0.99904737364361, 0.9994518780900098, 0.998486548265928, 0.9991335518084172, 0.9984838552092706, 0.9980589685857689, 0.9996336266465523, 0.12285967687437521, 0.727478207916755, 0.14892082045378813, 0.9992667833508958, 0.8429231581694425, 0.15641873038195842, 0.9992869776699316, 0.9993883302622608, 0.9991502481644514, 0.9983863708672924, 0.9991623216838759, 0.999460780846034, 0.9997844208206069, 0.8471016046205562, 0.1520892233765508, 0.9993484084144024, 0.9991024921263081, 0.9990928515268517, 0.999583954787084, 0.9996137452745579, 0.9994454999487875, 0.9989874159941381, 0.999048101449363, 0.9991780750502635, 0.9994597085904589, 0.2135656601591914, 0.7853986114425774, 0.9987357497236978, 0.998420390841595, 0.9990369253251785, 0.9996608502236354, 0.9986308123227345, 0.9989903006999195, 0.9994240647223139, 0.9998357449553478, 0.9990198604972613, 0.999433610425742, 0.9993874655399135, 0.9996522475164891, 0.9996106957189399, 0.9989296556487002, 0.14422760857354455, 0.7144093714738251, 0.14130209927184992, 0.999587218333132, 0.999459184453744, 0.9990659365153473, 0.9992932455010592, 0.2742303543745069, 0.7247964743765571, 0.9995165083399926, 0.9985276981771563, 0.9995670154122341, 0.9998089210444389, 0.9984399661251169, 0.9996012477873506, 0.9988799598859183, 0.9992196380102486, 0.9994495976781024, 0.9987894160649747, 0.999227609755413, 0.9993162409926085, 0.16805166937996344, 0.831341319544962, 0.746585724934058, 0.07261624072306946, 0.18056806286941826, 0.9995269339736752, 0.9991347221541563, 0.9993304767460781, 0.998466894766083, 0.999666518982805, 0.9987126875627264, 0.8221727326665214, 0.17690351688654063, 0.9990917054263811, 0.9988385043366702, 0.9996249484885792, 0.9993324554611829, 0.8397874860793642, 0.1597023515098102, 0.9981562292781696, 0.9994921705831675, 0.9984154055127052, 0.9991425633000172, 0.9981393577088102, 0.9986473740349007, 0.9991472259389184, 0.9990634224208675, 0.9988086568627508, 0.9997643655838205, 0.9993899309552567, 0.9985065911607718, 0.9980906765368237, 0.999120405594337, 0.2783572616798649, 0.7209909400888305, 0.9995219351914048, 0.9993055905054801, 0.9989925262144647, 0.9989385531605602, 0.15790459554455866, 0.10444083484836951, 0.5806413080260543, 0.15603958063655207, 0.9991992994343567, 0.9991365490805431, 0.9984614757474404, 0.9989376671934139, 0.9996640723621044, 0.9997895159400992, 0.9995967385851948, 0.9990048095448705, 0.998755138512576, 0.9989846502220411, 0.16771822013568788, 0.17197502775334492, 0.13252861049638956, 0.5275603574149641, 0.9994060509417432, 0.9986360880401574, 0.9990787088039353, 0.9992420106556533, 0.9990360077882927, 0.999148311701869, 0.9989823178335159, 0.11235111221314524, 0.029102998946778584, 0.25800146973283716, 0.15350139909603217, 0.0821652109799749, 0.06795211847108303, 0.0630790581823201, 0.08554928062494914, 0.030321264018969316, 0.11790098643090302, 0.9980804519524544, 0.998816165558623, 0.9992844306167312, 0.998543142156633, 0.9995653688029258, 0.9994593193136406, 0.9996446678855788, 0.9992605051464809, 0.9991611273675708, 0.9988795856952084, 0.15784535274092634, 0.8419935098658636, 0.9990719144008219, 0.14329327357730282, 0.8560473804903117, 0.9988519339800964, 0.9994094462344721, 0.9991518285047627, 0.9994928391279715, 0.9985926488541381, 0.9985066152215987, 0.9997152300691041, 0.9990546237343323, 0.8543927993156603, 0.14510829079286408, 0.9996070692053822, 0.9981010459890304, 0.9996925357621431, 0.9991970668706721, 0.9988121046116618, 0.9992589788800496, 0.9986719800003492, 0.8017345529360337, 0.19807559543125539, 0.9989344154539653, 0.9992707099255451, 0.9994183021007246, 0.9983519158015582, 0.9988735569279348, 0.16477042335637343, 0.6263047812524517, 0.20862061666895668, 0.999340446678391, 0.9982842677830195, 0.9988593139048002, 0.9988678240382342, 0.99936039146988, 0.9992308705240436, 0.9993539596942447, 0.9987913620608411, 0.9992601289983046, 0.9996871796584889, 0.9990197541266225, 0.9983185654204074, 0.9987742197294865, 0.9995874644693156, 0.9992088516900364, 0.9993451830628198, 0.9988655232941038, 0.9993461667109116, 0.998733159748056, 0.9994040838648536, 0.9991230648410834, 0.8631497215420321, 0.13635856580442846, 0.9994661779664262, 0.9996135196240523, 0.12927251787162647, 0.8704664068363169, 0.9993321700501954, 0.9989227704121353, 0.9994713283327998, 0.9985762053241295, 0.9991112483646499, 0.9996057208658599, 0.8738867523277127, 0.12581567546004857, 0.999172165499754, 0.9989274683179933, 0.9990109738595319, 0.9984337458338132, 0.9994799835144073, 0.7991778598024896, 0.20012801163668353, 0.99918861886288, 0.15291374362504193, 0.1810820648191286, 0.5160838847345165, 0.14972804063285355, 0.998647905319382, 0.9989150329429795, 0.9997272748880405, 0.999449104521247, 0.9986364110585415, 0.8642589784678709, 0.13570011874059384, 0.9995025358784679, 0.998514397538694, 0.9991742220281667, 0.9990949985094644, 0.9991214609547819, 0.9986558992782025, 0.9987160198008578, 0.9985691329453233, 0.15005168968225785, 0.8498829309052474, 0.9986867894368732, 0.9986930995309448, 0.9994094117849661, 0.9985742570656191, 0.9996836755978886, 0.9990804907034555, 0.9995084462732787, 0.9983506976743777, 0.9993637742975434, 0.9996391850950154, 0.20502462351318748, 0.7943594720532589, 0.9995846046568492, 0.9989450466213085, 0.9994281831249021, 0.9988409600194885, 0.9991067380907436, 0.9986837565294051, 0.9991358125206717, 0.9985376575963331, 0.9996137692125376, 0.9982112088135077, 0.9992462180823088, 0.9990689127735358, 0.9993993115775611, 0.9995975294407116, 0.9986207198228416, 0.998616410936032, 0.9989548950984153, 0.9990590690159533, 0.999506367301584, 0.9995413594709965, 0.9994965888778143, 0.9993153575180096, 0.9993350273850243, 0.9991690758784372, 0.9994486720781133, 0.9988337620512399, 0.9990914287244874, 0.12884863998847554, 0.16825380658689282, 0.7024127315876604, 0.9989938181344233, 0.9992607017997688, 0.9996910108928914, 0.9992746954896522, 0.9992318928141772, 0.9985852831029105, 0.9990781807090299, 0.9988287745843115, 0.9981667582011853, 0.9993053284774752, 0.9977226421070295, 0.9992095617941936, 0.9981065498732429, 0.6941335082994483, 0.18297146198083555, 0.12275300613904158, 0.9992926828732969, 0.9994253406186093, 0.9995305706231824, 0.99972435761663, 0.9987355977919505, 0.99951156624906, 0.999483686861527, 0.9985844753676257, 0.8031405650954998, 0.1963975367299089, 0.9996138692137571, 0.9990970865536665, 0.999087389549765, 0.9989308048716821, 0.9998159766272952, 0.9988679853730867, 0.9994221082422823, 0.9994923003122841, 0.9991400914339233, 0.9996148967738299, 0.9987804955022263, 0.9989587794519249, 0.9995215305376297, 0.999046189472058, 0.9992329826824472, 0.9988676973488753, 0.9993753709508492, 0.9991857145445496, 0.9990779195386522, 0.9986635714322503, 0.9996027255814094, 0.9989458873433519, 0.999058653540502, 0.9996595596022707, 0.9991958189195642, 0.9988128874484279, 0.9989210499669617, 0.9984107071682206, 0.9991851173550435, 0.7527930142660856, 0.0905285236070132, 0.15644735147619757, 0.9987726717915779, 0.9998625700137986, 0.9992332142042513, 0.9995950372268141, 0.9988672794136436, 0.13610916568079887, 0.8632849860309928, 0.9985514812767696, 0.9990837232152838, 0.9993811214596462, 0.9988355207394298, 0.9990543735709996, 0.9993310789282415, 0.8156934508949948, 0.1841168528011958, 0.9996574494730094, 0.9992055854748226, 0.9988849738989922, 0.9989163855738129, 0.9992783621270042, 0.9990524457910462, 0.999521213641654, 0.9988374790334208, 0.9992145280507476, 0.9997103255978556, 0.999633151137327, 0.9995018390616185, 0.9992538811788747, 0.21985849360390902, 0.6123360952716302, 0.16729135781492915, 0.9995231692573155, 0.9991988789331253, 0.9995225824749158, 0.9996322397098616, 0.999018396084967, 0.9991903044666846, 0.9989319104094064, 0.9993553263548758, 0.9989303027441666, 0.9989265415861671, 0.9990742743916656, 0.9999085513271316, 0.9984220209798917, 0.9994859170227435, 0.24151889355166856, 0.7581393077583806, 0.9998026663401235, 0.9991196754233272, 0.2250280978806677, 0.7747269129205235, 0.9995165087588489, 0.9987957129948806, 0.9989294536988373], \"Term\": [\"2014\", \"2015\", \"2016\", \"2018\", \"2020\", \"abbott\", \"aboriginal\", \"abuse\", \"accident\", \"accused\", \"across\", \"action\", \"action\", \"adelaide\", \"aged\", \"ahead\", \"ahead\", \"airport\", \"alan\", \"alcohol\", \"alice\", \"alleged\", \"allegedly\", \"amid\", \"andrew\", \"animal\", \"announces\", \"another\", \"anti\", \"anti\", \"appeal\", \"april\", \"arrest\", \"arrested\", \"ash\", \"assault\", \"asylum\", \"asylum seeker\", \"attack\", \"august\", \"aussie\", \"aussie\", \"australia\", \"australian\", \"authority\", \"award\", \"away\", \"baby\", \"back\", \"back\", \"back\", \"back\", \"back\", \"back\", \"back\", \"bail\", \"bank\", \"bank\", \"battle\", \"beach\", \"beat\", \"beat\", \"begin\", \"behind\", \"best\", \"better\", \"bill\", \"billion\", \"black\", \"blast\", \"blaze\", \"blaze\", \"blue\", \"board\", \"boat\", \"body\", \"boost\", \"boost\", \"border\", \"bos\", \"break\", \"bridge\", \"brisbane\", \"brisbane\", \"broken\", \"budget\", \"budget\", \"building\", \"bush\", \"bushfire\", \"bushfires\", \"business\", \"cairn\", \"call\", \"call\", \"call\", \"call\", \"call\", \"call\", \"campaign\", \"canberra\", \"cancer\", \"cancer\", \"candidate\", \"capital\", \"carbon\", \"care\", \"case\", \"cash\", \"cattle\", \"caught\", \"cause\", \"central\", \"centre\", \"challenge\", \"change\", \"change\", \"charge\", \"charged\", \"chief\", \"child\", \"child\", \"china\", \"china\", \"china\", \"china\", \"chinese\", \"chinese\", \"chris\", \"christmas\", \"church\", \"city\", \"claim\", \"claim\", \"claim\", \"clash\", \"climate\", \"climate change\", \"close\", \"closure\", \"club\", \"coach\", \"coal\", \"coalition\", \"coast\", \"collapse\", \"come\", \"comment\", \"commission\", \"community\", \"community\", \"company\", \"concern\", \"continues\", \"contract\", \"control\", \"coronavirus\", \"cost\", \"could\", \"council\", \"council\", \"council\", \"council\", \"country\", \"country hour\", \"couple\", \"court\", \"court\", \"covid\", \"crash\", \"crash\", \"crash\", \"cricket\", \"crime\", \"crisis\", \"crop\", \"cut\", \"cyclone\", \"dairy\", \"damage\", \"daniel\", \"darwin\", \"data\", \"david\", \"day\", \"dead\", \"deal\", \"death\", \"death\", \"death\", \"death\", \"death\", \"debate\", \"december\", \"decision\", \"decision\", \"defence\", \"defends\", \"delay\", \"demand\", \"denies\", \"despite\", \"development\", \"discus\", \"doctor\", \"dog\", \"dollar\", \"domestic\", \"domestic violence\", \"donald\", \"donald trump\", \"double\", \"driver\", \"driver\", \"driving\", \"drone\", \"drop\", \"drought\", \"drug\", \"drug\", \"drug\", \"drum\", \"dy\", \"early\", \"east\", \"economic\", \"economy\", \"education\", \"election\", \"emergency\", \"energy\", \"england\", \"escape\", \"evidence\", \"expected\", \"expert\", \"export\", \"extended\", \"extended interview\", \"face\", \"facing\", \"fall\", \"family\", \"farm\", \"farmer\", \"farmer\", \"fatal\", \"father\", \"fear\", \"federal\", \"female\", \"festival\", \"fight\", \"fiji\", \"film\", \"final\", \"finance\", \"financial\", \"find\", \"fine\", \"fined\", \"fire\", \"fire\", \"fire\", \"fire\", \"fire\", \"fire\", \"fire\", \"firefighter\", \"first\", \"first\", \"fish\", \"fishing\", \"five\", \"flight\", \"flood\", \"focus\", \"food\", \"food\", \"footage\", \"football\", \"force\", \"foreign\", \"former\", \"former\", \"found\", \"found\", \"four\", \"france\", \"free\", \"french\", \"friday\", \"front\", \"full\", \"funding\", \"future\", \"game\", \"george\", \"get\", \"girl\", \"give\", \"global\", \"go\", \"gold\", \"gold coast\", \"good\", \"government\", \"grain\", \"grand\", \"grand final\", \"grandstand\", \"grant\", \"great\", \"green\", \"group\", \"grower\", \"growth\", \"guilty\", \"hand\", \"harvest\", \"head\", \"health\", \"health\", \"health\", \"hearing\", \"help\", \"help\", \"help\", \"high\", \"high\", \"highway\", \"hill\", \"history\", \"hit\", \"hobart\", \"hold\", \"home\", \"hope\", \"horse\", \"hospital\", \"hotel\", \"hour\", \"house\", \"house\", \"house\", \"housing\", \"human\", \"hunt\", \"hunter\", \"illegal\", \"impact\", \"increase\", \"india\", \"indian\", \"indigenous\", \"indonesia\", \"indonesian\", \"industry\", \"injured\", \"injured\", \"injured\", \"injury\", \"inquest\", \"inquiry\", \"inquiry\", \"interest\", \"international\", \"interview\", \"investigate\", \"investigation\", \"investment\", \"iran\", \"islamic\", \"island\", \"issue\", \"jail\", \"jailed\", \"james\", \"japan\", \"job\", \"john\", \"join\", \"judge\", \"july\", \"june\", \"kangaroo\", \"keep\", \"kid\", \"kill\", \"killed\", \"killer\", \"killing\", \"kimberley\", \"king\", \"kohler\", \"korea\", \"labor\", \"lake\", \"land\", \"last\", \"latest\", \"launch\", \"law\", \"law\", \"law\", \"lawyer\", \"lead\", \"lead\", \"leader\", \"leaf\", \"league\", \"leave\", \"legal\", \"liberal\", \"life\", \"light\", \"light\", \"like\", \"line\", \"link\", \"live\", \"local\", \"lockdown\", \"long\", \"look\", \"lose\", \"loses\", \"loss\", \"loss\", \"lost\", \"mackay\", \"major\", \"make\", \"making\", \"march\", \"mark\", \"market\", \"marriage\", \"match\", \"mayor\", \"medium\", \"meet\", \"meeting\", \"melbourne\", \"melbourne\", \"melbourne\", \"mental\", \"mental health\", \"michael\", \"military\", \"million\", \"million\", \"mine\", \"miner\", \"mining\", \"minister\", \"miss\", \"missing\", \"monday\", \"money\", \"month\", \"morrison\", \"mother\", \"mount\", \"move\", \"move\", \"murder\", \"murder\", \"murder\", \"murray\", \"name\", \"named\", \"nation\", \"national\", \"national rural\", \"near\", \"near\", \"need\", \"newcastle\", \"news\", \"next\", \"north\", \"north\", \"north korea\", \"northern\", \"november\", \"number\", \"nurse\", \"october\", \"offer\", \"officer\", \"online\", \"open\", \"opposition\", \"order\", \"origin\", \"outback\", \"owner\", \"owner\", \"pacific\", \"pakistan\", \"pandemic\", \"parent\", \"park\", \"park\", \"park\", \"park\", \"parliament\", \"party\", \"patient\", \"paul\", \"people\", \"perth\", \"peter\", \"philippine\", \"photo\", \"pilot\", \"plan\", \"plan\", \"plan\", \"plan\", \"plane\", \"plant\", \"play\", \"player\", \"pleads\", \"pleads guilty\", \"point\", \"police\", \"police\", \"police\", \"police\", \"police\", \"police\", \"police\", \"police\", \"police\", \"police\", \"police officer\", \"policy\", \"political\", \"politics\", \"port\", \"post\", \"power\", \"premier\", \"president\", \"pressure\", \"price\", \"price\", \"prison\", \"probe\", \"probe\", \"problem\", \"profit\", \"program\", \"project\", \"promise\", \"property\", \"protest\", \"protester\", \"public\", \"public\", \"push\", \"quarter\", \"queensland\", \"question\", \"race\", \"raid\", \"rail\", \"rain\", \"rain\", \"rally\", \"rape\", \"rate\", \"reach\", \"ready\", \"record\", \"record\", \"record\", \"recovery\", \"reform\", \"refugee\", \"region\", \"regional\", \"reject\", \"release\", \"released\", \"remote\", \"report\", \"rescue\", \"rescued\", \"research\", \"resident\", \"response\", \"restriction\", \"result\", \"return\", \"reveals\", \"review\", \"right\", \"rise\", \"rise\", \"risk\", \"river\", \"road\", \"road\", \"role\", \"round\", \"royal\", \"royal commission\", \"rugby\", \"rule\", \"rural\", \"rural\", \"rural news\", \"russia\", \"russian\", \"safe\", \"safety\", \"sale\", \"sale\", \"save\", \"say\", \"say\", \"say\", \"say\", \"scandal\", \"scheme\", \"school\", \"scott\", \"scott morrison\", \"search\", \"search\", \"season\", \"seat\", \"second\", \"security\", \"seek\", \"seeker\", \"sell\", \"senate\", \"sentence\", \"sentence\", \"sentenced\", \"september\", \"service\", \"sexual\", \"share\", \"share market\", \"shark\", \"ship\", \"shire\", \"shooting\", \"shot\", \"shot\", \"show\", \"sign\", \"site\", \"slam\", \"small\", \"smith\", \"social\", \"soldier\", \"south\", \"southern\", \"space\", \"spark\", \"speaks\", \"sport\", \"spring\", \"stabbing\", \"staff\", \"stand\", \"star\", \"start\", \"state\", \"station\", \"stay\", \"step\", \"still\", \"stolen\", \"stop\", \"storm\", \"storm\", \"storm\", \"story\", \"street\", \"strike\", \"student\", \"study\", \"sugar\", \"suicide\", \"super\", \"supply\", \"support\", \"surgery\", \"survey\", \"swan\", \"sydney\", \"sydney\", \"sydney\", \"syria\", \"system\", \"take\", \"talk\", \"target\", \"tasmania\", \"tasmanian\", \"teacher\", \"team\", \"team\", \"teen\", \"teenager\", \"tell\", \"territory\", \"test\", \"testing\", \"third\", \"thousand\", \"threat\", \"three\", \"thursday\", \"tiger\", \"time\", \"title\", \"told\", \"toll\", \"tony\", \"tour\", \"tourism\", \"tourist\", \"town\", \"townsville\", \"track\", \"trade\", \"train\", \"training\", \"transport\", \"travel\", \"tree\", \"trial\", \"trial\", \"trial\", \"truck\", \"trump\", \"tuesday\", \"turn\", \"turnbull\", \"union\", \"union\", \"united\", \"university\", \"update\", \"urge\", \"valley\", \"veteran\", \"victim\", \"victim\", \"victoria\", \"victorian\", \"victory\", \"video\", \"violence\", \"visit\", \"vote\", \"wall\", \"wallaby\", \"want\", \"warning\", \"warns\", \"waste\", \"water\", \"water\", \"water\", \"weather\", \"wednesday\", \"week\", \"west\", \"western\", \"white\", \"wild\", \"win\", \"wind\", \"wine\", \"winner\", \"woman\", \"wont\", \"work\", \"worker\", \"worker\", \"world\", \"wrap\", \"year\", \"year\", \"young\", \"youth\", \"zealand\"]}, \"R\": 30, \"lambda.step\": 0.01, \"plot.opts\": {\"xlab\": \"PC1\", \"ylab\": \"PC2\"}, \"topic.order\": [13, 10, 4, 11, 16, 3, 20, 17, 1, 19, 14, 15, 8, 9, 7, 5, 6, 2, 18, 12]};\n",
              "\n",
              "function LDAvis_load_lib(url, callback){\n",
              "  var s = document.createElement('script');\n",
              "  s.src = url;\n",
              "  s.async = true;\n",
              "  s.onreadystatechange = s.onload = callback;\n",
              "  s.onerror = function(){console.warn(\"failed to load library \" + url);};\n",
              "  document.getElementsByTagName(\"head\")[0].appendChild(s);\n",
              "}\n",
              "\n",
              "if(typeof(LDAvis) !== \"undefined\"){\n",
              "   // already loaded: just create the visualization\n",
              "   !function(LDAvis){\n",
              "       new LDAvis(\"#\" + \"ldavis_el3581399606322265129281664484\", ldavis_el3581399606322265129281664484_data);\n",
              "   }(LDAvis);\n",
              "}else if(typeof define === \"function\" && define.amd){\n",
              "   // require.js is available: use it to load d3/LDAvis\n",
              "   require.config({paths: {d3: \"https://d3js.org/d3.v5\"}});\n",
              "   require([\"d3\"], function(d3){\n",
              "      window.d3 = d3;\n",
              "      LDAvis_load_lib(\"https://cdn.jsdelivr.net/gh/bmabey/pyLDAvis@3.3.1/pyLDAvis/js/ldavis.v3.0.0.js\", function(){\n",
              "        new LDAvis(\"#\" + \"ldavis_el3581399606322265129281664484\", ldavis_el3581399606322265129281664484_data);\n",
              "      });\n",
              "    });\n",
              "}else{\n",
              "    // require.js not available: dynamically load d3 & LDAvis\n",
              "    LDAvis_load_lib(\"https://d3js.org/d3.v5.js\", function(){\n",
              "         LDAvis_load_lib(\"https://cdn.jsdelivr.net/gh/bmabey/pyLDAvis@3.3.1/pyLDAvis/js/ldavis.v3.0.0.js\", function(){\n",
              "                 new LDAvis(\"#\" + \"ldavis_el3581399606322265129281664484\", ldavis_el3581399606322265129281664484_data);\n",
              "            })\n",
              "         });\n",
              "}\n",
              "</script>"
            ],
            "text/plain": [
              "PreparedData(topic_coordinates=              x         y  topics  cluster      Freq\n",
              "topic                                               \n",
              "12    -0.181567 -0.052764       1        1  5.621199\n",
              "9      0.096530  0.076398       2        1  5.404073\n",
              "3      0.113550 -0.055457       3        1  5.173005\n",
              "10    -0.066508 -0.094020       4        1  5.132125\n",
              "15     0.118551  0.168088       5        1  5.050068\n",
              "2      0.111031  0.130990       6        1  5.049910\n",
              "19    -0.107039 -0.168078       7        1  5.038129\n",
              "16     0.158912 -0.154940       8        1  5.028129\n",
              "0      0.114011  0.082870       9        1  5.017374\n",
              "18    -0.174603  0.104250      10        1  4.961355\n",
              "13     0.032126  0.079531      11        1  4.947165\n",
              "14    -0.119641  0.148698      12        1  4.946355\n",
              "7     -0.133201  0.007058      13        1  4.933431\n",
              "8     -0.016131 -0.005134      14        1  4.924098\n",
              "6      0.065865 -0.150169      15        1  4.910854\n",
              "4     -0.125871  0.010796      16        1  4.904815\n",
              "5      0.021464 -0.045856      17        1  4.803747\n",
              "1      0.157828  0.012736      18        1  4.741924\n",
              "17    -0.073024  0.110813      19        1  4.725842\n",
              "11     0.007715 -0.205809      20        1  4.686401, topic_info=              Term         Freq        Total Category  logprob  loglift\n",
              "2060     australia  7515.000000  7515.000000  Default  30.0000  30.0000\n",
              "7467   coronavirus  6641.000000  6641.000000  Default  29.0000  29.0000\n",
              "2166    australian  5839.000000  5839.000000  Default  28.0000  28.0000\n",
              "35982        woman  4868.000000  4868.000000  Default  27.0000  27.0000\n",
              "17174    interview  4743.000000  4743.000000  Default  26.0000  26.0000\n",
              "...            ...          ...          ...      ...      ...      ...\n",
              "25526        probe  1153.255197  1346.888065  Topic20  -4.7284   2.9053\n",
              "3809         boost  1260.286736  1593.457671  Topic20  -4.6397   2.8259\n",
              "24347         plan  1859.189769  3523.767421  Topic20  -4.2509   2.4211\n",
              "16924      injured   827.436399  1256.478960  Topic20  -5.0604   2.6428\n",
              "24622       police   871.334503  7387.554815  Topic20  -5.0087   0.9230\n",
              "\n",
              "[714 rows x 6 columns], token_table=       Topic      Freq     Term\n",
              "term                           \n",
              "113        3  0.998623     2014\n",
              "116        2  0.999427     2015\n",
              "118       11  0.998888     2016\n",
              "122       17  0.998508     2018\n",
              "126       11  0.998836     2020\n",
              "...      ...       ...      ...\n",
              "36485      4  0.225028     year\n",
              "36485     17  0.774727     year\n",
              "36562     13  0.999517    young\n",
              "36585      7  0.998796    youth\n",
              "36621      5  0.998929  zealand\n",
              "\n",
              "[798 rows x 3 columns], R=30, lambda_step=0.01, plot_opts={'xlab': 'PC1', 'ylab': 'PC2'}, topic_order=[13, 10, 4, 11, 16, 3, 20, 17, 1, 19, 14, 15, 8, 9, 7, 5, 6, 2, 18, 12])"
            ]
          },
          "metadata": {
            "tags": []
          },
          "execution_count": 44
        }
      ]
    }
  ]
}