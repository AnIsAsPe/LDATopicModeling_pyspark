{
  "nbformat": 4,
  "nbformat_minor": 0,
  "metadata": {
    "colab": {
      "name": "LDA con sklearn_noticias 2020.ipynb",
      "provenance": [],
      "collapsed_sections": [],
      "toc_visible": true,
      "mount_file_id": "1TZw-OKJgaN5Lx5h7E2KVpmuAjDlt7uvV",
      "authorship_tag": "ABX9TyPPxvz8tNh0DLKOvWslABks",
      "include_colab_link": true
    },
    "kernelspec": {
      "name": "python3",
      "display_name": "Python 3"
    },
    "language_info": {
      "name": "python"
    }
  },
  "cells": [
    {
      "cell_type": "markdown",
      "metadata": {
        "id": "view-in-github",
        "colab_type": "text"
      },
      "source": [
        "<a href=\"https://colab.research.google.com/github/AnIsAsPe/LDATopicModeling_pyspark/blob/main/LDA_con_sklearn_noticias_2020.ipynb\" target=\"_parent\"><img src=\"https://colab.research.google.com/assets/colab-badge.svg\" alt=\"Open In Colab\"/></a>"
      ]
    },
    {
      "cell_type": "markdown",
      "metadata": {
        "id": "qxCHG0OaQUa8"
      },
      "source": [
        "# Instalar y cargar bibliotecas"
      ]
    },
    {
      "cell_type": "code",
      "metadata": {
        "colab": {
          "base_uri": "https://localhost:8080/",
          "height": 904
        },
        "id": "ASPXxCfTa2bL",
        "outputId": "828f7b2f-3a3b-4888-9dd8-522b10ca049b"
      },
      "source": [
        "!pip install pyLDAvis  #biblioteca que extrae información de un modelo LDA para obtener una visualización interactiva"
      ],
      "execution_count": 1,
      "outputs": [
        {
          "output_type": "stream",
          "text": [
            "Collecting pyLDAvis\n",
            "\u001b[?25l  Downloading https://files.pythonhosted.org/packages/03/a5/15a0da6b0150b8b68610cc78af80364a80a9a4c8b6dd5ee549b8989d4b60/pyLDAvis-3.3.1.tar.gz (1.7MB)\n",
            "\u001b[K     |████████████████████████████████| 1.7MB 5.3MB/s \n",
            "\u001b[?25h  Installing build dependencies ... \u001b[?25l\u001b[?25hdone\n",
            "  Getting requirements to build wheel ... \u001b[?25l\u001b[?25hdone\n",
            "  Installing backend dependencies ... \u001b[?25l\u001b[?25hdone\n",
            "    Preparing wheel metadata ... \u001b[?25l\u001b[?25hdone\n",
            "Requirement already satisfied: jinja2 in /usr/local/lib/python3.7/dist-packages (from pyLDAvis) (2.11.3)\n",
            "Requirement already satisfied: joblib in /usr/local/lib/python3.7/dist-packages (from pyLDAvis) (1.0.1)\n",
            "Requirement already satisfied: scikit-learn in /usr/local/lib/python3.7/dist-packages (from pyLDAvis) (0.22.2.post1)\n",
            "Requirement already satisfied: future in /usr/local/lib/python3.7/dist-packages (from pyLDAvis) (0.16.0)\n",
            "Collecting pandas>=1.2.0\n",
            "\u001b[?25l  Downloading https://files.pythonhosted.org/packages/51/51/48f3fc47c4e2144da2806dfb6629c4dd1fa3d5a143f9652b141e979a8ca9/pandas-1.2.4-cp37-cp37m-manylinux1_x86_64.whl (9.9MB)\n",
            "\u001b[K     |████████████████████████████████| 9.9MB 16.9MB/s \n",
            "\u001b[?25hCollecting funcy\n",
            "  Downloading https://files.pythonhosted.org/packages/44/52/5cf7401456a461e4b481650dfb8279bc000f31a011d0918904f86e755947/funcy-1.16-py2.py3-none-any.whl\n",
            "Requirement already satisfied: gensim in /usr/local/lib/python3.7/dist-packages (from pyLDAvis) (3.6.0)\n",
            "Requirement already satisfied: numexpr in /usr/local/lib/python3.7/dist-packages (from pyLDAvis) (2.7.3)\n",
            "Requirement already satisfied: setuptools in /usr/local/lib/python3.7/dist-packages (from pyLDAvis) (57.0.0)\n",
            "Collecting numpy>=1.20.0\n",
            "\u001b[?25l  Downloading https://files.pythonhosted.org/packages/a5/42/560d269f604d3e186a57c21a363e77e199358d054884e61b73e405dd217c/numpy-1.20.3-cp37-cp37m-manylinux_2_12_x86_64.manylinux2010_x86_64.whl (15.3MB)\n",
            "\u001b[K     |████████████████████████████████| 15.3MB 191kB/s \n",
            "\u001b[?25hRequirement already satisfied: sklearn in /usr/local/lib/python3.7/dist-packages (from pyLDAvis) (0.0)\n",
            "Requirement already satisfied: scipy in /usr/local/lib/python3.7/dist-packages (from pyLDAvis) (1.4.1)\n",
            "Requirement already satisfied: MarkupSafe>=0.23 in /usr/local/lib/python3.7/dist-packages (from jinja2->pyLDAvis) (2.0.1)\n",
            "Requirement already satisfied: pytz>=2017.3 in /usr/local/lib/python3.7/dist-packages (from pandas>=1.2.0->pyLDAvis) (2018.9)\n",
            "Requirement already satisfied: python-dateutil>=2.7.3 in /usr/local/lib/python3.7/dist-packages (from pandas>=1.2.0->pyLDAvis) (2.8.1)\n",
            "Requirement already satisfied: six>=1.5.0 in /usr/local/lib/python3.7/dist-packages (from gensim->pyLDAvis) (1.15.0)\n",
            "Requirement already satisfied: smart-open>=1.2.1 in /usr/local/lib/python3.7/dist-packages (from gensim->pyLDAvis) (5.1.0)\n",
            "Building wheels for collected packages: pyLDAvis\n",
            "  Building wheel for pyLDAvis (PEP 517) ... \u001b[?25l\u001b[?25hdone\n",
            "  Created wheel for pyLDAvis: filename=pyLDAvis-3.3.1-cp37-none-any.whl size=136897 sha256=1ba4da51f30d53d51f40f9286db435fde60c5b936410269836adc6234d567a96\n",
            "  Stored in directory: /root/.cache/pip/wheels/a0/9c/fc/c6e00689d35c82cf96a8adc70edfe7ba7904374fdac3240ac2\n",
            "Successfully built pyLDAvis\n",
            "\u001b[31mERROR: tensorflow 2.5.0 has requirement numpy~=1.19.2, but you'll have numpy 1.20.3 which is incompatible.\u001b[0m\n",
            "\u001b[31mERROR: google-colab 1.0.0 has requirement pandas~=1.1.0; python_version >= \"3.0\", but you'll have pandas 1.2.4 which is incompatible.\u001b[0m\n",
            "\u001b[31mERROR: datascience 0.10.6 has requirement folium==0.2.1, but you'll have folium 0.8.3 which is incompatible.\u001b[0m\n",
            "\u001b[31mERROR: albumentations 0.1.12 has requirement imgaug<0.2.7,>=0.2.5, but you'll have imgaug 0.2.9 which is incompatible.\u001b[0m\n",
            "Installing collected packages: numpy, pandas, funcy, pyLDAvis\n",
            "  Found existing installation: numpy 1.19.5\n",
            "    Uninstalling numpy-1.19.5:\n",
            "      Successfully uninstalled numpy-1.19.5\n",
            "  Found existing installation: pandas 1.1.5\n",
            "    Uninstalling pandas-1.1.5:\n",
            "      Successfully uninstalled pandas-1.1.5\n",
            "Successfully installed funcy-1.16 numpy-1.20.3 pandas-1.2.4 pyLDAvis-3.3.1\n"
          ],
          "name": "stdout"
        },
        {
          "output_type": "display_data",
          "data": {
            "application/vnd.colab-display-data+json": {
              "pip_warning": {
                "packages": [
                  "numpy",
                  "pandas"
                ]
              }
            }
          },
          "metadata": {
            "tags": []
          }
        }
      ]
    },
    {
      "cell_type": "code",
      "metadata": {
        "colab": {
          "base_uri": "https://localhost:8080/"
        },
        "id": "ROy7X72IDE2X",
        "outputId": "34b6dac7-9b81-4881-bf48-3c47df2f2602"
      },
      "source": [
        "import pandas as pd\n",
        "import numpy as np\n",
        "\n",
        "import re\n",
        "import nltk\n",
        "from nltk.corpus import stopwords\n",
        "from nltk.stem import PorterStemmer, WordNetLemmatizer\n",
        "\n",
        "from sklearn.feature_extraction.text import TfidfVectorizer\n",
        "\n",
        "import pyLDAvis\n",
        "import matplotlib.pyplot as plt \n",
        "import seaborn as sns  \n",
        "\n",
        "nltk.download('stopwords')\n",
        "nltk.download('wordnet')  #WordNetLemmatizer\n",
        "nltk.download('punkt')\n"
      ],
      "execution_count": 1,
      "outputs": [
        {
          "output_type": "stream",
          "text": [
            "/usr/local/lib/python3.7/dist-packages/past/types/oldstr.py:5: DeprecationWarning: Using or importing the ABCs from 'collections' instead of from 'collections.abc' is deprecated since Python 3.3,and in 3.9 it will stop working\n",
            "  from collections import Iterable\n",
            "/usr/local/lib/python3.7/dist-packages/past/builtins/misc.py:4: DeprecationWarning: Using or importing the ABCs from 'collections' instead of from 'collections.abc' is deprecated since Python 3.3,and in 3.9 it will stop working\n",
            "  from collections import Mapping\n",
            "/usr/local/lib/python3.7/dist-packages/sklearn/decomposition/_lda.py:29: DeprecationWarning: `np.float` is a deprecated alias for the builtin `float`. To silence this warning, use `float` by itself. Doing this will not modify any behavior and is safe. If you specifically wanted the numpy scalar type, use `np.float64` here.\n",
            "Deprecated in NumPy 1.20; for more details and guidance: https://numpy.org/devdocs/release/1.20.0-notes.html#deprecations\n",
            "  EPS = np.finfo(np.float).eps\n"
          ],
          "name": "stderr"
        },
        {
          "output_type": "stream",
          "text": [
            "[nltk_data] Downloading package stopwords to /root/nltk_data...\n",
            "[nltk_data]   Unzipping corpora/stopwords.zip.\n",
            "[nltk_data] Downloading package wordnet to /root/nltk_data...\n",
            "[nltk_data]   Unzipping corpora/wordnet.zip.\n",
            "[nltk_data] Downloading package punkt to /root/nltk_data...\n",
            "[nltk_data]   Unzipping tokenizers/punkt.zip.\n"
          ],
          "name": "stdout"
        },
        {
          "output_type": "execute_result",
          "data": {
            "text/plain": [
              "True"
            ]
          },
          "metadata": {
            "tags": []
          },
          "execution_count": 1
        }
      ]
    },
    {
      "cell_type": "markdown",
      "metadata": {
        "id": "c62u7UQQRB_R"
      },
      "source": [
        "# Lectura y exploración de datos"
      ]
    },
    {
      "cell_type": "markdown",
      "metadata": {
        "id": "53qgW2CaSPnG"
      },
      "source": [
        "En colab, al instalar la librería pyLDAvis causa un conflicto con Pandas. Si esto se refleja al correr la siguiente linea es necesario reiniciar el entorno de ejecución."
      ]
    },
    {
      "cell_type": "code",
      "metadata": {
        "id": "J_rnNHkAQ8aw",
        "colab": {
          "base_uri": "https://localhost:8080/",
          "height": 221
        },
        "outputId": "48d98a42-828f-4bb1-c8b1-b465fd52ca1c"
      },
      "source": [
        "df = pd.read_csv('/content/drive/MyDrive/Datos/abcnews-date-text.csv', parse_dates=['publish_date'] )\n",
        "print(df.shape)\n",
        "df.head()"
      ],
      "execution_count": 2,
      "outputs": [
        {
          "output_type": "stream",
          "text": [
            "(1226258, 2)\n"
          ],
          "name": "stdout"
        },
        {
          "output_type": "execute_result",
          "data": {
            "text/html": [
              "<div>\n",
              "<style scoped>\n",
              "    .dataframe tbody tr th:only-of-type {\n",
              "        vertical-align: middle;\n",
              "    }\n",
              "\n",
              "    .dataframe tbody tr th {\n",
              "        vertical-align: top;\n",
              "    }\n",
              "\n",
              "    .dataframe thead th {\n",
              "        text-align: right;\n",
              "    }\n",
              "</style>\n",
              "<table border=\"1\" class=\"dataframe\">\n",
              "  <thead>\n",
              "    <tr style=\"text-align: right;\">\n",
              "      <th></th>\n",
              "      <th>publish_date</th>\n",
              "      <th>headline_text</th>\n",
              "    </tr>\n",
              "  </thead>\n",
              "  <tbody>\n",
              "    <tr>\n",
              "      <th>0</th>\n",
              "      <td>2003-02-19</td>\n",
              "      <td>aba decides against community broadcasting lic...</td>\n",
              "    </tr>\n",
              "    <tr>\n",
              "      <th>1</th>\n",
              "      <td>2003-02-19</td>\n",
              "      <td>act fire witnesses must be aware of defamation</td>\n",
              "    </tr>\n",
              "    <tr>\n",
              "      <th>2</th>\n",
              "      <td>2003-02-19</td>\n",
              "      <td>a g calls for infrastructure protection summit</td>\n",
              "    </tr>\n",
              "    <tr>\n",
              "      <th>3</th>\n",
              "      <td>2003-02-19</td>\n",
              "      <td>air nz staff in aust strike for pay rise</td>\n",
              "    </tr>\n",
              "    <tr>\n",
              "      <th>4</th>\n",
              "      <td>2003-02-19</td>\n",
              "      <td>air nz strike to affect australian travellers</td>\n",
              "    </tr>\n",
              "  </tbody>\n",
              "</table>\n",
              "</div>"
            ],
            "text/plain": [
              "  publish_date                                      headline_text\n",
              "0   2003-02-19  aba decides against community broadcasting lic...\n",
              "1   2003-02-19     act fire witnesses must be aware of defamation\n",
              "2   2003-02-19     a g calls for infrastructure protection summit\n",
              "3   2003-02-19           air nz staff in aust strike for pay rise\n",
              "4   2003-02-19      air nz strike to affect australian travellers"
            ]
          },
          "metadata": {
            "tags": []
          },
          "execution_count": 2
        }
      ]
    },
    {
      "cell_type": "code",
      "metadata": {
        "id": "cxLRzl0CVkeg",
        "colab": {
          "base_uri": "https://localhost:8080/"
        },
        "outputId": "4c34965e-5991-49d3-c671-53426dc6b7c3"
      },
      "source": [
        "df.publish_date.min(), df.publish_date.max()"
      ],
      "execution_count": 3,
      "outputs": [
        {
          "output_type": "execute_result",
          "data": {
            "text/plain": [
              "(Timestamp('2003-02-19 00:00:00'), Timestamp('2020-12-31 00:00:00'))"
            ]
          },
          "metadata": {
            "tags": []
          },
          "execution_count": 3
        }
      ]
    },
    {
      "cell_type": "code",
      "metadata": {
        "id": "NXSLK4Y4V_yM",
        "colab": {
          "base_uri": "https://localhost:8080/"
        },
        "outputId": "ef3899dc-fa57-4162-9a16-838ae4ae3640"
      },
      "source": [
        "# promedio de noticias por día\n",
        "len(df)/(df.publish_date.max()-df.publish_date.min()).days\n"
      ],
      "execution_count": 4,
      "outputs": [
        {
          "output_type": "execute_result",
          "data": {
            "text/plain": [
              "187.93226053639847"
            ]
          },
          "metadata": {
            "tags": []
          },
          "execution_count": 4
        }
      ]
    },
    {
      "cell_type": "code",
      "metadata": {
        "id": "SXavCnKbSpnX",
        "colab": {
          "base_uri": "https://localhost:8080/"
        },
        "outputId": "b05c8575-a560-4132-cf57-e3c1a4e28df9"
      },
      "source": [
        "\n",
        "filtro = (df['publish_date']>= '2020-01-01')&(df['publish_date']<= '2020-12-31')\n",
        "df = df[filtro]\n",
        "len(df)"
      ],
      "execution_count": 10,
      "outputs": [
        {
          "output_type": "execute_result",
          "data": {
            "text/plain": [
              "40240"
            ]
          },
          "metadata": {
            "tags": []
          },
          "execution_count": 10
        }
      ]
    },
    {
      "cell_type": "markdown",
      "metadata": {
        "id": "xzNvH1AmRHeK"
      },
      "source": [
        "# Vectorización de textos"
      ]
    },
    {
      "cell_type": "code",
      "metadata": {
        "id": "7k_x2WD3-iZ6"
      },
      "source": [
        "def preprocesar(texto):\n",
        "  #convierte a minúsculas\n",
        "  texto = (texto).lower()\n",
        "\n",
        "  #elimina stopwords\n",
        "  stop = re.compile(r'\\b(' + r'|'.join(stopwords.words('english')) + r')\\b\\s*')\n",
        "  texto = stop.sub('', texto) \n",
        "\n",
        "  #lematizar y quedarnos con palabras que tengan más de tres caracteres\n",
        "  lemmatizer = WordNetLemmatizer()\n",
        "  texto = texto.split()\n",
        "  texto = ' '.join([lemmatizer.lemmatize(i) for i in texto if len(i)>3])\n",
        "  \n",
        "  return(texto)"
      ],
      "execution_count": 11,
      "outputs": []
    },
    {
      "cell_type": "code",
      "metadata": {
        "id": "KkCgpoY7S4g2",
        "colab": {
          "base_uri": "https://localhost:8080/"
        },
        "outputId": "4b698be6-4d17-4ef0-d557-300cc9fc53aa"
      },
      "source": [
        "%%time\n",
        "df['headline_pp']=df['headline_text'].apply(preprocesar)\n",
        "df.head()"
      ],
      "execution_count": 12,
      "outputs": [
        {
          "output_type": "stream",
          "text": [
            "CPU times: user 8.86 s, sys: 738 ms, total: 9.6 s\n",
            "Wall time: 9.63 s\n"
          ],
          "name": "stdout"
        }
      ]
    },
    {
      "cell_type": "code",
      "metadata": {
        "id": "8xsWZiBKYUA2",
        "colab": {
          "base_uri": "https://localhost:8080/"
        },
        "outputId": "29450c56-011b-498d-f004-831c5ca5a005"
      },
      "source": [
        "vectorizer = TfidfVectorizer(min_df=3, ngram_range=(1,2))\n",
        "BOW = vectorizer.fit_transform(df['headline_pp'])\n",
        "BOW.shape"
      ],
      "execution_count": 13,
      "outputs": [
        {
          "output_type": "execute_result",
          "data": {
            "text/plain": [
              "(40240, 16579)"
            ]
          },
          "metadata": {
            "tags": []
          },
          "execution_count": 13
        }
      ]
    },
    {
      "cell_type": "markdown",
      "metadata": {
        "id": "2eoNRdQ1RMQr"
      },
      "source": [
        "# Entrenamiento del modelo"
      ]
    },
    {
      "cell_type": "code",
      "metadata": {
        "id": "t8nGEao-afRB"
      },
      "source": [
        "from sklearn.decomposition import LatentDirichletAllocation\n",
        "lda_model=LatentDirichletAllocation(n_components=5,learning_method='online',random_state=42,max_iter=50) "
      ],
      "execution_count": 19,
      "outputs": []
    },
    {
      "cell_type": "code",
      "metadata": {
        "id": "vUKtulg8alik",
        "colab": {
          "base_uri": "https://localhost:8080/"
        },
        "outputId": "59f406ef-918e-4fb7-8689-c8c1860c030c"
      },
      "source": [
        "%%time\n",
        "lda_top=lda_model.fit_transform(BOW) # entrena el modelo y obtienela matriz documento-topico"
      ],
      "execution_count": 20,
      "outputs": [
        {
          "output_type": "stream",
          "text": [
            "CPU times: user 4min 1s, sys: 1.62 s, total: 4min 2s\n",
            "Wall time: 4min 2s\n"
          ],
          "name": "stdout"
        }
      ]
    },
    {
      "cell_type": "markdown",
      "metadata": {
        "id": "Sr5WWdrlEkAe"
      },
      "source": [
        "### Matriz documento tópico"
      ]
    },
    {
      "cell_type": "code",
      "metadata": {
        "colab": {
          "base_uri": "https://localhost:8080/",
          "height": 221
        },
        "id": "MRagkOQS4Y0w",
        "outputId": "566af301-de17-4e05-9f6b-bafe039edc08"
      },
      "source": [
        "doc_top = pd.DataFrame(lda_top)\n",
        "print(doc_top.shape)\n",
        "doc_top.head()"
      ],
      "execution_count": 27,
      "outputs": [
        {
          "output_type": "stream",
          "text": [
            "(40240, 5)\n"
          ],
          "name": "stdout"
        },
        {
          "output_type": "execute_result",
          "data": {
            "text/html": [
              "<div>\n",
              "<style scoped>\n",
              "    .dataframe tbody tr th:only-of-type {\n",
              "        vertical-align: middle;\n",
              "    }\n",
              "\n",
              "    .dataframe tbody tr th {\n",
              "        vertical-align: top;\n",
              "    }\n",
              "\n",
              "    .dataframe thead th {\n",
              "        text-align: right;\n",
              "    }\n",
              "</style>\n",
              "<table border=\"1\" class=\"dataframe\">\n",
              "  <thead>\n",
              "    <tr style=\"text-align: right;\">\n",
              "      <th></th>\n",
              "      <th>0</th>\n",
              "      <th>1</th>\n",
              "      <th>2</th>\n",
              "      <th>3</th>\n",
              "      <th>4</th>\n",
              "    </tr>\n",
              "  </thead>\n",
              "  <tbody>\n",
              "    <tr>\n",
              "      <th>0</th>\n",
              "      <td>0.394430</td>\n",
              "      <td>0.380654</td>\n",
              "      <td>0.074977</td>\n",
              "      <td>0.074743</td>\n",
              "      <td>0.075196</td>\n",
              "    </tr>\n",
              "    <tr>\n",
              "      <th>1</th>\n",
              "      <td>0.199485</td>\n",
              "      <td>0.630972</td>\n",
              "      <td>0.056487</td>\n",
              "      <td>0.056418</td>\n",
              "      <td>0.056639</td>\n",
              "    </tr>\n",
              "    <tr>\n",
              "      <th>2</th>\n",
              "      <td>0.165149</td>\n",
              "      <td>0.666773</td>\n",
              "      <td>0.056001</td>\n",
              "      <td>0.055938</td>\n",
              "      <td>0.056139</td>\n",
              "    </tr>\n",
              "    <tr>\n",
              "      <th>3</th>\n",
              "      <td>0.062683</td>\n",
              "      <td>0.458073</td>\n",
              "      <td>0.062562</td>\n",
              "      <td>0.062565</td>\n",
              "      <td>0.354117</td>\n",
              "    </tr>\n",
              "    <tr>\n",
              "      <th>4</th>\n",
              "      <td>0.502484</td>\n",
              "      <td>0.067217</td>\n",
              "      <td>0.067445</td>\n",
              "      <td>0.295285</td>\n",
              "      <td>0.067569</td>\n",
              "    </tr>\n",
              "  </tbody>\n",
              "</table>\n",
              "</div>"
            ],
            "text/plain": [
              "          0         1         2         3         4\n",
              "0  0.394430  0.380654  0.074977  0.074743  0.075196\n",
              "1  0.199485  0.630972  0.056487  0.056418  0.056639\n",
              "2  0.165149  0.666773  0.056001  0.055938  0.056139\n",
              "3  0.062683  0.458073  0.062562  0.062565  0.354117\n",
              "4  0.502484  0.067217  0.067445  0.295285  0.067569"
            ]
          },
          "metadata": {
            "tags": []
          },
          "execution_count": 27
        }
      ]
    },
    {
      "cell_type": "markdown",
      "metadata": {
        "id": "65F5fE3wEpDB"
      },
      "source": [
        "# Matriz tópicos-tokens"
      ]
    },
    {
      "cell_type": "code",
      "metadata": {
        "colab": {
          "base_uri": "https://localhost:8080/"
        },
        "id": "qqtXWYH245oP",
        "outputId": "bb80fdd4-9471-463d-c5f2-0db060be6aa2"
      },
      "source": [
        "lda_model.components_"
      ],
      "execution_count": 26,
      "outputs": [
        {
          "output_type": "execute_result",
          "data": {
            "text/plain": [
              "(5, 16579)"
            ]
          },
          "metadata": {
            "tags": []
          },
          "execution_count": 26
        }
      ]
    },
    {
      "cell_type": "code",
      "metadata": {
        "colab": {
          "base_uri": "https://localhost:8080/",
          "height": 287
        },
        "id": "Phpfg6MlE1ZR",
        "outputId": "ba456d71-de4c-494c-e1d9-1528c0ea8e19"
      },
      "source": [
        "top_tokens= pd.DataFrame(lda_model.components_,\n",
        "                         columns=vocabulario)\n",
        "print(top_tokens.shape)\n",
        "top_tokens.head()"
      ],
      "execution_count": 36,
      "outputs": [
        {
          "output_type": "stream",
          "text": [
            "(5, 16579)\n"
          ],
          "name": "stdout"
        },
        {
          "output_type": "execute_result",
          "data": {
            "text/html": [
              "<div>\n",
              "<style scoped>\n",
              "    .dataframe tbody tr th:only-of-type {\n",
              "        vertical-align: middle;\n",
              "    }\n",
              "\n",
              "    .dataframe tbody tr th {\n",
              "        vertical-align: top;\n",
              "    }\n",
              "\n",
              "    .dataframe thead th {\n",
              "        text-align: right;\n",
              "    }\n",
              "</style>\n",
              "<table border=\"1\" class=\"dataframe\">\n",
              "  <thead>\n",
              "    <tr style=\"text-align: right;\">\n",
              "      <th></th>\n",
              "      <th>0501</th>\n",
              "      <th>1000</th>\n",
              "      <th>10000</th>\n",
              "      <th>100000</th>\n",
              "      <th>100k</th>\n",
              "      <th>100m</th>\n",
              "      <th>100th</th>\n",
              "      <th>100th birthday</th>\n",
              "      <th>1080</th>\n",
              "      <th>10th</th>\n",
              "      <th>10yo</th>\n",
              "      <th>11th</th>\n",
              "      <th>12th</th>\n",
              "      <th>130</th>\n",
              "      <th>130 billion</th>\n",
              "      <th>13th</th>\n",
              "      <th>14th</th>\n",
              "      <th>14yo</th>\n",
              "      <th>14yo girl</th>\n",
              "      <th>150</th>\n",
              "      <th>150 million</th>\n",
              "      <th>1500</th>\n",
              "      <th>15th</th>\n",
              "      <th>15yo</th>\n",
              "      <th>16th</th>\n",
              "      <th>17th</th>\n",
              "      <th>17yo</th>\n",
              "      <th>18th</th>\n",
              "      <th>18yo</th>\n",
              "      <th>1970s</th>\n",
              "      <th>1980s</th>\n",
              "      <th>1983</th>\n",
              "      <th>1988</th>\n",
              "      <th>1990s</th>\n",
              "      <th>1995</th>\n",
              "      <th>1996</th>\n",
              "      <th>1999</th>\n",
              "      <th>19th</th>\n",
              "      <th>19yo</th>\n",
              "      <th>2000</th>\n",
              "      <th>...</th>\n",
              "      <th>zahra</th>\n",
              "      <th>zealand</th>\n",
              "      <th>zealand auckland</th>\n",
              "      <th>zealand australia</th>\n",
              "      <th>zealand coronavirus</th>\n",
              "      <th>zealand covid</th>\n",
              "      <th>zealand election</th>\n",
              "      <th>zealand host</th>\n",
              "      <th>zealand jacinda</th>\n",
              "      <th>zealand lift</th>\n",
              "      <th>zealand record</th>\n",
              "      <th>zealand travel</th>\n",
              "      <th>zealand vote</th>\n",
              "      <th>zealand white</th>\n",
              "      <th>zealand woman</th>\n",
              "      <th>zealander</th>\n",
              "      <th>zempilas</th>\n",
              "      <th>zero</th>\n",
              "      <th>zero carbon</th>\n",
              "      <th>zero case</th>\n",
              "      <th>zero coronavirus</th>\n",
              "      <th>zero covid</th>\n",
              "      <th>zero death</th>\n",
              "      <th>zero emission</th>\n",
              "      <th>zero local</th>\n",
              "      <th>ziffer</th>\n",
              "      <th>ziggy</th>\n",
              "      <th>ziggy ramo</th>\n",
              "      <th>zillmere</th>\n",
              "      <th>zillmere brawl</th>\n",
              "      <th>zimbabwe</th>\n",
              "      <th>zlate</th>\n",
              "      <th>zlate cvetanovski</th>\n",
              "      <th>zodiac</th>\n",
              "      <th>zombie</th>\n",
              "      <th>zone</th>\n",
              "      <th>zoo</th>\n",
              "      <th>zoom</th>\n",
              "      <th>zuckerberg</th>\n",
              "      <th>zverev</th>\n",
              "    </tr>\n",
              "  </thead>\n",
              "  <tbody>\n",
              "    <tr>\n",
              "      <th>0</th>\n",
              "      <td>0.200033</td>\n",
              "      <td>9.111763</td>\n",
              "      <td>4.077624</td>\n",
              "      <td>0.202004</td>\n",
              "      <td>0.207123</td>\n",
              "      <td>1.762069</td>\n",
              "      <td>0.200896</td>\n",
              "      <td>0.200714</td>\n",
              "      <td>0.200452</td>\n",
              "      <td>0.200016</td>\n",
              "      <td>0.217593</td>\n",
              "      <td>0.200318</td>\n",
              "      <td>0.200063</td>\n",
              "      <td>0.201344</td>\n",
              "      <td>0.201344</td>\n",
              "      <td>0.200033</td>\n",
              "      <td>0.200057</td>\n",
              "      <td>0.203625</td>\n",
              "      <td>0.206042</td>\n",
              "      <td>1.722284</td>\n",
              "      <td>1.432123</td>\n",
              "      <td>0.208091</td>\n",
              "      <td>0.200016</td>\n",
              "      <td>0.201256</td>\n",
              "      <td>0.200024</td>\n",
              "      <td>0.201364</td>\n",
              "      <td>0.203269</td>\n",
              "      <td>0.200017</td>\n",
              "      <td>0.202239</td>\n",
              "      <td>0.212366</td>\n",
              "      <td>1.510152</td>\n",
              "      <td>1.181604</td>\n",
              "      <td>2.978502</td>\n",
              "      <td>0.200035</td>\n",
              "      <td>1.805999</td>\n",
              "      <td>0.200243</td>\n",
              "      <td>0.205638</td>\n",
              "      <td>0.208218</td>\n",
              "      <td>1.599370</td>\n",
              "      <td>0.202326</td>\n",
              "      <td>...</td>\n",
              "      <td>1.579991</td>\n",
              "      <td>0.204959</td>\n",
              "      <td>0.200536</td>\n",
              "      <td>2.387356</td>\n",
              "      <td>0.200334</td>\n",
              "      <td>0.200030</td>\n",
              "      <td>0.200187</td>\n",
              "      <td>0.202449</td>\n",
              "      <td>0.200492</td>\n",
              "      <td>0.200029</td>\n",
              "      <td>0.200022</td>\n",
              "      <td>0.201550</td>\n",
              "      <td>0.201329</td>\n",
              "      <td>0.200260</td>\n",
              "      <td>0.201081</td>\n",
              "      <td>0.201300</td>\n",
              "      <td>1.549461</td>\n",
              "      <td>0.201580</td>\n",
              "      <td>0.202691</td>\n",
              "      <td>0.200725</td>\n",
              "      <td>0.200107</td>\n",
              "      <td>0.200038</td>\n",
              "      <td>0.205104</td>\n",
              "      <td>0.200922</td>\n",
              "      <td>0.200029</td>\n",
              "      <td>0.200222</td>\n",
              "      <td>0.200970</td>\n",
              "      <td>0.200970</td>\n",
              "      <td>4.427625</td>\n",
              "      <td>0.203395</td>\n",
              "      <td>0.206559</td>\n",
              "      <td>0.200362</td>\n",
              "      <td>0.200362</td>\n",
              "      <td>0.200036</td>\n",
              "      <td>0.202082</td>\n",
              "      <td>0.203077</td>\n",
              "      <td>0.216620</td>\n",
              "      <td>0.216158</td>\n",
              "      <td>0.200970</td>\n",
              "      <td>0.201453</td>\n",
              "    </tr>\n",
              "    <tr>\n",
              "      <th>1</th>\n",
              "      <td>2.049034</td>\n",
              "      <td>0.206527</td>\n",
              "      <td>0.216758</td>\n",
              "      <td>4.210217</td>\n",
              "      <td>0.202938</td>\n",
              "      <td>0.202270</td>\n",
              "      <td>3.000400</td>\n",
              "      <td>2.540759</td>\n",
              "      <td>0.200025</td>\n",
              "      <td>0.200013</td>\n",
              "      <td>2.217388</td>\n",
              "      <td>0.202924</td>\n",
              "      <td>2.169513</td>\n",
              "      <td>1.429844</td>\n",
              "      <td>1.429844</td>\n",
              "      <td>0.204395</td>\n",
              "      <td>0.200359</td>\n",
              "      <td>2.700029</td>\n",
              "      <td>1.922267</td>\n",
              "      <td>0.202148</td>\n",
              "      <td>0.203226</td>\n",
              "      <td>0.202317</td>\n",
              "      <td>0.200013</td>\n",
              "      <td>0.201844</td>\n",
              "      <td>0.202160</td>\n",
              "      <td>0.208982</td>\n",
              "      <td>0.201060</td>\n",
              "      <td>0.200014</td>\n",
              "      <td>0.200504</td>\n",
              "      <td>0.200646</td>\n",
              "      <td>0.201935</td>\n",
              "      <td>0.201900</td>\n",
              "      <td>0.201337</td>\n",
              "      <td>0.203737</td>\n",
              "      <td>0.206347</td>\n",
              "      <td>0.200683</td>\n",
              "      <td>0.214095</td>\n",
              "      <td>0.200889</td>\n",
              "      <td>0.200042</td>\n",
              "      <td>9.559791</td>\n",
              "      <td>...</td>\n",
              "      <td>0.200019</td>\n",
              "      <td>0.212501</td>\n",
              "      <td>2.149336</td>\n",
              "      <td>0.200410</td>\n",
              "      <td>0.204782</td>\n",
              "      <td>1.942133</td>\n",
              "      <td>0.200180</td>\n",
              "      <td>0.200426</td>\n",
              "      <td>0.200604</td>\n",
              "      <td>1.680792</td>\n",
              "      <td>3.312040</td>\n",
              "      <td>0.205136</td>\n",
              "      <td>0.200024</td>\n",
              "      <td>1.842353</td>\n",
              "      <td>0.200582</td>\n",
              "      <td>0.207586</td>\n",
              "      <td>0.200028</td>\n",
              "      <td>0.209004</td>\n",
              "      <td>0.200018</td>\n",
              "      <td>0.204317</td>\n",
              "      <td>3.254015</td>\n",
              "      <td>0.208064</td>\n",
              "      <td>1.522901</td>\n",
              "      <td>0.200249</td>\n",
              "      <td>0.204849</td>\n",
              "      <td>0.200027</td>\n",
              "      <td>0.200988</td>\n",
              "      <td>0.200988</td>\n",
              "      <td>0.200555</td>\n",
              "      <td>0.200022</td>\n",
              "      <td>2.040365</td>\n",
              "      <td>1.360361</td>\n",
              "      <td>1.360361</td>\n",
              "      <td>0.200034</td>\n",
              "      <td>0.216106</td>\n",
              "      <td>0.210442</td>\n",
              "      <td>0.206090</td>\n",
              "      <td>6.471129</td>\n",
              "      <td>0.200728</td>\n",
              "      <td>0.200686</td>\n",
              "    </tr>\n",
              "    <tr>\n",
              "      <th>2</th>\n",
              "      <td>0.200030</td>\n",
              "      <td>0.203799</td>\n",
              "      <td>0.200577</td>\n",
              "      <td>0.203309</td>\n",
              "      <td>0.200888</td>\n",
              "      <td>0.202516</td>\n",
              "      <td>0.203572</td>\n",
              "      <td>0.203142</td>\n",
              "      <td>0.201533</td>\n",
              "      <td>2.913399</td>\n",
              "      <td>0.202492</td>\n",
              "      <td>3.147643</td>\n",
              "      <td>0.216703</td>\n",
              "      <td>0.200411</td>\n",
              "      <td>0.200411</td>\n",
              "      <td>3.188384</td>\n",
              "      <td>0.215572</td>\n",
              "      <td>0.200462</td>\n",
              "      <td>0.200270</td>\n",
              "      <td>0.201141</td>\n",
              "      <td>0.200917</td>\n",
              "      <td>0.203577</td>\n",
              "      <td>3.469768</td>\n",
              "      <td>0.200958</td>\n",
              "      <td>4.150737</td>\n",
              "      <td>3.141834</td>\n",
              "      <td>0.200037</td>\n",
              "      <td>2.415706</td>\n",
              "      <td>0.201472</td>\n",
              "      <td>2.106921</td>\n",
              "      <td>0.200061</td>\n",
              "      <td>0.201017</td>\n",
              "      <td>0.202058</td>\n",
              "      <td>0.202793</td>\n",
              "      <td>0.200042</td>\n",
              "      <td>0.200300</td>\n",
              "      <td>0.200068</td>\n",
              "      <td>3.427343</td>\n",
              "      <td>0.200444</td>\n",
              "      <td>0.203867</td>\n",
              "      <td>...</td>\n",
              "      <td>0.200020</td>\n",
              "      <td>0.201999</td>\n",
              "      <td>0.200023</td>\n",
              "      <td>0.202896</td>\n",
              "      <td>0.201749</td>\n",
              "      <td>0.200692</td>\n",
              "      <td>0.200637</td>\n",
              "      <td>0.201056</td>\n",
              "      <td>0.200103</td>\n",
              "      <td>0.200325</td>\n",
              "      <td>0.200020</td>\n",
              "      <td>0.201078</td>\n",
              "      <td>0.200830</td>\n",
              "      <td>0.200025</td>\n",
              "      <td>0.201052</td>\n",
              "      <td>0.200219</td>\n",
              "      <td>0.200453</td>\n",
              "      <td>32.090546</td>\n",
              "      <td>1.333141</td>\n",
              "      <td>10.659872</td>\n",
              "      <td>0.202130</td>\n",
              "      <td>1.924221</td>\n",
              "      <td>0.211495</td>\n",
              "      <td>3.014000</td>\n",
              "      <td>2.630693</td>\n",
              "      <td>3.121896</td>\n",
              "      <td>0.200028</td>\n",
              "      <td>0.200028</td>\n",
              "      <td>0.200739</td>\n",
              "      <td>0.200025</td>\n",
              "      <td>0.202808</td>\n",
              "      <td>0.200418</td>\n",
              "      <td>0.200418</td>\n",
              "      <td>2.219681</td>\n",
              "      <td>0.200056</td>\n",
              "      <td>14.002050</td>\n",
              "      <td>2.254762</td>\n",
              "      <td>0.203377</td>\n",
              "      <td>1.801844</td>\n",
              "      <td>0.201464</td>\n",
              "    </tr>\n",
              "    <tr>\n",
              "      <th>3</th>\n",
              "      <td>0.200034</td>\n",
              "      <td>0.202232</td>\n",
              "      <td>0.222078</td>\n",
              "      <td>0.203705</td>\n",
              "      <td>0.204407</td>\n",
              "      <td>0.200378</td>\n",
              "      <td>0.202035</td>\n",
              "      <td>0.202438</td>\n",
              "      <td>0.200029</td>\n",
              "      <td>0.200017</td>\n",
              "      <td>0.204440</td>\n",
              "      <td>0.200678</td>\n",
              "      <td>0.201163</td>\n",
              "      <td>0.200033</td>\n",
              "      <td>0.200033</td>\n",
              "      <td>0.200034</td>\n",
              "      <td>0.200059</td>\n",
              "      <td>0.205255</td>\n",
              "      <td>0.203716</td>\n",
              "      <td>0.201771</td>\n",
              "      <td>0.201841</td>\n",
              "      <td>2.975499</td>\n",
              "      <td>0.200017</td>\n",
              "      <td>2.178724</td>\n",
              "      <td>0.200025</td>\n",
              "      <td>0.200045</td>\n",
              "      <td>1.552296</td>\n",
              "      <td>0.200018</td>\n",
              "      <td>1.731663</td>\n",
              "      <td>0.206935</td>\n",
              "      <td>0.257660</td>\n",
              "      <td>0.200851</td>\n",
              "      <td>0.204406</td>\n",
              "      <td>2.396294</td>\n",
              "      <td>0.201601</td>\n",
              "      <td>0.200518</td>\n",
              "      <td>0.200316</td>\n",
              "      <td>0.202295</td>\n",
              "      <td>0.212620</td>\n",
              "      <td>0.202369</td>\n",
              "      <td>...</td>\n",
              "      <td>0.201256</td>\n",
              "      <td>0.202030</td>\n",
              "      <td>0.200025</td>\n",
              "      <td>0.205940</td>\n",
              "      <td>0.200269</td>\n",
              "      <td>0.201621</td>\n",
              "      <td>0.200018</td>\n",
              "      <td>0.202424</td>\n",
              "      <td>0.200086</td>\n",
              "      <td>0.200441</td>\n",
              "      <td>0.200023</td>\n",
              "      <td>0.200035</td>\n",
              "      <td>0.200030</td>\n",
              "      <td>0.201213</td>\n",
              "      <td>0.200666</td>\n",
              "      <td>0.200371</td>\n",
              "      <td>0.204481</td>\n",
              "      <td>0.200863</td>\n",
              "      <td>0.200603</td>\n",
              "      <td>0.200142</td>\n",
              "      <td>0.200023</td>\n",
              "      <td>0.200038</td>\n",
              "      <td>0.200054</td>\n",
              "      <td>0.200205</td>\n",
              "      <td>0.200029</td>\n",
              "      <td>0.203935</td>\n",
              "      <td>1.613704</td>\n",
              "      <td>1.613704</td>\n",
              "      <td>0.209704</td>\n",
              "      <td>1.665125</td>\n",
              "      <td>0.202735</td>\n",
              "      <td>0.204505</td>\n",
              "      <td>0.204505</td>\n",
              "      <td>0.201003</td>\n",
              "      <td>2.193464</td>\n",
              "      <td>0.201625</td>\n",
              "      <td>0.201290</td>\n",
              "      <td>0.202303</td>\n",
              "      <td>0.200026</td>\n",
              "      <td>0.205082</td>\n",
              "    </tr>\n",
              "    <tr>\n",
              "      <th>4</th>\n",
              "      <td>0.200031</td>\n",
              "      <td>0.201808</td>\n",
              "      <td>0.207142</td>\n",
              "      <td>0.209033</td>\n",
              "      <td>2.418162</td>\n",
              "      <td>0.200274</td>\n",
              "      <td>0.200279</td>\n",
              "      <td>0.200328</td>\n",
              "      <td>1.875860</td>\n",
              "      <td>0.200015</td>\n",
              "      <td>0.203521</td>\n",
              "      <td>0.201588</td>\n",
              "      <td>0.200787</td>\n",
              "      <td>0.202527</td>\n",
              "      <td>0.202527</td>\n",
              "      <td>0.202351</td>\n",
              "      <td>1.806130</td>\n",
              "      <td>0.202391</td>\n",
              "      <td>0.200041</td>\n",
              "      <td>0.200357</td>\n",
              "      <td>0.200513</td>\n",
              "      <td>0.213428</td>\n",
              "      <td>0.200015</td>\n",
              "      <td>0.208555</td>\n",
              "      <td>0.200409</td>\n",
              "      <td>0.201614</td>\n",
              "      <td>0.205406</td>\n",
              "      <td>0.200016</td>\n",
              "      <td>0.200028</td>\n",
              "      <td>0.204303</td>\n",
              "      <td>0.200063</td>\n",
              "      <td>1.151549</td>\n",
              "      <td>0.200126</td>\n",
              "      <td>0.200951</td>\n",
              "      <td>0.200048</td>\n",
              "      <td>1.393689</td>\n",
              "      <td>1.588613</td>\n",
              "      <td>0.200713</td>\n",
              "      <td>0.201878</td>\n",
              "      <td>0.204822</td>\n",
              "      <td>...</td>\n",
              "      <td>0.201959</td>\n",
              "      <td>61.969349</td>\n",
              "      <td>0.202153</td>\n",
              "      <td>0.209476</td>\n",
              "      <td>5.560914</td>\n",
              "      <td>0.203420</td>\n",
              "      <td>2.069530</td>\n",
              "      <td>1.621893</td>\n",
              "      <td>2.785673</td>\n",
              "      <td>0.203640</td>\n",
              "      <td>0.202014</td>\n",
              "      <td>4.071400</td>\n",
              "      <td>1.812926</td>\n",
              "      <td>0.203026</td>\n",
              "      <td>1.519574</td>\n",
              "      <td>4.098057</td>\n",
              "      <td>0.201146</td>\n",
              "      <td>0.202330</td>\n",
              "      <td>0.200021</td>\n",
              "      <td>0.200883</td>\n",
              "      <td>0.200021</td>\n",
              "      <td>0.200036</td>\n",
              "      <td>0.200296</td>\n",
              "      <td>0.201520</td>\n",
              "      <td>0.200180</td>\n",
              "      <td>0.200031</td>\n",
              "      <td>0.200380</td>\n",
              "      <td>0.200380</td>\n",
              "      <td>0.200623</td>\n",
              "      <td>0.200824</td>\n",
              "      <td>0.201433</td>\n",
              "      <td>0.200029</td>\n",
              "      <td>0.200029</td>\n",
              "      <td>0.200258</td>\n",
              "      <td>0.200061</td>\n",
              "      <td>0.203900</td>\n",
              "      <td>0.205208</td>\n",
              "      <td>0.208176</td>\n",
              "      <td>0.200024</td>\n",
              "      <td>3.232200</td>\n",
              "    </tr>\n",
              "  </tbody>\n",
              "</table>\n",
              "<p>5 rows × 16579 columns</p>\n",
              "</div>"
            ],
            "text/plain": [
              "       0501      1000     10000  ...      zoom  zuckerberg    zverev\n",
              "0  0.200033  9.111763  4.077624  ...  0.216158    0.200970  0.201453\n",
              "1  2.049034  0.206527  0.216758  ...  6.471129    0.200728  0.200686\n",
              "2  0.200030  0.203799  0.200577  ...  0.203377    1.801844  0.201464\n",
              "3  0.200034  0.202232  0.222078  ...  0.202303    0.200026  0.205082\n",
              "4  0.200031  0.201808  0.207142  ...  0.208176    0.200024  3.232200\n",
              "\n",
              "[5 rows x 16579 columns]"
            ]
          },
          "metadata": {
            "tags": []
          },
          "execution_count": 36
        }
      ]
    },
    {
      "cell_type": "markdown",
      "metadata": {
        "id": "ZC5hOrInzE8H"
      },
      "source": [
        "## Perplejidad del modelo"
      ]
    },
    {
      "cell_type": "code",
      "metadata": {
        "colab": {
          "base_uri": "https://localhost:8080/"
        },
        "id": "5pcDYvVnx_PL",
        "outputId": "b4c9e865-aa33-4c86-ccaf-3cca8587b748"
      },
      "source": [
        "\n",
        "%%time\n",
        "lda_model.perplexity(BOW, sub_sampling = False)"
      ],
      "execution_count": 21,
      "outputs": [
        {
          "output_type": "stream",
          "text": [
            "CPU times: user 3.93 s, sys: 52.3 ms, total: 3.99 s\n",
            "Wall time: 3.97 s\n"
          ],
          "name": "stdout"
        },
        {
          "output_type": "execute_result",
          "data": {
            "text/plain": [
              "18307.9716880483"
            ]
          },
          "metadata": {
            "tags": []
          },
          "execution_count": 21
        }
      ]
    },
    {
      "cell_type": "markdown",
      "metadata": {
        "id": "qAUvtvghx7HA"
      },
      "source": [
        "# Visualización del modelo"
      ]
    },
    {
      "cell_type": "code",
      "metadata": {
        "id": "x2Qz50MBOKij",
        "colab": {
          "base_uri": "https://localhost:8080/",
          "height": 881
        },
        "outputId": "18b34782-1090-4ee7-b80d-9eac324b48b1"
      },
      "source": [
        "import pyLDAvis.sklearn\n",
        "pyLDAvis.enable_notebook()\n",
        "\n",
        "pyLDAvis.sklearn.prepare(lda_model, BOW, vectorizer)"
      ],
      "execution_count": 22,
      "outputs": [
        {
          "output_type": "execute_result",
          "data": {
            "text/html": [
              "\n",
              "<link rel=\"stylesheet\" type=\"text/css\" href=\"https://cdn.jsdelivr.net/gh/bmabey/pyLDAvis@3.3.1/pyLDAvis/js/ldavis.v1.0.0.css\">\n",
              "\n",
              "\n",
              "<div id=\"ldavis_el2641399865853058081167519572\"></div>\n",
              "<script type=\"text/javascript\">\n",
              "\n",
              "var ldavis_el2641399865853058081167519572_data = {\"mdsDat\": {\"x\": [0.2082273620728777, -0.014750349605799266, 0.146513099221189, -0.22492644555856833, -0.11506366612969905], \"y\": [-0.09365303256623682, 0.07524954719581531, -0.004906487737793577, -0.218564256821175, 0.24187422992939], \"topics\": [1, 2, 3, 4, 5], \"cluster\": [1, 1, 1, 1, 1], \"Freq\": [22.5790473015929, 20.53659831802439, 19.740018961014385, 18.67372243885327, 18.470612980515057]}, \"tinfo\": {\"Term\": [\"queensland\", \"case\", \"trump\", \"covid\", \"election\", \"coronavirus\", \"donald\", \"donald trump\", \"lockdown\", \"australian\", \"restriction\", \"call\", \"coronavirus case\", \"government\", \"record\", \"school\", \"child\", \"change\", \"melbourne\", \"border\", \"police\", \"hotel\", \"murder\", \"coronavirus queensland\", \"biden\", \"market\", \"national\", \"vaccine\", \"live\", \"dy\", \"case\", \"lockdown\", \"coronavirus case\", \"record\", \"vaccine\", \"coronavirus restriction\", \"victoria coronavirus\", \"hospital\", \"regional\", \"rise\", \"budget\", \"second\", \"street\", \"coronavirus lockdown\", \"amid coronavirus\", \"social\", \"covid coronavirus\", \"mental\", \"flight\", \"win\", \"commission\", \"number\", \"find\", \"wall\", \"need\", \"south australia\", \"mental health\", \"positive\", \"history\", \"still\", \"restriction\", \"quarantine\", \"melbourne\", \"covid\", \"coronavirus\", \"victoria\", \"health\", \"first\", \"amid\", \"travel\", \"death\", \"australian\", \"open\", \"australia\", \"china\", \"canberra\", \"covid19\", \"coronavirus covid\", \"business\", \"queensland\", \"trump\", \"election\", \"donald\", \"donald trump\", \"school\", \"change\", \"biden\", \"coronavirus queensland\", \"market\", \"protest\", \"premier\", \"house\", \"report\", \"drum\", \"daniel\", \"outbreak\", \"west\", \"beach\", \"rain\", \"briefing\", \"daniel andrew\", \"three\", \"storm\", \"closure\", \"climate\", \"local\", \"announces\", \"morning\", \"morning briefing\", \"border\", \"andrew\", \"state\", \"sydney\", \"coronavirus\", \"covid\", \"south\", \"test\", \"face\", \"brisbane\", \"coronavirus australia\", \"farmer\", \"coronavirus update\", \"fear\", \"australia live\", \"coronavirus pandemic\", \"water\", \"missing\", \"officer\", \"industry\", \"charge\", \"mask\", \"live news\", \"northern\", \"india\", \"zealand\", \"economy\", \"recovery\", \"international\", \"job\", \"search\", \"beat\", \"jobkeeper\", \"impact\", \"john\", \"future\", \"mount\", \"river\", \"live\", \"update\", \"community\", \"australia\", \"australian\", \"pandemic\", \"news\", \"coronavirus\", \"worker\", \"could\", \"covid\", \"police\", \"bushfire\", \"million\", \"government\", \"indigenous\", \"call\", \"hotel\", \"care\", \"national\", \"dy\", \"minister\", \"student\", \"aged\", \"time\", \"federal\", \"interview\", \"rule\", \"inquiry\", \"aged care\", \"fight\", \"killed\", \"sport\", \"support\", \"extended\", \"make\", \"close\", \"doctor\", \"program\", \"labor\", \"speaks\", \"chinese\", \"mark\", \"city\", \"club\", \"extended interview\", \"protester\", \"government\", \"scott\", \"morrison\", \"scott morrison\", \"back\", \"say\", \"coronavirus\", \"child\", \"murder\", \"charged\", \"finance\", \"gold\", \"return\", \"alan\", \"gold coast\", \"alan kohler\", \"kohler\", \"finance alan\", \"assault\", \"investigation\", \"park\", \"power\", \"accused\", \"violence\", \"centre\", \"matter\", \"abuse\", \"league\", \"university\", \"baby\", \"game\", \"domestic\", \"jailed\", \"sexual\", \"force\", \"told\", \"super\", \"trial\", \"court\", \"found\", \"life\", \"police\", \"coast\", \"alleged\", \"black\", \"crash\", \"home\", \"woman\", \"family\", \"death\"], \"Freq\": [267.0, 257.0, 216.0, 453.0, 165.0, 931.0, 148.0, 145.0, 137.0, 224.0, 192.0, 112.0, 127.0, 175.0, 123.0, 114.0, 103.0, 107.0, 165.0, 181.0, 240.0, 90.0, 90.0, 94.0, 94.0, 94.0, 88.0, 99.0, 111.0, 84.0, 256.60138549919463, 136.70453133003247, 126.36920365041065, 123.1973914469112, 98.40932998158355, 92.8834973098151, 85.45752718833607, 86.42510775679739, 80.5504529582378, 78.25980403884347, 67.78908097303358, 53.904755722463136, 53.25600961503249, 51.26857479150215, 51.33914596076456, 50.649397356066565, 50.448051190860724, 47.61447471163417, 48.11761201557387, 49.96127537469714, 47.030683896046995, 46.58564968962748, 47.289626701791526, 45.801553184914816, 46.301060113993984, 45.34728001789624, 44.69478216753073, 45.19429203207749, 44.17895263730823, 43.732476052327065, 157.7062591624378, 96.71597149861834, 127.21048103865593, 278.3918286291905, 479.3622624689312, 186.34267650008312, 98.1414354794982, 77.02638230223165, 73.02220777005792, 67.08334992553347, 93.07800524253892, 106.85196551456644, 66.60580076382341, 123.81665499440199, 85.81189076061676, 66.22242792254558, 68.34894119770179, 57.715701888826345, 61.21801066344883, 266.49053912300656, 215.91793759993496, 164.4345964452867, 147.51333076008123, 144.58966214168498, 114.17124972153465, 106.71715841213468, 93.94289444033765, 93.97302006203503, 93.3908912114398, 86.05986543042688, 82.91818393213026, 77.13909914153453, 78.84950314281502, 74.35805080619666, 70.92534860438404, 69.3138560688153, 63.63682917292075, 64.33108547795491, 61.729205554343736, 59.07955628225586, 58.45240412996435, 60.588273315976046, 57.06316079470266, 54.6852849901869, 53.67055089534982, 52.286876151935395, 50.201488997168006, 46.9550718862723, 45.66918162883237, 137.46424832675933, 80.0501223278068, 88.47785564171808, 107.10993763594595, 121.76679707940524, 71.4226136512195, 58.54878662174217, 85.39956331010906, 85.23886355435089, 84.6638617126437, 76.08776631959923, 73.6960520344279, 68.13058366385876, 65.97063248189633, 61.663068156356296, 61.05932335424912, 61.689886973754966, 59.129800127380136, 56.92884023845674, 56.31909854418984, 56.98177499625466, 55.21188329243256, 54.16866601901549, 53.51853802901719, 53.440550958782474, 53.60517888115163, 51.06528936482802, 49.387935030619566, 49.1057864563394, 47.27359414309018, 45.171523605386454, 45.88870504458865, 43.492232970027494, 43.842293412132406, 44.71026221175466, 42.3097370127481, 41.05501126233537, 41.14096385354897, 99.76142433639848, 87.70061866842485, 72.88006675259152, 156.1554080840196, 117.08056918432868, 88.03494820993976, 83.67814810595489, 227.03186443847136, 63.59693463236452, 60.659025075096544, 103.59000637068453, 84.1334771986191, 61.53289526216235, 54.37880348279054, 56.84981010157353, 54.887118510221285, 111.9201912991283, 90.27467136911277, 83.8040844093921, 87.57709414557588, 83.87751768900141, 79.21601274593273, 78.03421183175264, 72.84220065733473, 74.06719436284783, 71.1488223167234, 68.7004652347466, 61.12126577995584, 59.483165705948046, 56.58431218291864, 57.2981702982506, 56.04308332710158, 54.560574461070864, 55.16255794211395, 52.33463274057018, 53.5450388411509, 50.883771913820915, 50.210755566826286, 48.629867037852975, 48.67036824669071, 48.64624488876804, 46.11555649235772, 43.66710009829514, 43.80193007846548, 42.358816017882106, 40.77361429296141, 41.77010073579653, 118.17320016698606, 70.06769350789827, 72.37198994775487, 59.97120540002818, 52.25679440647996, 60.707482434485975, 80.39719107564152, 102.5563858394782, 89.43917309545631, 81.63059943748618, 75.41398180262271, 75.5165289236545, 73.39787131890641, 64.99824185100756, 58.566335199750164, 56.855840748102224, 56.855840748102224, 54.74561651514969, 51.90463816605267, 50.816018649782876, 48.8109397211841, 49.27892747224181, 47.83117267618901, 46.26693070838602, 45.56532179321927, 42.502777817646226, 42.826601861105395, 42.69191555252556, 41.71522207243879, 40.06081140266625, 40.22273825875908, 39.559003306644385, 39.36907824572216, 38.536394606209264, 38.678893717379026, 38.58975301090448, 38.101559493177895, 72.94299865863877, 90.91328539968767, 57.684381338075845, 70.63748073237186, 113.88018871862694, 70.18574803318408, 44.8251807692806, 48.67140742115168, 56.72294842117425, 59.36969593688938, 60.36055527266588, 53.33817147185011, 50.523166690117144], \"Total\": [267.0, 257.0, 216.0, 453.0, 165.0, 931.0, 148.0, 145.0, 137.0, 224.0, 192.0, 112.0, 127.0, 175.0, 123.0, 114.0, 103.0, 107.0, 165.0, 181.0, 240.0, 90.0, 90.0, 94.0, 94.0, 94.0, 88.0, 99.0, 111.0, 84.0, 257.310981657559, 137.40955032941125, 127.064873970342, 123.90426607599235, 99.11505894062265, 93.58370848789424, 86.15859138236713, 87.13999875974531, 81.26353262613176, 78.96412043730813, 68.49965443844754, 54.61468737921059, 53.95840582628745, 51.96758901298809, 52.04404223859772, 51.35235143758003, 51.15609032704959, 48.312735989035644, 48.824232291381776, 50.705259995105045, 47.740697413453134, 47.29066661990173, 48.00553858966116, 46.501272948496464, 47.00941692846736, 46.05322243803151, 45.39263761055816, 45.91037795373282, 44.8883008225692, 44.445095296550214, 192.94454191864534, 110.37841687167231, 165.77443917153818, 453.76563728774636, 931.5444987160671, 278.7206198794119, 136.46835644219317, 96.78829186546047, 92.90997535785704, 84.1789209111455, 165.5288316489116, 224.47477640648242, 90.74754077460231, 356.9501008738209, 163.40488424131297, 98.72048907687973, 118.38993105121281, 74.69311044794915, 100.78461267474886, 267.20948441723306, 216.61569612954014, 165.1367429777206, 148.20748316206917, 145.28313460379277, 114.89432658705562, 107.43166438629058, 94.63805801834076, 94.67189874453352, 94.10056258180526, 86.77299211859042, 83.63073292443202, 77.84979837444142, 79.57669332532907, 75.04883593225311, 71.6298220118843, 70.01995327452119, 64.342800669028, 65.04747858499327, 62.43002629980844, 59.770560698933274, 59.147037889394376, 61.31794163155397, 57.765179022656575, 55.3873943539841, 54.36943030845729, 52.99686810557377, 50.91583678645912, 47.64605244517578, 46.35953980636702, 181.71535168276566, 96.18041916677649, 125.23648332505489, 184.88171834827847, 931.5444987160671, 453.76563728774636, 132.3487929856572, 86.10332256702485, 85.95411180904762, 85.38528144389235, 76.78065048489263, 74.40089664981072, 68.82785335865739, 66.67735253200317, 62.35221609850438, 61.757807748079436, 62.39625274639004, 59.834904021717826, 57.629121465014336, 57.02301263061705, 57.69689383999989, 55.91000022108204, 54.85822121838473, 54.216847100219404, 54.14443151395152, 54.3115518516952, 51.76666121045066, 50.08534039455968, 49.81208648405588, 47.97451507301206, 45.87288099488259, 46.60669028653465, 44.19175949373815, 44.5475127236005, 45.432412715031035, 43.01349528200922, 41.757007682250375, 41.84852165956779, 111.3407293613744, 111.10386594573585, 90.90927164324079, 356.9501008738209, 224.47477640648242, 140.621645373606, 131.73316697433822, 931.5444987160671, 93.22140105809473, 89.02249413517751, 453.76563728774636, 240.52376498023872, 120.71765862111337, 67.48797039902699, 175.55452867439016, 83.65813066592378, 112.63161439913232, 90.98361112236778, 84.50083923249447, 88.30544945666368, 84.58249267087265, 79.91296858096894, 78.74543283265413, 73.53385494147167, 74.78073459628854, 71.85213796182799, 69.39332033643274, 61.8388895581095, 60.185245388693254, 57.275839911445225, 58.00299550705703, 56.758250213460016, 55.260429902279895, 55.873059032802544, 53.02766555921594, 54.25661413823059, 51.593487471316905, 50.91792727335017, 49.329296464023486, 49.37071526577344, 49.349739941284504, 46.81921475904365, 44.366419942263704, 44.515052822361504, 43.062431945815725, 41.46184641812252, 42.500181713840924, 175.55452867439016, 88.83779405862187, 93.2334116701422, 74.43957274522926, 83.08808306836968, 181.13407671710266, 931.5444987160671, 103.25736017009346, 90.13369823959592, 82.32456842003155, 76.10207683073705, 76.21069695783287, 74.10709612800673, 65.69038261255545, 59.2573151196806, 57.54186195389321, 57.54186195389321, 55.431529844016744, 52.596740890312006, 51.5189184744664, 49.50988051356416, 49.99524809417117, 48.52903014495114, 46.96008501394849, 46.26915300687176, 43.19523855112706, 43.5257432314298, 43.38996656893724, 42.42236124604743, 40.759758435974355, 40.92524768064907, 40.25091519106362, 40.063251384264895, 39.23016229551519, 39.38411228504864, 39.294056450017464, 38.802787796662244, 80.5453757301138, 131.7353638503934, 73.44951290518637, 105.51419011229225, 240.52376498023872, 119.95706052056573, 51.323081561829746, 63.29397464463145, 91.09775280671646, 131.33966389586848, 154.53993490905657, 108.92660401149521, 165.5288316489116], \"Category\": [\"Default\", \"Default\", \"Default\", \"Default\", \"Default\", \"Default\", \"Default\", \"Default\", \"Default\", \"Default\", \"Default\", \"Default\", \"Default\", \"Default\", \"Default\", \"Default\", \"Default\", \"Default\", \"Default\", \"Default\", \"Default\", \"Default\", \"Default\", \"Default\", \"Default\", \"Default\", \"Default\", \"Default\", \"Default\", \"Default\", \"Topic1\", \"Topic1\", \"Topic1\", \"Topic1\", \"Topic1\", \"Topic1\", \"Topic1\", \"Topic1\", \"Topic1\", \"Topic1\", \"Topic1\", \"Topic1\", \"Topic1\", \"Topic1\", \"Topic1\", \"Topic1\", \"Topic1\", \"Topic1\", \"Topic1\", \"Topic1\", \"Topic1\", \"Topic1\", \"Topic1\", \"Topic1\", \"Topic1\", \"Topic1\", \"Topic1\", \"Topic1\", \"Topic1\", \"Topic1\", \"Topic1\", \"Topic1\", \"Topic1\", \"Topic1\", \"Topic1\", \"Topic1\", \"Topic1\", \"Topic1\", \"Topic1\", \"Topic1\", \"Topic1\", \"Topic1\", \"Topic1\", \"Topic1\", \"Topic1\", \"Topic1\", \"Topic1\", \"Topic1\", \"Topic1\", \"Topic2\", \"Topic2\", \"Topic2\", \"Topic2\", \"Topic2\", \"Topic2\", \"Topic2\", \"Topic2\", \"Topic2\", \"Topic2\", \"Topic2\", \"Topic2\", \"Topic2\", \"Topic2\", \"Topic2\", \"Topic2\", \"Topic2\", \"Topic2\", \"Topic2\", \"Topic2\", \"Topic2\", \"Topic2\", \"Topic2\", \"Topic2\", \"Topic2\", \"Topic2\", \"Topic2\", \"Topic2\", \"Topic2\", \"Topic2\", \"Topic2\", \"Topic2\", \"Topic2\", \"Topic2\", \"Topic2\", \"Topic2\", \"Topic2\", \"Topic3\", \"Topic3\", \"Topic3\", \"Topic3\", \"Topic3\", \"Topic3\", \"Topic3\", \"Topic3\", \"Topic3\", \"Topic3\", \"Topic3\", \"Topic3\", \"Topic3\", \"Topic3\", \"Topic3\", \"Topic3\", \"Topic3\", \"Topic3\", \"Topic3\", \"Topic3\", \"Topic3\", \"Topic3\", \"Topic3\", \"Topic3\", \"Topic3\", \"Topic3\", \"Topic3\", \"Topic3\", \"Topic3\", \"Topic3\", \"Topic3\", \"Topic3\", \"Topic3\", \"Topic3\", \"Topic3\", \"Topic3\", \"Topic3\", \"Topic3\", \"Topic3\", \"Topic3\", \"Topic3\", \"Topic3\", \"Topic3\", \"Topic3\", \"Topic3\", \"Topic3\", \"Topic3\", \"Topic4\", \"Topic4\", \"Topic4\", \"Topic4\", \"Topic4\", \"Topic4\", \"Topic4\", \"Topic4\", \"Topic4\", \"Topic4\", \"Topic4\", \"Topic4\", \"Topic4\", \"Topic4\", \"Topic4\", \"Topic4\", \"Topic4\", \"Topic4\", \"Topic4\", \"Topic4\", \"Topic4\", \"Topic4\", \"Topic4\", \"Topic4\", \"Topic4\", \"Topic4\", \"Topic4\", \"Topic4\", \"Topic4\", \"Topic4\", \"Topic4\", \"Topic4\", \"Topic4\", \"Topic4\", \"Topic4\", \"Topic4\", \"Topic4\", \"Topic4\", \"Topic5\", \"Topic5\", \"Topic5\", \"Topic5\", \"Topic5\", \"Topic5\", \"Topic5\", \"Topic5\", \"Topic5\", \"Topic5\", \"Topic5\", \"Topic5\", \"Topic5\", \"Topic5\", \"Topic5\", \"Topic5\", \"Topic5\", \"Topic5\", \"Topic5\", \"Topic5\", \"Topic5\", \"Topic5\", \"Topic5\", \"Topic5\", \"Topic5\", \"Topic5\", \"Topic5\", \"Topic5\", \"Topic5\", \"Topic5\", \"Topic5\", \"Topic5\", \"Topic5\", \"Topic5\", \"Topic5\", \"Topic5\", \"Topic5\", \"Topic5\", \"Topic5\", \"Topic5\", \"Topic5\", \"Topic5\", \"Topic5\"], \"logprob\": [30.0, 29.0, 28.0, 27.0, 26.0, 25.0, 24.0, 23.0, 22.0, 21.0, 20.0, 19.0, 18.0, 17.0, 16.0, 15.0, 14.0, 13.0, 12.0, 11.0, 10.0, 9.0, 8.0, 7.0, 6.0, 5.0, 4.0, 3.0, 2.0, 1.0, -4.5042, -5.1339, -5.2125, -5.238, -5.4626, -5.5204, -5.6037, -5.5925, -5.6629, -5.6917, -5.8353, -6.0645, -6.0766, -6.1147, -6.1133, -6.1268, -6.1308, -6.1886, -6.1781, -6.1405, -6.2009, -6.2105, -6.1955, -6.2274, -6.2166, -6.2374, -6.2519, -6.2408, -6.2635, -6.2737, -4.991, -5.48, -5.2059, -4.4227, -3.8793, -4.8242, -5.4653, -5.7076, -5.761, -5.8458, -5.5183, -5.3803, -5.853, -5.2329, -5.5996, -5.8587, -5.8271, -5.9962, -5.9373, -4.3716, -4.582, -4.8544, -4.963, -4.983, -5.2192, -5.2867, -5.4142, -5.4139, -5.4201, -5.5019, -5.5391, -5.6113, -5.5894, -5.648, -5.6953, -5.7183, -5.8037, -5.7929, -5.8342, -5.878, -5.8887, -5.8528, -5.9128, -5.9553, -5.9741, -6.0002, -6.0409, -6.1077, -6.1355, -5.0336, -5.5743, -5.4742, -5.2831, -5.1548, -5.6883, -5.8871, -5.47, -5.4719, -5.4787, -5.5855, -5.6174, -5.6959, -5.7282, -5.7957, -5.8055, -5.7952, -5.8376, -5.8756, -5.8863, -5.8746, -5.9062, -5.9253, -5.9373, -5.9388, -5.9357, -5.9843, -6.0177, -6.0234, -6.0614, -6.1069, -6.0911, -6.1448, -6.1368, -6.1172, -6.1724, -6.2025, -6.2004, -5.3146, -5.4434, -5.6286, -4.8665, -5.1545, -5.4396, -5.4904, -4.4923, -5.7648, -5.8121, -5.2769, -5.485, -5.7978, -5.9214, -5.877, -5.9121, -5.1441, -5.359, -5.4334, -5.3893, -5.4325, -5.4897, -5.5047, -5.5735, -5.5569, -5.5971, -5.6321, -5.749, -5.7761, -5.8261, -5.8136, -5.8357, -5.8625, -5.8516, -5.9042, -5.8813, -5.9323, -5.9456, -5.9776, -5.9768, -5.9773, -6.0307, -6.0852, -6.0822, -6.1157, -6.1538, -6.1297, -5.0897, -5.6124, -5.58, -5.768, -5.9057, -5.7558, -5.4749, -5.2205, -5.3573, -5.4487, -5.5279, -5.5266, -5.555, -5.6765, -5.7807, -5.8104, -5.8104, -5.8482, -5.9015, -5.9227, -5.9629, -5.9534, -5.9832, -6.0165, -6.0318, -6.1013, -6.0937, -6.0969, -6.12, -6.1605, -6.1565, -6.1731, -6.1779, -6.1993, -6.1956, -6.1979, -6.2106, -5.5612, -5.341, -5.7959, -5.5933, -5.1158, -5.5998, -6.0481, -5.9658, -5.8127, -5.7671, -5.7506, -5.8742, -5.9285], \"loglift\": [30.0, 29.0, 28.0, 27.0, 26.0, 25.0, 24.0, 23.0, 22.0, 21.0, 20.0, 19.0, 18.0, 17.0, 16.0, 15.0, 14.0, 13.0, 12.0, 11.0, 10.0, 9.0, 8.0, 7.0, 6.0, 5.0, 4.0, 3.0, 2.0, 1.0, 1.4854, 1.483, 1.4827, 1.4824, 1.481, 1.4806, 1.48, 1.4799, 1.4793, 1.4792, 1.4777, 1.4751, 1.475, 1.4746, 1.4745, 1.4744, 1.4742, 1.4736, 1.4736, 1.4734, 1.4732, 1.4731, 1.4731, 1.473, 1.473, 1.4727, 1.4727, 1.4724, 1.4722, 1.472, 1.2865, 1.356, 1.2234, 0.9996, 0.8238, 1.0855, 1.1585, 1.2598, 1.2473, 1.2611, 0.9124, 0.7458, 1.1789, 0.4294, 0.8441, 1.0889, 0.9388, 1.2303, 0.9896, 1.5803, 1.5797, 1.5787, 1.5783, 1.5782, 1.5766, 1.5763, 1.5756, 1.5756, 1.5754, 1.5747, 1.5744, 1.5738, 1.5738, 1.5737, 1.5731, 1.5728, 1.5719, 1.5719, 1.5717, 1.5713, 1.5711, 1.571, 1.5707, 1.5702, 1.57, 1.5695, 1.5688, 1.5684, 1.568, 1.3039, 1.3994, 1.2355, 1.0371, -0.4518, -0.266, 0.7674, 1.6143, 1.6142, 1.614, 1.6135, 1.613, 1.6123, 1.6119, 1.6114, 1.6111, 1.6111, 1.6107, 1.6103, 1.6101, 1.6101, 1.61, 1.6099, 1.6096, 1.6094, 1.6094, 1.6089, 1.6085, 1.6082, 1.6078, 1.6071, 1.607, 1.6066, 1.6066, 1.6065, 1.606, 1.6056, 1.6055, 1.5127, 1.386, 1.4015, 0.7958, 0.9716, 1.1542, 1.1687, 0.2108, 1.2401, 1.2389, 0.1454, 0.5721, 0.9486, 1.4065, 0.495, 1.2011, 1.6717, 1.6702, 1.6698, 1.6698, 1.6697, 1.6693, 1.669, 1.6686, 1.6685, 1.6682, 1.668, 1.6664, 1.6663, 1.6659, 1.6658, 1.6654, 1.6653, 1.6653, 1.6649, 1.6649, 1.6642, 1.6641, 1.6638, 1.6638, 1.6637, 1.6629, 1.6622, 1.6619, 1.6616, 1.6613, 1.6607, 1.2823, 1.4407, 1.4248, 1.4619, 1.2143, 0.5849, -0.7718, 1.6822, 1.6813, 1.6805, 1.6799, 1.6798, 1.6794, 1.6784, 1.6773, 1.677, 1.677, 1.6765, 1.6757, 1.6753, 1.6748, 1.6746, 1.6745, 1.6741, 1.6737, 1.6728, 1.6728, 1.6728, 1.6722, 1.6717, 1.6717, 1.6716, 1.6715, 1.6711, 1.6709, 1.6709, 1.6708, 1.5898, 1.3181, 1.4474, 1.2877, 0.9413, 1.153, 1.5536, 1.4263, 1.2152, 0.895, 0.7489, 0.975, 0.5023]}, \"token.table\": {\"Topic\": [5, 5, 4, 4, 5, 5, 2, 5, 1, 3, 1, 2, 4, 2, 5, 1, 2, 3, 4, 5, 3, 1, 3, 5, 2, 4, 2, 3, 2, 3, 5, 2, 3, 4, 2, 3, 1, 1, 3, 4, 5, 1, 4, 4, 1, 3, 4, 1, 5, 2, 3, 5, 5, 1, 2, 4, 4, 4, 2, 4, 2, 4, 2, 3, 5, 1, 2, 3, 1, 2, 3, 4, 5, 3, 1, 1, 2, 1, 3, 2, 1, 3, 1, 3, 2, 3, 5, 1, 2, 3, 1, 1, 3, 4, 2, 3, 4, 5, 2, 2, 1, 3, 5, 4, 5, 2, 2, 2, 4, 3, 2, 4, 4, 3, 2, 3, 5, 3, 3, 4, 4, 5, 5, 1, 1, 5, 1, 5, 1, 5, 3, 5, 5, 5, 3, 4, 1, 3, 1, 1, 2, 3, 5, 1, 4, 2, 3, 3, 1, 3, 3, 4, 3, 4, 5, 5, 3, 3, 3, 4, 5, 4, 5, 4, 5, 2, 3, 3, 2, 1, 4, 4, 2, 3, 5, 1, 2, 1, 1, 3, 5, 4, 3, 2, 2, 2, 4, 3, 5, 4, 1, 2, 3, 3, 1, 3, 1, 3, 2, 2, 3, 4, 5, 2, 3, 5, 1, 5, 2, 4, 2, 4, 1, 2, 2, 2, 1, 3, 1, 2, 1, 2, 5, 1, 3, 4, 1, 2, 3, 4, 5, 2, 2, 4, 2, 4, 3, 1, 5, 1, 1, 2, 3, 5, 1, 4, 4, 2, 4, 1, 2, 1, 4, 5, 4, 1, 2, 5, 3, 2, 4, 5, 1, 2, 2, 5, 2, 5, 2, 3, 1, 1, 2, 3, 4, 5, 1, 5, 1, 3, 2, 1, 2, 3, 4, 5, 1, 3, 5, 3], \"Freq\": [0.987921096978531, 0.9890986870462694, 0.9927400114967917, 0.9951840093157656, 0.9894903548267124, 0.9905831696178446, 0.11690646425374328, 0.8767984819030746, 0.7857068061726342, 0.20449903174356232, 0.9799392554134964, 0.8317701325597292, 0.16635402651194584, 0.9820127322997728, 0.9886544131782522, 0.3473874911267585, 0.13167106518514232, 0.43703587593366394, 0.05603024050431589, 0.028015120252157945, 0.9943511855625476, 0.4766682551728785, 0.5212166902357643, 0.9813600849188596, 0.36106260840455623, 0.6258418545678974, 0.9838967073316363, 0.9869827640022332, 0.9932579130246195, 0.22119009081992405, 0.7741653178697342, 0.753926394943072, 0.12106847218063929, 0.12106847218063929, 0.9871080229142467, 0.9954877300000993, 0.9927057378238818, 0.24851376627638663, 0.5135951169711991, 0.14910825976583197, 0.09112171430134176, 0.6052511229750778, 0.38696383272177104, 0.9943922103709348, 0.6685542243272492, 0.3241475027041208, 0.9940729673569695, 0.9987914170800029, 0.9941828845055412, 0.995981963150655, 0.987921466934902, 0.9960574537314844, 0.9975075852252128, 0.5263000576714523, 0.3365872461852311, 0.13463489847409243, 0.9825025950721351, 0.9884296931103994, 0.9932051833840932, 0.9884968529865935, 0.9930057306630415, 0.975328101600194, 0.30010738712481266, 0.10837211201729345, 0.5835421416315801, 0.9844849896716338, 0.18699962823059282, 0.802998403578428, 0.5141998054416059, 0.13096529491414596, 0.24368132742222243, 0.08587888191091539, 0.024690178549388174, 0.9898327185304814, 0.9916194465309858, 0.7765107069736779, 0.21420985019963526, 0.9813809139241333, 0.9877293612627789, 0.9929028702979054, 0.9937627125775877, 0.9879721171261364, 0.31452724698414974, 0.6852200737868976, 0.25809318778374835, 0.053136832779007014, 0.6907788261270912, 0.6126510629179968, 0.15646843693229415, 0.22919320339378296, 0.9774007294212965, 0.5743731700509627, 0.4138865490073113, 0.008446664265455333, 0.16465828780459313, 0.12074941105670163, 0.09879497268275587, 0.6257014936574539, 0.9912072654350613, 0.9806070104213951, 0.5618356577134187, 0.13290735988919583, 0.3081034251976812, 0.9819724147759917, 0.9937662239511184, 0.9986000493521486, 0.9980511529809367, 0.9860246209121765, 0.9931133186965859, 0.9851900587651597, 0.9931163534097681, 0.9806201998828641, 0.988860929793984, 0.9888997537294407, 0.2019708610182899, 0.3121367852100844, 0.48656616518042567, 0.9946116691079994, 0.9898413403309908, 0.9881403951782103, 0.9827078670973984, 0.9855184394876866, 0.9922150832706392, 0.9790536963191635, 0.7955507687544794, 0.1963047351472092, 0.9831183768243855, 0.9902470244278057, 0.20422191253144212, 0.7896580617882429, 0.9764377371482034, 0.9773917634446825, 0.997235336163512, 0.9956576648948589, 0.3246854434938604, 0.6721558303907987, 0.7181151920849282, 0.2784528295839518, 0.980210861041936, 0.1827323086423321, 0.08375230812773554, 0.28171230915692863, 0.4492169254123997, 0.9869176179025614, 0.9891891395578389, 0.9890841287686569, 0.9877094659134485, 0.9788633570996746, 0.3346955015264901, 0.657437592284177, 0.9820596530519369, 0.9803067117025344, 0.9836969992349985, 0.9943320144572152, 0.9899276131985654, 0.9734606816090196, 0.9796868176462242, 0.9730320877151991, 0.9904822859014051, 0.986640704908831, 0.9905831696178446, 0.9924911911083767, 0.9910125174141892, 0.3222315402678625, 0.6728952752652423, 0.09879583206517101, 0.8981439278651909, 0.9843556499039908, 0.9811900562956299, 0.9970194915242104, 0.995270362105958, 0.9917410522926902, 0.9883043995528878, 0.9837238379988611, 0.9954800909156695, 0.7661012194321731, 0.2292271365230124, 0.9935268416778007, 0.99135019176619, 0.8001425984619408, 0.1926269218519487, 0.9885754640682144, 0.9860465386321203, 0.986440588212021, 0.992244534612105, 0.2145153721367568, 0.7722553396923245, 0.9818711223751755, 0.9874220379088153, 0.9965409897289116, 0.9785273463399183, 0.3643729297827514, 0.6376526271198149, 0.9960003742043767, 0.9938536155085747, 0.9890832716338342, 0.7383120184646527, 0.2644699767634577, 0.9854333911003575, 0.24178354555351858, 0.6257927061385187, 0.12800305352833338, 0.9897014392223291, 0.17461891968741922, 0.34923783937483843, 0.4739656391515664, 0.980170541077874, 0.9800931462066852, 0.9924581203299755, 0.9933245254315831, 0.9910917890495928, 0.9882310688173357, 0.8787949922562645, 0.11777664844671586, 0.9954736471279421, 0.9931118673930502, 0.99270189716117, 0.9783301783314311, 0.9967570616534209, 0.9927529870715863, 0.8188881552639119, 0.18139927490023364, 0.985060862105642, 0.9877903985763563, 0.9797239752823195, 0.9864342719588908, 0.17666471477908588, 0.2815593891791681, 0.09385312972638937, 0.3367671125476324, 0.11041544673692867, 0.9922160944441588, 0.20261646735760058, 0.7879529286128911, 0.18807200906317995, 0.8060228959850569, 0.9809717424336185, 0.988745016977895, 0.9941330271901142, 0.9931385530026152, 0.30223169473358813, 0.4457917497320425, 0.2191179786818514, 0.037778961841698516, 0.9771303204797729, 0.9929130337525462, 0.9952872262713043, 0.7026706408834036, 0.2874561712704833, 0.9899855024816482, 0.9867536284730208, 0.9822380626037596, 0.9905336372429587, 0.9793110793773612, 0.9843742396082166, 0.22176340833637526, 0.5787484071217598, 0.20012795386453378, 0.9871860628123149, 0.9948148678332288, 0.9895596827110162, 0.9925165158147643, 0.7959237214589792, 0.2019507949970544, 0.08690753425069546, 0.9063214286143955, 0.9971576568986398, 0.9900439005835211, 0.20701349862329194, 0.7920516469065083, 0.9887498534275134, 0.6673349107808121, 0.1363372398369401, 0.11839812933207958, 0.05022950941360951, 0.028702576807776867, 0.9865528049637514, 0.9795552965105723, 0.9892202316901806, 0.9936494143646637, 0.9946722762226139, 0.9860909894718393, 0.1617704835627889, 0.232949496330416, 0.22000785764539288, 0.3882491605506933, 0.20381585970971808, 0.6865376327064188, 0.10727150511037795, 0.9942636172034647], \"Term\": [\"abuse\", \"accused\", \"aged\", \"aged care\", \"alan\", \"alan kohler\", \"alleged\", \"alleged\", \"amid\", \"amid\", \"amid coronavirus\", \"andrew\", \"andrew\", \"announces\", \"assault\", \"australia\", \"australia\", \"australia\", \"australia\", \"australia\", \"australia live\", \"australian\", \"australian\", \"baby\", \"back\", \"back\", \"beach\", \"beat\", \"biden\", \"black\", \"black\", \"border\", \"border\", \"border\", \"briefing\", \"brisbane\", \"budget\", \"bushfire\", \"bushfire\", \"bushfire\", \"bushfire\", \"business\", \"business\", \"call\", \"canberra\", \"canberra\", \"care\", \"case\", \"centre\", \"change\", \"charge\", \"charged\", \"child\", \"china\", \"china\", \"china\", \"chinese\", \"city\", \"climate\", \"close\", \"closure\", \"club\", \"coast\", \"coast\", \"coast\", \"commission\", \"community\", \"community\", \"coronavirus\", \"coronavirus\", \"coronavirus\", \"coronavirus\", \"coronavirus\", \"coronavirus australia\", \"coronavirus case\", \"coronavirus covid\", \"coronavirus covid\", \"coronavirus lockdown\", \"coronavirus pandemic\", \"coronavirus queensland\", \"coronavirus restriction\", \"coronavirus update\", \"could\", \"could\", \"court\", \"court\", \"court\", \"covid\", \"covid\", \"covid\", \"covid coronavirus\", \"covid19\", \"covid19\", \"covid19\", \"crash\", \"crash\", \"crash\", \"crash\", \"daniel\", \"daniel andrew\", \"death\", \"death\", \"death\", \"doctor\", \"domestic\", \"donald\", \"donald trump\", \"drum\", \"dy\", \"economy\", \"election\", \"extended\", \"extended interview\", \"face\", \"family\", \"family\", \"family\", \"farmer\", \"fear\", \"federal\", \"fight\", \"finance\", \"finance alan\", \"find\", \"first\", \"first\", \"flight\", \"force\", \"found\", \"found\", \"future\", \"game\", \"gold\", \"gold coast\", \"government\", \"government\", \"health\", \"health\", \"history\", \"home\", \"home\", \"home\", \"home\", \"hospital\", \"hotel\", \"house\", \"impact\", \"india\", \"indigenous\", \"indigenous\", \"industry\", \"inquiry\", \"international\", \"interview\", \"investigation\", \"jailed\", \"job\", \"jobkeeper\", \"john\", \"killed\", \"kohler\", \"labor\", \"league\", \"life\", \"life\", \"live\", \"live\", \"live news\", \"local\", \"lockdown\", \"make\", \"mark\", \"market\", \"mask\", \"matter\", \"melbourne\", \"melbourne\", \"mental\", \"mental health\", \"million\", \"million\", \"minister\", \"missing\", \"morning\", \"morning briefing\", \"morrison\", \"morrison\", \"mount\", \"murder\", \"national\", \"need\", \"news\", \"news\", \"northern\", \"number\", \"officer\", \"open\", \"open\", \"outbreak\", \"pandemic\", \"pandemic\", \"pandemic\", \"park\", \"police\", \"police\", \"police\", \"positive\", \"power\", \"premier\", \"program\", \"protest\", \"protester\", \"quarantine\", \"quarantine\", \"queensland\", \"rain\", \"record\", \"recovery\", \"regional\", \"report\", \"restriction\", \"restriction\", \"return\", \"rise\", \"river\", \"rule\", \"say\", \"say\", \"say\", \"say\", \"say\", \"school\", \"scott\", \"scott\", \"scott morrison\", \"scott morrison\", \"search\", \"second\", \"sexual\", \"social\", \"south\", \"south\", \"south\", \"south\", \"south australia\", \"speaks\", \"sport\", \"state\", \"state\", \"still\", \"storm\", \"street\", \"student\", \"super\", \"support\", \"sydney\", \"sydney\", \"sydney\", \"test\", \"three\", \"time\", \"told\", \"travel\", \"travel\", \"trial\", \"trial\", \"trump\", \"university\", \"update\", \"update\", \"vaccine\", \"victoria\", \"victoria\", \"victoria\", \"victoria\", \"victoria\", \"victoria coronavirus\", \"violence\", \"wall\", \"water\", \"west\", \"win\", \"woman\", \"woman\", \"woman\", \"woman\", \"worker\", \"worker\", \"worker\", \"zealand\"]}, \"R\": 30, \"lambda.step\": 0.01, \"plot.opts\": {\"xlab\": \"PC1\", \"ylab\": \"PC2\"}, \"topic.order\": [2, 3, 5, 1, 4]};\n",
              "\n",
              "function LDAvis_load_lib(url, callback){\n",
              "  var s = document.createElement('script');\n",
              "  s.src = url;\n",
              "  s.async = true;\n",
              "  s.onreadystatechange = s.onload = callback;\n",
              "  s.onerror = function(){console.warn(\"failed to load library \" + url);};\n",
              "  document.getElementsByTagName(\"head\")[0].appendChild(s);\n",
              "}\n",
              "\n",
              "if(typeof(LDAvis) !== \"undefined\"){\n",
              "   // already loaded: just create the visualization\n",
              "   !function(LDAvis){\n",
              "       new LDAvis(\"#\" + \"ldavis_el2641399865853058081167519572\", ldavis_el2641399865853058081167519572_data);\n",
              "   }(LDAvis);\n",
              "}else if(typeof define === \"function\" && define.amd){\n",
              "   // require.js is available: use it to load d3/LDAvis\n",
              "   require.config({paths: {d3: \"https://d3js.org/d3.v5\"}});\n",
              "   require([\"d3\"], function(d3){\n",
              "      window.d3 = d3;\n",
              "      LDAvis_load_lib(\"https://cdn.jsdelivr.net/gh/bmabey/pyLDAvis@3.3.1/pyLDAvis/js/ldavis.v3.0.0.js\", function(){\n",
              "        new LDAvis(\"#\" + \"ldavis_el2641399865853058081167519572\", ldavis_el2641399865853058081167519572_data);\n",
              "      });\n",
              "    });\n",
              "}else{\n",
              "    // require.js not available: dynamically load d3 & LDAvis\n",
              "    LDAvis_load_lib(\"https://d3js.org/d3.v5.js\", function(){\n",
              "         LDAvis_load_lib(\"https://cdn.jsdelivr.net/gh/bmabey/pyLDAvis@3.3.1/pyLDAvis/js/ldavis.v3.0.0.js\", function(){\n",
              "                 new LDAvis(\"#\" + \"ldavis_el2641399865853058081167519572\", ldavis_el2641399865853058081167519572_data);\n",
              "            })\n",
              "         });\n",
              "}\n",
              "</script>"
            ],
            "text/plain": [
              "PreparedData(topic_coordinates=              x         y  topics  cluster       Freq\n",
              "topic                                                \n",
              "1      0.208227 -0.093653       1        1  22.579047\n",
              "2     -0.014750  0.075250       2        1  20.536598\n",
              "4      0.146513 -0.004906       3        1  19.740019\n",
              "0     -0.224926 -0.218564       4        1  18.673722\n",
              "3     -0.115064  0.241874       5        1  18.470613, topic_info=             Term        Freq       Total Category  logprob  loglift\n",
              "11760  queensland  267.000000  267.000000  Default  30.0000  30.0000\n",
              "2502         case  257.000000  257.000000  Default  29.0000  29.0000\n",
              "15219       trump  216.000000  216.000000  Default  28.0000  28.0000\n",
              "4070        covid  453.000000  453.000000  Default  27.0000  27.0000\n",
              "5369     election  165.000000  165.000000  Default  26.0000  26.0000\n",
              "...           ...         ...         ...      ...      ...      ...\n",
              "4237        crash   56.722948   91.097753   Topic5  -5.8127   1.2152\n",
              "7408         home   59.369696  131.339664   Topic5  -5.7671   0.8950\n",
              "16291       woman   60.360555  154.539935   Topic5  -5.7506   0.7489\n",
              "5830       family   53.338171  108.926604   Topic5  -5.8742   0.9750\n",
              "4542        death   50.523167  165.528832   Topic5  -5.9285   0.5023\n",
              "\n",
              "[244 rows x 6 columns], token_table=       Topic      Freq       Term\n",
              "term                             \n",
              "145        5  0.987921      abuse\n",
              "186        5  0.989099    accused\n",
              "358        4  0.992740       aged\n",
              "359        4  0.995184  aged care\n",
              "405        5  0.989490       alan\n",
              "...      ...       ...        ...\n",
              "16291      5  0.388249      woman\n",
              "16354      1  0.203816     worker\n",
              "16354      3  0.686538     worker\n",
              "16354      5  0.107272     worker\n",
              "16540      3  0.994264    zealand\n",
              "\n",
              "[290 rows x 3 columns], R=30, lambda_step=0.01, plot_opts={'xlab': 'PC1', 'ylab': 'PC2'}, topic_order=[2, 3, 5, 1, 4])"
            ]
          },
          "metadata": {
            "tags": []
          },
          "execution_count": 22
        }
      ]
    },
    {
      "cell_type": "markdown",
      "metadata": {
        "id": "9VuHuGGm3xYw"
      },
      "source": [
        "## Matriz - Documento Término"
      ]
    }
  ]
}