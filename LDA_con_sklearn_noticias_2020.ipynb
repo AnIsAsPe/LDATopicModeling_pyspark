{
  "nbformat": 4,
  "nbformat_minor": 0,
  "metadata": {
    "colab": {
      "name": "LDA con sklearn_noticias 2020.ipynb",
      "provenance": [],
      "collapsed_sections": [],
      "toc_visible": true,
      "mount_file_id": "https://github.com/AnIsAsPe/LDATopicModeling_pyspark/blob/main/LDA_con_sklearn_noticias_2020.ipynb",
      "authorship_tag": "ABX9TyNkyQ1OWmC/ip2iYeSPjv7L",
      "include_colab_link": true
    },
    "kernelspec": {
      "name": "python3",
      "display_name": "Python 3"
    },
    "language_info": {
      "name": "python"
    }
  },
  "cells": [
    {
      "cell_type": "markdown",
      "metadata": {
        "id": "view-in-github",
        "colab_type": "text"
      },
      "source": [
        "<a href=\"https://colab.research.google.com/github/AnIsAsPe/LDATopicModeling_pyspark/blob/main/LDA_con_sklearn_noticias_2020.ipynb\" target=\"_parent\"><img src=\"https://colab.research.google.com/assets/colab-badge.svg\" alt=\"Open In Colab\"/></a>"
      ]
    },
    {
      "cell_type": "markdown",
      "metadata": {
        "id": "qxCHG0OaQUa8"
      },
      "source": [
        "# Instalar y cargar bibliotecas"
      ]
    },
    {
      "cell_type": "code",
      "metadata": {
        "colab": {
          "base_uri": "https://localhost:8080/",
          "height": 955
        },
        "id": "ASPXxCfTa2bL",
        "outputId": "e023c971-74d4-4680-f225-4d3a0b243142"
      },
      "source": [
        "!pip install pyLDAvis  #biblioteca que extrae información de un modelo LDA para obtener una visualización interactiva"
      ],
      "execution_count": 1,
      "outputs": [
        {
          "output_type": "stream",
          "name": "stdout",
          "text": [
            "Collecting pyLDAvis\n",
            "  Downloading pyLDAvis-3.3.1.tar.gz (1.7 MB)\n",
            "\u001b[K     |████████████████████████████████| 1.7 MB 5.2 MB/s \n",
            "\u001b[?25h  Installing build dependencies ... \u001b[?25l\u001b[?25hdone\n",
            "  Getting requirements to build wheel ... \u001b[?25l\u001b[?25hdone\n",
            "  Installing backend dependencies ... \u001b[?25l\u001b[?25hdone\n",
            "    Preparing wheel metadata ... \u001b[?25l\u001b[?25hdone\n",
            "Requirement already satisfied: gensim in /usr/local/lib/python3.7/dist-packages (from pyLDAvis) (3.6.0)\n",
            "Requirement already satisfied: scikit-learn in /usr/local/lib/python3.7/dist-packages (from pyLDAvis) (0.22.2.post1)\n",
            "Requirement already satisfied: numexpr in /usr/local/lib/python3.7/dist-packages (from pyLDAvis) (2.7.3)\n",
            "Collecting funcy\n",
            "  Downloading funcy-1.16-py2.py3-none-any.whl (32 kB)\n",
            "Collecting pandas>=1.2.0\n",
            "  Downloading pandas-1.3.2-cp37-cp37m-manylinux_2_17_x86_64.manylinux2014_x86_64.whl (11.3 MB)\n",
            "\u001b[K     |████████████████████████████████| 11.3 MB 26.4 MB/s \n",
            "\u001b[?25hRequirement already satisfied: scipy in /usr/local/lib/python3.7/dist-packages (from pyLDAvis) (1.4.1)\n",
            "Requirement already satisfied: future in /usr/local/lib/python3.7/dist-packages (from pyLDAvis) (0.16.0)\n",
            "Requirement already satisfied: setuptools in /usr/local/lib/python3.7/dist-packages (from pyLDAvis) (57.4.0)\n",
            "Requirement already satisfied: joblib in /usr/local/lib/python3.7/dist-packages (from pyLDAvis) (1.0.1)\n",
            "Collecting numpy>=1.20.0\n",
            "  Downloading numpy-1.21.2-cp37-cp37m-manylinux_2_12_x86_64.manylinux2010_x86_64.whl (15.7 MB)\n",
            "\u001b[K     |████████████████████████████████| 15.7 MB 403 kB/s \n",
            "\u001b[?25hRequirement already satisfied: sklearn in /usr/local/lib/python3.7/dist-packages (from pyLDAvis) (0.0)\n",
            "Requirement already satisfied: jinja2 in /usr/local/lib/python3.7/dist-packages (from pyLDAvis) (2.11.3)\n",
            "Requirement already satisfied: python-dateutil>=2.7.3 in /usr/local/lib/python3.7/dist-packages (from pandas>=1.2.0->pyLDAvis) (2.8.2)\n",
            "Requirement already satisfied: pytz>=2017.3 in /usr/local/lib/python3.7/dist-packages (from pandas>=1.2.0->pyLDAvis) (2018.9)\n",
            "Requirement already satisfied: six>=1.5 in /usr/local/lib/python3.7/dist-packages (from python-dateutil>=2.7.3->pandas>=1.2.0->pyLDAvis) (1.15.0)\n",
            "Requirement already satisfied: smart-open>=1.2.1 in /usr/local/lib/python3.7/dist-packages (from gensim->pyLDAvis) (5.1.0)\n",
            "Requirement already satisfied: MarkupSafe>=0.23 in /usr/local/lib/python3.7/dist-packages (from jinja2->pyLDAvis) (2.0.1)\n",
            "Building wheels for collected packages: pyLDAvis\n",
            "  Building wheel for pyLDAvis (PEP 517) ... \u001b[?25l\u001b[?25hdone\n",
            "  Created wheel for pyLDAvis: filename=pyLDAvis-3.3.1-py2.py3-none-any.whl size=136897 sha256=00b5112fbeff6a2f2968e42fc1078025581803d8ce4a0c1ef03c88afbcc42024\n",
            "  Stored in directory: /root/.cache/pip/wheels/c9/21/f6/17bcf2667e8a68532ba2fbf6d5c72fdf4c7f7d9abfa4852d2f\n",
            "Successfully built pyLDAvis\n",
            "Installing collected packages: numpy, pandas, funcy, pyLDAvis\n",
            "  Attempting uninstall: numpy\n",
            "    Found existing installation: numpy 1.19.5\n",
            "    Uninstalling numpy-1.19.5:\n",
            "      Successfully uninstalled numpy-1.19.5\n",
            "  Attempting uninstall: pandas\n",
            "    Found existing installation: pandas 1.1.5\n",
            "    Uninstalling pandas-1.1.5:\n",
            "      Successfully uninstalled pandas-1.1.5\n",
            "\u001b[31mERROR: pip's dependency resolver does not currently take into account all the packages that are installed. This behaviour is the source of the following dependency conflicts.\n",
            "tensorflow 2.6.0 requires numpy~=1.19.2, but you have numpy 1.21.2 which is incompatible.\n",
            "google-colab 1.0.0 requires pandas~=1.1.0; python_version >= \"3.0\", but you have pandas 1.3.2 which is incompatible.\n",
            "datascience 0.10.6 requires folium==0.2.1, but you have folium 0.8.3 which is incompatible.\n",
            "albumentations 0.1.12 requires imgaug<0.2.7,>=0.2.5, but you have imgaug 0.2.9 which is incompatible.\u001b[0m\n",
            "Successfully installed funcy-1.16 numpy-1.21.2 pandas-1.3.2 pyLDAvis-3.3.1\n"
          ]
        },
        {
          "output_type": "display_data",
          "data": {
            "application/vnd.colab-display-data+json": {
              "pip_warning": {
                "packages": [
                  "numpy",
                  "pandas"
                ]
              }
            }
          },
          "metadata": {}
        }
      ]
    },
    {
      "cell_type": "code",
      "metadata": {
        "colab": {
          "base_uri": "https://localhost:8080/"
        },
        "id": "ROy7X72IDE2X",
        "outputId": "4b74f674-c6a4-41f6-f2dc-4dec6c22299b"
      },
      "source": [
        "import pandas as pd\n",
        "import numpy as np\n",
        "\n",
        "import re\n",
        "import nltk\n",
        "from nltk.corpus import stopwords\n",
        "from nltk.stem import PorterStemmer, WordNetLemmatizer\n",
        "\n",
        "from sklearn.feature_extraction.text import TfidfVectorizer\n",
        "\n",
        "import pyLDAvis\n",
        "import matplotlib.pyplot as plt \n",
        "import seaborn as sns  \n",
        "\n",
        "nltk.download('stopwords')\n",
        "nltk.download('wordnet')  #WordNetLemmatizer\n",
        "nltk.download('punkt')\n"
      ],
      "execution_count": 2,
      "outputs": [
        {
          "output_type": "stream",
          "name": "stdout",
          "text": [
            "[nltk_data] Downloading package stopwords to /root/nltk_data...\n",
            "[nltk_data]   Package stopwords is already up-to-date!\n",
            "[nltk_data] Downloading package wordnet to /root/nltk_data...\n",
            "[nltk_data]   Package wordnet is already up-to-date!\n",
            "[nltk_data] Downloading package punkt to /root/nltk_data...\n",
            "[nltk_data]   Package punkt is already up-to-date!\n"
          ]
        },
        {
          "output_type": "execute_result",
          "data": {
            "text/plain": [
              "True"
            ]
          },
          "metadata": {},
          "execution_count": 2
        }
      ]
    },
    {
      "cell_type": "markdown",
      "metadata": {
        "id": "c62u7UQQRB_R"
      },
      "source": [
        "# Lectura y exploración de datos"
      ]
    },
    {
      "cell_type": "markdown",
      "metadata": {
        "id": "53qgW2CaSPnG"
      },
      "source": [
        "En colab, al instalar la librería pyLDAvis causa un conflicto con Pandas. Si esto se refleja al correr la siguiente linea es necesario reiniciar el entorno de ejecución."
      ]
    },
    {
      "cell_type": "code",
      "metadata": {
        "id": "J_rnNHkAQ8aw",
        "colab": {
          "base_uri": "https://localhost:8080/",
          "height": 221
        },
        "outputId": "ec449b53-edb2-488f-f91f-c25c302bfa42"
      },
      "source": [
        "df = pd.read_csv('/content/drive/MyDrive/Datos/abcnews-date-text.csv', parse_dates=['publish_date'] )\n",
        "print(df.shape)\n",
        "df.head()"
      ],
      "execution_count": 4,
      "outputs": [
        {
          "output_type": "stream",
          "name": "stdout",
          "text": [
            "(1226258, 2)\n"
          ]
        },
        {
          "output_type": "execute_result",
          "data": {
            "text/html": [
              "<div>\n",
              "<style scoped>\n",
              "    .dataframe tbody tr th:only-of-type {\n",
              "        vertical-align: middle;\n",
              "    }\n",
              "\n",
              "    .dataframe tbody tr th {\n",
              "        vertical-align: top;\n",
              "    }\n",
              "\n",
              "    .dataframe thead th {\n",
              "        text-align: right;\n",
              "    }\n",
              "</style>\n",
              "<table border=\"1\" class=\"dataframe\">\n",
              "  <thead>\n",
              "    <tr style=\"text-align: right;\">\n",
              "      <th></th>\n",
              "      <th>publish_date</th>\n",
              "      <th>headline_text</th>\n",
              "    </tr>\n",
              "  </thead>\n",
              "  <tbody>\n",
              "    <tr>\n",
              "      <th>0</th>\n",
              "      <td>2003-02-19</td>\n",
              "      <td>aba decides against community broadcasting lic...</td>\n",
              "    </tr>\n",
              "    <tr>\n",
              "      <th>1</th>\n",
              "      <td>2003-02-19</td>\n",
              "      <td>act fire witnesses must be aware of defamation</td>\n",
              "    </tr>\n",
              "    <tr>\n",
              "      <th>2</th>\n",
              "      <td>2003-02-19</td>\n",
              "      <td>a g calls for infrastructure protection summit</td>\n",
              "    </tr>\n",
              "    <tr>\n",
              "      <th>3</th>\n",
              "      <td>2003-02-19</td>\n",
              "      <td>air nz staff in aust strike for pay rise</td>\n",
              "    </tr>\n",
              "    <tr>\n",
              "      <th>4</th>\n",
              "      <td>2003-02-19</td>\n",
              "      <td>air nz strike to affect australian travellers</td>\n",
              "    </tr>\n",
              "  </tbody>\n",
              "</table>\n",
              "</div>"
            ],
            "text/plain": [
              "  publish_date                                      headline_text\n",
              "0   2003-02-19  aba decides against community broadcasting lic...\n",
              "1   2003-02-19     act fire witnesses must be aware of defamation\n",
              "2   2003-02-19     a g calls for infrastructure protection summit\n",
              "3   2003-02-19           air nz staff in aust strike for pay rise\n",
              "4   2003-02-19      air nz strike to affect australian travellers"
            ]
          },
          "metadata": {},
          "execution_count": 4
        }
      ]
    },
    {
      "cell_type": "code",
      "metadata": {
        "id": "cxLRzl0CVkeg",
        "colab": {
          "base_uri": "https://localhost:8080/"
        },
        "outputId": "6181add0-b237-4dcf-9f61-7e84c77439bb"
      },
      "source": [
        "df.publish_date.min(), df.publish_date.max()"
      ],
      "execution_count": 6,
      "outputs": [
        {
          "output_type": "execute_result",
          "data": {
            "text/plain": [
              "(Timestamp('2003-02-19 00:00:00'), Timestamp('2020-12-31 00:00:00'))"
            ]
          },
          "metadata": {},
          "execution_count": 6
        }
      ]
    },
    {
      "cell_type": "code",
      "metadata": {
        "id": "NXSLK4Y4V_yM",
        "colab": {
          "base_uri": "https://localhost:8080/"
        },
        "outputId": "3bd539e9-6ca4-4015-b412-4071899d7820"
      },
      "source": [
        "# promedio de noticias por día\n",
        "len(df)/(df.publish_date.max()-df.publish_date.min()).days\n"
      ],
      "execution_count": 7,
      "outputs": [
        {
          "output_type": "execute_result",
          "data": {
            "text/plain": [
              "187.93226053639847"
            ]
          },
          "metadata": {},
          "execution_count": 7
        }
      ]
    },
    {
      "cell_type": "code",
      "metadata": {
        "id": "SXavCnKbSpnX",
        "colab": {
          "base_uri": "https://localhost:8080/"
        },
        "outputId": "905d8fcf-d676-4171-d27b-ce4be88b0ecd"
      },
      "source": [
        "\n",
        "filtro = (df['publish_date']>= '2020-01-01')&(df['publish_date']<= '2020-12-31')\n",
        "df = df[filtro]\n",
        "len(df)"
      ],
      "execution_count": 8,
      "outputs": [
        {
          "output_type": "execute_result",
          "data": {
            "text/plain": [
              "40240"
            ]
          },
          "metadata": {},
          "execution_count": 8
        }
      ]
    },
    {
      "cell_type": "markdown",
      "metadata": {
        "id": "xzNvH1AmRHeK"
      },
      "source": [
        "# Vectorización de textos"
      ]
    },
    {
      "cell_type": "code",
      "metadata": {
        "id": "TE1GWu_5Jh8g",
        "outputId": "239e0c21-abf6-435d-9aa7-4d0843fdd104",
        "colab": {
          "base_uri": "https://localhost:8080/"
        }
      },
      "source": [
        "stop = re.compile(r'\\b(' + r'|'.join(stopwords.words('english')) + r')\\b\\s*')\n",
        "stop"
      ],
      "execution_count": 9,
      "outputs": [
        {
          "output_type": "execute_result",
          "data": {
            "text/plain": [
              "re.compile(r\"\\b(i|me|my|myself|we|our|ours|ourselves|you|you're|you've|you'll|you'd|your|yours|yourself|yourselves|he|him|his|himself|she|she's|her|hers|herself|it|it's|its|itself|they|them|their|theirs|themselves|what|which|who|whom|this|that|that'll|these|those|am|is|are|was|were|be|been|being|have|has|had|having|do|does|did|doing|a|an|the|and|but|if|or|because|as|until|while|of|at|by|for|with|about|against|between|into|through|during|before|after|above|below|to|from|up|down|in|out|on|off|over|under|again|further|then|once|here|there|when|where|why|how|all|any|both|each|few|more|most|other|some|such|no|nor|not|only|own|same|so|than|too|very|s|t|can|will|just|don|don't|should|should've|now|d|ll|m|o|re|ve|y|ain|aren|aren't|couldn|couldn't|didn|didn't|doesn|doesn't|hadn|hadn't|hasn|hasn't|haven|haven't|isn|isn't|ma|mightn|mightn't|mustn|mustn't|needn|needn't|shan|shan't|shouldn|shouldn't|wasn|wasn't|weren|weren't|won|won't|wouldn|wouldn't)\\b\\s*\",\n",
              "re.UNICODE)"
            ]
          },
          "metadata": {},
          "execution_count": 9
        }
      ]
    },
    {
      "cell_type": "code",
      "metadata": {
        "id": "7k_x2WD3-iZ6"
      },
      "source": [
        "def preprocesar(texto):\n",
        "  #convierte a minúsculas\n",
        "  texto = (texto).lower()\n",
        "\n",
        "  #elimina stopwords\n",
        "  stop = re.compile(r'\\b(' + r'|'.join(stopwords.words('english')) + r')\\b\\s*')\n",
        "  texto = stop.sub('', texto) \n",
        "\n",
        "  #lematizar y quedarnos con palabras que tengan más de tres caracteres\n",
        "  lemmatizer = WordNetLemmatizer()\n",
        "  texto = texto.split()\n",
        "  texto = ' '.join([lemmatizer.lemmatize(i) for i in texto if len(i)>3])\n",
        "  \n",
        "  return(texto)"
      ],
      "execution_count": 10,
      "outputs": []
    },
    {
      "cell_type": "code",
      "metadata": {
        "id": "KkCgpoY7S4g2",
        "colab": {
          "base_uri": "https://localhost:8080/"
        },
        "outputId": "8c54b54d-254a-4f28-e082-a944c4a44c79"
      },
      "source": [
        "%%time\n",
        "df['headline_pp']=df['headline_text'].apply(preprocesar)\n",
        "df.head()"
      ],
      "execution_count": 11,
      "outputs": [
        {
          "output_type": "stream",
          "name": "stdout",
          "text": [
            "CPU times: user 9.66 s, sys: 950 ms, total: 10.6 s\n",
            "Wall time: 10.6 s\n"
          ]
        }
      ]
    },
    {
      "cell_type": "code",
      "metadata": {
        "id": "C_gN2XeSJ6ga",
        "outputId": "0c0e5ed9-fb37-4b3d-8308-83acd311171a",
        "colab": {
          "base_uri": "https://localhost:8080/",
          "height": 204
        }
      },
      "source": [
        "df.head()"
      ],
      "execution_count": 12,
      "outputs": [
        {
          "output_type": "execute_result",
          "data": {
            "text/html": [
              "<div>\n",
              "<style scoped>\n",
              "    .dataframe tbody tr th:only-of-type {\n",
              "        vertical-align: middle;\n",
              "    }\n",
              "\n",
              "    .dataframe tbody tr th {\n",
              "        vertical-align: top;\n",
              "    }\n",
              "\n",
              "    .dataframe thead th {\n",
              "        text-align: right;\n",
              "    }\n",
              "</style>\n",
              "<table border=\"1\" class=\"dataframe\">\n",
              "  <thead>\n",
              "    <tr style=\"text-align: right;\">\n",
              "      <th></th>\n",
              "      <th>publish_date</th>\n",
              "      <th>headline_text</th>\n",
              "      <th>headline_pp</th>\n",
              "    </tr>\n",
              "  </thead>\n",
              "  <tbody>\n",
              "    <tr>\n",
              "      <th>1186018</th>\n",
              "      <td>2020-01-01</td>\n",
              "      <td>a new type of resolution for the new year</td>\n",
              "      <td>type resolution year</td>\n",
              "    </tr>\n",
              "    <tr>\n",
              "      <th>1186019</th>\n",
              "      <td>2020-01-01</td>\n",
              "      <td>adelaide records driest year in more than a de...</td>\n",
              "      <td>adelaide record driest year decade</td>\n",
              "    </tr>\n",
              "    <tr>\n",
              "      <th>1186020</th>\n",
              "      <td>2020-01-01</td>\n",
              "      <td>adelaide riverbank catches alight after new ye...</td>\n",
              "      <td>adelaide riverbank catch alight year firework</td>\n",
              "    </tr>\n",
              "    <tr>\n",
              "      <th>1186021</th>\n",
              "      <td>2020-01-01</td>\n",
              "      <td>adelaides 9pm fireworks spark blaze on riverbank</td>\n",
              "      <td>adelaide firework spark blaze riverbank</td>\n",
              "    </tr>\n",
              "    <tr>\n",
              "      <th>1186022</th>\n",
              "      <td>2020-01-01</td>\n",
              "      <td>archaic legislation governing nt women propert...</td>\n",
              "      <td>archaic legislation governing woman property r...</td>\n",
              "    </tr>\n",
              "  </tbody>\n",
              "</table>\n",
              "</div>"
            ],
            "text/plain": [
              "        publish_date  ...                                        headline_pp\n",
              "1186018   2020-01-01  ...                               type resolution year\n",
              "1186019   2020-01-01  ...                 adelaide record driest year decade\n",
              "1186020   2020-01-01  ...      adelaide riverbank catch alight year firework\n",
              "1186021   2020-01-01  ...            adelaide firework spark blaze riverbank\n",
              "1186022   2020-01-01  ...  archaic legislation governing woman property r...\n",
              "\n",
              "[5 rows x 3 columns]"
            ]
          },
          "metadata": {},
          "execution_count": 12
        }
      ]
    },
    {
      "cell_type": "code",
      "metadata": {
        "id": "8xsWZiBKYUA2",
        "colab": {
          "base_uri": "https://localhost:8080/"
        },
        "outputId": "459a70af-aa0d-409b-866c-deac93ed2d11"
      },
      "source": [
        "vectorizer = TfidfVectorizer(min_df=3, ngram_range=(1,2))\n",
        "BOW = vectorizer.fit_transform(df['headline_pp'])\n",
        "BOW.shape"
      ],
      "execution_count": 13,
      "outputs": [
        {
          "output_type": "execute_result",
          "data": {
            "text/plain": [
              "(40240, 16579)"
            ]
          },
          "metadata": {},
          "execution_count": 13
        }
      ]
    },
    {
      "cell_type": "code",
      "metadata": {
        "id": "1QUbhXzlNujY",
        "outputId": "d28d0f91-627f-4778-fea2-3d7420a25749",
        "colab": {
          "base_uri": "https://localhost:8080/"
        }
      },
      "source": [
        "vocabulario = vectorizer.get_feature_names()\n",
        "len(vocabulario)"
      ],
      "execution_count": 33,
      "outputs": [
        {
          "output_type": "execute_result",
          "data": {
            "text/plain": [
              "16579"
            ]
          },
          "metadata": {},
          "execution_count": 33
        }
      ]
    },
    {
      "cell_type": "markdown",
      "metadata": {
        "id": "2eoNRdQ1RMQr"
      },
      "source": [
        "# Entrenamiento del modelo"
      ]
    },
    {
      "cell_type": "code",
      "metadata": {
        "id": "t8nGEao-afRB"
      },
      "source": [
        "from sklearn.decomposition import LatentDirichletAllocation\n",
        "lda_model=LatentDirichletAllocation(n_components=5,learning_method='online',random_state=42,max_iter=50) "
      ],
      "execution_count": 14,
      "outputs": []
    },
    {
      "cell_type": "code",
      "metadata": {
        "id": "vUKtulg8alik"
      },
      "source": [
        "#%%time\n",
        "#lda_model.fit(BOW) # entrena el modelo y obtienela matriz documento-topico"
      ],
      "execution_count": 36,
      "outputs": []
    },
    {
      "cell_type": "markdown",
      "metadata": {
        "id": "Sr5WWdrlEkAe"
      },
      "source": [
        "### Matriz documento tópico"
      ]
    },
    {
      "cell_type": "code",
      "metadata": {
        "colab": {
          "base_uri": "https://localhost:8080/",
          "height": 221
        },
        "id": "MRagkOQS4Y0w",
        "outputId": "1796fbf5-85cf-43ac-b0ed-6b396f79c161"
      },
      "source": [
        "doc_top = pd.DataFrame(lda_model.transform(BOW))\n",
        "print(doc_top.shape)\n",
        "doc_top.head()"
      ],
      "execution_count": 18,
      "outputs": [
        {
          "output_type": "stream",
          "name": "stdout",
          "text": [
            "(40240, 5)\n"
          ]
        },
        {
          "output_type": "execute_result",
          "data": {
            "text/html": [
              "<div>\n",
              "<style scoped>\n",
              "    .dataframe tbody tr th:only-of-type {\n",
              "        vertical-align: middle;\n",
              "    }\n",
              "\n",
              "    .dataframe tbody tr th {\n",
              "        vertical-align: top;\n",
              "    }\n",
              "\n",
              "    .dataframe thead th {\n",
              "        text-align: right;\n",
              "    }\n",
              "</style>\n",
              "<table border=\"1\" class=\"dataframe\">\n",
              "  <thead>\n",
              "    <tr style=\"text-align: right;\">\n",
              "      <th></th>\n",
              "      <th>0</th>\n",
              "      <th>1</th>\n",
              "      <th>2</th>\n",
              "      <th>3</th>\n",
              "      <th>4</th>\n",
              "    </tr>\n",
              "  </thead>\n",
              "  <tbody>\n",
              "    <tr>\n",
              "      <th>0</th>\n",
              "      <td>0.394430</td>\n",
              "      <td>0.380654</td>\n",
              "      <td>0.074977</td>\n",
              "      <td>0.074743</td>\n",
              "      <td>0.075196</td>\n",
              "    </tr>\n",
              "    <tr>\n",
              "      <th>1</th>\n",
              "      <td>0.199485</td>\n",
              "      <td>0.630972</td>\n",
              "      <td>0.056487</td>\n",
              "      <td>0.056418</td>\n",
              "      <td>0.056639</td>\n",
              "    </tr>\n",
              "    <tr>\n",
              "      <th>2</th>\n",
              "      <td>0.165149</td>\n",
              "      <td>0.666773</td>\n",
              "      <td>0.056001</td>\n",
              "      <td>0.055938</td>\n",
              "      <td>0.056139</td>\n",
              "    </tr>\n",
              "    <tr>\n",
              "      <th>3</th>\n",
              "      <td>0.062683</td>\n",
              "      <td>0.458073</td>\n",
              "      <td>0.062562</td>\n",
              "      <td>0.062565</td>\n",
              "      <td>0.354117</td>\n",
              "    </tr>\n",
              "    <tr>\n",
              "      <th>4</th>\n",
              "      <td>0.502484</td>\n",
              "      <td>0.067217</td>\n",
              "      <td>0.067445</td>\n",
              "      <td>0.295285</td>\n",
              "      <td>0.067569</td>\n",
              "    </tr>\n",
              "  </tbody>\n",
              "</table>\n",
              "</div>"
            ],
            "text/plain": [
              "          0         1         2         3         4\n",
              "0  0.394430  0.380654  0.074977  0.074743  0.075196\n",
              "1  0.199485  0.630972  0.056487  0.056418  0.056639\n",
              "2  0.165149  0.666773  0.056001  0.055938  0.056139\n",
              "3  0.062683  0.458073  0.062562  0.062565  0.354117\n",
              "4  0.502484  0.067217  0.067445  0.295285  0.067569"
            ]
          },
          "metadata": {},
          "execution_count": 18
        }
      ]
    },
    {
      "cell_type": "code",
      "metadata": {
        "id": "X3w0jIbEM2RJ",
        "outputId": "f8387244-2d5c-4762-8d69-51511a349c09",
        "colab": {
          "base_uri": "https://localhost:8080/",
          "height": 323
        }
      },
      "source": [
        "pd.merge(df, doc_top)"
      ],
      "execution_count": 27,
      "outputs": [
        {
          "output_type": "error",
          "ename": "MergeError",
          "evalue": "ignored",
          "traceback": [
            "\u001b[0;31m---------------------------------------------------------------------------\u001b[0m",
            "\u001b[0;31mMergeError\u001b[0m                                Traceback (most recent call last)",
            "\u001b[0;32m<ipython-input-27-a5823b00ee60>\u001b[0m in \u001b[0;36m<module>\u001b[0;34m()\u001b[0m\n\u001b[0;32m----> 1\u001b[0;31m \u001b[0mpd\u001b[0m\u001b[0;34m.\u001b[0m\u001b[0mmerge\u001b[0m\u001b[0;34m(\u001b[0m\u001b[0mdf\u001b[0m\u001b[0;34m,\u001b[0m \u001b[0mdoc_top\u001b[0m\u001b[0;34m)\u001b[0m\u001b[0;34m\u001b[0m\u001b[0;34m\u001b[0m\u001b[0m\n\u001b[0m",
            "\u001b[0;32m/usr/local/lib/python3.7/dist-packages/pandas/core/reshape/merge.py\u001b[0m in \u001b[0;36mmerge\u001b[0;34m(left, right, how, on, left_on, right_on, left_index, right_index, sort, suffixes, copy, indicator, validate)\u001b[0m\n\u001b[1;32m    118\u001b[0m         \u001b[0mcopy\u001b[0m\u001b[0;34m=\u001b[0m\u001b[0mcopy\u001b[0m\u001b[0;34m,\u001b[0m\u001b[0;34m\u001b[0m\u001b[0;34m\u001b[0m\u001b[0m\n\u001b[1;32m    119\u001b[0m         \u001b[0mindicator\u001b[0m\u001b[0;34m=\u001b[0m\u001b[0mindicator\u001b[0m\u001b[0;34m,\u001b[0m\u001b[0;34m\u001b[0m\u001b[0;34m\u001b[0m\u001b[0m\n\u001b[0;32m--> 120\u001b[0;31m         \u001b[0mvalidate\u001b[0m\u001b[0;34m=\u001b[0m\u001b[0mvalidate\u001b[0m\u001b[0;34m,\u001b[0m\u001b[0;34m\u001b[0m\u001b[0;34m\u001b[0m\u001b[0m\n\u001b[0m\u001b[1;32m    121\u001b[0m     )\n\u001b[1;32m    122\u001b[0m     \u001b[0;32mreturn\u001b[0m \u001b[0mop\u001b[0m\u001b[0;34m.\u001b[0m\u001b[0mget_result\u001b[0m\u001b[0;34m(\u001b[0m\u001b[0;34m)\u001b[0m\u001b[0;34m\u001b[0m\u001b[0;34m\u001b[0m\u001b[0m\n",
            "\u001b[0;32m/usr/local/lib/python3.7/dist-packages/pandas/core/reshape/merge.py\u001b[0m in \u001b[0;36m__init__\u001b[0;34m(self, left, right, how, on, left_on, right_on, axis, left_index, right_index, sort, suffixes, copy, indicator, validate)\u001b[0m\n\u001b[1;32m    680\u001b[0m             \u001b[0mwarnings\u001b[0m\u001b[0;34m.\u001b[0m\u001b[0mwarn\u001b[0m\u001b[0;34m(\u001b[0m\u001b[0mmsg\u001b[0m\u001b[0;34m,\u001b[0m \u001b[0mFutureWarning\u001b[0m\u001b[0;34m,\u001b[0m \u001b[0mstacklevel\u001b[0m\u001b[0;34m=\u001b[0m\u001b[0;36m3\u001b[0m\u001b[0;34m)\u001b[0m\u001b[0;34m\u001b[0m\u001b[0;34m\u001b[0m\u001b[0m\n\u001b[1;32m    681\u001b[0m \u001b[0;34m\u001b[0m\u001b[0m\n\u001b[0;32m--> 682\u001b[0;31m         \u001b[0mself\u001b[0m\u001b[0;34m.\u001b[0m\u001b[0m_validate_specification\u001b[0m\u001b[0;34m(\u001b[0m\u001b[0;34m)\u001b[0m\u001b[0;34m\u001b[0m\u001b[0;34m\u001b[0m\u001b[0m\n\u001b[0m\u001b[1;32m    683\u001b[0m \u001b[0;34m\u001b[0m\u001b[0m\n\u001b[1;32m    684\u001b[0m         \u001b[0mcross_col\u001b[0m \u001b[0;34m=\u001b[0m \u001b[0;32mNone\u001b[0m\u001b[0;34m\u001b[0m\u001b[0;34m\u001b[0m\u001b[0m\n",
            "\u001b[0;32m/usr/local/lib/python3.7/dist-packages/pandas/core/reshape/merge.py\u001b[0m in \u001b[0;36m_validate_specification\u001b[0;34m(self)\u001b[0m\n\u001b[1;32m   1341\u001b[0m                 \u001b[0;32mif\u001b[0m \u001b[0mlen\u001b[0m\u001b[0;34m(\u001b[0m\u001b[0mcommon_cols\u001b[0m\u001b[0;34m)\u001b[0m \u001b[0;34m==\u001b[0m \u001b[0;36m0\u001b[0m\u001b[0;34m:\u001b[0m\u001b[0;34m\u001b[0m\u001b[0;34m\u001b[0m\u001b[0m\n\u001b[1;32m   1342\u001b[0m                     raise MergeError(\n\u001b[0;32m-> 1343\u001b[0;31m                         \u001b[0;34m\"No common columns to perform merge on. \"\u001b[0m\u001b[0;34m\u001b[0m\u001b[0;34m\u001b[0m\u001b[0m\n\u001b[0m\u001b[1;32m   1344\u001b[0m                         \u001b[0;34mf\"Merge options: left_on={self.left_on}, \"\u001b[0m\u001b[0;34m\u001b[0m\u001b[0;34m\u001b[0m\u001b[0m\n\u001b[1;32m   1345\u001b[0m                         \u001b[0;34mf\"right_on={self.right_on}, \"\u001b[0m\u001b[0;34m\u001b[0m\u001b[0;34m\u001b[0m\u001b[0m\n",
            "\u001b[0;31mMergeError\u001b[0m: No common columns to perform merge on. Merge options: left_on=None, right_on=None, left_index=False, right_index=False"
          ]
        }
      ]
    },
    {
      "cell_type": "code",
      "metadata": {
        "colab": {
          "base_uri": "https://localhost:8080/"
        },
        "id": "OhvqN6ylGfIU",
        "outputId": "bd757a54-7eab-4aeb-d11b-e21a8db92402"
      },
      "source": [
        "doc_top.sum(axis=1)"
      ],
      "execution_count": 19,
      "outputs": [
        {
          "output_type": "execute_result",
          "data": {
            "text/plain": [
              "0        1.0\n",
              "1        1.0\n",
              "2        1.0\n",
              "3        1.0\n",
              "4        1.0\n",
              "        ... \n",
              "40235    1.0\n",
              "40236    1.0\n",
              "40237    1.0\n",
              "40238    1.0\n",
              "40239    1.0\n",
              "Length: 40240, dtype: float64"
            ]
          },
          "metadata": {},
          "execution_count": 19
        }
      ]
    },
    {
      "cell_type": "markdown",
      "metadata": {
        "id": "65F5fE3wEpDB"
      },
      "source": [
        "## Matriz tópicos-tokens"
      ]
    },
    {
      "cell_type": "code",
      "metadata": {
        "colab": {
          "base_uri": "https://localhost:8080/"
        },
        "id": "qqtXWYH245oP",
        "outputId": "0b17a3fc-5537-4282-ec3f-fb2d309d948d"
      },
      "source": [
        "lda_model.components_"
      ],
      "execution_count": 20,
      "outputs": [
        {
          "output_type": "execute_result",
          "data": {
            "text/plain": [
              "array([[0.20003306, 9.11176291, 4.07762402, ..., 0.21615756, 0.20097011,\n",
              "        0.20145251],\n",
              "       [2.04903392, 0.20652699, 0.21675812, ..., 6.47112853, 0.20072794,\n",
              "        0.20068637],\n",
              "       [0.20002956, 0.20379869, 0.20057681, ..., 0.20337748, 1.80184408,\n",
              "        0.2014645 ],\n",
              "       [0.20003373, 0.20223166, 0.22207763, ..., 0.20230281, 0.20002622,\n",
              "        0.20508186],\n",
              "       [0.20003115, 0.20180778, 0.20714152, ..., 0.20817562, 0.20002431,\n",
              "        3.23219972]])"
            ]
          },
          "metadata": {},
          "execution_count": 20
        }
      ]
    },
    {
      "cell_type": "code",
      "metadata": {
        "colab": {
          "base_uri": "https://localhost:8080/",
          "height": 370
        },
        "id": "Phpfg6MlE1ZR",
        "outputId": "39f001a4-14eb-4b7c-be4c-490daed34068"
      },
      "source": [
        "top_tokens= pd.DataFrame(lda_model.exp_dirichlet_component_,\n",
        "                         columns=vocabulario)\n",
        "print(top_tokens.shape)\n",
        "top_tokens.head()"
      ],
      "execution_count": 41,
      "outputs": [
        {
          "output_type": "stream",
          "name": "stdout",
          "text": [
            "(5, 16579)\n"
          ]
        },
        {
          "output_type": "execute_result",
          "data": {
            "text/html": [
              "<div>\n",
              "<style scoped>\n",
              "    .dataframe tbody tr th:only-of-type {\n",
              "        vertical-align: middle;\n",
              "    }\n",
              "\n",
              "    .dataframe tbody tr th {\n",
              "        vertical-align: top;\n",
              "    }\n",
              "\n",
              "    .dataframe thead th {\n",
              "        text-align: right;\n",
              "    }\n",
              "</style>\n",
              "<table border=\"1\" class=\"dataframe\">\n",
              "  <thead>\n",
              "    <tr style=\"text-align: right;\">\n",
              "      <th></th>\n",
              "      <th>0501</th>\n",
              "      <th>1000</th>\n",
              "      <th>10000</th>\n",
              "      <th>100000</th>\n",
              "      <th>100k</th>\n",
              "      <th>100m</th>\n",
              "      <th>100th</th>\n",
              "      <th>100th birthday</th>\n",
              "      <th>1080</th>\n",
              "      <th>10th</th>\n",
              "      <th>10yo</th>\n",
              "      <th>11th</th>\n",
              "      <th>12th</th>\n",
              "      <th>130</th>\n",
              "      <th>130 billion</th>\n",
              "      <th>13th</th>\n",
              "      <th>14th</th>\n",
              "      <th>14yo</th>\n",
              "      <th>14yo girl</th>\n",
              "      <th>150</th>\n",
              "      <th>150 million</th>\n",
              "      <th>1500</th>\n",
              "      <th>15th</th>\n",
              "      <th>15yo</th>\n",
              "      <th>16th</th>\n",
              "      <th>17th</th>\n",
              "      <th>17yo</th>\n",
              "      <th>18th</th>\n",
              "      <th>18yo</th>\n",
              "      <th>1970s</th>\n",
              "      <th>1980s</th>\n",
              "      <th>1983</th>\n",
              "      <th>1988</th>\n",
              "      <th>1990s</th>\n",
              "      <th>1995</th>\n",
              "      <th>1996</th>\n",
              "      <th>1999</th>\n",
              "      <th>19th</th>\n",
              "      <th>19yo</th>\n",
              "      <th>2000</th>\n",
              "      <th>...</th>\n",
              "      <th>zahra</th>\n",
              "      <th>zealand</th>\n",
              "      <th>zealand auckland</th>\n",
              "      <th>zealand australia</th>\n",
              "      <th>zealand coronavirus</th>\n",
              "      <th>zealand covid</th>\n",
              "      <th>zealand election</th>\n",
              "      <th>zealand host</th>\n",
              "      <th>zealand jacinda</th>\n",
              "      <th>zealand lift</th>\n",
              "      <th>zealand record</th>\n",
              "      <th>zealand travel</th>\n",
              "      <th>zealand vote</th>\n",
              "      <th>zealand white</th>\n",
              "      <th>zealand woman</th>\n",
              "      <th>zealander</th>\n",
              "      <th>zempilas</th>\n",
              "      <th>zero</th>\n",
              "      <th>zero carbon</th>\n",
              "      <th>zero case</th>\n",
              "      <th>zero coronavirus</th>\n",
              "      <th>zero covid</th>\n",
              "      <th>zero death</th>\n",
              "      <th>zero emission</th>\n",
              "      <th>zero local</th>\n",
              "      <th>ziffer</th>\n",
              "      <th>ziggy</th>\n",
              "      <th>ziggy ramo</th>\n",
              "      <th>zillmere</th>\n",
              "      <th>zillmere brawl</th>\n",
              "      <th>zimbabwe</th>\n",
              "      <th>zlate</th>\n",
              "      <th>zlate cvetanovski</th>\n",
              "      <th>zodiac</th>\n",
              "      <th>zombie</th>\n",
              "      <th>zone</th>\n",
              "      <th>zoo</th>\n",
              "      <th>zoom</th>\n",
              "      <th>zuckerberg</th>\n",
              "      <th>zverev</th>\n",
              "    </tr>\n",
              "  </thead>\n",
              "  <tbody>\n",
              "    <tr>\n",
              "      <th>0</th>\n",
              "      <td>2.286448e-07</td>\n",
              "      <td>3.900503e-04</td>\n",
              "      <td>1.624707e-04</td>\n",
              "      <td>2.406738e-07</td>\n",
              "      <td>2.737546e-07</td>\n",
              "      <td>5.851247e-05</td>\n",
              "      <td>2.338646e-07</td>\n",
              "      <td>2.327550e-07</td>\n",
              "      <td>2.311711e-07</td>\n",
              "      <td>2.285429e-07</td>\n",
              "      <td>3.498940e-07</td>\n",
              "      <td>2.303602e-07</td>\n",
              "      <td>2.288257e-07</td>\n",
              "      <td>2.366014e-07</td>\n",
              "      <td>2.366014e-07</td>\n",
              "      <td>2.286472e-07</td>\n",
              "      <td>2.287862e-07</td>\n",
              "      <td>2.508619e-07</td>\n",
              "      <td>2.665478e-07</td>\n",
              "      <td>5.675037e-05</td>\n",
              "      <td>4.397578e-05</td>\n",
              "      <td>2.803134e-07</td>\n",
              "      <td>2.285444e-07</td>\n",
              "      <td>2.360641e-07</td>\n",
              "      <td>2.285925e-07</td>\n",
              "      <td>2.367225e-07</td>\n",
              "      <td>2.486037e-07</td>\n",
              "      <td>2.285483e-07</td>\n",
              "      <td>2.421351e-07</td>\n",
              "      <td>3.104442e-07</td>\n",
              "      <td>4.739532e-05</td>\n",
              "      <td>3.311473e-05</td>\n",
              "      <td>1.129386e-04</td>\n",
              "      <td>2.286549e-07</td>\n",
              "      <td>6.046045e-05</td>\n",
              "      <td>2.299081e-07</td>\n",
              "      <td>2.638866e-07</td>\n",
              "      <td>2.811847e-07</td>\n",
              "      <td>5.132062e-05</td>\n",
              "      <td>2.426736e-07</td>\n",
              "      <td>...</td>\n",
              "      <td>5.046677e-05</td>\n",
              "      <td>2.594472e-07</td>\n",
              "      <td>2.316785e-07</td>\n",
              "      <td>8.639700e-05</td>\n",
              "      <td>2.304547e-07</td>\n",
              "      <td>2.286270e-07</td>\n",
              "      <td>2.295730e-07</td>\n",
              "      <td>2.434414e-07</td>\n",
              "      <td>2.314097e-07</td>\n",
              "      <td>2.286212e-07</td>\n",
              "      <td>2.285798e-07</td>\n",
              "      <td>2.378691e-07</td>\n",
              "      <td>2.365111e-07</td>\n",
              "      <td>2.300080e-07</td>\n",
              "      <td>2.349907e-07</td>\n",
              "      <td>2.363321e-07</td>\n",
              "      <td>4.912295e-05</td>\n",
              "      <td>2.380507e-07</td>\n",
              "      <td>2.449585e-07</td>\n",
              "      <td>2.328234e-07</td>\n",
              "      <td>2.290866e-07</td>\n",
              "      <td>2.286722e-07</td>\n",
              "      <td>2.603879e-07</td>\n",
              "      <td>2.340207e-07</td>\n",
              "      <td>2.286175e-07</td>\n",
              "      <td>2.297785e-07</td>\n",
              "      <td>2.343148e-07</td>\n",
              "      <td>2.343148e-07</td>\n",
              "      <td>1.782688e-04</td>\n",
              "      <td>2.493980e-07</td>\n",
              "      <td>2.699803e-07</td>\n",
              "      <td>2.306239e-07</td>\n",
              "      <td>2.306239e-07</td>\n",
              "      <td>2.286610e-07</td>\n",
              "      <td>2.411602e-07</td>\n",
              "      <td>2.473867e-07</td>\n",
              "      <td>3.423362e-07</td>\n",
              "      <td>3.387741e-07</td>\n",
              "      <td>2.343149e-07</td>\n",
              "      <td>2.372684e-07</td>\n",
              "    </tr>\n",
              "    <tr>\n",
              "      <th>1</th>\n",
              "      <td>5.713565e-05</td>\n",
              "      <td>2.162577e-07</td>\n",
              "      <td>2.752854e-07</td>\n",
              "      <td>1.350408e-04</td>\n",
              "      <td>1.976156e-07</td>\n",
              "      <td>1.942606e-07</td>\n",
              "      <td>9.132631e-05</td>\n",
              "      <td>7.477219e-05</td>\n",
              "      <td>1.832514e-07</td>\n",
              "      <td>1.831948e-07</td>\n",
              "      <td>6.316208e-05</td>\n",
              "      <td>1.975427e-07</td>\n",
              "      <td>6.144683e-05</td>\n",
              "      <td>3.517306e-05</td>\n",
              "      <td>3.517306e-05</td>\n",
              "      <td>2.050565e-07</td>\n",
              "      <td>1.848660e-07</td>\n",
              "      <td>8.050285e-05</td>\n",
              "      <td>5.260900e-05</td>\n",
              "      <td>1.936510e-07</td>\n",
              "      <td>1.990733e-07</td>\n",
              "      <td>1.944953e-07</td>\n",
              "      <td>1.831956e-07</td>\n",
              "      <td>1.921425e-07</td>\n",
              "      <td>1.937126e-07</td>\n",
              "      <td>2.296245e-07</td>\n",
              "      <td>1.882775e-07</td>\n",
              "      <td>1.831982e-07</td>\n",
              "      <td>1.855679e-07</td>\n",
              "      <td>1.862576e-07</td>\n",
              "      <td>1.925894e-07</td>\n",
              "      <td>1.924194e-07</td>\n",
              "      <td>1.896381e-07</td>\n",
              "      <td>2.016716e-07</td>\n",
              "      <td>2.152952e-07</td>\n",
              "      <td>1.864360e-07</td>\n",
              "      <td>2.590748e-07</td>\n",
              "      <td>1.874405e-07</td>\n",
              "      <td>1.833352e-07</td>\n",
              "      <td>3.289314e-04</td>\n",
              "      <td>...</td>\n",
              "      <td>1.832219e-07</td>\n",
              "      <td>2.496565e-07</td>\n",
              "      <td>6.072428e-05</td>\n",
              "      <td>1.851099e-07</td>\n",
              "      <td>2.070598e-07</td>\n",
              "      <td>5.331767e-05</td>\n",
              "      <td>1.839982e-07</td>\n",
              "      <td>1.851894e-07</td>\n",
              "      <td>1.860551e-07</td>\n",
              "      <td>4.402226e-05</td>\n",
              "      <td>1.025721e-04</td>\n",
              "      <td>2.089043e-07</td>\n",
              "      <td>1.832470e-07</td>\n",
              "      <td>4.976144e-05</td>\n",
              "      <td>1.859459e-07</td>\n",
              "      <td>2.219600e-07</td>\n",
              "      <td>1.832668e-07</td>\n",
              "      <td>2.297464e-07</td>\n",
              "      <td>1.832195e-07</td>\n",
              "      <td>2.046548e-07</td>\n",
              "      <td>1.004772e-04</td>\n",
              "      <td>2.245654e-07</td>\n",
              "      <td>3.844311e-05</td>\n",
              "      <td>1.843312e-07</td>\n",
              "      <td>2.074120e-07</td>\n",
              "      <td>1.832614e-07</td>\n",
              "      <td>1.879249e-07</td>\n",
              "      <td>1.879249e-07</td>\n",
              "      <td>1.858173e-07</td>\n",
              "      <td>1.832406e-07</td>\n",
              "      <td>5.682577e-05</td>\n",
              "      <td>3.274243e-05</td>\n",
              "      <td>3.274243e-05</td>\n",
              "      <td>1.832957e-07</td>\n",
              "      <td>2.712625e-07</td>\n",
              "      <td>2.378071e-07</td>\n",
              "      <td>2.139289e-07</td>\n",
              "      <td>2.169345e-04</td>\n",
              "      <td>1.866559e-07</td>\n",
              "      <td>1.864535e-07</td>\n",
              "    </tr>\n",
              "    <tr>\n",
              "      <th>2</th>\n",
              "      <td>2.044964e-07</td>\n",
              "      <td>2.253771e-07</td>\n",
              "      <td>2.074486e-07</td>\n",
              "      <td>2.225915e-07</td>\n",
              "      <td>2.091376e-07</td>\n",
              "      <td>2.181270e-07</td>\n",
              "      <td>2.240865e-07</td>\n",
              "      <td>2.216467e-07</td>\n",
              "      <td>2.126701e-07</td>\n",
              "      <td>9.840093e-05</td>\n",
              "      <td>2.179941e-07</td>\n",
              "      <td>1.078276e-04</td>\n",
              "      <td>3.067811e-07</td>\n",
              "      <td>2.065507e-07</td>\n",
              "      <td>2.065507e-07</td>\n",
              "      <td>1.094681e-04</td>\n",
              "      <td>2.990235e-07</td>\n",
              "      <td>2.068253e-07</td>\n",
              "      <td>2.057916e-07</td>\n",
              "      <td>2.105206e-07</td>\n",
              "      <td>2.092980e-07</td>\n",
              "      <td>2.241123e-07</td>\n",
              "      <td>1.208051e-04</td>\n",
              "      <td>2.095189e-07</td>\n",
              "      <td>1.482759e-04</td>\n",
              "      <td>1.075937e-04</td>\n",
              "      <td>2.045364e-07</td>\n",
              "      <td>7.841530e-05</td>\n",
              "      <td>2.123365e-07</td>\n",
              "      <td>6.606152e-05</td>\n",
              "      <td>2.046673e-07</td>\n",
              "      <td>2.098424e-07</td>\n",
              "      <td>2.155743e-07</td>\n",
              "      <td>2.196816e-07</td>\n",
              "      <td>2.045626e-07</td>\n",
              "      <td>2.059540e-07</td>\n",
              "      <td>2.047048e-07</td>\n",
              "      <td>1.190951e-04</td>\n",
              "      <td>2.067286e-07</td>\n",
              "      <td>2.257660e-07</td>\n",
              "      <td>...</td>\n",
              "      <td>2.044465e-07</td>\n",
              "      <td>2.152442e-07</td>\n",
              "      <td>2.044587e-07</td>\n",
              "      <td>2.202595e-07</td>\n",
              "      <td>2.138626e-07</td>\n",
              "      <td>2.080731e-07</td>\n",
              "      <td>2.077723e-07</td>\n",
              "      <td>2.100547e-07</td>\n",
              "      <td>2.048919e-07</td>\n",
              "      <td>2.060879e-07</td>\n",
              "      <td>2.044456e-07</td>\n",
              "      <td>2.101744e-07</td>\n",
              "      <td>2.088238e-07</td>\n",
              "      <td>2.044715e-07</td>\n",
              "      <td>2.100347e-07</td>\n",
              "      <td>2.055168e-07</td>\n",
              "      <td>2.067782e-07</td>\n",
              "      <td>1.279159e-03</td>\n",
              "      <td>3.547451e-05</td>\n",
              "      <td>4.115406e-04</td>\n",
              "      <td>2.159718e-07</td>\n",
              "      <td>5.877832e-05</td>\n",
              "      <td>2.720541e-07</td>\n",
              "      <td>1.024482e-04</td>\n",
              "      <td>8.703969e-05</td>\n",
              "      <td>1.067910e-04</td>\n",
              "      <td>2.044905e-07</td>\n",
              "      <td>2.044905e-07</td>\n",
              "      <td>2.083301e-07</td>\n",
              "      <td>2.044738e-07</td>\n",
              "      <td>2.197632e-07</td>\n",
              "      <td>2.065883e-07</td>\n",
              "      <td>2.065883e-07</td>\n",
              "      <td>7.056726e-05</td>\n",
              "      <td>2.046401e-07</td>\n",
              "      <td>5.468249e-04</td>\n",
              "      <td>7.197047e-05</td>\n",
              "      <td>2.229798e-07</td>\n",
              "      <td>5.391498e-05</td>\n",
              "      <td>2.122946e-07</td>\n",
              "    </tr>\n",
              "    <tr>\n",
              "      <th>3</th>\n",
              "      <td>2.331657e-07</td>\n",
              "      <td>2.468705e-07</td>\n",
              "      <td>3.936884e-07</td>\n",
              "      <td>2.563348e-07</td>\n",
              "      <td>2.609231e-07</td>\n",
              "      <td>2.352784e-07</td>\n",
              "      <td>2.456233e-07</td>\n",
              "      <td>2.481829e-07</td>\n",
              "      <td>2.331358e-07</td>\n",
              "      <td>2.330603e-07</td>\n",
              "      <td>2.611397e-07</td>\n",
              "      <td>2.371325e-07</td>\n",
              "      <td>2.401435e-07</td>\n",
              "      <td>2.331605e-07</td>\n",
              "      <td>2.331605e-07</td>\n",
              "      <td>2.331698e-07</td>\n",
              "      <td>2.333199e-07</td>\n",
              "      <td>2.665347e-07</td>\n",
              "      <td>2.564076e-07</td>\n",
              "      <td>2.439546e-07</td>\n",
              "      <td>2.444000e-07</td>\n",
              "      <td>1.150319e-04</td>\n",
              "      <td>2.330626e-07</td>\n",
              "      <td>7.858483e-05</td>\n",
              "      <td>2.331123e-07</td>\n",
              "      <td>2.332333e-07</td>\n",
              "      <td>5.022052e-05</td>\n",
              "      <td>2.330663e-07</td>\n",
              "      <td>5.829484e-05</td>\n",
              "      <td>2.778797e-07</td>\n",
              "      <td>7.654813e-07</td>\n",
              "      <td>2.382012e-07</td>\n",
              "      <td>2.609154e-07</td>\n",
              "      <td>8.851199e-05</td>\n",
              "      <td>2.428900e-07</td>\n",
              "      <td>2.361443e-07</td>\n",
              "      <td>2.349002e-07</td>\n",
              "      <td>2.472742e-07</td>\n",
              "      <td>3.184691e-07</td>\n",
              "      <td>2.477454e-07</td>\n",
              "      <td>...</td>\n",
              "      <td>2.407261e-07</td>\n",
              "      <td>2.455954e-07</td>\n",
              "      <td>2.331142e-07</td>\n",
              "      <td>2.711245e-07</td>\n",
              "      <td>2.346077e-07</td>\n",
              "      <td>2.430118e-07</td>\n",
              "      <td>2.330712e-07</td>\n",
              "      <td>2.480915e-07</td>\n",
              "      <td>2.334872e-07</td>\n",
              "      <td>2.356704e-07</td>\n",
              "      <td>2.330974e-07</td>\n",
              "      <td>2.331712e-07</td>\n",
              "      <td>2.331441e-07</td>\n",
              "      <td>2.404601e-07</td>\n",
              "      <td>2.370566e-07</td>\n",
              "      <td>2.352372e-07</td>\n",
              "      <td>2.614115e-07</td>\n",
              "      <td>2.382785e-07</td>\n",
              "      <td>2.366687e-07</td>\n",
              "      <td>2.338283e-07</td>\n",
              "      <td>2.331003e-07</td>\n",
              "      <td>2.331947e-07</td>\n",
              "      <td>2.332920e-07</td>\n",
              "      <td>2.342140e-07</td>\n",
              "      <td>2.331372e-07</td>\n",
              "      <td>2.578351e-07</td>\n",
              "      <td>5.297888e-05</td>\n",
              "      <td>5.297888e-05</td>\n",
              "      <td>2.972183e-07</td>\n",
              "      <td>5.529366e-05</td>\n",
              "      <td>2.500762e-07</td>\n",
              "      <td>2.615690e-07</td>\n",
              "      <td>2.615690e-07</td>\n",
              "      <td>2.391486e-07</td>\n",
              "      <td>7.925653e-05</td>\n",
              "      <td>2.430388e-07</td>\n",
              "      <td>2.409397e-07</td>\n",
              "      <td>2.473224e-07</td>\n",
              "      <td>2.331197e-07</td>\n",
              "      <td>2.653854e-07</td>\n",
              "    </tr>\n",
              "    <tr>\n",
              "      <th>4</th>\n",
              "      <td>2.154443e-07</td>\n",
              "      <td>2.256449e-07</td>\n",
              "      <td>2.580827e-07</td>\n",
              "      <td>2.702449e-07</td>\n",
              "      <td>8.271356e-05</td>\n",
              "      <td>2.168211e-07</td>\n",
              "      <td>2.168520e-07</td>\n",
              "      <td>2.171276e-07</td>\n",
              "      <td>5.989604e-05</td>\n",
              "      <td>2.153532e-07</td>\n",
              "      <td>2.357651e-07</td>\n",
              "      <td>2.243688e-07</td>\n",
              "      <td>2.197469e-07</td>\n",
              "      <td>2.298592e-07</td>\n",
              "      <td>2.298592e-07</td>\n",
              "      <td>2.288222e-07</td>\n",
              "      <td>5.697816e-05</td>\n",
              "      <td>2.290591e-07</td>\n",
              "      <td>2.155015e-07</td>\n",
              "      <td>2.172934e-07</td>\n",
              "      <td>2.181828e-07</td>\n",
              "      <td>2.998718e-07</td>\n",
              "      <td>2.153547e-07</td>\n",
              "      <td>2.671395e-07</td>\n",
              "      <td>2.175872e-07</td>\n",
              "      <td>2.245196e-07</td>\n",
              "      <td>2.472249e-07</td>\n",
              "      <td>2.153582e-07</td>\n",
              "      <td>2.154261e-07</td>\n",
              "      <td>2.404772e-07</td>\n",
              "      <td>2.156264e-07</td>\n",
              "      <td>2.999181e-05</td>\n",
              "      <td>2.159803e-07</td>\n",
              "      <td>2.206859e-07</td>\n",
              "      <td>2.155415e-07</td>\n",
              "      <td>3.985681e-05</td>\n",
              "      <td>4.791340e-05</td>\n",
              "      <td>2.193220e-07</td>\n",
              "      <td>2.260558e-07</td>\n",
              "      <td>2.436389e-07</td>\n",
              "      <td>...</td>\n",
              "      <td>2.265264e-07</td>\n",
              "      <td>2.622067e-03</td>\n",
              "      <td>2.276636e-07</td>\n",
              "      <td>2.731502e-07</td>\n",
              "      <td>2.162276e-04</td>\n",
              "      <td>2.351591e-07</td>\n",
              "      <td>6.802297e-05</td>\n",
              "      <td>4.929602e-05</td>\n",
              "      <td>9.825442e-05</td>\n",
              "      <td>2.364808e-07</td>\n",
              "      <td>2.268478e-07</td>\n",
              "      <td>1.528336e-04</td>\n",
              "      <td>5.726230e-05</td>\n",
              "      <td>2.328129e-07</td>\n",
              "      <td>4.505119e-05</td>\n",
              "      <td>1.539672e-04</td>\n",
              "      <td>2.218096e-07</td>\n",
              "      <td>2.286981e-07</td>\n",
              "      <td>2.153877e-07</td>\n",
              "      <td>2.202959e-07</td>\n",
              "      <td>2.153891e-07</td>\n",
              "      <td>2.154717e-07</td>\n",
              "      <td>2.169456e-07</td>\n",
              "      <td>2.239729e-07</td>\n",
              "      <td>2.162880e-07</td>\n",
              "      <td>2.154431e-07</td>\n",
              "      <td>2.174237e-07</td>\n",
              "      <td>2.174237e-07</td>\n",
              "      <td>2.188072e-07</td>\n",
              "      <td>2.199592e-07</td>\n",
              "      <td>2.234691e-07</td>\n",
              "      <td>2.154305e-07</td>\n",
              "      <td>2.154305e-07</td>\n",
              "      <td>2.167280e-07</td>\n",
              "      <td>2.156131e-07</td>\n",
              "      <td>2.380450e-07</td>\n",
              "      <td>2.460094e-07</td>\n",
              "      <td>2.646902e-07</td>\n",
              "      <td>2.154055e-07</td>\n",
              "      <td>1.171828e-04</td>\n",
              "    </tr>\n",
              "  </tbody>\n",
              "</table>\n",
              "<p>5 rows × 16579 columns</p>\n",
              "</div>"
            ],
            "text/plain": [
              "           0501          1000  ...    zuckerberg        zverev\n",
              "0  2.286448e-07  3.900503e-04  ...  2.343149e-07  2.372684e-07\n",
              "1  5.713565e-05  2.162577e-07  ...  1.866559e-07  1.864535e-07\n",
              "2  2.044964e-07  2.253771e-07  ...  5.391498e-05  2.122946e-07\n",
              "3  2.331657e-07  2.468705e-07  ...  2.331197e-07  2.653854e-07\n",
              "4  2.154443e-07  2.256449e-07  ...  2.154055e-07  1.171828e-04\n",
              "\n",
              "[5 rows x 16579 columns]"
            ]
          },
          "metadata": {},
          "execution_count": 41
        }
      ]
    },
    {
      "cell_type": "code",
      "metadata": {
        "colab": {
          "base_uri": "https://localhost:8080/"
        },
        "id": "cXNuvhmbGYCD",
        "outputId": "854e6649-e83d-4ec0-e3c9-b89d41c11cd7"
      },
      "source": [
        "top_tokens.sum(axis=1)"
      ],
      "execution_count": 42,
      "outputs": [
        {
          "output_type": "execute_result",
          "data": {
            "text/plain": [
              "0    0.808382\n",
              "1    0.844104\n",
              "2    0.830960\n",
              "3    0.803892\n",
              "4    0.820164\n",
              "dtype: float64"
            ]
          },
          "metadata": {},
          "execution_count": 42
        }
      ]
    },
    {
      "cell_type": "markdown",
      "metadata": {
        "id": "ZC5hOrInzE8H"
      },
      "source": [
        "## Perplejidad del modelo"
      ]
    },
    {
      "cell_type": "code",
      "metadata": {
        "colab": {
          "base_uri": "https://localhost:8080/"
        },
        "id": "5pcDYvVnx_PL",
        "outputId": "b4c9e865-aa33-4c86-ccaf-3cca8587b748"
      },
      "source": [
        "%%time\n",
        "lda_model.perplexity( BOW, sub_sampling = False)"
      ],
      "execution_count": null,
      "outputs": [
        {
          "output_type": "stream",
          "text": [
            "CPU times: user 3.93 s, sys: 52.3 ms, total: 3.99 s\n",
            "Wall time: 3.97 s\n"
          ],
          "name": "stdout"
        },
        {
          "output_type": "execute_result",
          "data": {
            "text/plain": [
              "18307.9716880483"
            ]
          },
          "metadata": {
            "tags": []
          },
          "execution_count": 21
        }
      ]
    },
    {
      "cell_type": "markdown",
      "metadata": {
        "id": "qAUvtvghx7HA"
      },
      "source": [
        "# Visualización del modelo"
      ]
    },
    {
      "cell_type": "code",
      "metadata": {
        "id": "x2Qz50MBOKij",
        "colab": {
          "base_uri": "https://localhost:8080/",
          "height": 914
        },
        "outputId": "a3ff985a-b25f-4db4-ae51-d5367e2d2461"
      },
      "source": [
        "import pyLDAvis.sklearn\n",
        "pyLDAvis.enable_notebook()\n",
        "\n",
        "pyLDAvis.sklearn.prepare(lda_model, BOW, vectorizer)"
      ],
      "execution_count": 26,
      "outputs": [
        {
          "output_type": "stream",
          "name": "stderr",
          "text": [
            "/usr/local/lib/python3.7/dist-packages/pyLDAvis/_prepare.py:247: FutureWarning: In a future version of pandas all arguments of DataFrame.drop except for the argument 'labels' will be keyword-only\n",
            "  by='saliency', ascending=False).head(R).drop('saliency', 1)\n"
          ]
        },
        {
          "output_type": "execute_result",
          "data": {
            "text/html": [
              "\n",
              "<link rel=\"stylesheet\" type=\"text/css\" href=\"https://cdn.jsdelivr.net/gh/bmabey/pyLDAvis@3.3.1/pyLDAvis/js/ldavis.v1.0.0.css\">\n",
              "\n",
              "\n",
              "<div id=\"ldavis_el1431397761820935204284281799\"></div>\n",
              "<script type=\"text/javascript\">\n",
              "\n",
              "var ldavis_el1431397761820935204284281799_data = {\"mdsDat\": {\"x\": [0.2082273620728777, -0.014750349605799266, 0.146513099221189, -0.22492644555856833, -0.11506366612969905], \"y\": [-0.09365303256623682, 0.07524954719581531, -0.004906487737793577, -0.218564256821175, 0.24187422992939], \"topics\": [1, 2, 3, 4, 5], \"cluster\": [1, 1, 1, 1, 1], \"Freq\": [22.5790473015929, 20.53659831802439, 19.740018961014385, 18.67372243885327, 18.470612980515057]}, \"tinfo\": {\"Term\": [\"queensland\", \"case\", \"trump\", \"covid\", \"election\", \"coronavirus\", \"donald\", \"donald trump\", \"lockdown\", \"australian\", \"restriction\", \"call\", \"coronavirus case\", \"government\", \"record\", \"school\", \"child\", \"change\", \"melbourne\", \"border\", \"police\", \"hotel\", \"murder\", \"coronavirus queensland\", \"biden\", \"market\", \"national\", \"vaccine\", \"live\", \"dy\", \"case\", \"lockdown\", \"coronavirus case\", \"record\", \"vaccine\", \"coronavirus restriction\", \"victoria coronavirus\", \"hospital\", \"regional\", \"rise\", \"budget\", \"second\", \"street\", \"coronavirus lockdown\", \"amid coronavirus\", \"social\", \"covid coronavirus\", \"mental\", \"flight\", \"win\", \"commission\", \"number\", \"find\", \"wall\", \"need\", \"south australia\", \"mental health\", \"positive\", \"history\", \"still\", \"restriction\", \"quarantine\", \"melbourne\", \"covid\", \"coronavirus\", \"victoria\", \"health\", \"first\", \"amid\", \"travel\", \"death\", \"australian\", \"open\", \"australia\", \"china\", \"canberra\", \"covid19\", \"coronavirus covid\", \"business\", \"queensland\", \"trump\", \"election\", \"donald\", \"donald trump\", \"school\", \"change\", \"biden\", \"coronavirus queensland\", \"market\", \"protest\", \"premier\", \"house\", \"report\", \"drum\", \"daniel\", \"outbreak\", \"west\", \"beach\", \"rain\", \"briefing\", \"daniel andrew\", \"three\", \"storm\", \"closure\", \"climate\", \"local\", \"announces\", \"morning\", \"morning briefing\", \"border\", \"andrew\", \"state\", \"sydney\", \"coronavirus\", \"covid\", \"south\", \"test\", \"face\", \"brisbane\", \"coronavirus australia\", \"farmer\", \"coronavirus update\", \"fear\", \"australia live\", \"coronavirus pandemic\", \"water\", \"missing\", \"officer\", \"industry\", \"charge\", \"mask\", \"live news\", \"northern\", \"india\", \"zealand\", \"economy\", \"recovery\", \"international\", \"job\", \"search\", \"beat\", \"jobkeeper\", \"impact\", \"john\", \"future\", \"mount\", \"river\", \"live\", \"update\", \"community\", \"australia\", \"australian\", \"pandemic\", \"news\", \"coronavirus\", \"worker\", \"could\", \"covid\", \"police\", \"bushfire\", \"million\", \"government\", \"indigenous\", \"call\", \"hotel\", \"care\", \"national\", \"dy\", \"minister\", \"student\", \"aged\", \"time\", \"federal\", \"interview\", \"rule\", \"inquiry\", \"aged care\", \"fight\", \"killed\", \"sport\", \"support\", \"extended\", \"make\", \"close\", \"doctor\", \"program\", \"labor\", \"speaks\", \"chinese\", \"mark\", \"city\", \"club\", \"extended interview\", \"protester\", \"government\", \"scott\", \"morrison\", \"scott morrison\", \"back\", \"say\", \"coronavirus\", \"child\", \"murder\", \"charged\", \"finance\", \"gold\", \"return\", \"alan\", \"gold coast\", \"alan kohler\", \"kohler\", \"finance alan\", \"assault\", \"investigation\", \"park\", \"power\", \"accused\", \"violence\", \"centre\", \"matter\", \"abuse\", \"league\", \"university\", \"baby\", \"game\", \"domestic\", \"jailed\", \"sexual\", \"force\", \"told\", \"super\", \"trial\", \"court\", \"found\", \"life\", \"police\", \"coast\", \"alleged\", \"black\", \"crash\", \"home\", \"woman\", \"family\", \"death\"], \"Freq\": [267.0, 257.0, 216.0, 453.0, 165.0, 931.0, 148.0, 145.0, 137.0, 224.0, 192.0, 112.0, 127.0, 175.0, 123.0, 114.0, 103.0, 107.0, 165.0, 181.0, 240.0, 90.0, 90.0, 94.0, 94.0, 94.0, 88.0, 99.0, 111.0, 84.0, 256.60138549919463, 136.70453133003247, 126.36920365041065, 123.1973914469112, 98.40932998158355, 92.8834973098151, 85.45752718833607, 86.42510775679739, 80.5504529582378, 78.25980403884347, 67.78908097303358, 53.904755722463136, 53.25600961503249, 51.26857479150215, 51.33914596076456, 50.649397356066565, 50.448051190860724, 47.61447471163417, 48.11761201557387, 49.96127537469714, 47.030683896046995, 46.58564968962748, 47.289626701791526, 45.801553184914816, 46.301060113993984, 45.34728001789624, 44.69478216753073, 45.19429203207749, 44.17895263730823, 43.732476052327065, 157.7062591624378, 96.71597149861834, 127.21048103865593, 278.3918286291905, 479.3622624689312, 186.34267650008312, 98.1414354794982, 77.02638230223165, 73.02220777005792, 67.08334992553347, 93.07800524253892, 106.85196551456644, 66.60580076382341, 123.81665499440199, 85.81189076061676, 66.22242792254558, 68.34894119770179, 57.715701888826345, 61.21801066344883, 266.49053912300656, 215.91793759993496, 164.4345964452867, 147.51333076008123, 144.58966214168498, 114.17124972153465, 106.71715841213468, 93.94289444033765, 93.97302006203503, 93.3908912114398, 86.05986543042688, 82.91818393213026, 77.13909914153453, 78.84950314281502, 74.35805080619666, 70.92534860438404, 69.3138560688153, 63.63682917292075, 64.33108547795491, 61.729205554343736, 59.07955628225586, 58.45240412996435, 60.588273315976046, 57.06316079470266, 54.6852849901869, 53.67055089534982, 52.286876151935395, 50.201488997168006, 46.9550718862723, 45.66918162883237, 137.46424832675933, 80.0501223278068, 88.47785564171808, 107.10993763594595, 121.76679707940524, 71.4226136512195, 58.54878662174217, 85.39956331010906, 85.23886355435089, 84.6638617126437, 76.08776631959923, 73.6960520344279, 68.13058366385876, 65.97063248189633, 61.663068156356296, 61.05932335424912, 61.689886973754966, 59.129800127380136, 56.92884023845674, 56.31909854418984, 56.98177499625466, 55.21188329243256, 54.16866601901549, 53.51853802901719, 53.440550958782474, 53.60517888115163, 51.06528936482802, 49.387935030619566, 49.1057864563394, 47.27359414309018, 45.171523605386454, 45.88870504458865, 43.492232970027494, 43.842293412132406, 44.71026221175466, 42.3097370127481, 41.05501126233537, 41.14096385354897, 99.76142433639848, 87.70061866842485, 72.88006675259152, 156.1554080840196, 117.08056918432868, 88.03494820993976, 83.67814810595489, 227.03186443847136, 63.59693463236452, 60.659025075096544, 103.59000637068453, 84.1334771986191, 61.53289526216235, 54.37880348279054, 56.84981010157353, 54.887118510221285, 111.9201912991283, 90.27467136911277, 83.8040844093921, 87.57709414557588, 83.87751768900141, 79.21601274593273, 78.03421183175264, 72.84220065733473, 74.06719436284783, 71.1488223167234, 68.7004652347466, 61.12126577995584, 59.483165705948046, 56.58431218291864, 57.2981702982506, 56.04308332710158, 54.560574461070864, 55.16255794211395, 52.33463274057018, 53.5450388411509, 50.883771913820915, 50.210755566826286, 48.629867037852975, 48.67036824669071, 48.64624488876804, 46.11555649235772, 43.66710009829514, 43.80193007846548, 42.358816017882106, 40.77361429296141, 41.77010073579653, 118.17320016698606, 70.06769350789827, 72.37198994775487, 59.97120540002818, 52.25679440647996, 60.707482434485975, 80.39719107564152, 102.5563858394782, 89.43917309545631, 81.63059943748618, 75.41398180262271, 75.5165289236545, 73.39787131890641, 64.99824185100756, 58.566335199750164, 56.855840748102224, 56.855840748102224, 54.74561651514969, 51.90463816605267, 50.816018649782876, 48.8109397211841, 49.27892747224181, 47.83117267618901, 46.26693070838602, 45.56532179321927, 42.502777817646226, 42.826601861105395, 42.69191555252556, 41.71522207243879, 40.06081140266625, 40.22273825875908, 39.559003306644385, 39.36907824572216, 38.536394606209264, 38.678893717379026, 38.58975301090448, 38.101559493177895, 72.94299865863877, 90.91328539968767, 57.684381338075845, 70.63748073237186, 113.88018871862694, 70.18574803318408, 44.8251807692806, 48.67140742115168, 56.72294842117425, 59.36969593688938, 60.36055527266588, 53.33817147185011, 50.523166690117144], \"Total\": [267.0, 257.0, 216.0, 453.0, 165.0, 931.0, 148.0, 145.0, 137.0, 224.0, 192.0, 112.0, 127.0, 175.0, 123.0, 114.0, 103.0, 107.0, 165.0, 181.0, 240.0, 90.0, 90.0, 94.0, 94.0, 94.0, 88.0, 99.0, 111.0, 84.0, 257.310981657559, 137.40955032941125, 127.064873970342, 123.90426607599235, 99.11505894062265, 93.58370848789424, 86.15859138236713, 87.13999875974531, 81.26353262613176, 78.96412043730813, 68.49965443844754, 54.61468737921059, 53.95840582628745, 51.96758901298809, 52.04404223859772, 51.35235143758003, 51.15609032704959, 48.312735989035644, 48.824232291381776, 50.705259995105045, 47.740697413453134, 47.29066661990173, 48.00553858966116, 46.501272948496464, 47.00941692846736, 46.05322243803151, 45.39263761055816, 45.91037795373282, 44.8883008225692, 44.445095296550214, 192.94454191864534, 110.37841687167231, 165.77443917153818, 453.76563728774636, 931.5444987160671, 278.7206198794119, 136.46835644219317, 96.78829186546047, 92.90997535785704, 84.1789209111455, 165.5288316489116, 224.47477640648242, 90.74754077460231, 356.9501008738209, 163.40488424131297, 98.72048907687973, 118.38993105121281, 74.69311044794915, 100.78461267474886, 267.20948441723306, 216.61569612954014, 165.1367429777206, 148.20748316206917, 145.28313460379277, 114.89432658705562, 107.43166438629058, 94.63805801834076, 94.67189874453352, 94.10056258180526, 86.77299211859042, 83.63073292443202, 77.84979837444142, 79.57669332532907, 75.04883593225311, 71.6298220118843, 70.01995327452119, 64.342800669028, 65.04747858499327, 62.43002629980844, 59.770560698933274, 59.147037889394376, 61.31794163155397, 57.765179022656575, 55.3873943539841, 54.36943030845729, 52.99686810557377, 50.91583678645912, 47.64605244517578, 46.35953980636702, 181.71535168276566, 96.18041916677649, 125.23648332505489, 184.88171834827847, 931.5444987160671, 453.76563728774636, 132.3487929856572, 86.10332256702485, 85.95411180904762, 85.38528144389235, 76.78065048489263, 74.40089664981072, 68.82785335865739, 66.67735253200317, 62.35221609850438, 61.757807748079436, 62.39625274639004, 59.834904021717826, 57.629121465014336, 57.02301263061705, 57.69689383999989, 55.91000022108204, 54.85822121838473, 54.216847100219404, 54.14443151395152, 54.3115518516952, 51.76666121045066, 50.08534039455968, 49.81208648405588, 47.97451507301206, 45.87288099488259, 46.60669028653465, 44.19175949373815, 44.5475127236005, 45.432412715031035, 43.01349528200922, 41.757007682250375, 41.84852165956779, 111.3407293613744, 111.10386594573585, 90.90927164324079, 356.9501008738209, 224.47477640648242, 140.621645373606, 131.73316697433822, 931.5444987160671, 93.22140105809473, 89.02249413517751, 453.76563728774636, 240.52376498023872, 120.71765862111337, 67.48797039902699, 175.55452867439016, 83.65813066592378, 112.63161439913232, 90.98361112236778, 84.50083923249447, 88.30544945666368, 84.58249267087265, 79.91296858096894, 78.74543283265413, 73.53385494147167, 74.78073459628854, 71.85213796182799, 69.39332033643274, 61.8388895581095, 60.185245388693254, 57.275839911445225, 58.00299550705703, 56.758250213460016, 55.260429902279895, 55.873059032802544, 53.02766555921594, 54.25661413823059, 51.593487471316905, 50.91792727335017, 49.329296464023486, 49.37071526577344, 49.349739941284504, 46.81921475904365, 44.366419942263704, 44.515052822361504, 43.062431945815725, 41.46184641812252, 42.500181713840924, 175.55452867439016, 88.83779405862187, 93.2334116701422, 74.43957274522926, 83.08808306836968, 181.13407671710266, 931.5444987160671, 103.25736017009346, 90.13369823959592, 82.32456842003155, 76.10207683073705, 76.21069695783287, 74.10709612800673, 65.69038261255545, 59.2573151196806, 57.54186195389321, 57.54186195389321, 55.431529844016744, 52.596740890312006, 51.5189184744664, 49.50988051356416, 49.99524809417117, 48.52903014495114, 46.96008501394849, 46.26915300687176, 43.19523855112706, 43.5257432314298, 43.38996656893724, 42.42236124604743, 40.759758435974355, 40.92524768064907, 40.25091519106362, 40.063251384264895, 39.23016229551519, 39.38411228504864, 39.294056450017464, 38.802787796662244, 80.5453757301138, 131.7353638503934, 73.44951290518637, 105.51419011229225, 240.52376498023872, 119.95706052056573, 51.323081561829746, 63.29397464463145, 91.09775280671646, 131.33966389586848, 154.53993490905657, 108.92660401149521, 165.5288316489116], \"Category\": [\"Default\", \"Default\", \"Default\", \"Default\", \"Default\", \"Default\", \"Default\", \"Default\", \"Default\", \"Default\", \"Default\", \"Default\", \"Default\", \"Default\", \"Default\", \"Default\", \"Default\", \"Default\", \"Default\", \"Default\", \"Default\", \"Default\", \"Default\", \"Default\", \"Default\", \"Default\", \"Default\", \"Default\", \"Default\", \"Default\", \"Topic1\", \"Topic1\", \"Topic1\", \"Topic1\", \"Topic1\", \"Topic1\", \"Topic1\", \"Topic1\", \"Topic1\", \"Topic1\", \"Topic1\", \"Topic1\", \"Topic1\", \"Topic1\", \"Topic1\", \"Topic1\", \"Topic1\", \"Topic1\", \"Topic1\", \"Topic1\", \"Topic1\", \"Topic1\", \"Topic1\", \"Topic1\", \"Topic1\", \"Topic1\", \"Topic1\", \"Topic1\", \"Topic1\", \"Topic1\", \"Topic1\", \"Topic1\", \"Topic1\", \"Topic1\", \"Topic1\", \"Topic1\", \"Topic1\", \"Topic1\", \"Topic1\", \"Topic1\", \"Topic1\", \"Topic1\", \"Topic1\", \"Topic1\", \"Topic1\", \"Topic1\", \"Topic1\", \"Topic1\", \"Topic1\", \"Topic2\", \"Topic2\", \"Topic2\", \"Topic2\", \"Topic2\", \"Topic2\", \"Topic2\", \"Topic2\", \"Topic2\", \"Topic2\", \"Topic2\", \"Topic2\", \"Topic2\", \"Topic2\", \"Topic2\", \"Topic2\", \"Topic2\", \"Topic2\", \"Topic2\", \"Topic2\", \"Topic2\", \"Topic2\", \"Topic2\", \"Topic2\", \"Topic2\", \"Topic2\", \"Topic2\", \"Topic2\", \"Topic2\", \"Topic2\", \"Topic2\", \"Topic2\", \"Topic2\", \"Topic2\", \"Topic2\", \"Topic2\", \"Topic2\", \"Topic3\", \"Topic3\", \"Topic3\", \"Topic3\", \"Topic3\", \"Topic3\", \"Topic3\", \"Topic3\", \"Topic3\", \"Topic3\", \"Topic3\", \"Topic3\", \"Topic3\", \"Topic3\", \"Topic3\", \"Topic3\", \"Topic3\", \"Topic3\", \"Topic3\", \"Topic3\", \"Topic3\", \"Topic3\", \"Topic3\", \"Topic3\", \"Topic3\", \"Topic3\", \"Topic3\", \"Topic3\", \"Topic3\", \"Topic3\", \"Topic3\", \"Topic3\", \"Topic3\", \"Topic3\", \"Topic3\", \"Topic3\", \"Topic3\", \"Topic3\", \"Topic3\", \"Topic3\", \"Topic3\", \"Topic3\", \"Topic3\", \"Topic3\", \"Topic3\", \"Topic3\", \"Topic3\", \"Topic4\", \"Topic4\", \"Topic4\", \"Topic4\", \"Topic4\", \"Topic4\", \"Topic4\", \"Topic4\", \"Topic4\", \"Topic4\", \"Topic4\", \"Topic4\", \"Topic4\", \"Topic4\", \"Topic4\", \"Topic4\", \"Topic4\", \"Topic4\", \"Topic4\", \"Topic4\", \"Topic4\", \"Topic4\", \"Topic4\", \"Topic4\", \"Topic4\", \"Topic4\", \"Topic4\", \"Topic4\", \"Topic4\", \"Topic4\", \"Topic4\", \"Topic4\", \"Topic4\", \"Topic4\", \"Topic4\", \"Topic4\", \"Topic4\", \"Topic4\", \"Topic5\", \"Topic5\", \"Topic5\", \"Topic5\", \"Topic5\", \"Topic5\", \"Topic5\", \"Topic5\", \"Topic5\", \"Topic5\", \"Topic5\", \"Topic5\", \"Topic5\", \"Topic5\", \"Topic5\", \"Topic5\", \"Topic5\", \"Topic5\", \"Topic5\", \"Topic5\", \"Topic5\", \"Topic5\", \"Topic5\", \"Topic5\", \"Topic5\", \"Topic5\", \"Topic5\", \"Topic5\", \"Topic5\", \"Topic5\", \"Topic5\", \"Topic5\", \"Topic5\", \"Topic5\", \"Topic5\", \"Topic5\", \"Topic5\", \"Topic5\", \"Topic5\", \"Topic5\", \"Topic5\", \"Topic5\", \"Topic5\"], \"logprob\": [30.0, 29.0, 28.0, 27.0, 26.0, 25.0, 24.0, 23.0, 22.0, 21.0, 20.0, 19.0, 18.0, 17.0, 16.0, 15.0, 14.0, 13.0, 12.0, 11.0, 10.0, 9.0, 8.0, 7.0, 6.0, 5.0, 4.0, 3.0, 2.0, 1.0, -4.5042, -5.1339, -5.2125, -5.238, -5.4626, -5.5204, -5.6037, -5.5925, -5.6629, -5.6917, -5.8353, -6.0645, -6.0766, -6.1147, -6.1133, -6.1268, -6.1308, -6.1886, -6.1781, -6.1405, -6.2009, -6.2105, -6.1955, -6.2274, -6.2166, -6.2374, -6.2519, -6.2408, -6.2635, -6.2737, -4.991, -5.48, -5.2059, -4.4227, -3.8793, -4.8242, -5.4653, -5.7076, -5.761, -5.8458, -5.5183, -5.3803, -5.853, -5.2329, -5.5996, -5.8587, -5.8271, -5.9962, -5.9373, -4.3716, -4.582, -4.8544, -4.963, -4.983, -5.2192, -5.2867, -5.4142, -5.4139, -5.4201, -5.5019, -5.5391, -5.6113, -5.5894, -5.648, -5.6953, -5.7183, -5.8037, -5.7929, -5.8342, -5.878, -5.8887, -5.8528, -5.9128, -5.9553, -5.9741, -6.0002, -6.0409, -6.1077, -6.1355, -5.0336, -5.5743, -5.4742, -5.2831, -5.1548, -5.6883, -5.8871, -5.47, -5.4719, -5.4787, -5.5855, -5.6174, -5.6959, -5.7282, -5.7957, -5.8055, -5.7952, -5.8376, -5.8756, -5.8863, -5.8746, -5.9062, -5.9253, -5.9373, -5.9388, -5.9357, -5.9843, -6.0177, -6.0234, -6.0614, -6.1069, -6.0911, -6.1448, -6.1368, -6.1172, -6.1724, -6.2025, -6.2004, -5.3146, -5.4434, -5.6286, -4.8665, -5.1545, -5.4396, -5.4904, -4.4923, -5.7648, -5.8121, -5.2769, -5.485, -5.7978, -5.9214, -5.877, -5.9121, -5.1441, -5.359, -5.4334, -5.3893, -5.4325, -5.4897, -5.5047, -5.5735, -5.5569, -5.5971, -5.6321, -5.749, -5.7761, -5.8261, -5.8136, -5.8357, -5.8625, -5.8516, -5.9042, -5.8813, -5.9323, -5.9456, -5.9776, -5.9768, -5.9773, -6.0307, -6.0852, -6.0822, -6.1157, -6.1538, -6.1297, -5.0897, -5.6124, -5.58, -5.768, -5.9057, -5.7558, -5.4749, -5.2205, -5.3573, -5.4487, -5.5279, -5.5266, -5.555, -5.6765, -5.7807, -5.8104, -5.8104, -5.8482, -5.9015, -5.9227, -5.9629, -5.9534, -5.9832, -6.0165, -6.0318, -6.1013, -6.0937, -6.0969, -6.12, -6.1605, -6.1565, -6.1731, -6.1779, -6.1993, -6.1956, -6.1979, -6.2106, -5.5612, -5.341, -5.7959, -5.5933, -5.1158, -5.5998, -6.0481, -5.9658, -5.8127, -5.7671, -5.7506, -5.8742, -5.9285], \"loglift\": [30.0, 29.0, 28.0, 27.0, 26.0, 25.0, 24.0, 23.0, 22.0, 21.0, 20.0, 19.0, 18.0, 17.0, 16.0, 15.0, 14.0, 13.0, 12.0, 11.0, 10.0, 9.0, 8.0, 7.0, 6.0, 5.0, 4.0, 3.0, 2.0, 1.0, 1.4854, 1.483, 1.4827, 1.4824, 1.481, 1.4806, 1.48, 1.4799, 1.4793, 1.4792, 1.4777, 1.4751, 1.475, 1.4746, 1.4745, 1.4744, 1.4742, 1.4736, 1.4736, 1.4734, 1.4732, 1.4731, 1.4731, 1.473, 1.473, 1.4727, 1.4727, 1.4724, 1.4722, 1.472, 1.2865, 1.356, 1.2234, 0.9996, 0.8238, 1.0855, 1.1585, 1.2598, 1.2473, 1.2611, 0.9124, 0.7458, 1.1789, 0.4294, 0.8441, 1.0889, 0.9388, 1.2303, 0.9896, 1.5803, 1.5797, 1.5787, 1.5783, 1.5782, 1.5766, 1.5763, 1.5756, 1.5756, 1.5754, 1.5747, 1.5744, 1.5738, 1.5738, 1.5737, 1.5731, 1.5728, 1.5719, 1.5719, 1.5717, 1.5713, 1.5711, 1.571, 1.5707, 1.5702, 1.57, 1.5695, 1.5688, 1.5684, 1.568, 1.3039, 1.3994, 1.2355, 1.0371, -0.4518, -0.266, 0.7674, 1.6143, 1.6142, 1.614, 1.6135, 1.613, 1.6123, 1.6119, 1.6114, 1.6111, 1.6111, 1.6107, 1.6103, 1.6101, 1.6101, 1.61, 1.6099, 1.6096, 1.6094, 1.6094, 1.6089, 1.6085, 1.6082, 1.6078, 1.6071, 1.607, 1.6066, 1.6066, 1.6065, 1.606, 1.6056, 1.6055, 1.5127, 1.386, 1.4015, 0.7958, 0.9716, 1.1542, 1.1687, 0.2108, 1.2401, 1.2389, 0.1454, 0.5721, 0.9486, 1.4065, 0.495, 1.2011, 1.6717, 1.6702, 1.6698, 1.6698, 1.6697, 1.6693, 1.669, 1.6686, 1.6685, 1.6682, 1.668, 1.6664, 1.6663, 1.6659, 1.6658, 1.6654, 1.6653, 1.6653, 1.6649, 1.6649, 1.6642, 1.6641, 1.6638, 1.6638, 1.6637, 1.6629, 1.6622, 1.6619, 1.6616, 1.6613, 1.6607, 1.2823, 1.4407, 1.4248, 1.4619, 1.2143, 0.5849, -0.7718, 1.6822, 1.6813, 1.6805, 1.6799, 1.6798, 1.6794, 1.6784, 1.6773, 1.677, 1.677, 1.6765, 1.6757, 1.6753, 1.6748, 1.6746, 1.6745, 1.6741, 1.6737, 1.6728, 1.6728, 1.6728, 1.6722, 1.6717, 1.6717, 1.6716, 1.6715, 1.6711, 1.6709, 1.6709, 1.6708, 1.5898, 1.3181, 1.4474, 1.2877, 0.9413, 1.153, 1.5536, 1.4263, 1.2152, 0.895, 0.7489, 0.975, 0.5023]}, \"token.table\": {\"Topic\": [5, 5, 4, 4, 5, 5, 2, 5, 1, 3, 1, 2, 4, 2, 5, 1, 2, 3, 4, 5, 3, 1, 3, 5, 2, 4, 2, 3, 2, 3, 5, 2, 3, 4, 2, 3, 1, 1, 3, 4, 5, 1, 4, 4, 1, 3, 4, 1, 5, 2, 3, 5, 5, 1, 2, 4, 4, 4, 2, 4, 2, 4, 2, 3, 5, 1, 2, 3, 1, 2, 3, 4, 5, 3, 1, 1, 2, 1, 3, 2, 1, 3, 1, 3, 2, 3, 5, 1, 2, 3, 1, 1, 3, 4, 2, 3, 4, 5, 2, 2, 1, 3, 5, 4, 5, 2, 2, 2, 4, 3, 2, 4, 4, 3, 2, 3, 5, 3, 3, 4, 4, 5, 5, 1, 1, 5, 1, 5, 1, 5, 3, 5, 5, 5, 3, 4, 1, 3, 1, 1, 2, 3, 5, 1, 4, 2, 3, 3, 1, 3, 3, 4, 3, 4, 5, 5, 3, 3, 3, 4, 5, 4, 5, 4, 5, 2, 3, 3, 2, 1, 4, 4, 2, 3, 5, 1, 2, 1, 1, 3, 5, 4, 3, 2, 2, 2, 4, 3, 5, 4, 1, 2, 3, 3, 1, 3, 1, 3, 2, 2, 3, 4, 5, 2, 3, 5, 1, 5, 2, 4, 2, 4, 1, 2, 2, 2, 1, 3, 1, 2, 1, 2, 5, 1, 3, 4, 1, 2, 3, 4, 5, 2, 2, 4, 2, 4, 3, 1, 5, 1, 1, 2, 3, 5, 1, 4, 4, 2, 4, 1, 2, 1, 4, 5, 4, 1, 2, 5, 3, 2, 4, 5, 1, 2, 2, 5, 2, 5, 2, 3, 1, 1, 2, 3, 4, 5, 1, 5, 1, 3, 2, 1, 2, 3, 4, 5, 1, 3, 5, 3], \"Freq\": [0.987921096978531, 0.9890986870462694, 0.9927400114967917, 0.9951840093157656, 0.9894903548267124, 0.9905831696178446, 0.11690646425374328, 0.8767984819030746, 0.7857068061726342, 0.20449903174356232, 0.9799392554134964, 0.8317701325597292, 0.16635402651194584, 0.9820127322997728, 0.9886544131782522, 0.3473874911267585, 0.13167106518514232, 0.43703587593366394, 0.05603024050431589, 0.028015120252157945, 0.9943511855625476, 0.4766682551728785, 0.5212166902357643, 0.9813600849188596, 0.36106260840455623, 0.6258418545678974, 0.9838967073316363, 0.9869827640022332, 0.9932579130246195, 0.22119009081992405, 0.7741653178697342, 0.753926394943072, 0.12106847218063929, 0.12106847218063929, 0.9871080229142467, 0.9954877300000993, 0.9927057378238818, 0.24851376627638663, 0.5135951169711991, 0.14910825976583197, 0.09112171430134176, 0.6052511229750778, 0.38696383272177104, 0.9943922103709348, 0.6685542243272492, 0.3241475027041208, 0.9940729673569695, 0.9987914170800029, 0.9941828845055412, 0.995981963150655, 0.987921466934902, 0.9960574537314844, 0.9975075852252128, 0.5263000576714523, 0.3365872461852311, 0.13463489847409243, 0.9825025950721351, 0.9884296931103994, 0.9932051833840932, 0.9884968529865935, 0.9930057306630415, 0.975328101600194, 0.30010738712481266, 0.10837211201729345, 0.5835421416315801, 0.9844849896716338, 0.18699962823059282, 0.802998403578428, 0.5141998054416059, 0.13096529491414596, 0.24368132742222243, 0.08587888191091539, 0.024690178549388174, 0.9898327185304814, 0.9916194465309858, 0.7765107069736779, 0.21420985019963526, 0.9813809139241333, 0.9877293612627789, 0.9929028702979054, 0.9937627125775877, 0.9879721171261364, 0.31452724698414974, 0.6852200737868976, 0.25809318778374835, 0.053136832779007014, 0.6907788261270912, 0.6126510629179968, 0.15646843693229415, 0.22919320339378296, 0.9774007294212965, 0.5743731700509627, 0.4138865490073113, 0.008446664265455333, 0.16465828780459313, 0.12074941105670163, 0.09879497268275587, 0.6257014936574539, 0.9912072654350613, 0.9806070104213951, 0.5618356577134187, 0.13290735988919583, 0.3081034251976812, 0.9819724147759917, 0.9937662239511184, 0.9986000493521486, 0.9980511529809367, 0.9860246209121765, 0.9931133186965859, 0.9851900587651597, 0.9931163534097681, 0.9806201998828641, 0.988860929793984, 0.9888997537294407, 0.2019708610182899, 0.3121367852100844, 0.48656616518042567, 0.9946116691079994, 0.9898413403309908, 0.9881403951782103, 0.9827078670973984, 0.9855184394876866, 0.9922150832706392, 0.9790536963191635, 0.7955507687544794, 0.1963047351472092, 0.9831183768243855, 0.9902470244278057, 0.20422191253144212, 0.7896580617882429, 0.9764377371482034, 0.9773917634446825, 0.997235336163512, 0.9956576648948589, 0.3246854434938604, 0.6721558303907987, 0.7181151920849282, 0.2784528295839518, 0.980210861041936, 0.1827323086423321, 0.08375230812773554, 0.28171230915692863, 0.4492169254123997, 0.9869176179025614, 0.9891891395578389, 0.9890841287686569, 0.9877094659134485, 0.9788633570996746, 0.3346955015264901, 0.657437592284177, 0.9820596530519369, 0.9803067117025344, 0.9836969992349985, 0.9943320144572152, 0.9899276131985654, 0.9734606816090196, 0.9796868176462242, 0.9730320877151991, 0.9904822859014051, 0.986640704908831, 0.9905831696178446, 0.9924911911083767, 0.9910125174141892, 0.3222315402678625, 0.6728952752652423, 0.09879583206517101, 0.8981439278651909, 0.9843556499039908, 0.9811900562956299, 0.9970194915242104, 0.995270362105958, 0.9917410522926902, 0.9883043995528878, 0.9837238379988611, 0.9954800909156695, 0.7661012194321731, 0.2292271365230124, 0.9935268416778007, 0.99135019176619, 0.8001425984619408, 0.1926269218519487, 0.9885754640682144, 0.9860465386321203, 0.986440588212021, 0.992244534612105, 0.2145153721367568, 0.7722553396923245, 0.9818711223751755, 0.9874220379088153, 0.9965409897289116, 0.9785273463399183, 0.3643729297827514, 0.6376526271198149, 0.9960003742043767, 0.9938536155085747, 0.9890832716338342, 0.7383120184646527, 0.2644699767634577, 0.9854333911003575, 0.24178354555351858, 0.6257927061385187, 0.12800305352833338, 0.9897014392223291, 0.17461891968741922, 0.34923783937483843, 0.4739656391515664, 0.980170541077874, 0.9800931462066852, 0.9924581203299755, 0.9933245254315831, 0.9910917890495928, 0.9882310688173357, 0.8787949922562645, 0.11777664844671586, 0.9954736471279421, 0.9931118673930502, 0.99270189716117, 0.9783301783314311, 0.9967570616534209, 0.9927529870715863, 0.8188881552639119, 0.18139927490023364, 0.985060862105642, 0.9877903985763563, 0.9797239752823195, 0.9864342719588908, 0.17666471477908588, 0.2815593891791681, 0.09385312972638937, 0.3367671125476324, 0.11041544673692867, 0.9922160944441588, 0.20261646735760058, 0.7879529286128911, 0.18807200906317995, 0.8060228959850569, 0.9809717424336185, 0.988745016977895, 0.9941330271901142, 0.9931385530026152, 0.30223169473358813, 0.4457917497320425, 0.2191179786818514, 0.037778961841698516, 0.9771303204797729, 0.9929130337525462, 0.9952872262713043, 0.7026706408834036, 0.2874561712704833, 0.9899855024816482, 0.9867536284730208, 0.9822380626037596, 0.9905336372429587, 0.9793110793773612, 0.9843742396082166, 0.22176340833637526, 0.5787484071217598, 0.20012795386453378, 0.9871860628123149, 0.9948148678332288, 0.9895596827110162, 0.9925165158147643, 0.7959237214589792, 0.2019507949970544, 0.08690753425069546, 0.9063214286143955, 0.9971576568986398, 0.9900439005835211, 0.20701349862329194, 0.7920516469065083, 0.9887498534275134, 0.6673349107808121, 0.1363372398369401, 0.11839812933207958, 0.05022950941360951, 0.028702576807776867, 0.9865528049637514, 0.9795552965105723, 0.9892202316901806, 0.9936494143646637, 0.9946722762226139, 0.9860909894718393, 0.1617704835627889, 0.232949496330416, 0.22000785764539288, 0.3882491605506933, 0.20381585970971808, 0.6865376327064188, 0.10727150511037795, 0.9942636172034647], \"Term\": [\"abuse\", \"accused\", \"aged\", \"aged care\", \"alan\", \"alan kohler\", \"alleged\", \"alleged\", \"amid\", \"amid\", \"amid coronavirus\", \"andrew\", \"andrew\", \"announces\", \"assault\", \"australia\", \"australia\", \"australia\", \"australia\", \"australia\", \"australia live\", \"australian\", \"australian\", \"baby\", \"back\", \"back\", \"beach\", \"beat\", \"biden\", \"black\", \"black\", \"border\", \"border\", \"border\", \"briefing\", \"brisbane\", \"budget\", \"bushfire\", \"bushfire\", \"bushfire\", \"bushfire\", \"business\", \"business\", \"call\", \"canberra\", \"canberra\", \"care\", \"case\", \"centre\", \"change\", \"charge\", \"charged\", \"child\", \"china\", \"china\", \"china\", \"chinese\", \"city\", \"climate\", \"close\", \"closure\", \"club\", \"coast\", \"coast\", \"coast\", \"commission\", \"community\", \"community\", \"coronavirus\", \"coronavirus\", \"coronavirus\", \"coronavirus\", \"coronavirus\", \"coronavirus australia\", \"coronavirus case\", \"coronavirus covid\", \"coronavirus covid\", \"coronavirus lockdown\", \"coronavirus pandemic\", \"coronavirus queensland\", \"coronavirus restriction\", \"coronavirus update\", \"could\", \"could\", \"court\", \"court\", \"court\", \"covid\", \"covid\", \"covid\", \"covid coronavirus\", \"covid19\", \"covid19\", \"covid19\", \"crash\", \"crash\", \"crash\", \"crash\", \"daniel\", \"daniel andrew\", \"death\", \"death\", \"death\", \"doctor\", \"domestic\", \"donald\", \"donald trump\", \"drum\", \"dy\", \"economy\", \"election\", \"extended\", \"extended interview\", \"face\", \"family\", \"family\", \"family\", \"farmer\", \"fear\", \"federal\", \"fight\", \"finance\", \"finance alan\", \"find\", \"first\", \"first\", \"flight\", \"force\", \"found\", \"found\", \"future\", \"game\", \"gold\", \"gold coast\", \"government\", \"government\", \"health\", \"health\", \"history\", \"home\", \"home\", \"home\", \"home\", \"hospital\", \"hotel\", \"house\", \"impact\", \"india\", \"indigenous\", \"indigenous\", \"industry\", \"inquiry\", \"international\", \"interview\", \"investigation\", \"jailed\", \"job\", \"jobkeeper\", \"john\", \"killed\", \"kohler\", \"labor\", \"league\", \"life\", \"life\", \"live\", \"live\", \"live news\", \"local\", \"lockdown\", \"make\", \"mark\", \"market\", \"mask\", \"matter\", \"melbourne\", \"melbourne\", \"mental\", \"mental health\", \"million\", \"million\", \"minister\", \"missing\", \"morning\", \"morning briefing\", \"morrison\", \"morrison\", \"mount\", \"murder\", \"national\", \"need\", \"news\", \"news\", \"northern\", \"number\", \"officer\", \"open\", \"open\", \"outbreak\", \"pandemic\", \"pandemic\", \"pandemic\", \"park\", \"police\", \"police\", \"police\", \"positive\", \"power\", \"premier\", \"program\", \"protest\", \"protester\", \"quarantine\", \"quarantine\", \"queensland\", \"rain\", \"record\", \"recovery\", \"regional\", \"report\", \"restriction\", \"restriction\", \"return\", \"rise\", \"river\", \"rule\", \"say\", \"say\", \"say\", \"say\", \"say\", \"school\", \"scott\", \"scott\", \"scott morrison\", \"scott morrison\", \"search\", \"second\", \"sexual\", \"social\", \"south\", \"south\", \"south\", \"south\", \"south australia\", \"speaks\", \"sport\", \"state\", \"state\", \"still\", \"storm\", \"street\", \"student\", \"super\", \"support\", \"sydney\", \"sydney\", \"sydney\", \"test\", \"three\", \"time\", \"told\", \"travel\", \"travel\", \"trial\", \"trial\", \"trump\", \"university\", \"update\", \"update\", \"vaccine\", \"victoria\", \"victoria\", \"victoria\", \"victoria\", \"victoria\", \"victoria coronavirus\", \"violence\", \"wall\", \"water\", \"west\", \"win\", \"woman\", \"woman\", \"woman\", \"woman\", \"worker\", \"worker\", \"worker\", \"zealand\"]}, \"R\": 30, \"lambda.step\": 0.01, \"plot.opts\": {\"xlab\": \"PC1\", \"ylab\": \"PC2\"}, \"topic.order\": [2, 3, 5, 1, 4]};\n",
              "\n",
              "function LDAvis_load_lib(url, callback){\n",
              "  var s = document.createElement('script');\n",
              "  s.src = url;\n",
              "  s.async = true;\n",
              "  s.onreadystatechange = s.onload = callback;\n",
              "  s.onerror = function(){console.warn(\"failed to load library \" + url);};\n",
              "  document.getElementsByTagName(\"head\")[0].appendChild(s);\n",
              "}\n",
              "\n",
              "if(typeof(LDAvis) !== \"undefined\"){\n",
              "   // already loaded: just create the visualization\n",
              "   !function(LDAvis){\n",
              "       new LDAvis(\"#\" + \"ldavis_el1431397761820935204284281799\", ldavis_el1431397761820935204284281799_data);\n",
              "   }(LDAvis);\n",
              "}else if(typeof define === \"function\" && define.amd){\n",
              "   // require.js is available: use it to load d3/LDAvis\n",
              "   require.config({paths: {d3: \"https://d3js.org/d3.v5\"}});\n",
              "   require([\"d3\"], function(d3){\n",
              "      window.d3 = d3;\n",
              "      LDAvis_load_lib(\"https://cdn.jsdelivr.net/gh/bmabey/pyLDAvis@3.3.1/pyLDAvis/js/ldavis.v3.0.0.js\", function(){\n",
              "        new LDAvis(\"#\" + \"ldavis_el1431397761820935204284281799\", ldavis_el1431397761820935204284281799_data);\n",
              "      });\n",
              "    });\n",
              "}else{\n",
              "    // require.js not available: dynamically load d3 & LDAvis\n",
              "    LDAvis_load_lib(\"https://d3js.org/d3.v5.js\", function(){\n",
              "         LDAvis_load_lib(\"https://cdn.jsdelivr.net/gh/bmabey/pyLDAvis@3.3.1/pyLDAvis/js/ldavis.v3.0.0.js\", function(){\n",
              "                 new LDAvis(\"#\" + \"ldavis_el1431397761820935204284281799\", ldavis_el1431397761820935204284281799_data);\n",
              "            })\n",
              "         });\n",
              "}\n",
              "</script>"
            ],
            "text/plain": [
              "PreparedData(topic_coordinates=              x         y  topics  cluster       Freq\n",
              "topic                                                \n",
              "1      0.208227 -0.093653       1        1  22.579047\n",
              "2     -0.014750  0.075250       2        1  20.536598\n",
              "4      0.146513 -0.004906       3        1  19.740019\n",
              "0     -0.224926 -0.218564       4        1  18.673722\n",
              "3     -0.115064  0.241874       5        1  18.470613, topic_info=             Term        Freq       Total Category  logprob  loglift\n",
              "11760  queensland  267.000000  267.000000  Default  30.0000  30.0000\n",
              "2502         case  257.000000  257.000000  Default  29.0000  29.0000\n",
              "15219       trump  216.000000  216.000000  Default  28.0000  28.0000\n",
              "4070        covid  453.000000  453.000000  Default  27.0000  27.0000\n",
              "5369     election  165.000000  165.000000  Default  26.0000  26.0000\n",
              "...           ...         ...         ...      ...      ...      ...\n",
              "4237        crash   56.722948   91.097753   Topic5  -5.8127   1.2152\n",
              "7408         home   59.369696  131.339664   Topic5  -5.7671   0.8950\n",
              "16291       woman   60.360555  154.539935   Topic5  -5.7506   0.7489\n",
              "5830       family   53.338171  108.926604   Topic5  -5.8742   0.9750\n",
              "4542        death   50.523167  165.528832   Topic5  -5.9285   0.5023\n",
              "\n",
              "[244 rows x 6 columns], token_table=       Topic      Freq       Term\n",
              "term                             \n",
              "145        5  0.987921      abuse\n",
              "186        5  0.989099    accused\n",
              "358        4  0.992740       aged\n",
              "359        4  0.995184  aged care\n",
              "405        5  0.989490       alan\n",
              "...      ...       ...        ...\n",
              "16291      5  0.388249      woman\n",
              "16354      1  0.203816     worker\n",
              "16354      3  0.686538     worker\n",
              "16354      5  0.107272     worker\n",
              "16540      3  0.994264    zealand\n",
              "\n",
              "[290 rows x 3 columns], R=30, lambda_step=0.01, plot_opts={'xlab': 'PC1', 'ylab': 'PC2'}, topic_order=[2, 3, 5, 1, 4])"
            ]
          },
          "metadata": {},
          "execution_count": 26
        }
      ]
    },
    {
      "cell_type": "markdown",
      "metadata": {
        "id": "-sJmXpwPH21m"
      },
      "source": [
        "# Guardamos modelo"
      ]
    },
    {
      "cell_type": "code",
      "metadata": {
        "id": "lUWaB4bDIKXD"
      },
      "source": [
        "import pickle\n",
        "path = '/content/drive/MyDrive/Modelos/modelosLDA/LDA_sklearn/'\n",
        "tuple_models = (lda_model, BOW, vectorizer)\n",
        "pickle.dump(tuple_models, open (path + \"tuple_model_news2020.pkl\", 'wb'))"
      ],
      "execution_count": null,
      "outputs": []
    },
    {
      "cell_type": "markdown",
      "metadata": {
        "id": "iljKCZRoJi18"
      },
      "source": [
        "# Leemos el guardado modelo"
      ]
    },
    {
      "cell_type": "code",
      "metadata": {
        "id": "WpmAp_nWJi1_"
      },
      "source": [
        "import pickle\n",
        "path = '/content/drive/MyDrive/Modelos/modelosLDA/LDA_sklearn/'\n",
        "lda_model, BOW, vectorizer = pickle.load(open(path + \"tuple_model_news2020.pkl\", 'rb'))\n"
      ],
      "execution_count": 16,
      "outputs": []
    }
  ]
}