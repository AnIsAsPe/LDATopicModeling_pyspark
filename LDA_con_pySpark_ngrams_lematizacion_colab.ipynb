{
  "nbformat": 4,
  "nbformat_minor": 0,
  "metadata": {
    "colab": {
      "name": "LDA_con_pySpark-ngrams lematizacion_colab.ipynb",
      "provenance": [],
      "collapsed_sections": [
        "1NMSndtR057_",
        "D0vVi8o6_aRS"
      ],
      "toc_visible": true,
      "machine_shape": "hm",
      "include_colab_link": true
    },
    "kernelspec": {
      "display_name": "Python 3",
      "language": "python",
      "name": "python3"
    },
    "language_info": {
      "codemirror_mode": {
        "name": "ipython",
        "version": 3
      },
      "file_extension": ".py",
      "mimetype": "text/x-python",
      "name": "python",
      "nbconvert_exporter": "python",
      "pygments_lexer": "ipython3",
      "version": "3.9.5"
    }
  },
  "cells": [
    {
      "cell_type": "markdown",
      "metadata": {
        "id": "view-in-github",
        "colab_type": "text"
      },
      "source": [
        "<a href=\"https://colab.research.google.com/github/AnIsAsPe/LDATopicModeling_pyspark/blob/main/LDA_con_pySpark_ngrams_lematizacion_colab.ipynb\" target=\"_parent\"><img src=\"https://colab.research.google.com/assets/colab-badge.svg\" alt=\"Open In Colab\"/></a>"
      ]
    },
    {
      "cell_type": "markdown",
      "metadata": {
        "id": "4hi6OGDnO2f2"
      },
      "source": [
        "# Instalación de PySpark en Colab"
      ]
    },
    {
      "cell_type": "code",
      "metadata": {
        "colab": {
          "base_uri": "https://localhost:8080/"
        },
        "id": "v6ulR4kizLvy",
        "outputId": "76a14416-3201-4091-ee0d-bb179259c262"
      },
      "source": [
        "!pip install pyspark"
      ],
      "execution_count": 1,
      "outputs": [
        {
          "output_type": "stream",
          "name": "stdout",
          "text": [
            "Requirement already satisfied: pyspark in /usr/local/lib/python3.7/dist-packages (3.1.2)\n",
            "Requirement already satisfied: py4j==0.10.9 in /usr/local/lib/python3.7/dist-packages (from pyspark) (0.10.9)\n"
          ]
        }
      ]
    },
    {
      "cell_type": "code",
      "metadata": {
        "colab": {
          "base_uri": "https://localhost:8080/"
        },
        "id": "kSAcTGc2x5zC",
        "outputId": "1f6fbeb5-1f3a-408e-9dfd-1b8b233efcb2"
      },
      "source": [
        "import os\n",
        "os.cpu_count()"
      ],
      "execution_count": 1,
      "outputs": [
        {
          "output_type": "execute_result",
          "data": {
            "text/plain": [
              "4"
            ]
          },
          "metadata": {},
          "execution_count": 1
        }
      ]
    },
    {
      "cell_type": "code",
      "metadata": {
        "colab": {
          "base_uri": "https://localhost:8080/"
        },
        "id": "An553nK2x5zD",
        "outputId": "65648dd4-24c2-46eb-915f-2875a0e774f8"
      },
      "source": [
        "!echo $(($(getconf _PHYS_PAGES) * $(getconf PAGE_SIZE) / (1024 * 1024)))"
      ],
      "execution_count": 2,
      "outputs": [
        {
          "output_type": "stream",
          "name": "stdout",
          "text": [
            "26070\n"
          ]
        }
      ]
    },
    {
      "cell_type": "markdown",
      "metadata": {
        "id": "O5wmR_zBxhrD"
      },
      "source": [
        "## Crear Sesión Colab"
      ]
    },
    {
      "cell_type": "code",
      "metadata": {
        "id": "9-Mq8KI6xjd-"
      },
      "source": [
        "# Crear una sesión de spark\n",
        "\n",
        "from pyspark.sql import SparkSession\n",
        "\n",
        "spark = SparkSession.builder\\\n",
        "        .master(\"local\")\\\n",
        "        .appName(\"colab\")\\\n",
        "        .config('spark.ui.port', '4050')\\\n",
        "        .getOrCreate()"
      ],
      "execution_count": 3,
      "outputs": []
    },
    {
      "cell_type": "code",
      "metadata": {
        "colab": {
          "base_uri": "https://localhost:8080/",
          "height": 216
        },
        "id": "XQGPZQdHZvE5",
        "outputId": "90ae2ed0-958e-49da-872e-054451109352"
      },
      "source": [
        "spark"
      ],
      "execution_count": 4,
      "outputs": [
        {
          "output_type": "execute_result",
          "data": {
            "text/html": [
              "\n",
              "            <div>\n",
              "                <p><b>SparkSession - in-memory</b></p>\n",
              "                \n",
              "        <div>\n",
              "            <p><b>SparkContext</b></p>\n",
              "\n",
              "            <p><a href=\"http://4d23498b3c06:4050\">Spark UI</a></p>\n",
              "\n",
              "            <dl>\n",
              "              <dt>Version</dt>\n",
              "                <dd><code>v3.1.2</code></dd>\n",
              "              <dt>Master</dt>\n",
              "                <dd><code>local</code></dd>\n",
              "              <dt>AppName</dt>\n",
              "                <dd><code>colab</code></dd>\n",
              "            </dl>\n",
              "        </div>\n",
              "        \n",
              "            </div>\n",
              "        "
            ],
            "text/plain": [
              "<pyspark.sql.session.SparkSession at 0x7fe379bbb510>"
            ]
          },
          "metadata": {},
          "execution_count": 4
        }
      ]
    },
    {
      "cell_type": "markdown",
      "metadata": {
        "id": "0TxAujHu236V"
      },
      "source": [
        "## Importar bibliotecas "
      ]
    },
    {
      "cell_type": "code",
      "metadata": {
        "colab": {
          "base_uri": "https://localhost:8080/"
        },
        "id": "AhBpsCzr296y",
        "outputId": "a5349005-d606-4dfc-9faa-5ed19f3a5c21"
      },
      "source": [
        "from pyspark.sql.types import *\n",
        "from pyspark.sql.functions import udf, concat, split, col\n",
        "from pyspark.ml.feature import RegexTokenizer, NGram, VectorAssembler, CountVectorizer, IDF\n",
        "from pyspark.ml.clustering import LDA, LocalLDAModel\n",
        "from pyspark.ml import Pipeline\n",
        "from pyspark.ml import PipelineModel\n",
        "from pyspark.ml.feature import  CountVectorizerModel\n",
        "from pyspark.ml.clustering import LocalLDAModel\n",
        "from nltk.stem import WordNetLemmatizer\n",
        "\n",
        "\n",
        "import re\n",
        "from nltk.corpus import stopwords\n",
        "import nltk\n",
        "nltk.download('stopwords')\n",
        "nltk.download('wordnet')  #WordNetLemmatizer\n"
      ],
      "execution_count": 5,
      "outputs": [
        {
          "output_type": "stream",
          "name": "stdout",
          "text": [
            "[nltk_data] Downloading package stopwords to /root/nltk_data...\n",
            "[nltk_data]   Package stopwords is already up-to-date!\n",
            "[nltk_data] Downloading package wordnet to /root/nltk_data...\n",
            "[nltk_data]   Package wordnet is already up-to-date!\n"
          ]
        },
        {
          "output_type": "execute_result",
          "data": {
            "text/plain": [
              "True"
            ]
          },
          "metadata": {},
          "execution_count": 5
        }
      ]
    },
    {
      "cell_type": "markdown",
      "metadata": {
        "id": "koJQrSJL095M"
      },
      "source": [
        "# Leer los datos"
      ]
    },
    {
      "cell_type": "code",
      "metadata": {
        "colab": {
          "base_uri": "https://localhost:8080/"
        },
        "id": "x2liL4jWzMgc",
        "outputId": "42430ebd-4337-46f8-d7c8-725c3ad1e34a"
      },
      "source": [
        "df = spark.read.csv(\"/content/drive/MyDrive/Datos/abcnews-date-text.csv\",header=True)\n",
        "\n",
        "print('Cantidad de renglones: ', df.count())"
      ],
      "execution_count": 6,
      "outputs": [
        {
          "output_type": "stream",
          "name": "stdout",
          "text": [
            "Cantidad de renglones:  1226258\n"
          ]
        }
      ]
    },
    {
      "cell_type": "code",
      "metadata": {
        "colab": {
          "base_uri": "https://localhost:8080/"
        },
        "id": "eeCfIBYb3j4k",
        "outputId": "eda9d095-0da9-46e5-f7b3-c8f2ad663fb9"
      },
      "source": [
        "df.printSchema() # explorar la estructura el dataframe"
      ],
      "execution_count": 7,
      "outputs": [
        {
          "output_type": "stream",
          "name": "stdout",
          "text": [
            "root\n",
            " |-- publish_date: string (nullable = true)\n",
            " |-- headline_text: string (nullable = true)\n",
            "\n"
          ]
        }
      ]
    },
    {
      "cell_type": "code",
      "metadata": {
        "colab": {
          "base_uri": "https://localhost:8080/"
        },
        "id": "pqEhSGci5HzE",
        "outputId": "9706a9eb-d7e4-49d7-807c-e76e7681e681"
      },
      "source": [
        "df.head(3)"
      ],
      "execution_count": 8,
      "outputs": [
        {
          "output_type": "execute_result",
          "data": {
            "text/plain": [
              "[Row(publish_date='20030219', headline_text='aba decides against community broadcasting licence'),\n",
              " Row(publish_date='20030219', headline_text='act fire witnesses must be aware of defamation'),\n",
              " Row(publish_date='20030219', headline_text='a g calls for infrastructure protection summit')]"
            ]
          },
          "metadata": {},
          "execution_count": 8
        }
      ]
    },
    {
      "cell_type": "code",
      "metadata": {
        "colab": {
          "base_uri": "https://localhost:8080/"
        },
        "id": "tdpu1WZc5Tbk",
        "outputId": "bf198def-a31f-41b6-a1b3-416869e9efb7"
      },
      "source": [
        "df.show() # default 20 renglones"
      ],
      "execution_count": 9,
      "outputs": [
        {
          "output_type": "stream",
          "name": "stdout",
          "text": [
            "+------------+--------------------+\n",
            "|publish_date|       headline_text|\n",
            "+------------+--------------------+\n",
            "|    20030219|aba decides again...|\n",
            "|    20030219|act fire witnesse...|\n",
            "|    20030219|a g calls for inf...|\n",
            "|    20030219|air nz staff in a...|\n",
            "|    20030219|air nz strike to ...|\n",
            "|    20030219|ambitious olsson ...|\n",
            "|    20030219|antic delighted w...|\n",
            "|    20030219|aussie qualifier ...|\n",
            "|    20030219|aust addresses un...|\n",
            "|    20030219|australia is lock...|\n",
            "|    20030219|australia to cont...|\n",
            "|    20030219|barca take record...|\n",
            "|    20030219|bathhouse plans m...|\n",
            "|    20030219|big hopes for lau...|\n",
            "|    20030219|big plan to boost...|\n",
            "|    20030219|blizzard buries u...|\n",
            "|    20030219|brigadier dismiss...|\n",
            "|    20030219|british combat tr...|\n",
            "|    20030219|bryant leads lake...|\n",
            "|    20030219|bushfire victims ...|\n",
            "+------------+--------------------+\n",
            "only showing top 20 rows\n",
            "\n"
          ]
        }
      ]
    },
    {
      "cell_type": "code",
      "metadata": {
        "colab": {
          "base_uri": "https://localhost:8080/"
        },
        "id": "araSDXeh0gKM",
        "outputId": "583c4f29-9d57-4751-9773-96e1d15c3870"
      },
      "source": [
        "df.select('headline_text').take(1)"
      ],
      "execution_count": 10,
      "outputs": [
        {
          "output_type": "execute_result",
          "data": {
            "text/plain": [
              "[Row(headline_text='aba decides against community broadcasting licence')]"
            ]
          },
          "metadata": {},
          "execution_count": 10
        }
      ]
    },
    {
      "cell_type": "code",
      "metadata": {
        "colab": {
          "base_uri": "https://localhost:8080/",
          "height": 35
        },
        "id": "sjr90qIi0M-L",
        "outputId": "f4489ec5-5bd5-4ac4-d993-196aca914fa0"
      },
      "source": [
        "# accedemos al texto del primer registro\n",
        "df.select('headline_text').take(1)[0][0]"
      ],
      "execution_count": 11,
      "outputs": [
        {
          "output_type": "execute_result",
          "data": {
            "application/vnd.google.colaboratory.intrinsic+json": {
              "type": "string"
            },
            "text/plain": [
              "'aba decides against community broadcasting licence'"
            ]
          },
          "metadata": {},
          "execution_count": 11
        }
      ]
    },
    {
      "cell_type": "code",
      "metadata": {
        "colab": {
          "base_uri": "https://localhost:8080/"
        },
        "id": "0aUQo7g71dsE",
        "outputId": "ac368e30-8299-4916-cb5d-a03d96fd3659"
      },
      "source": [
        "type(df)"
      ],
      "execution_count": 12,
      "outputs": [
        {
          "output_type": "execute_result",
          "data": {
            "text/plain": [
              "pyspark.sql.dataframe.DataFrame"
            ]
          },
          "metadata": {},
          "execution_count": 12
        }
      ]
    },
    {
      "cell_type": "markdown",
      "metadata": {
        "id": "P2RCzNuN0579"
      },
      "source": [
        "Queremos un inice consecutivo, para ello vamos a utilizar solo la columna 'hedline_text' y usando rdd creamos el indice"
      ]
    },
    {
      "cell_type": "code",
      "metadata": {
        "colab": {
          "base_uri": "https://localhost:8080/"
        },
        "id": "XFDye3LmfOih",
        "outputId": "f37f3f12-70e8-4a13-c529-02ca03e9af0a"
      },
      "source": [
        "texts = df.rdd.map(lambda x: x['headline_text'])\n",
        "headlines = texts.zipWithIndex( )   \n",
        "type(headlines)"
      ],
      "execution_count": 14,
      "outputs": [
        {
          "output_type": "execute_result",
          "data": {
            "text/plain": [
              "pyspark.rdd.PipelinedRDD"
            ]
          },
          "metadata": {},
          "execution_count": 14
        }
      ]
    },
    {
      "cell_type": "code",
      "metadata": {
        "colab": {
          "base_uri": "https://localhost:8080/"
        },
        "id": "q4_aY8B9fMlx",
        "outputId": "a177dd99-d17a-4910-f9ba-5fe14d55ed79"
      },
      "source": [
        "data = spark.createDataFrame(headlines, [\"headlines\",'index'])\n",
        "data.show()"
      ],
      "execution_count": 17,
      "outputs": [
        {
          "output_type": "stream",
          "name": "stdout",
          "text": [
            "+--------------------+-----+\n",
            "|           headlines|index|\n",
            "+--------------------+-----+\n",
            "|aba decides again...|    0|\n",
            "|act fire witnesse...|    1|\n",
            "|a g calls for inf...|    2|\n",
            "|air nz staff in a...|    3|\n",
            "|air nz strike to ...|    4|\n",
            "|ambitious olsson ...|    5|\n",
            "|antic delighted w...|    6|\n",
            "|aussie qualifier ...|    7|\n",
            "|aust addresses un...|    8|\n",
            "|australia is lock...|    9|\n",
            "|australia to cont...|   10|\n",
            "|barca take record...|   11|\n",
            "|bathhouse plans m...|   12|\n",
            "|big hopes for lau...|   13|\n",
            "|big plan to boost...|   14|\n",
            "|blizzard buries u...|   15|\n",
            "|brigadier dismiss...|   16|\n",
            "|british combat tr...|   17|\n",
            "|bryant leads lake...|   18|\n",
            "|bushfire victims ...|   19|\n",
            "+--------------------+-----+\n",
            "only showing top 20 rows\n",
            "\n"
          ]
        }
      ]
    },
    {
      "cell_type": "markdown",
      "metadata": {
        "id": "aYyebrRS2hdQ"
      },
      "source": [
        "# Preprocesar Texto"
      ]
    },
    {
      "cell_type": "markdown",
      "metadata": {
        "id": "FVEOl5cJ057-"
      },
      "source": [
        "## Normalizar (minusculas y quitar puntuación)"
      ]
    },
    {
      "cell_type": "code",
      "metadata": {
        "id": "LTrWBzku057-"
      },
      "source": [
        "# Creamos una función para quitar puntuación (usf -User Define Function )\n",
        "removePunct = udf(lambda s: s.strip().lower(), StringType())\n",
        "\n",
        "data_norm = data.withColumn(\"text\", removePunct(data.headlines))"
      ],
      "execution_count": 18,
      "outputs": []
    },
    {
      "cell_type": "markdown",
      "metadata": {
        "id": "F6saUCm0g0hn"
      },
      "source": [
        "## Tokenizar"
      ]
    },
    {
      "cell_type": "code",
      "metadata": {
        "id": "L0R3njG0057_"
      },
      "source": [
        "# tokenizar\n",
        "tokenizer = RegexTokenizer(inputCol=\"text\", outputCol=\"words\",\n",
        "                           gaps=True, pattern=r'\\s+', minTokenLength=4)\n",
        "df_tokens = tokenizer.transform(data_norm)"
      ],
      "execution_count": 19,
      "outputs": []
    },
    {
      "cell_type": "code",
      "metadata": {
        "colab": {
          "base_uri": "https://localhost:8080/"
        },
        "id": "7CClFRuE057_",
        "outputId": "084f8d4a-964d-49b0-ab25-5372d3378582"
      },
      "source": [
        "df_tokens.show()"
      ],
      "execution_count": 20,
      "outputs": [
        {
          "output_type": "stream",
          "name": "stdout",
          "text": [
            "+--------------------+-----+--------------------+--------------------+\n",
            "|           headlines|index|                text|               words|\n",
            "+--------------------+-----+--------------------+--------------------+\n",
            "|aba decides again...|    0|aba decides again...|[decides, against...|\n",
            "|act fire witnesse...|    1|act fire witnesse...|[fire, witnesses,...|\n",
            "|a g calls for inf...|    2|a g calls for inf...|[calls, infrastru...|\n",
            "|air nz staff in a...|    3|air nz staff in a...|[staff, aust, str...|\n",
            "|air nz strike to ...|    4|air nz strike to ...|[strike, affect, ...|\n",
            "|ambitious olsson ...|    5|ambitious olsson ...|[ambitious, olsso...|\n",
            "|antic delighted w...|    6|antic delighted w...|[antic, delighted...|\n",
            "|aussie qualifier ...|    7|aussie qualifier ...|[aussie, qualifie...|\n",
            "|aust addresses un...|    8|aust addresses un...|[aust, addresses,...|\n",
            "|australia is lock...|    9|australia is lock...|[australia, locke...|\n",
            "|australia to cont...|   10|australia to cont...|[australia, contr...|\n",
            "|barca take record...|   11|barca take record...|[barca, take, rec...|\n",
            "|bathhouse plans m...|   12|bathhouse plans m...|[bathhouse, plans...|\n",
            "|big hopes for lau...|   13|big hopes for lau...|[hopes, launcesto...|\n",
            "|big plan to boost...|   14|big plan to boost...|[plan, boost, par...|\n",
            "|blizzard buries u...|   15|blizzard buries u...|[blizzard, buries...|\n",
            "|brigadier dismiss...|   16|brigadier dismiss...|[brigadier, dismi...|\n",
            "|british combat tr...|   17|british combat tr...|[british, combat,...|\n",
            "|bryant leads lake...|   18|bryant leads lake...|[bryant, leads, l...|\n",
            "|bushfire victims ...|   19|bushfire victims ...|[bushfire, victim...|\n",
            "+--------------------+-----+--------------------+--------------------+\n",
            "only showing top 20 rows\n",
            "\n"
          ]
        }
      ]
    },
    {
      "cell_type": "markdown",
      "metadata": {
        "id": "1NMSndtR057_"
      },
      "source": [
        "## Quitar palabras vacías"
      ]
    },
    {
      "cell_type": "code",
      "metadata": {
        "id": "eKKKK5F1058A"
      },
      "source": [
        "stopwords = stopwords.words(\"english\")\n",
        "removeStop=udf(lambda word: [x for x in word if x not in stopwords])\n",
        "df_tokens=df_tokens.withColumn('noStopWords',removeStop(df_tokens['words']))"
      ],
      "execution_count": 21,
      "outputs": []
    },
    {
      "cell_type": "code",
      "metadata": {
        "colab": {
          "base_uri": "https://localhost:8080/"
        },
        "id": "yCqO4X-2058A",
        "outputId": "2e38c451-54e6-48d3-ea0d-198b81844216"
      },
      "source": [
        "df_tokens.show()"
      ],
      "execution_count": 22,
      "outputs": [
        {
          "output_type": "stream",
          "name": "stdout",
          "text": [
            "+--------------------+-----+--------------------+--------------------+--------------------+\n",
            "|           headlines|index|                text|               words|         noStopWords|\n",
            "+--------------------+-----+--------------------+--------------------+--------------------+\n",
            "|aba decides again...|    0|aba decides again...|[decides, against...|[decides, communi...|\n",
            "|act fire witnesse...|    1|act fire witnesse...|[fire, witnesses,...|[fire, witnesses,...|\n",
            "|a g calls for inf...|    2|a g calls for inf...|[calls, infrastru...|[calls, infrastru...|\n",
            "|air nz staff in a...|    3|air nz staff in a...|[staff, aust, str...|[staff, aust, str...|\n",
            "|air nz strike to ...|    4|air nz strike to ...|[strike, affect, ...|[strike, affect, ...|\n",
            "|ambitious olsson ...|    5|ambitious olsson ...|[ambitious, olsso...|[ambitious, olsso...|\n",
            "|antic delighted w...|    6|antic delighted w...|[antic, delighted...|[antic, delighted...|\n",
            "|aussie qualifier ...|    7|aussie qualifier ...|[aussie, qualifie...|[aussie, qualifie...|\n",
            "|aust addresses un...|    8|aust addresses un...|[aust, addresses,...|[aust, addresses,...|\n",
            "|australia is lock...|    9|australia is lock...|[australia, locke...|[australia, locke...|\n",
            "|australia to cont...|   10|australia to cont...|[australia, contr...|[australia, contr...|\n",
            "|barca take record...|   11|barca take record...|[barca, take, rec...|[barca, take, rec...|\n",
            "|bathhouse plans m...|   12|bathhouse plans m...|[bathhouse, plans...|[bathhouse, plans...|\n",
            "|big hopes for lau...|   13|big hopes for lau...|[hopes, launcesto...|[hopes, launcesto...|\n",
            "|big plan to boost...|   14|big plan to boost...|[plan, boost, par...|[plan, boost, par...|\n",
            "|blizzard buries u...|   15|blizzard buries u...|[blizzard, buries...|[blizzard, buries...|\n",
            "|brigadier dismiss...|   16|brigadier dismiss...|[brigadier, dismi...|[brigadier, dismi...|\n",
            "|british combat tr...|   17|british combat tr...|[british, combat,...|[british, combat,...|\n",
            "|bryant leads lake...|   18|bryant leads lake...|[bryant, leads, l...|[bryant, leads, l...|\n",
            "|bushfire victims ...|   19|bushfire victims ...|[bushfire, victim...|[bushfire, victim...|\n",
            "+--------------------+-----+--------------------+--------------------+--------------------+\n",
            "only showing top 20 rows\n",
            "\n"
          ]
        }
      ]
    },
    {
      "cell_type": "markdown",
      "metadata": {
        "id": "D0vVi8o6_aRS"
      },
      "source": [
        "## Lematización"
      ]
    },
    {
      "cell_type": "code",
      "metadata": {
        "id": "-I1577Frx5zP"
      },
      "source": [
        "lemma = WordNetLemmatizer()\n",
        "def lematizacion(in_vec):\n",
        "    out_vec = [lemma.lemmatize(w) for w in in_vec]\n",
        "    return out_vec\n",
        "\n",
        "lemma_udf = udf(lambda x:lematizacion(x),ArrayType(StringType()))\n",
        "df_tokens=df_tokens.withColumn('finalwords',lemma_udf(df_tokens['noStopWords']))\n"
      ],
      "execution_count": 28,
      "outputs": []
    },
    {
      "cell_type": "code",
      "metadata": {
        "colab": {
          "base_uri": "https://localhost:8080/"
        },
        "id": "h8cmJZejx5zP",
        "outputId": "5f4dde5e-ee62-46ed-95de-286f4608b65e"
      },
      "source": [
        "df_tokens.show()"
      ],
      "execution_count": 29,
      "outputs": [
        {
          "output_type": "stream",
          "name": "stdout",
          "text": [
            "+--------------------+-----+--------------------+--------------------+--------------------+--------------------+\n",
            "|           headlines|index|                text|               words|         noStopWords|          finalwords|\n",
            "+--------------------+-----+--------------------+--------------------+--------------------+--------------------+\n",
            "|aba decides again...|    0|aba decides again...|[decides, against...|[decides, communi...|[decides, communi...|\n",
            "|act fire witnesse...|    1|act fire witnesse...|[fire, witnesses,...|[fire, witnesses,...|[fire, witness, m...|\n",
            "|a g calls for inf...|    2|a g calls for inf...|[calls, infrastru...|[calls, infrastru...|[call, infrastruc...|\n",
            "|air nz staff in a...|    3|air nz staff in a...|[staff, aust, str...|[staff, aust, str...|[staff, aust, str...|\n",
            "|air nz strike to ...|    4|air nz strike to ...|[strike, affect, ...|[strike, affect, ...|[strike, affect, ...|\n",
            "|ambitious olsson ...|    5|ambitious olsson ...|[ambitious, olsso...|[ambitious, olsso...|[ambitious, olsso...|\n",
            "|antic delighted w...|    6|antic delighted w...|[antic, delighted...|[antic, delighted...|[antic, delighted...|\n",
            "|aussie qualifier ...|    7|aussie qualifier ...|[aussie, qualifie...|[aussie, qualifie...|[aussie, qualifie...|\n",
            "|aust addresses un...|    8|aust addresses un...|[aust, addresses,...|[aust, addresses,...|[aust, address, s...|\n",
            "|australia is lock...|    9|australia is lock...|[australia, locke...|[australia, locke...|[australia, locke...|\n",
            "|australia to cont...|   10|australia to cont...|[australia, contr...|[australia, contr...|[australia, contr...|\n",
            "|barca take record...|   11|barca take record...|[barca, take, rec...|[barca, take, rec...|[barca, take, rec...|\n",
            "|bathhouse plans m...|   12|bathhouse plans m...|[bathhouse, plans...|[bathhouse, plans...|[bathhouse, plan,...|\n",
            "|big hopes for lau...|   13|big hopes for lau...|[hopes, launcesto...|[hopes, launcesto...|[hope, launceston...|\n",
            "|big plan to boost...|   14|big plan to boost...|[plan, boost, par...|[plan, boost, par...|[plan, boost, par...|\n",
            "|blizzard buries u...|   15|blizzard buries u...|[blizzard, buries...|[blizzard, buries...|[blizzard, buries...|\n",
            "|brigadier dismiss...|   16|brigadier dismiss...|[brigadier, dismi...|[brigadier, dismi...|[brigadier, dismi...|\n",
            "|british combat tr...|   17|british combat tr...|[british, combat,...|[british, combat,...|[british, combat,...|\n",
            "|bryant leads lake...|   18|bryant leads lake...|[bryant, leads, l...|[bryant, leads, l...|[bryant, lead, la...|\n",
            "|bushfire victims ...|   19|bushfire victims ...|[bushfire, victim...|[bushfire, victim...|[bushfire, victim...|\n",
            "+--------------------+-----+--------------------+--------------------+--------------------+--------------------+\n",
            "only showing top 20 rows\n",
            "\n"
          ]
        }
      ]
    },
    {
      "cell_type": "markdown",
      "metadata": {
        "id": "3pUNuGY5x5zQ"
      },
      "source": [
        "###N-Grams"
      ]
    },
    {
      "cell_type": "markdown",
      "metadata": {
        "id": "8Cx8uqYg058B"
      },
      "source": [
        "## Vectorizar con unigramas y bigramas\n",
        "\n",
        "En pyspark primero tenemos que crear todos los n-gramas que nos interesen y luego utilizar el modelo CountVectorizer y unirlo todo utilizando VectorAssembler"
      ]
    },
    {
      "cell_type": "code",
      "metadata": {
        "id": "Bfcand3cx5zR"
      },
      "source": [
        "def build_ngrams(inputCol=\"finalwords\", n=2):\n",
        "\n",
        "    ngrams = [\n",
        "        NGram(n=i, inputCol=\"finalwords\", outputCol=\"{0}_grams\".format(i))\n",
        "        for i in range(1, n + 1)\n",
        "    ]\n",
        "\n",
        "    vectorizers = [\n",
        "        CountVectorizer(inputCol=\"{0}_grams\".format(i),\n",
        "            outputCol=\"{0}_counts\".format(i), minDF=20)\n",
        "        for i in range(1, n + 1)\n",
        "    ]\n",
        "\n",
        "    assembler = [VectorAssembler(\n",
        "        inputCols=[\"{0}_counts\".format(i) for i in range(1, n + 1)],\n",
        "        outputCol=\"features_cv\"\n",
        "    )]\n",
        "\n",
        "    return Pipeline(stages=ngrams + vectorizers + assembler)"
      ],
      "execution_count": 31,
      "outputs": []
    },
    {
      "cell_type": "code",
      "metadata": {
        "colab": {
          "base_uri": "https://localhost:8080/"
        },
        "id": "-_-UPt-fx5zS",
        "outputId": "395b1cb9-4baa-44c1-dbe0-12eb4e33c9f8"
      },
      "source": [
        "%%time\n",
        "# TF\n",
        "pipline_vectorizer_ngrams = build_ngrams().fit(df_tokens)\n"
      ],
      "execution_count": 32,
      "outputs": [
        {
          "output_type": "stream",
          "name": "stdout",
          "text": [
            "CPU times: user 706 ms, sys: 85.7 ms, total: 792 ms\n",
            "Wall time: 2min 21s\n"
          ]
        }
      ]
    },
    {
      "cell_type": "code",
      "metadata": {
        "colab": {
          "base_uri": "https://localhost:8080/"
        },
        "id": "SwMkSZewx5zS",
        "outputId": "3ca63adf-e45c-4c1c-d4f5-bc35a97c70a7"
      },
      "source": [
        "pipline_vectorizer_ngrams.stages"
      ],
      "execution_count": 33,
      "outputs": [
        {
          "output_type": "execute_result",
          "data": {
            "text/plain": [
              "[NGram_60119ec6142e,\n",
              " NGram_d737ad96255a,\n",
              " CountVectorizerModel: uid=CountVectorizer_f40d5801c5bf, vocabularySize=16599,\n",
              " CountVectorizerModel: uid=CountVectorizer_a612b2d3de70, vocabularySize=19985,\n",
              " VectorAssembler_255725244f3f]"
            ]
          },
          "metadata": {},
          "execution_count": 33
        }
      ]
    },
    {
      "cell_type": "code",
      "metadata": {
        "colab": {
          "base_uri": "https://localhost:8080/"
        },
        "id": "_A5mT-Nex5zT",
        "outputId": "c772b12a-d195-4f25-cd52-d19d8d05b24b"
      },
      "source": [
        "vectorizers = [s for s in pipline_vectorizer_ngrams.stages if isinstance(s, CountVectorizerModel)]\n",
        "vocabArray = [v.vocabulary for v in vectorizers]\n",
        "len(vocabArray)"
      ],
      "execution_count": 34,
      "outputs": [
        {
          "output_type": "execute_result",
          "data": {
            "text/plain": [
              "2"
            ]
          },
          "metadata": {},
          "execution_count": 34
        }
      ]
    },
    {
      "cell_type": "code",
      "metadata": {
        "id": "dCR-Sk2Ox5zU"
      },
      "source": [
        "# Con cuantas palabras y bigramas nos quedamos\n",
        "palabras=vocabArray[0]\n",
        "biGramas=vocabArray[1]"
      ],
      "execution_count": 35,
      "outputs": []
    },
    {
      "cell_type": "code",
      "metadata": {
        "colab": {
          "base_uri": "https://localhost:8080/"
        },
        "id": "uB5gcNQpx5zU",
        "outputId": "1baa5eab-3b3a-42bc-bf11-4353d5458dee"
      },
      "source": [
        "# muestra de bigramas\n",
        "biGramas[0:20]"
      ],
      "execution_count": 36,
      "outputs": [
        {
          "output_type": "execute_result",
          "data": {
            "text/plain": [
              "['gold coast',\n",
              " 'country hour',\n",
              " 'donald trump',\n",
              " 'face court',\n",
              " 'pleads guilty',\n",
              " 'asylum seeker',\n",
              " 'mental health',\n",
              " 'climate change',\n",
              " 'police investigate',\n",
              " 'north korea',\n",
              " 'police probe',\n",
              " 'broken hill',\n",
              " 'share market',\n",
              " 'rate rise',\n",
              " 'royal commission',\n",
              " 'police officer',\n",
              " 'plane crash',\n",
              " 'body found',\n",
              " 'front court',\n",
              " 'govt urged']"
            ]
          },
          "metadata": {},
          "execution_count": 36
        }
      ]
    },
    {
      "cell_type": "code",
      "metadata": {
        "colab": {
          "base_uri": "https://localhost:8080/"
        },
        "id": "VHy4usBFks5J",
        "outputId": "0aefac6e-91d6-43a7-ceb8-c1ffae4b3c2a"
      },
      "source": [
        "len(palabras), len(biGramas)"
      ],
      "execution_count": 38,
      "outputs": [
        {
          "output_type": "execute_result",
          "data": {
            "text/plain": [
              "(16599, 19985)"
            ]
          },
          "metadata": {},
          "execution_count": 38
        }
      ]
    },
    {
      "cell_type": "code",
      "metadata": {
        "colab": {
          "base_uri": "https://localhost:8080/"
        },
        "id": "HPxdkeGyx5zV",
        "outputId": "1866ecba-05c4-474e-ebee-75027b95f8e8"
      },
      "source": [
        "vocabulario = palabras + biGramas\n",
        "len(vocabulario)"
      ],
      "execution_count": 39,
      "outputs": [
        {
          "output_type": "execute_result",
          "data": {
            "text/plain": [
              "36584"
            ]
          },
          "metadata": {},
          "execution_count": 39
        }
      ]
    },
    {
      "cell_type": "markdown",
      "metadata": {
        "id": "SlmwPcQRx5zV"
      },
      "source": [
        "__ahora hacemos la transformación con la vectorización hecha para obtener TF__"
      ]
    },
    {
      "cell_type": "code",
      "metadata": {
        "id": "aWEIU0Jvx5zW"
      },
      "source": [
        "result_cv = pipline_vectorizer_ngrams.transform(df_tokens)"
      ],
      "execution_count": 41,
      "outputs": []
    },
    {
      "cell_type": "code",
      "metadata": {
        "colab": {
          "base_uri": "https://localhost:8080/"
        },
        "id": "YakK2smIx5zW",
        "outputId": "9b644985-fea5-481b-e08f-c853afbd813e"
      },
      "source": [
        "result_cv.columns  # la vectorización se encuentra en la última columna"
      ],
      "execution_count": 42,
      "outputs": [
        {
          "output_type": "execute_result",
          "data": {
            "text/plain": [
              "['headlines',\n",
              " 'index',\n",
              " 'text',\n",
              " 'words',\n",
              " 'noStopWords',\n",
              " 'finalwords',\n",
              " '1_grams',\n",
              " '2_grams',\n",
              " '1_counts',\n",
              " '2_counts',\n",
              " 'features_cv']"
            ]
          },
          "metadata": {},
          "execution_count": 42
        }
      ]
    },
    {
      "cell_type": "code",
      "metadata": {
        "colab": {
          "base_uri": "https://localhost:8080/"
        },
        "id": "PAatJjGVx5zX",
        "outputId": "089abc3a-d60c-4ee7-c149-6025dc26ef33"
      },
      "source": [
        "result_cv.take(1)"
      ],
      "execution_count": 44,
      "outputs": [
        {
          "output_type": "execute_result",
          "data": {
            "text/plain": [
              "[Row(headlines='aba decides against community broadcasting licence', index=0, text='aba decides against community broadcasting licence', words=['decides', 'against', 'community', 'broadcasting', 'licence'], noStopWords='[decides, community, broadcasting, licence]', finalwords=['decides', 'community', 'broadcasting', 'licence'], 1_grams=['decides', 'community', 'broadcasting', 'licence'], 2_grams=['decides community', 'community broadcasting', 'broadcasting licence'], 1_counts=SparseVector(16599, {111: 1.0, 958: 1.0, 5213: 1.0, 8099: 1.0}), 2_counts=SparseVector(19985, {}), features_cv=SparseVector(36584, {111: 1.0, 958: 1.0, 5213: 1.0, 8099: 1.0}))]"
            ]
          },
          "metadata": {},
          "execution_count": 44
        }
      ]
    },
    {
      "cell_type": "markdown",
      "metadata": {
        "id": "oNJ16027x5zX"
      },
      "source": [
        "__es el turno de obtener IDF__"
      ]
    },
    {
      "cell_type": "code",
      "metadata": {
        "colab": {
          "base_uri": "https://localhost:8080/"
        },
        "id": "ekCwipqQ058C",
        "outputId": "cf091ece-c421-433d-8bc1-619cec0354bc"
      },
      "source": [
        "%%time\n",
        "# IDF\n",
        "idf = IDF(inputCol=\"features_cv\", outputCol=\"features\")\n",
        "idfModel = idf.fit(result_cv)\n",
        "result_tfidf = idfModel.transform(result_cv) "
      ],
      "execution_count": 45,
      "outputs": [
        {
          "output_type": "stream",
          "name": "stdout",
          "text": [
            "CPU times: user 338 ms, sys: 41.8 ms, total: 380 ms\n",
            "Wall time: 1min 11s\n"
          ]
        }
      ]
    },
    {
      "cell_type": "code",
      "metadata": {
        "colab": {
          "base_uri": "https://localhost:8080/"
        },
        "id": "FC-6u-a4x5zY",
        "outputId": "e851e491-5c73-42ef-afc5-13fe027d799b"
      },
      "source": [
        "result_tfidf.take(1)"
      ],
      "execution_count": 46,
      "outputs": [
        {
          "output_type": "execute_result",
          "data": {
            "text/plain": [
              "[Row(headlines='aba decides against community broadcasting licence', index=0, text='aba decides against community broadcasting licence', words=['decides', 'against', 'community', 'broadcasting', 'licence'], noStopWords='[decides, community, broadcasting, licence]', finalwords=['decides', 'community', 'broadcasting', 'licence'], 1_grams=['decides', 'community', 'broadcasting', 'licence'], 2_grams=['decides community', 'community broadcasting', 'broadcasting licence'], 1_counts=SparseVector(16599, {111: 1.0, 958: 1.0, 5213: 1.0, 8099: 1.0}), 2_counts=SparseVector(19985, {}), features_cv=SparseVector(36584, {111: 1.0, 958: 1.0, 5213: 1.0, 8099: 1.0}), features=SparseVector(36584, {111: 5.2528, 958: 6.8735, 5213: 9.0088, 8099: 9.729}))]"
            ]
          },
          "metadata": {},
          "execution_count": 46
        }
      ]
    },
    {
      "cell_type": "markdown",
      "metadata": {
        "id": "emHv8FE8058C"
      },
      "source": [
        "## Entrenamiento del Modelo"
      ]
    },
    {
      "cell_type": "code",
      "metadata": {
        "colab": {
          "base_uri": "https://localhost:8080/"
        },
        "id": "gdIW1IaN058C",
        "scrolled": true,
        "outputId": "8e681d6e-6385-4c54-b90a-59291e79f6c7"
      },
      "source": [
        "%%time\n",
        "num_topics=30\n",
        "max_iterations=50\n",
        "lda = LDA(k=num_topics, maxIter=max_iterations)\n",
        "ldaModel = lda.fit(result_tfidf)"
      ],
      "execution_count": 47,
      "outputs": [
        {
          "output_type": "stream",
          "name": "stdout",
          "text": [
            "CPU times: user 3.68 s, sys: 467 ms, total: 4.15 s\n",
            "Wall time: 12min 39s\n"
          ]
        }
      ]
    },
    {
      "cell_type": "markdown",
      "metadata": {
        "id": "4KeWpKkiD08f"
      },
      "source": [
        "### Guardar los modelos"
      ]
    },
    {
      "cell_type": "code",
      "metadata": {
        "id": "ws8YqHuUO3wJ"
      },
      "source": [
        "# print(ldaModel.isDistributed())\n",
        "# path = \"/content/drive/MyDrive/Modelos/modelosLDA/\"\n",
        "\n",
        "# model_number = '2'\n",
        "# pipline_vectorizer_ngrams.save(path + 'PipelineVectorizerModel'+ model_number)    # Modelo BOW\n",
        "# ldaModel.save(path + 'LDAModel'+ model_number)  # Modelo entrenado\n",
        "# lda.save(path + 'LDA_'+ model_number)\n",
        "# idfModel.save(path + 'idfModel'+ model_number) "
      ],
      "execution_count": 52,
      "outputs": []
    },
    {
      "cell_type": "markdown",
      "metadata": {
        "id": "p6JmCQy7EVpX"
      },
      "source": [
        "### Cargar modelos"
      ]
    },
    {
      "cell_type": "code",
      "metadata": {
        "id": "uKao5qT3Efyd"
      },
      "source": [
        "# path = \"/content/drive/MyDrive/Modelos/modelosLDA/\"\n",
        "# model_number = '2'\n",
        "# pipline_vectorizer_ngrams = PipelineModel.load(path + 'PipelineVectorizerModel'+ model_number )   # Modelo BOW\n",
        "# #lda = LocalLDAModel.load(path + 'LDA_'+ model_number)\n",
        "# #ldaModel = LocalLDAModel.load(path + 'LDAModel'+ model_number)               # Modelo entrenado"
      ],
      "execution_count": null,
      "outputs": []
    },
    {
      "cell_type": "markdown",
      "metadata": {
        "id": "iDKFlOFJx3gL"
      },
      "source": [
        "# Resultados"
      ]
    },
    {
      "cell_type": "code",
      "metadata": {
        "id": "G7xQOgTQ058D",
        "colab": {
          "base_uri": "https://localhost:8080/"
        },
        "outputId": "3430ab79-63ba-403a-d168-f7e4b28155b6"
      },
      "source": [
        "# Imprimir las palabras más frecuentes por topic\n",
        "numTopics = 30  # cantidad de topicos a explorar\n",
        "topics = ldaModel.describeTopics(maxTermsPerTopic=5)\n",
        "ListOfIndexToWords = udf(lambda wl: list([vocabulario[w] for w in wl]))\n",
        "FormatNumbers = udf(lambda nl: [\"{:1.4f}\".format(x) for x in nl])\n",
        "\n",
        "toptopics = topics.select((topics.topic + 1).alias('topic'),\n",
        "                          ListOfIndexToWords(topics.termIndices).alias('words'),\n",
        "                          FormatNumbers(topics.termWeights).alias('weights'))\n",
        "toptopics.show(truncate=False, n=numTopics)\n",
        "print('Topics:', numTopics, 'Vocabulary:', len(vocabArray))\n",
        "\n"
      ],
      "execution_count": 49,
      "outputs": [
        {
          "output_type": "stream",
          "name": "stdout",
          "text": [
            "+-----+-------------------------------------------------+----------------------------------------+\n",
            "|topic|words                                            |weights                                 |\n",
            "+-----+-------------------------------------------------+----------------------------------------+\n",
            "|1    |[national, rural, return, news, price]           |[0.0186, 0.0184, 0.0175, 0.0117, 0.0107]|\n",
            "|2    |[budget, fight, cut, back, federal]              |[0.0143, 0.0109, 0.0107, 0.0096, 0.0086]|\n",
            "|3    |[game, plane, anti, cyclone, murray]             |[0.0145, 0.0129, 0.0123, 0.0120, 0.0119]|\n",
            "|4    |[rate, probe, trump, rise, break]                |[0.0212, 0.0202, 0.0185, 0.0174, 0.0129]|\n",
            "|5    |[health, chief, interview, question, change]     |[0.0245, 0.0126, 0.0124, 0.0123, 0.0120]|\n",
            "|6    |[jail, warning, charge, launch, murder]          |[0.0132, 0.0119, 0.0118, 0.0111, 0.0109]|\n",
            "|7    |[state, coronavirus, iraq, kill, india]          |[0.0200, 0.0157, 0.0150, 0.0128, 0.0124]|\n",
            "|8    |[told, defence, turn, five, expected]            |[0.0184, 0.0135, 0.0131, 0.0131, 0.0125]|\n",
            "|9    |[road, teen, final, death, alleged]              |[0.0147, 0.0138, 0.0125, 0.0102, 0.0094]|\n",
            "|10   |[warns, threat, guilty, four, award]             |[0.0147, 0.0136, 0.0131, 0.0129, 0.0122]|\n",
            "|11   |[body, found, despite, home, doubt]              |[0.0165, 0.0118, 0.0118, 0.0106, 0.0094]|\n",
            "|12   |[decision, drought, blue, company, action]       |[0.0133, 0.0128, 0.0118, 0.0118, 0.0117]|\n",
            "|13   |[work, crash, weather, begin, child]             |[0.0185, 0.0148, 0.0144, 0.0143, 0.0139]|\n",
            "|14   |[country, hour, tour, share, country hour]       |[0.0188, 0.0155, 0.0132, 0.0124, 0.0106]|\n",
            "|15   |[search, mine, missing, power, site]             |[0.0174, 0.0160, 0.0155, 0.0130, 0.0101]|\n",
            "|16   |[canberra, business, rain, labor, rudd]          |[0.0249, 0.0210, 0.0195, 0.0168, 0.0131]|\n",
            "|17   |[coast, gold, job, move, officer]                |[0.0170, 0.0168, 0.0131, 0.0123, 0.0109]|\n",
            "|18   |[park, land, urged, million, sport]              |[0.0145, 0.0141, 0.0137, 0.0109, 0.0093]|\n",
            "|19   |[election, farm, housing, battle, wind]          |[0.0187, 0.0124, 0.0103, 0.0097, 0.0094]|\n",
            "|20   |[play, south, shooting, korea, darwin]           |[0.0106, 0.0097, 0.0093, 0.0092, 0.0091]|\n",
            "|21   |[safety, campaign, hobart, make, hill]           |[0.0106, 0.0100, 0.0090, 0.0090, 0.0089]|\n",
            "|22   |[drug, jailed, continue, crisis, trade]          |[0.0173, 0.0118, 0.0107, 0.0106, 0.0100]|\n",
            "|23   |[police, investigate, authority, newcastle, raid]|[0.0148, 0.0125, 0.0110, 0.0109, 0.0104]|\n",
            "|24   |[offer, christmas, opposition, study, point]     |[0.0096, 0.0096, 0.0087, 0.0086, 0.0081]|\n",
            "|25   |[train, race, better, money, condition]          |[0.0137, 0.0114, 0.0108, 0.0106, 0.0105]|\n",
            "|26   |[close, keep, mark, damage, slam]                |[0.0202, 0.0168, 0.0127, 0.0125, 0.0112]|\n",
            "|27   |[indigenous, public, asylum, face, good]         |[0.0211, 0.0162, 0.0111, 0.0106, 0.0097]|\n",
            "|28   |[farmer, violence, target, season, double]       |[0.0202, 0.0119, 0.0098, 0.0086, 0.0084]|\n",
            "|29   |[school, killed, still, east, pressure]          |[0.0147, 0.0132, 0.0088, 0.0086, 0.0085]|\n",
            "|30   |[industry, hope, tourism, stop, title]           |[0.0161, 0.0153, 0.0134, 0.0128, 0.0118]|\n",
            "+-----+-------------------------------------------------+----------------------------------------+\n",
            "\n",
            "Topics: 30 Vocabulary: 2\n"
          ]
        }
      ]
    },
    {
      "cell_type": "code",
      "metadata": {
        "colab": {
          "base_uri": "https://localhost:8080/"
        },
        "id": "cjID4HK5oF8v",
        "outputId": "5f5e412c-5c0c-4412-e7ee-eb4ad8a96855"
      },
      "source": [
        "Topic_Words = ldaModel.topicsMatrix()\n",
        "Topic_Words"
      ],
      "execution_count": 53,
      "outputs": [
        {
          "output_type": "execute_result",
          "data": {
            "text/plain": [
              "DenseMatrix(36584, 30, [1670.8399, 1717.1773, 1653.722, 1664.0101, 287.5126, 1289.1435, 740.0777, 1117.2444, ..., 0.4158, 0.2885, 0.2121, 0.2544, 0.2653, 0.2467, 0.2516, 0.2675], 0)"
            ]
          },
          "metadata": {},
          "execution_count": 53
        }
      ]
    },
    {
      "cell_type": "code",
      "metadata": {
        "colab": {
          "base_uri": "https://localhost:8080/"
        },
        "id": "HE1bzBnurokW",
        "outputId": "d76346a4-e924-45c8-c984-6f13ac1d9e84"
      },
      "source": [
        "Doc_Topic =  ldaModel.transform(result_tfidf)\n",
        "Doc_Topic"
      ],
      "execution_count": 55,
      "outputs": [
        {
          "output_type": "execute_result",
          "data": {
            "text/plain": [
              "DataFrame[headlines: string, index: bigint, text: string, words: array<string>, noStopWords: string, finalwords: array<string>, 1_grams: array<string>, 2_grams: array<string>, 1_counts: vector, 2_counts: vector, features_cv: vector, features: vector, topicDistribution: vector]"
            ]
          },
          "metadata": {},
          "execution_count": 55
        }
      ]
    },
    {
      "cell_type": "code",
      "metadata": {
        "colab": {
          "base_uri": "https://localhost:8080/"
        },
        "id": "uMDfkn1wsG3c",
        "outputId": "19c02e8b-304e-4750-c460-c1f4db224c6f"
      },
      "source": [
        "Doc_Topic.show()"
      ],
      "execution_count": 56,
      "outputs": [
        {
          "output_type": "stream",
          "name": "stdout",
          "text": [
            "+--------------------+-----+--------------------+--------------------+--------------------+--------------------+--------------------+--------------------+--------------------+--------------------+--------------------+--------------------+--------------------+\n",
            "|           headlines|index|                text|               words|         noStopWords|          finalwords|             1_grams|             2_grams|            1_counts|            2_counts|         features_cv|            features|   topicDistribution|\n",
            "+--------------------+-----+--------------------+--------------------+--------------------+--------------------+--------------------+--------------------+--------------------+--------------------+--------------------+--------------------+--------------------+\n",
            "|aba decides again...|    0|aba decides again...|[decides, against...|[decides, communi...|[decides, communi...|[decides, communi...|[decides communit...|(16599,[111,958,5...|       (19985,[],[])|(36584,[111,958,5...|(36584,[111,958,5...|[0.00104592518438...|\n",
            "|act fire witnesse...|    1|act fire witnesse...|[fire, witnesses,...|[fire, witnesses,...|[fire, witness, m...|[fire, witness, m...|[fire witness, wi...|(16599,[7,650,656...|       (19985,[],[])|(36584,[7,650,656...|(36584,[7,650,656...|[9.55270301542676...|\n",
            "|a g calls for inf...|    2|a g calls for inf...|[calls, infrastru...|[calls, infrastru...|[call, infrastruc...|[call, infrastruc...|[call infrastruct...|(16599,[3,655,985...|(19985,[19623],[1...|(36584,[3,655,985...|(36584,[3,655,985...|[9.12006670203991...|\n",
            "|air nz staff in a...|    3|air nz staff in a...|[staff, aust, str...|[staff, aust, str...|[staff, aust, str...|[staff, aust, str...|[staff aust, aust...|(16599,[59,155,31...|       (19985,[],[])|(36584,[59,155,31...|(36584,[59,155,31...|[0.00142386690198...|\n",
            "|air nz strike to ...|    4|air nz strike to ...|[strike, affect, ...|[strike, affect, ...|[strike, affect, ...|[strike, affect, ...|[strike affect, a...|(16599,[11,155,12...|(19985,[17339],[1...|(36584,[11,155,12...|(36584,[11,155,12...|[9.01298897680085...|\n",
            "|ambitious olsson ...|    5|ambitious olsson ...|[ambitious, olsso...|[ambitious, olsso...|[ambitious, olsso...|[ambitious, olsso...|[ambitious olsson...|(16599,[71,1014,1...|       (19985,[],[])|(36584,[71,1014,1...|(36584,[71,1014,1...|[0.00111097922060...|\n",
            "|antic delighted w...|    6|antic delighted w...|[antic, delighted...|[antic, delighted...|[antic, delighted...|[antic, delighted...|[antic delighted,...|(16599,[75,1664,2...| (19985,[817],[1.0])|(36584,[75,1664,2...|(36584,[75,1664,2...|[6.66743532171539...|\n",
            "|aussie qualifier ...|    7|aussie qualifier ...|[aussie, qualifie...|[aussie, qualifie...|[aussie, qualifie...|[aussie, qualifie...|[aussie qualifier...|(16599,[131,202,4...|       (19985,[],[])|(36584,[131,202,4...|(36584,[131,202,4...|[0.23026295732680...|\n",
            "|aust addresses un...|    8|aust addresses un...|[aust, addresses,...|[aust, addresses,...|[aust, address, s...|[aust, address, s...|[aust address, ad...|(16599,[4,122,190...|(19985,[1094],[1.0])|(36584,[4,122,190...|(36584,[4,122,190...|[8.8425650194409E...|\n",
            "|australia is lock...|    9|australia is lock...|[australia, locke...|[australia, locke...|[australia, locke...|[australia, locke...|[australia locked...|(16599,[5,2738,43...|       (19985,[],[])|(36584,[5,2738,43...|(36584,[5,2738,43...|[0.00151603675712...|\n",
            "|australia to cont...|   10|australia to cont...|[australia, contr...|[australia, contr...|[australia, contr...|[australia, contr...|[australia contri...|(16599,[5,122,252...|       (19985,[],[])|(36584,[5,122,252...|(36584,[5,122,252...|[0.00128558130933...|\n",
            "|barca take record...|   11|barca take record...|[barca, take, rec...|[barca, take, rec...|[barca, take, rec...|[barca, take, rec...|[barca take, take...|(16599,[25,75,972...|       (19985,[],[])|(36584,[25,75,972...|(36584,[25,75,972...|[7.74971338592763...|\n",
            "|bathhouse plans m...|   12|bathhouse plans m...|[bathhouse, plans...|[bathhouse, plans...|[bathhouse, plan,...|[bathhouse, plan,...|[bathhouse plan, ...|(16599,[2,130,182...|(19985,[1084,1664...|(36584,[2,130,182...|(36584,[2,130,182...|[7.35820055397260...|\n",
            "|big hopes for lau...|   13|big hopes for lau...|[hopes, launcesto...|[hopes, launcesto...|[hope, launceston...|[hope, launceston...|[hope launceston,...|(16599,[115,1155,...|       (19985,[],[])|(36584,[115,1155,...|(36584,[115,1155,...|[0.26276159435880...|\n",
            "|big plan to boost...|   14|big plan to boost...|[plan, boost, par...|[plan, boost, par...|[plan, boost, par...|[plan, boost, par...|[plan boost, boos...|(16599,[2,15,54,6...|(19985,[141,2036]...|(36584,[2,15,54,6...|(36584,[2,15,54,6...|[6.80737157266359...|\n",
            "|blizzard buries u...|   15|blizzard buries u...|[blizzard, buries...|[blizzard, buries...|[blizzard, buries...|[blizzard, buries...|[blizzard buries,...|(16599,[96,207,56...| (19985,[382],[1.0])|(36584,[96,207,56...|(36584,[96,207,56...|[7.27722499523245...|\n",
            "|brigadier dismiss...|   16|brigadier dismiss...|[brigadier, dismi...|[brigadier, dismi...|[brigadier, dismi...|[brigadier, dismi...|[brigadier dismis...|(16599,[18,382,11...|       (19985,[],[])|(36584,[18,382,11...|(36584,[18,382,11...|[8.40582815274976...|\n",
            "|british combat tr...|   17|british combat tr...|[british, combat,...|[british, combat,...|[british, combat,...|[british, combat,...|[british combat, ...|(16599,[382,430,1...|       (19985,[],[])|(36584,[382,430,1...|(36584,[382,430,1...|[6.90268484216937...|\n",
            "|bryant leads lake...|   18|bryant leads lake...|[bryant, leads, l...|[bryant, leads, l...|[bryant, lead, la...|[bryant, lead, la...|[bryant lead, lea...|(16599,[85,424,59...|       (19985,[],[])|(36584,[85,424,59...|(36584,[85,424,59...|[8.26770406322086...|\n",
            "|bushfire victims ...|   19|bushfire victims ...|[bushfire, victim...|[bushfire, victim...|[bushfire, victim...|[bushfire, victim...|[bushfire victim,...|(16599,[65,106,20...|(19985,[591,9815]...|(36584,[65,106,20...|(36584,[65,106,20...|[7.58166134148654...|\n",
            "+--------------------+-----+--------------------+--------------------+--------------------+--------------------+--------------------+--------------------+--------------------+--------------------+--------------------+--------------------+--------------------+\n",
            "only showing top 20 rows\n",
            "\n"
          ]
        }
      ]
    },
    {
      "cell_type": "code",
      "metadata": {
        "colab": {
          "base_uri": "https://localhost:8080/"
        },
        "id": "Dh3MqO4Csd2z",
        "outputId": "11a585b5-10f5-4776-8833-c9814c027cce"
      },
      "source": [
        "len(Doc_Topic.select('topicDistribution').take(1)[0][0])"
      ],
      "execution_count": 59,
      "outputs": [
        {
          "output_type": "execute_result",
          "data": {
            "text/plain": [
              "30"
            ]
          },
          "metadata": {},
          "execution_count": 59
        }
      ]
    },
    {
      "cell_type": "code",
      "metadata": {
        "colab": {
          "base_uri": "https://localhost:8080/"
        },
        "id": "JVHr7NDutThp",
        "outputId": "5632d5bc-09d8-4060-ba62-fa564513d7da"
      },
      "source": [
        "M_doc_top = Doc_Topic.rdd.map(lambda x: x['topicDistribution'])\n",
        "distribucion_doc = M_doc_top.zipWithIndex( )   \n",
        "Documentos_topics = spark.createDataFrame( distribucion_doc, ['topicDistribution','index' ])\n",
        "Documentos_topics.show(2)"
      ],
      "execution_count": 89,
      "outputs": [
        {
          "output_type": "stream",
          "name": "stdout",
          "text": [
            "+--------------------+-----+\n",
            "|   topicDistribution|index|\n",
            "+--------------------+-----+\n",
            "|[0.00104592518438...|    0|\n",
            "|[9.55270301542676...|    1|\n",
            "+--------------------+-----+\n",
            "only showing top 2 rows\n",
            "\n"
          ]
        }
      ]
    },
    {
      "cell_type": "code",
      "metadata": {
        "id": "30mLpv4N1nrA"
      },
      "source": [
        "# Documentos_topicos = Documentos_topics.toPandas()\n",
        "# Doc_top = Documentos_topicos['topicDistribution'].apply(lambda x: pd.Series(x.toArray()))"
      ],
      "execution_count": 91,
      "outputs": []
    },
    {
      "cell_type": "code",
      "metadata": {
        "id": "Vp1JCzj95BpQ"
      },
      "source": [
        "# !pip install pyLDAvis "
      ],
      "execution_count": null,
      "outputs": []
    },
    {
      "cell_type": "code",
      "metadata": {
        "id": "gGylUy4D4MoK"
      },
      "source": [
        "# #https://pyldavis.readthedocs.io/en/latest/modules/API.html#pyLDAvis.prepare\n",
        "# visualizacion = pyLDAvis.prepare(topic_term_dists = \n",
        "#                                  doc_topic_dists = \n",
        "#                                  doc_lengths = \n",
        "#                                  vocab = \n",
        "#                                  term_frequency = \n",
        "#                                  )\n",
        "# visualizacion"
      ],
      "execution_count": null,
      "outputs": []
    }
  ]
}