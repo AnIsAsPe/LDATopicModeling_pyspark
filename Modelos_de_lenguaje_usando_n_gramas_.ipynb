{
  "nbformat": 4,
  "nbformat_minor": 0,
  "metadata": {
    "colab": {
      "name": "Modelos de lenguaje usando n-gramas .ipynb",
      "provenance": [],
      "collapsed_sections": [],
      "mount_file_id": "1VcITHSKIhDvR6zA8o2Q4mR6TcfwgSUIE",
      "authorship_tag": "ABX9TyNNGdy8tlgPacdpmLisrGQv",
      "include_colab_link": true
    },
    "kernelspec": {
      "name": "python3",
      "display_name": "Python 3"
    },
    "language_info": {
      "name": "python"
    }
  },
  "cells": [
    {
      "cell_type": "markdown",
      "metadata": {
        "id": "view-in-github",
        "colab_type": "text"
      },
      "source": [
        "<a href=\"https://colab.research.google.com/github/AnIsAsPe/LDATopicModeling_pyspark/blob/main/Modelos_de_lenguaje_usando_n_gramas_.ipynb\" target=\"_parent\"><img src=\"https://colab.research.google.com/assets/colab-badge.svg\" alt=\"Open In Colab\"/></a>"
      ]
    },
    {
      "cell_type": "code",
      "metadata": {
        "id": "MCiXEXQCxopK"
      },
      "source": [
        "from collections import Counter\n",
        "import random \n"
      ],
      "execution_count": 28,
      "outputs": []
    },
    {
      "cell_type": "markdown",
      "metadata": {
        "id": "pbALUjcWkWgr"
      },
      "source": [
        "## Funciones"
      ]
    },
    {
      "cell_type": "code",
      "metadata": {
        "id": "96lVL2qUMtsa"
      },
      "source": [
        "def leer_libro(archivo_txt):\n",
        "  '''funcion para leer un archivo en formato txt'''\n",
        "  with open(archivo_txt, \"r\", encoding=\"utf8\") as f:\n",
        "    texto = f.read()\n",
        "    texto = texto.replace(\"\\n\", \"\").replace(\"\\r\", \"\") \n",
        "  return texto"
      ],
      "execution_count": 3,
      "outputs": []
    },
    {
      "cell_type": "code",
      "metadata": {
        "id": "S3Bv8HcAQ-OZ"
      },
      "source": [
        "def probabilidad_unigrama(token):\n",
        "    if token not in unigramas:\n",
        "        return 0\n",
        "    return unigramas[token] / total_tokens\n",
        "    \n",
        "def get_prob_bigram(secuencia):\n",
        "    if secuencia not in bigramas:\n",
        "        return 0\n",
        "    return bigramas[secuencia] / unigramas[secuencia[0]]\n",
        "    \n",
        "def get_prob_trigram(secuencia):\n",
        "    if secuencia not in trigramas:\n",
        "        return 0\n",
        "    return trigramas[secuencia] / bigramas[secuencia[:2]]\n",
        "\n",
        "def selecciona_siguiente_token(secuencia):\n",
        "    lista_tokens_candidatos = []\n",
        "    \n",
        "    # Itera por todos los tokens del vocabulario\n",
        "    # calculando la probabilidad de seleccionar la siguiente palabra\n",
        "    for token in vocab:\n",
        "        p1 = probabilidad_unigrama((token))\n",
        "        p2 = get_prob_bigram((secuencia[-1], token))\n",
        "        p3 = get_prob_trigram((secuencia[-2], secuencia[-1], token)) if len(secuencia) >= 3 else 0\n",
        "        \n",
        "        # Usamos una interpolación lineal\n",
        "        p =  0.01*p1 + 0.35*p2 + 0.6*p3\n",
        "        \n",
        "        lista_tokens_candidatos.append((token, p))\n",
        "    \n",
        "    # orenamos la lista de mayor a menor probabilidad\n",
        "    lista_tokens_candidatos.sort(key=lambda x: x[1], reverse=True)\n",
        "    return lista_tokens_candidatos[0][0]\n",
        "   \n"
      ],
      "execution_count": 4,
      "outputs": []
    },
    {
      "cell_type": "markdown",
      "metadata": {
        "id": "a7_G2FQW0ENa"
      },
      "source": [
        "# Leer y limpiar texto\n",
        "\n",
        "obtener archivo [txt](https://github.com/sharanyavb/harry-potter/blob/master/Books_Text/HP1.txt) "
      ]
    },
    {
      "cell_type": "code",
      "metadata": {
        "colab": {
          "base_uri": "https://localhost:8080/",
          "height": 209
        },
        "id": "10qtklw6yTK5",
        "outputId": "c9ef8ca2-0173-451d-9530-8c8e8527d0d5"
      },
      "source": [
        "libro = leer_libro('/content/HP1.txt')\n",
        "\n",
        "libro[:1500]"
      ],
      "execution_count": 39,
      "outputs": [
        {
          "output_type": "execute_result",
          "data": {
            "application/vnd.google.colaboratory.intrinsic+json": {
              "type": "string"
            },
            "text/plain": [
              "'THE BOY WHO LIVED Mr. and Mrs. Dursley, of number four, Privet Drive, were proud to say that they were perfectly normal, thank you very much. They were the last people you’d expect to be involved in anything strange or mysterious, because they just didn’t hold with such nonsense. Mr. Dursley was the director of a firm called Grunnings, which made drills. He was a big, beefy man with hardly any neck, although he did have a very large mustache. Mrs. Dursley was thin and blonde and had nearly twice the usual amount of neck, which came in very useful as she spent so much of her time craning over garden fences, spying on the neighbors. The Dursley s had a small son called Dudley and in their opinion there was no finer boy anywhere. The Dursleys had everything they wanted, but they also had a secret, and their greatest fear was that somebody would discover it. They didn’t think they could bear it if anyone found out about the Potters. Mrs. Potter was Mrs. Dursley’s sister, but they hadn’t Page | 2 Harry Potter and the Philosophers Stone - J.K. Rowling met for several years; in fact, Mrs. Dursley pretended she didn’t have a sister, because her sister and her good-for-nothing husband were as unDursleyish as it was possible to be. The Dursleys shuddered to think what the neighbors would say if the Potters arrived in the street. The Dursleys knew that the Potters had a small son, too, but they had never even seen him. This boy was another good reason for keeping the Potters away; they '"
            ]
          },
          "metadata": {},
          "execution_count": 39
        }
      ]
    },
    {
      "cell_type": "code",
      "metadata": {
        "id": "Vo3ZwXPw2rhB",
        "colab": {
          "base_uri": "https://localhost:8080/",
          "height": 209
        },
        "outputId": "2a3322e7-7d63-433a-e26e-b53b7384836f"
      },
      "source": [
        "# lista con cadenas correspondientes al pie de página.\n",
        "borrar = ['Page | {} Harry Potter and the Philosophers Stone - J.K. Rowling'.format(i)\\\n",
        "         for i in range(2,347)]\n",
        "\n",
        "for tx in borrar:\n",
        "    libro = libro.replace(tx, '')\n",
        "\n",
        "libro = libro.strip()\n",
        "\n",
        "libro[:1500]"
      ],
      "execution_count": 41,
      "outputs": [
        {
          "output_type": "execute_result",
          "data": {
            "application/vnd.google.colaboratory.intrinsic+json": {
              "type": "string"
            },
            "text/plain": [
              "'THE BOY WHO LIVED Mr. and Mrs. Dursley, of number four, Privet Drive, were proud to say that they were perfectly normal, thank you very much. They were the last people you’d expect to be involved in anything strange or mysterious, because they just didn’t hold with such nonsense. Mr. Dursley was the director of a firm called Grunnings, which made drills. He was a big, beefy man with hardly any neck, although he did have a very large mustache. Mrs. Dursley was thin and blonde and had nearly twice the usual amount of neck, which came in very useful as she spent so much of her time craning over garden fences, spying on the neighbors. The Dursley s had a small son called Dudley and in their opinion there was no finer boy anywhere. The Dursleys had everything they wanted, but they also had a secret, and their greatest fear was that somebody would discover it. They didn’t think they could bear it if anyone found out about the Potters. Mrs. Potter was Mrs. Dursley’s sister, but they hadn’t  met for several years; in fact, Mrs. Dursley pretended she didn’t have a sister, because her sister and her good-for-nothing husband were as unDursleyish as it was possible to be. The Dursleys shuddered to think what the neighbors would say if the Potters arrived in the street. The Dursleys knew that the Potters had a small son, too, but they had never even seen him. This boy was another good reason for keeping the Potters away; they didn’t want Dudley mixing with a child like that. When Mr. and '"
            ]
          },
          "metadata": {},
          "execution_count": 41
        }
      ]
    },
    {
      "cell_type": "markdown",
      "metadata": {
        "id": "7xfz5MeJLk7Z"
      },
      "source": [
        "# Tokenización"
      ]
    },
    {
      "cell_type": "code",
      "metadata": {
        "colab": {
          "base_uri": "https://localhost:8080/"
        },
        "id": "3fPh7eGR9wPK",
        "outputId": "d9e935ab-f162-4a89-9f9a-3ec1db3e0c6c"
      },
      "source": [
        "tokens = libro.split()\n",
        "print('Total tokens en el libro', len(tokens))\n",
        "tokens[0:20]"
      ],
      "execution_count": 42,
      "outputs": [
        {
          "output_type": "stream",
          "name": "stdout",
          "text": [
            "Total tokens en el libro 79155\n"
          ]
        },
        {
          "output_type": "execute_result",
          "data": {
            "text/plain": [
              "['THE',\n",
              " 'BOY',\n",
              " 'WHO',\n",
              " 'LIVED',\n",
              " 'Mr.',\n",
              " 'and',\n",
              " 'Mrs.',\n",
              " 'Dursley,',\n",
              " 'of',\n",
              " 'number',\n",
              " 'four,',\n",
              " 'Privet',\n",
              " 'Drive,',\n",
              " 'were',\n",
              " 'proud',\n",
              " 'to',\n",
              " 'say',\n",
              " 'that',\n",
              " 'they',\n",
              " 'were']"
            ]
          },
          "metadata": {},
          "execution_count": 42
        }
      ]
    },
    {
      "cell_type": "markdown",
      "metadata": {
        "id": "EGGOdplXLoKx"
      },
      "source": [
        "# N Gramas"
      ]
    },
    {
      "cell_type": "code",
      "metadata": {
        "id": "59rYJOSyGYbY"
      },
      "source": [
        "unigramas = Counter(tokens)\n",
        "total_tokens =len(unigramas)  # tokens unicos\n",
        "vocab = list(unigramas.keys())"
      ],
      "execution_count": 43,
      "outputs": []
    },
    {
      "cell_type": "code",
      "metadata": {
        "id": "tpk5BIiTQHlz"
      },
      "source": [
        "# OBTENER BIGRAMAS Y TRIGRAMAS CON SUS FRECUENCIAS\n",
        "\n",
        "def obtener_ngramas(lista_tokens, N):\n",
        "    ngramas = (tuple(lista_tokens[i:i+N]) for i in range(len(lista_tokens)-N+1))\n",
        "    return ngramas\n",
        "    \n",
        "bigramas = Counter(obtener_ngramas(tokens,2))\n",
        "trigramas = Counter(obtener_ngramas(tokens,3))"
      ],
      "execution_count": 44,
      "outputs": []
    },
    {
      "cell_type": "markdown",
      "metadata": {
        "id": "eov6CgUnbg9v"
      },
      "source": [
        "## Crear textos basadas en la probabilidad de ocurrencia"
      ]
    },
    {
      "cell_type": "code",
      "metadata": {
        "colab": {
          "base_uri": "https://localhost:8080/"
        },
        "id": "_Gnh5e_mbkvA",
        "outputId": "bb15778f-8f71-48c1-8a70-138db575adc2"
      },
      "source": [
        "texto = []\n",
        "longitud_texto = 40\n",
        "\n",
        "# Selección aleatoria de la primera palabra de\n",
        "rand_index = random.randint(0, total_tokens-1)\n",
        "primer_token = vocab[rand_index]\n",
        "texto.append(primer_token)\n",
        "\n",
        "for _ in range(longitud_texto-1):\n",
        "    palabra = selecciona_siguiente_token(texto)\n",
        "    texto.append(palabra)\n",
        "print (\" \".join(texto))"
      ],
      "execution_count": 45,
      "outputs": [
        {
          "output_type": "stream",
          "name": "stdout",
          "text": [
            "evening, Dudley had been a bit of a large pink face, not much neck, small, watery blue eyes, and sat down on the other two had found out of the first time in his life. The Potters knew very well\n"
          ]
        }
      ]
    }
  ]
}